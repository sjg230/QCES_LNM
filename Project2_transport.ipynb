{
  "cells": [
    {
      "cell_type": "markdown",
      "metadata": {
        "id": "-uoCGCfy_ZFS"
      },
      "source": [
        "<a href=\"https://colab.research.google.com/github/johnryantaylor/QCES/blob/main/Project2_transport.ipynb\" target=\"_parent\"><img src=\"https://colab.research.google.com/assets/colab-badge.svg\" alt=\"Open In Colab\"/></a>"
      ]
    },
    {
      "cell_type": "markdown",
      "metadata": {
        "id": "TZdbS7vJ_ZFX"
      },
      "source": [
        "# Project 2: Tracer transport\n",
        "\n",
        "A critical aspect of understanding climate and environmental systems is describing the movement of substances. This could include pollution or water vapor in the atmosphere, salt in an estuary, or chemicals in a river. We often model the transport of these substances using an advection/diffusion equation for the concentration of the substance. In this context, we sometimes refer to the concentration field as a `tracer' since it helps us track the movement of individual molecules. We can also use this framework to describe the transport of heat, although in this case the tracer field (temperature or heat content) tracks the movement of thermal energy.\n",
        "\n",
        "In this project we will use Dedalus to solve advection diffusion equations to describe the vertical distribution of heat in the ocean and the concentration of pollution in a river.\n",
        "\n",
        "Student tasks are in [Section 1.4](#section1pt4), [Section 1.6](#section1pt6), and [Section 2.3](#section2pt3)"
      ]
    },
    {
      "cell_type": "markdown",
      "metadata": {
        "id": "L33SBsRX_ZFc"
      },
      "source": [
        "## Setup\n",
        "If you are using Google colab, run the script below to install Dedalus"
      ]
    },
    {
      "cell_type": "code",
      "execution_count": 1,
      "metadata": {
        "colab": {
          "base_uri": "https://localhost:8080/"
        },
        "id": "oVtJZJZy_ZFf",
        "outputId": "33e9ac91-9997-4f7e-d969-d60fb9b807d7"
      },
      "outputs": [
        {
          "output_type": "stream",
          "name": "stdout",
          "text": [
            "env: OMP_NUM_THREADS=1\n",
            "env: NUMEXPR_MAX_THREADS=1\n",
            "Dedalus not installed yet.\n",
            "Installing for Google Colab.\n",
            "\n",
            "Reading package lists... Done\n",
            "Building dependency tree... Done\n",
            "Reading state information... Done\n",
            "The following additional packages will be installed:\n",
            "  libfftw3-bin libfftw3-double3 libfftw3-long3 libfftw3-quad3 libfftw3-single3\n",
            "Suggested packages:\n",
            "  libfftw3-doc\n",
            "The following NEW packages will be installed:\n",
            "  libfftw3-bin libfftw3-dev libfftw3-double3 libfftw3-long3 libfftw3-quad3 libfftw3-single3\n",
            "0 upgraded, 6 newly installed, 0 to remove and 49 not upgraded.\n",
            "Need to get 4,654 kB of archives.\n",
            "After this operation, 24.7 MB of additional disk space will be used.\n",
            "Get:1 http://archive.ubuntu.com/ubuntu jammy/main amd64 libfftw3-double3 amd64 3.3.8-2ubuntu8 [770 kB]\n",
            "Get:2 http://archive.ubuntu.com/ubuntu jammy/main amd64 libfftw3-long3 amd64 3.3.8-2ubuntu8 [335 kB]\n",
            "Get:3 http://archive.ubuntu.com/ubuntu jammy/main amd64 libfftw3-quad3 amd64 3.3.8-2ubuntu8 [614 kB]\n",
            "Get:4 http://archive.ubuntu.com/ubuntu jammy/main amd64 libfftw3-single3 amd64 3.3.8-2ubuntu8 [800 kB]\n",
            "Get:5 http://archive.ubuntu.com/ubuntu jammy/main amd64 libfftw3-bin amd64 3.3.8-2ubuntu8 [35.5 kB]\n",
            "Get:6 http://archive.ubuntu.com/ubuntu jammy/main amd64 libfftw3-dev amd64 3.3.8-2ubuntu8 [2,101 kB]\n",
            "Fetched 4,654 kB in 1s (6,333 kB/s)\n",
            "Selecting previously unselected package libfftw3-double3:amd64.\n",
            "(Reading database ... 123623 files and directories currently installed.)\n",
            "Preparing to unpack .../0-libfftw3-double3_3.3.8-2ubuntu8_amd64.deb ...\n",
            "Unpacking libfftw3-double3:amd64 (3.3.8-2ubuntu8) ...\n",
            "Selecting previously unselected package libfftw3-long3:amd64.\n",
            "Preparing to unpack .../1-libfftw3-long3_3.3.8-2ubuntu8_amd64.deb ...\n",
            "Unpacking libfftw3-long3:amd64 (3.3.8-2ubuntu8) ...\n",
            "Selecting previously unselected package libfftw3-quad3:amd64.\n",
            "Preparing to unpack .../2-libfftw3-quad3_3.3.8-2ubuntu8_amd64.deb ...\n",
            "Unpacking libfftw3-quad3:amd64 (3.3.8-2ubuntu8) ...\n",
            "Selecting previously unselected package libfftw3-single3:amd64.\n",
            "Preparing to unpack .../3-libfftw3-single3_3.3.8-2ubuntu8_amd64.deb ...\n",
            "Unpacking libfftw3-single3:amd64 (3.3.8-2ubuntu8) ...\n",
            "Selecting previously unselected package libfftw3-bin.\n",
            "Preparing to unpack .../4-libfftw3-bin_3.3.8-2ubuntu8_amd64.deb ...\n",
            "Unpacking libfftw3-bin (3.3.8-2ubuntu8) ...\n",
            "Selecting previously unselected package libfftw3-dev:amd64.\n",
            "Preparing to unpack .../5-libfftw3-dev_3.3.8-2ubuntu8_amd64.deb ...\n",
            "Unpacking libfftw3-dev:amd64 (3.3.8-2ubuntu8) ...\n",
            "Setting up libfftw3-single3:amd64 (3.3.8-2ubuntu8) ...\n",
            "Setting up libfftw3-long3:amd64 (3.3.8-2ubuntu8) ...\n",
            "Setting up libfftw3-quad3:amd64 (3.3.8-2ubuntu8) ...\n",
            "Setting up libfftw3-double3:amd64 (3.3.8-2ubuntu8) ...\n",
            "Setting up libfftw3-bin (3.3.8-2ubuntu8) ...\n",
            "Setting up libfftw3-dev:amd64 (3.3.8-2ubuntu8) ...\n",
            "Processing triggers for man-db (2.10.2-1) ...\n",
            "Processing triggers for libc-bin (2.35-0ubuntu3.4) ...\n",
            "/sbin/ldconfig.real: /usr/local/lib/libur_loader.so.0 is not a symbolic link\n",
            "\n",
            "/sbin/ldconfig.real: /usr/local/lib/libtbbbind_2_5.so.3 is not a symbolic link\n",
            "\n",
            "/sbin/ldconfig.real: /usr/local/lib/libtbbbind.so.3 is not a symbolic link\n",
            "\n",
            "/sbin/ldconfig.real: /usr/local/lib/libtbbbind_2_0.so.3 is not a symbolic link\n",
            "\n",
            "/sbin/ldconfig.real: /usr/local/lib/libumf.so.0 is not a symbolic link\n",
            "\n",
            "/sbin/ldconfig.real: /usr/local/lib/libtcm_debug.so.1 is not a symbolic link\n",
            "\n",
            "/sbin/ldconfig.real: /usr/local/lib/libur_adapter_level_zero.so.0 is not a symbolic link\n",
            "\n",
            "/sbin/ldconfig.real: /usr/local/lib/libtcm.so.1 is not a symbolic link\n",
            "\n",
            "/sbin/ldconfig.real: /usr/local/lib/libtbb.so.12 is not a symbolic link\n",
            "\n",
            "/sbin/ldconfig.real: /usr/local/lib/libhwloc.so.15 is not a symbolic link\n",
            "\n",
            "/sbin/ldconfig.real: /usr/local/lib/libur_adapter_opencl.so.0 is not a symbolic link\n",
            "\n",
            "/sbin/ldconfig.real: /usr/local/lib/libtbbmalloc_proxy.so.2 is not a symbolic link\n",
            "\n",
            "/sbin/ldconfig.real: /usr/local/lib/libtbbmalloc.so.2 is not a symbolic link\n",
            "\n",
            "Reading package lists... Done\n",
            "Building dependency tree... Done\n",
            "Reading state information... Done\n",
            "The following additional packages will be installed:\n",
            "  libfftw3-mpi3\n",
            "Suggested packages:\n",
            "  libfftw3-doc\n",
            "The following NEW packages will be installed:\n",
            "  libfftw3-mpi-dev libfftw3-mpi3\n",
            "0 upgraded, 2 newly installed, 0 to remove and 49 not upgraded.\n",
            "Need to get 102 kB of archives.\n",
            "After this operation, 1,052 kB of additional disk space will be used.\n",
            "Get:1 http://archive.ubuntu.com/ubuntu jammy/universe amd64 libfftw3-mpi3 amd64 3.3.8-2ubuntu8 [48.9 kB]\n",
            "Get:2 http://archive.ubuntu.com/ubuntu jammy/universe amd64 libfftw3-mpi-dev amd64 3.3.8-2ubuntu8 [53.3 kB]\n",
            "Fetched 102 kB in 0s (497 kB/s)\n",
            "Selecting previously unselected package libfftw3-mpi3:amd64.\n",
            "(Reading database ... 123726 files and directories currently installed.)\n",
            "Preparing to unpack .../libfftw3-mpi3_3.3.8-2ubuntu8_amd64.deb ...\n",
            "Unpacking libfftw3-mpi3:amd64 (3.3.8-2ubuntu8) ...\n",
            "Selecting previously unselected package libfftw3-mpi-dev:amd64.\n",
            "Preparing to unpack .../libfftw3-mpi-dev_3.3.8-2ubuntu8_amd64.deb ...\n",
            "Unpacking libfftw3-mpi-dev:amd64 (3.3.8-2ubuntu8) ...\n",
            "Setting up libfftw3-mpi3:amd64 (3.3.8-2ubuntu8) ...\n",
            "Setting up libfftw3-mpi-dev:amd64 (3.3.8-2ubuntu8) ...\n",
            "Processing triggers for libc-bin (2.35-0ubuntu3.4) ...\n",
            "/sbin/ldconfig.real: /usr/local/lib/libur_loader.so.0 is not a symbolic link\n",
            "\n",
            "/sbin/ldconfig.real: /usr/local/lib/libtbbbind_2_5.so.3 is not a symbolic link\n",
            "\n",
            "/sbin/ldconfig.real: /usr/local/lib/libtbbbind.so.3 is not a symbolic link\n",
            "\n",
            "/sbin/ldconfig.real: /usr/local/lib/libtbbbind_2_0.so.3 is not a symbolic link\n",
            "\n",
            "/sbin/ldconfig.real: /usr/local/lib/libumf.so.0 is not a symbolic link\n",
            "\n",
            "/sbin/ldconfig.real: /usr/local/lib/libtcm_debug.so.1 is not a symbolic link\n",
            "\n",
            "/sbin/ldconfig.real: /usr/local/lib/libur_adapter_level_zero.so.0 is not a symbolic link\n",
            "\n",
            "/sbin/ldconfig.real: /usr/local/lib/libtcm.so.1 is not a symbolic link\n",
            "\n",
            "/sbin/ldconfig.real: /usr/local/lib/libtbb.so.12 is not a symbolic link\n",
            "\n",
            "/sbin/ldconfig.real: /usr/local/lib/libhwloc.so.15 is not a symbolic link\n",
            "\n",
            "/sbin/ldconfig.real: /usr/local/lib/libur_adapter_opencl.so.0 is not a symbolic link\n",
            "\n",
            "/sbin/ldconfig.real: /usr/local/lib/libtbbmalloc_proxy.so.2 is not a symbolic link\n",
            "\n",
            "/sbin/ldconfig.real: /usr/local/lib/libtbbmalloc.so.2 is not a symbolic link\n",
            "\n",
            "Requirement already satisfied: cython in /usr/local/lib/python3.10/dist-packages (3.0.11)\n",
            "Collecting mpi4py<4.0\n",
            "  Downloading mpi4py-3.1.6.tar.gz (2.4 MB)\n",
            "\u001b[2K     \u001b[90m━━━━━━━━━━━━━━━━━━━━━━━━━━━━━━━━━━━━━━━━\u001b[0m \u001b[32m2.4/2.4 MB\u001b[0m \u001b[31m27.1 MB/s\u001b[0m eta \u001b[36m0:00:00\u001b[0m\n",
            "\u001b[?25h  Installing build dependencies ... \u001b[?25l\u001b[?25hdone\n",
            "  Getting requirements to build wheel ... \u001b[?25l\u001b[?25hdone\n",
            "  Preparing metadata (pyproject.toml) ... \u001b[?25l\u001b[?25hdone\n",
            "Requirement already satisfied: numpy in /usr/local/lib/python3.10/dist-packages (1.26.4)\n",
            "Requirement already satisfied: setuptools in /usr/local/lib/python3.10/dist-packages (75.1.0)\n",
            "Requirement already satisfied: wheel in /usr/local/lib/python3.10/dist-packages (0.44.0)\n",
            "Building wheels for collected packages: mpi4py\n",
            "  Building wheel for mpi4py (pyproject.toml) ... \u001b[?25l\u001b[?25hdone\n",
            "  Created wheel for mpi4py: filename=mpi4py-3.1.6-cp310-cp310-linux_x86_64.whl size=2746310 sha256=7b5cc9ee435a2fb79da0b0948e86ea67bfa96aa8655abe747a3134deeb1c293f\n",
            "  Stored in directory: /root/.cache/pip/wheels/4c/ca/89/8fc1fb1c620afca13bb41c630b1f948bbf446e0aaa4b762e10\n",
            "Successfully built mpi4py\n",
            "Installing collected packages: mpi4py\n",
            "Successfully installed mpi4py-3.1.6\n",
            "Collecting http://github.com/dedalusproject/dedalus/zipball/master/\n",
            "  Downloading http://github.com/dedalusproject/dedalus/zipball/master/ (24.5 MB)\n",
            "\u001b[2K     \u001b[90m━━━━━━━━━━━━━━━━━━━━━━━━━━━━━━━━━━━━━━━━\u001b[0m \u001b[32m24.5/24.5 MB\u001b[0m \u001b[31m83.3 MB/s\u001b[0m eta \u001b[36m0:00:00\u001b[0m\n",
            "\u001b[?25h  Preparing metadata (pyproject.toml) ... \u001b[?25l\u001b[?25hdone\n",
            "Collecting docopt (from dedalus==3.0.3)\n",
            "  Downloading docopt-0.6.2.tar.gz (25 kB)\n",
            "  Preparing metadata (setup.py) ... \u001b[?25l\u001b[?25hdone\n",
            "Requirement already satisfied: h5py>=3.0.0 in /usr/local/lib/python3.10/dist-packages (from dedalus==3.0.3) (3.11.0)\n",
            "Requirement already satisfied: matplotlib in /usr/local/lib/python3.10/dist-packages (from dedalus==3.0.3) (3.7.1)\n",
            "Requirement already satisfied: mpi4py>=2.0.0 in /usr/local/lib/python3.10/dist-packages (from dedalus==3.0.3) (3.1.6)\n",
            "Requirement already satisfied: numexpr in /usr/local/lib/python3.10/dist-packages (from dedalus==3.0.3) (2.10.1)\n",
            "Requirement already satisfied: numpy>=1.20.0 in /usr/local/lib/python3.10/dist-packages (from dedalus==3.0.3) (1.26.4)\n",
            "Collecting py (from dedalus==3.0.3)\n",
            "  Downloading py-1.11.0-py2.py3-none-any.whl.metadata (2.8 kB)\n",
            "Requirement already satisfied: pytest in /usr/local/lib/python3.10/dist-packages (from dedalus==3.0.3) (7.4.4)\n",
            "Collecting pytest-benchmark (from dedalus==3.0.3)\n",
            "  Downloading pytest_benchmark-5.1.0-py3-none-any.whl.metadata (25 kB)\n",
            "Collecting pytest-cov (from dedalus==3.0.3)\n",
            "  Downloading pytest_cov-6.0.0-py3-none-any.whl.metadata (27 kB)\n",
            "Collecting pytest-parallel (from dedalus==3.0.3)\n",
            "  Downloading pytest_parallel-0.1.1-py3-none-any.whl.metadata (3.0 kB)\n",
            "Requirement already satisfied: scipy>=1.4.0 in /usr/local/lib/python3.10/dist-packages (from dedalus==3.0.3) (1.13.1)\n",
            "Requirement already satisfied: xarray in /usr/local/lib/python3.10/dist-packages (from dedalus==3.0.3) (2024.9.0)\n",
            "Requirement already satisfied: contourpy>=1.0.1 in /usr/local/lib/python3.10/dist-packages (from matplotlib->dedalus==3.0.3) (1.3.0)\n",
            "Requirement already satisfied: cycler>=0.10 in /usr/local/lib/python3.10/dist-packages (from matplotlib->dedalus==3.0.3) (0.12.1)\n",
            "Requirement already satisfied: fonttools>=4.22.0 in /usr/local/lib/python3.10/dist-packages (from matplotlib->dedalus==3.0.3) (4.54.1)\n",
            "Requirement already satisfied: kiwisolver>=1.0.1 in /usr/local/lib/python3.10/dist-packages (from matplotlib->dedalus==3.0.3) (1.4.7)\n",
            "Requirement already satisfied: packaging>=20.0 in /usr/local/lib/python3.10/dist-packages (from matplotlib->dedalus==3.0.3) (24.1)\n",
            "Requirement already satisfied: pillow>=6.2.0 in /usr/local/lib/python3.10/dist-packages (from matplotlib->dedalus==3.0.3) (10.4.0)\n",
            "Requirement already satisfied: pyparsing>=2.3.1 in /usr/local/lib/python3.10/dist-packages (from matplotlib->dedalus==3.0.3) (3.2.0)\n",
            "Requirement already satisfied: python-dateutil>=2.7 in /usr/local/lib/python3.10/dist-packages (from matplotlib->dedalus==3.0.3) (2.8.2)\n",
            "Requirement already satisfied: iniconfig in /usr/local/lib/python3.10/dist-packages (from pytest->dedalus==3.0.3) (2.0.0)\n",
            "Requirement already satisfied: pluggy<2.0,>=0.12 in /usr/local/lib/python3.10/dist-packages (from pytest->dedalus==3.0.3) (1.5.0)\n",
            "Requirement already satisfied: exceptiongroup>=1.0.0rc8 in /usr/local/lib/python3.10/dist-packages (from pytest->dedalus==3.0.3) (1.2.2)\n",
            "Requirement already satisfied: tomli>=1.0.0 in /usr/local/lib/python3.10/dist-packages (from pytest->dedalus==3.0.3) (2.0.2)\n",
            "Collecting pytest (from dedalus==3.0.3)\n",
            "  Downloading pytest-8.3.3-py3-none-any.whl.metadata (7.5 kB)\n",
            "Requirement already satisfied: py-cpuinfo in /usr/local/lib/python3.10/dist-packages (from pytest-benchmark->dedalus==3.0.3) (9.0.0)\n",
            "Collecting coverage>=7.5 (from coverage[toml]>=7.5->pytest-cov->dedalus==3.0.3)\n",
            "  Downloading coverage-7.6.4-cp310-cp310-manylinux_2_5_x86_64.manylinux1_x86_64.manylinux_2_17_x86_64.manylinux2014_x86_64.whl.metadata (8.2 kB)\n",
            "Collecting tblib (from pytest-parallel->dedalus==3.0.3)\n",
            "  Downloading tblib-3.0.0-py3-none-any.whl.metadata (25 kB)\n",
            "Requirement already satisfied: pandas>=2.1 in /usr/local/lib/python3.10/dist-packages (from xarray->dedalus==3.0.3) (2.2.2)\n",
            "Requirement already satisfied: pytz>=2020.1 in /usr/local/lib/python3.10/dist-packages (from pandas>=2.1->xarray->dedalus==3.0.3) (2024.2)\n",
            "Requirement already satisfied: tzdata>=2022.7 in /usr/local/lib/python3.10/dist-packages (from pandas>=2.1->xarray->dedalus==3.0.3) (2024.2)\n",
            "Requirement already satisfied: six>=1.5 in /usr/local/lib/python3.10/dist-packages (from python-dateutil>=2.7->matplotlib->dedalus==3.0.3) (1.16.0)\n",
            "Downloading py-1.11.0-py2.py3-none-any.whl (98 kB)\n",
            "\u001b[2K   \u001b[90m━━━━━━━━━━━━━━━━━━━━━━━━━━━━━━━━━━━━━━━━\u001b[0m \u001b[32m98.7/98.7 kB\u001b[0m \u001b[31m7.6 MB/s\u001b[0m eta \u001b[36m0:00:00\u001b[0m\n",
            "\u001b[?25hDownloading pytest_benchmark-5.1.0-py3-none-any.whl (44 kB)\n",
            "\u001b[2K   \u001b[90m━━━━━━━━━━━━━━━━━━━━━━━━━━━━━━━━━━━━━━━━\u001b[0m \u001b[32m44.3/44.3 kB\u001b[0m \u001b[31m162.3 MB/s\u001b[0m eta \u001b[36m0:00:00\u001b[0m\n",
            "\u001b[?25hDownloading pytest-8.3.3-py3-none-any.whl (342 kB)\n",
            "\u001b[2K   \u001b[90m━━━━━━━━━━━━━━━━━━━━━━━━━━━━━━━━━━━━━━━━\u001b[0m \u001b[32m342.3/342.3 kB\u001b[0m \u001b[31m33.1 MB/s\u001b[0m eta \u001b[36m0:00:00\u001b[0m\n",
            "\u001b[?25hDownloading pytest_cov-6.0.0-py3-none-any.whl (22 kB)\n",
            "Downloading pytest_parallel-0.1.1-py3-none-any.whl (7.0 kB)\n",
            "Downloading coverage-7.6.4-cp310-cp310-manylinux_2_5_x86_64.manylinux1_x86_64.manylinux_2_17_x86_64.manylinux2014_x86_64.whl (234 kB)\n",
            "\u001b[2K   \u001b[90m━━━━━━━━━━━━━━━━━━━━━━━━━━━━━━━━━━━━━━━━\u001b[0m \u001b[32m234.6/234.6 kB\u001b[0m \u001b[31m268.0 MB/s\u001b[0m eta \u001b[36m0:00:00\u001b[0m\n",
            "\u001b[?25hDownloading tblib-3.0.0-py3-none-any.whl (12 kB)\n",
            "Building wheels for collected packages: dedalus, docopt\n",
            "  Building wheel for dedalus (pyproject.toml) ... \u001b[?25l\u001b[?25hdone\n",
            "  Created wheel for dedalus: filename=dedalus-3.0.3-cp310-cp310-linux_x86_64.whl size=3261037 sha256=37e89c2962e3f6db342b0b6c0b7dc7632b545c9e0a4f2aa796ee2df875bbce3f\n",
            "  Stored in directory: /tmp/pip-ephem-wheel-cache-wfobxywv/wheels/2c/16/80/8c5f40fc4de8dc37ba4cdd4e05d7639677a5f0659c3bbd79a7\n",
            "  Building wheel for docopt (setup.py) ... \u001b[?25l\u001b[?25hdone\n",
            "  Created wheel for docopt: filename=docopt-0.6.2-py2.py3-none-any.whl size=13706 sha256=b88d7a0c446f6001df14d857ae6f60a0889563c3523020d242bad3eea3042190\n",
            "  Stored in directory: /tmp/pip-ephem-wheel-cache-wfobxywv/wheels/fc/ab/d4/5da2067ac95b36618c629a5f93f809425700506f72c9732fac\n",
            "Successfully built dedalus docopt\n",
            "Installing collected packages: docopt, tblib, pytest, py, coverage, pytest-parallel, pytest-benchmark, pytest-cov, dedalus\n",
            "  Attempting uninstall: pytest\n",
            "    Found existing installation: pytest 7.4.4\n",
            "    Uninstalling pytest-7.4.4:\n",
            "      Successfully uninstalled pytest-7.4.4\n",
            "Successfully installed coverage-7.6.4 dedalus-3.0.3 docopt-0.6.2 py-1.11.0 pytest-8.3.3 pytest-benchmark-5.1.0 pytest-cov-6.0.0 pytest-parallel-0.1.1 tblib-3.0.0\n",
            "\u001b[2K   \u001b[90m━━━━━━━━━━━━━━━━━━━━━━━━━━━━━━━━━━━━━━━━\u001b[0m \u001b[32m516.3/516.3 kB\u001b[0m \u001b[31m10.0 MB/s\u001b[0m eta \u001b[36m0:00:00\u001b[0m\n",
            "\u001b[2K   \u001b[90m━━━━━━━━━━━━━━━━━━━━━━━━━━━━━━━━━━━━━━━━\u001b[0m \u001b[32m1.6/1.6 MB\u001b[0m \u001b[31m50.1 MB/s\u001b[0m eta \u001b[36m0:00:00\u001b[0m\n",
            "\u001b[?25h\n",
            "Dedalus successfully installed :)\n"
          ]
        }
      ],
      "source": [
        "# Set environment variables for best performance\n",
        "%env OMP_NUM_THREADS=1\n",
        "%env NUMEXPR_MAX_THREADS=1\n",
        "\n",
        "# Minimize logging output\n",
        "import logging\n",
        "logging.disable(logging.DEBUG)\n",
        "\n",
        "# Check if running on google colab\n",
        "import os\n",
        "using_google_colab = bool(os.getenv(\"COLAB_RELEASE_TAG\"))\n",
        "\n",
        "# Check for Dedalus\n",
        "try:\n",
        "    import dedalus.public as de\n",
        "    print(\"Dedalus already installed :)\")\n",
        "except:\n",
        "    print(\"Dedalus not installed yet.\")\n",
        "    if using_google_colab:\n",
        "        print(\"Installing for Google Colab.\")\n",
        "        print()\n",
        "        # Step 1: Install FFTW\n",
        "        !apt-get install libfftw3-dev\n",
        "        !apt-get install libfftw3-mpi-dev\n",
        "        # Step 2: Set paths for Dedalus installation\n",
        "        import os\n",
        "        os.environ['MPI_INCLUDE_PATH'] = \"/usr/lib/x86_64-linux-gnu/openmpi/include\"\n",
        "        os.environ['MPI_LIBRARY_PATH'] = \"/usr/lib/x86_64-linux-gnu\"\n",
        "        os.environ['FFTW_INCLUDE_PATH'] = \"/usr/include\"\n",
        "        os.environ['FFTW_LIBRARY_PATH'] = \"/usr/lib/x86_64-linux-gnu\"\n",
        "        # Step 3: Install Dedalus using pip\n",
        "        !pip3 install cython \"mpi4py<4.0\" numpy setuptools wheel\n",
        "        !CC=mpicc pip3 install --no-cache --no-build-isolation http://github.com/dedalusproject/dedalus/zipball/master/\n",
        "        !pip3 install -q ipympl\n",
        "        # Step 4: Check installation\n",
        "        print()\n",
        "        try:\n",
        "            import dedalus.public as de\n",
        "            print(\"Dedalus successfully installed :)\")\n",
        "        except:\n",
        "            print(\"Error installing Dedalus :(\")\n",
        "            raise\n",
        "    else:\n",
        "        print(\"See website for installation instructions:\")\n",
        "        print(\"https://dedalus-project.readthedocs.io/en/latest/pages/installation.html\")\n",
        "\n",
        "# Setup interactive matplotlib\n",
        "if using_google_colab:\n",
        "    from google.colab import output\n",
        "    output.enable_custom_widget_manager()"
      ]
    },
    {
      "cell_type": "markdown",
      "metadata": {
        "id": "kPqeNGQz_ZFl"
      },
      "source": [
        "## 1. Thermal structure in the ocean\n",
        "\n",
        "Most of the ocean has a stable thermal stratification with warm water at the surface and cold water in the abyss (exceptions occur in salt-stratified waters like the Arctic Ocean). Since the ocean is a massive thermal reservoir, understanding the distribution of this heat is important to quantifying the ocean's role in a changing climate. The structure of the temperature field can also inform us about the circulation in the ocean interior.\n"
      ]
    },
    {
      "cell_type": "markdown",
      "metadata": {
        "id": "L2Vy9JJn_ZFn"
      },
      "source": [
        "### 1.1 Measured temperature profile\n",
        "\n",
        "The code below plots a sample temperature profile obtained off the coast of California. The data was obtained by digitizing Figure 3 in Munk, 1966."
      ]
    },
    {
      "cell_type": "code",
      "execution_count": 2,
      "metadata": {
        "colab": {
          "base_uri": "https://localhost:8080/",
          "height": 486
        },
        "id": "BJB6R3U-_ZFq",
        "outputId": "836e826b-5c0d-4164-d55d-5545b9a3900d"
      },
      "outputs": [
        {
          "output_type": "execute_result",
          "data": {
            "text/plain": [
              "Text(0, 0.5, 'Depth (m)')"
            ]
          },
          "metadata": {},
          "execution_count": 2
        },
        {
          "output_type": "display_data",
          "data": {
            "text/plain": [
              "<Figure size 640x480 with 1 Axes>"
            ],
            "image/png": "[encoded data removed]"
          },
          "metadata": {}
        }
      ],
      "source": [
        "import matplotlib.pyplot as plt\n",
        "\n",
        "# Temperature measurements extracted from Figure 3 in Munk, 1966\n",
        "CTD_T = [1.1296296296296295, 1.122004357298475, 1.1143790849673203, 1.1067538126361656, 1.1143790849673203, 1.1143790849673203, 1.1372549019607843, 1.122004357298475, 1.1372549019607843, 1.1525054466230937, 1.2287581699346406, 1.2745098039215685, 1.343137254901961, 1.4041394335511983, 1.526143790849673, 1.6405228758169934, 1.8997821350762527, 2.242919389978214, 2.69281045751634, 3.104575163398693, 3.104575163398693, 3.218954248366013, 3.4324618736383443, 3.8289760348583877, 4.042483660130719, 4.438997821350762]\n",
        "CTD_z = [-4976.958525345623, -4869.431643625192, -4677.419354838709, -4470.046082949309, -4270.353302611367, -4070.6605222734256, -3932.411674347158, -3786.4823348694317, -3586.78955453149, -3394.7772657450078, -3195.084485407066, -2995.3917050691243, -2803.379416282642, -2580.6451612903224, -2350.230414746544, -2112.1351766513058, -1843.3179723502303, -1597.5422427035332, -1344.0860215053763, -1144.3932411674346, -1144.3932411674346, -1121.351766513057, -990.7834101382491, -821.8125960061443, -698.9247311827958, -583.7173579109067]\n",
        "\n",
        "plt.scatter(CTD_T,CTD_z,s=10)\n",
        "plt.xlabel('T (ºC)')\n",
        "plt.ylabel('Depth (m)')\n"
      ]
    },
    {
      "cell_type": "markdown",
      "metadata": {
        "id": "Xu7u08Fh_ZFv"
      },
      "source": [
        "### 1.2 Abyssal recipes\n",
        "\n",
        "Munk (1966) proposed that the thermal structure of the ocean interior is set by a balance between upwelling and diffusion. In this view, cold waters sink near the poles and spread across the seafloor before slowly rising through the ocean interior. If we assume, as Munk did, that the water upwells uniformly across the globe, the upwelling speed is approximately $10^{-7}$ m/s. This is far too small to directly measure, but it is large enough to have a major impact on the distribution of tracers. Since light can only penetrate through the top ~100m of ocean, we can ignore solar heating, except in that it sets the temperature near the ocean surface."
      ]
    },
    {
      "cell_type": "markdown",
      "metadata": {
        "id": "FydqUzFp_ZFv"
      },
      "source": [
        "### 1.3 Steady advection/diffusion equation\n",
        "\n",
        "Dedalus can solve differential equations in various forms. In addition to time-dependent initial value problems (IVPs), Dedalus can solve linear and nonlinear boundary value problems. The code below uses Dedalus to solve a linear boundary value problem (IVBP) for the steady state advection/diffusion equation.\n",
        "\n",
        "Here, the top and bottom temperature are set from the measured profile and these are used as boundary conditions. The vertical (upwelling) velocity is set to $10^{-7} \\space m/s$, and the diffusivity is set to $10^{-7} \\space m^2/s$, to approximate the molecular diffusivity of heat in seawater."
      ]
    },
    {
      "cell_type": "markdown",
      "source": [
        "#### Dedalus script"
      ],
      "metadata": {
        "id": "Ov2TaTpYFuzW"
      }
    },
    {
      "cell_type": "code",
      "execution_count": 4,
      "metadata": {
        "colab": {
          "base_uri": "https://localhost:8080/",
          "height": 460
        },
        "id": "6H2GANTn_ZFx",
        "outputId": "5ae36fcd-b246-429c-d768-4d05047954ad"
      },
      "outputs": [
        {
          "output_type": "stream",
          "name": "stderr",
          "text": [
            "INFO:subsystems:Building subproblem matrices 1/1 (~100%) Elapsed: 0s, Remaining: 0s, Rate: 1.4e+01/s\n"
          ]
        },
        {
          "output_type": "stream",
          "name": "stdout",
          "text": [
            "2024-10-31 14:48:15,311 subsystems 0/1 INFO :: Building subproblem matrices 1/1 (~100%) Elapsed: 0s, Remaining: 0s, Rate: 1.4e+01/s\n"
          ]
        },
        {
          "output_type": "execute_result",
          "data": {
            "text/plain": [
              "Text(0, 0.5, 'Depth (m)')"
            ]
          },
          "metadata": {},
          "execution_count": 4
        },
        {
          "output_type": "display_data",
          "data": {
            "text/plain": [
              "<Figure size 600x400 with 1 Axes>"
            ],
            "image/png": "[encoded data removed]"
          },
          "metadata": {}
        }
      ],
      "source": [
        "\"\"\"\n",
        "Dedalus script to solve the steady advection/diffusion equation\n",
        "\"\"\"\n",
        "\n",
        "import numpy as np\n",
        "import matplotlib.pyplot as plt\n",
        "import dedalus.public as d3\n",
        "import logging\n",
        "logger = logging.getLogger(__name__)\n",
        "\n",
        "# Set various parameters. Note that the depth and the top and bottom temperature\n",
        "# are taken from the CTD data in the code cell above. That cell must be run first to define CTD_T and CTD_z.\n",
        "z_surface = CTD_z[-1]\n",
        "z_bottom = CTD_z[0]\n",
        "T_surface = CTD_T[-1]\n",
        "T_bottom = CTD_T[0]\n",
        "Nz = 1000\n",
        "\n",
        "# Set the upwelling velocity\n",
        "w = 1e-7 # m/s\n",
        "# Set the diffusivity\n",
        "kappa=1e-7 # m^2/s\n",
        "\n",
        "# Bases\n",
        "zcoord = d3.Coordinate('z')\n",
        "dist = d3.Distributor(zcoord, dtype=np.float64)\n",
        "zbasis = d3.Chebyshev(zcoord, size=Nz, bounds=(z_bottom, z_surface))\n",
        "z = dist.local_grid(zbasis)\n",
        "\n",
        "# Fields\n",
        "T = dist.Field(name='T', bases=zbasis)\n",
        "\n",
        "# Add two tau variables to allow us to apply two boundary conditions\n",
        "tau_1 = dist.Field(name='tau_1')\n",
        "tau_2 = dist.Field(name='tau_2')\n",
        "lift_basis = zbasis.derivative_basis(1)\n",
        "lift = lambda A: d3.Lift(A, lift_basis, -1)\n",
        "\n",
        "# Substitutions\n",
        "dz = lambda A: d3.Differentiate(A, zcoord)\n",
        "Tz = dz(T) + lift(tau_1)\n",
        "Tzz = dz(Tz) + lift(tau_2)\n",
        "\n",
        "# Problem\n",
        "problem = d3.LBVP([T, tau_1, tau_2], namespace=locals())\n",
        "problem.add_equation(\"w*Tz - kappa*Tzz = 0\")\n",
        "problem.add_equation(\"T(z=z_surface) = T_surface\")\n",
        "problem.add_equation(\"T(z=z_bottom) = T_bottom\")\n",
        "\n",
        "# Solver\n",
        "solver = problem.build_solver()\n",
        "solver.solve()\n",
        "\n",
        "# Plot\n",
        "plt.figure(figsize=(6, 4))\n",
        "Tg=T['g']\n",
        "plt.scatter(CTD_T,CTD_z,s=10)\n",
        "plt.plot(Tg,z,'k')\n",
        "plt.xlabel('Temperature (ºC)')\n",
        "plt.ylabel('Depth (m)')"
      ]
    },
    {
      "cell_type": "markdown",
      "metadata": {
        "id": "p6aiMLc7_ZFx"
      },
      "source": [
        "### 1.4 Student investigation\n",
        "<a id='section1pt4'></a>\n",
        "Note that the profile above is not a good fit to the data. This implies that molecular diffusion isn't sufficient to transport heat down from the surface and stop the ocean from filling up with cold, dense water.\n",
        "\n",
        "Munk (1966) proposed that small-scale turbulence in the ocean interior results in a diffusivity that is orders of magnitude larger than the molecular value. Find a diffusivity that gives a good match with the data and test it in the Dedalus script above. Comment on the ability of this model (steady advection/diffusion) to fit the data."
      ]
    },
    {
      "cell_type": "markdown",
      "source": [
        "#### Setting new diffusivity"
      ],
      "metadata": {
        "id": "cj7pLM7PDk_d"
      }
    },
    {
      "cell_type": "code",
      "source": [
        "# Set the diffusivity\n",
        "kappa=9e-5 # m^2/s"
      ],
      "metadata": {
        "id": "wDhPW2UnDkNL"
      },
      "execution_count": 23,
      "outputs": []
    },
    {
      "cell_type": "markdown",
      "source": [
        "###### Code and plot below"
      ],
      "metadata": {
        "id": "lvUxeO9FD4aq"
      }
    },
    {
      "cell_type": "code",
      "source": [
        "\"\"\"\n",
        "Re-run Dedalus script to solve the steady advection/diffusion equation\n",
        "\"\"\"\n",
        "\n",
        "logger = logging.getLogger(__name__)\n",
        "\n",
        "# Set various parameters. Note that the depth and the top and bottom temperature\n",
        "# are taken from the CTD data in the code cell above. That cell must be run first to define CTD_T and CTD_z.\n",
        "z_surface = CTD_z[-1]\n",
        "z_bottom = CTD_z[0]\n",
        "T_surface = CTD_T[-1]\n",
        "T_bottom = CTD_T[0]\n",
        "Nz = 1000\n",
        "\n",
        "# Set the upwelling velocity\n",
        "w = 1e-7 # m/s\n",
        "\n",
        "# Bases\n",
        "zcoord = d3.Coordinate('z')\n",
        "dist = d3.Distributor(zcoord, dtype=np.float64)\n",
        "zbasis = d3.Chebyshev(zcoord, size=Nz, bounds=(z_bottom, z_surface))\n",
        "z = dist.local_grid(zbasis)\n",
        "\n",
        "# Fields\n",
        "T = dist.Field(name='T', bases=zbasis)\n",
        "\n",
        "# Add two tau variables to allow us to apply two boundary conditions\n",
        "tau_1 = dist.Field(name='tau_1')\n",
        "tau_2 = dist.Field(name='tau_2')\n",
        "lift_basis = zbasis.derivative_basis(1)\n",
        "lift = lambda A: d3.Lift(A, lift_basis, -1)\n",
        "\n",
        "# Substitutions\n",
        "dz = lambda A: d3.Differentiate(A, zcoord)\n",
        "Tz = dz(T) + lift(tau_1)\n",
        "Tzz = dz(Tz) + lift(tau_2)\n",
        "\n",
        "# Problem\n",
        "problem = d3.LBVP([T, tau_1, tau_2], namespace=locals())\n",
        "problem.add_equation(\"w*Tz - kappa*Tzz = 0\")\n",
        "problem.add_equation(\"T(z=z_surface) = T_surface\")\n",
        "problem.add_equation(\"T(z=z_bottom) = T_bottom\")\n",
        "\n",
        "# Solver\n",
        "solver = problem.build_solver()\n",
        "solver.solve()\n",
        "\n",
        "# Plot\n",
        "plt.figure(figsize=(6, 4))\n",
        "Tg=T['g']\n",
        "plt.scatter(CTD_T,CTD_z,s=10)\n",
        "plt.plot(Tg,z,'k')\n",
        "plt.xlabel('Temperature (ºC)')\n",
        "plt.ylabel('Depth (m)')"
      ],
      "metadata": {
        "colab": {
          "base_uri": "https://localhost:8080/",
          "height": 460
        },
        "id": "qfwZVpDcDW60",
        "outputId": "170428f2-8848-474e-e629-b56a09d96db5"
      },
      "execution_count": 24,
      "outputs": [
        {
          "output_type": "stream",
          "name": "stderr",
          "text": [
            "INFO:subsystems:Building subproblem matrices 1/1 (~100%) Elapsed: 0s, Remaining: 0s, Rate: 1.3e+01/s\n"
          ]
        },
        {
          "output_type": "stream",
          "name": "stdout",
          "text": [
            "2024-10-31 14:57:05,676 subsystems 0/1 INFO :: Building subproblem matrices 1/1 (~100%) Elapsed: 0s, Remaining: 0s, Rate: 1.3e+01/s\n"
          ]
        },
        {
          "output_type": "execute_result",
          "data": {
            "text/plain": [
              "Text(0, 0.5, 'Depth (m)')"
            ]
          },
          "metadata": {},
          "execution_count": 24
        },
        {
          "output_type": "display_data",
          "data": {
            "text/plain": [
              "<Figure size 600x400 with 1 Axes>"
            ],
            "image/png": "[encoded data removed]"
          },
          "metadata": {}
        }
      ]
    },
    {
      "cell_type": "markdown",
      "metadata": {
        "id": "LZQd_8ps_ZFy"
      },
      "source": [
        "##### Discussion\n",
        "\n",
        "If $\\kappa$ is too small, as it was initially, then it suggests all heat remains in the surface ocean, which is not borne out by the observational CTD data. If too big, then the curve fails to fit in the opposite way: it suggests too much heat (relative to the observational reality) is reaching the depths, leaving the shallow waters too cold.\n",
        "\n",
        "$\\kappa = 9 \\times 10^{-5} m^2/s$ gives a reasonable fit, and can be thought of as an \"effective diffusivity\". This is nearly three orders of magnitude greater than the molecular diffusivity, which shows that molecular diffusion of heat is not the dominant form of heat transport. Instead, heat transport appears to be dominated by other factors eg turbulent mixing by eddies."
      ]
    },
    {
      "cell_type": "markdown",
      "metadata": {
        "id": "uMj0Rzow_ZFy"
      },
      "source": [
        "### 1.5 Turning ocean mixing upside down\n",
        "\n",
        "Decades of research to measure the turbulent diffusivity in the ocean consistently found values much smaller than the one predicted by Munk (1966). Specifically, while larger values of the turbulent diffusivity were found near the bottom of the ocean over rough topographic features, the values in the upper ocean were about 10x smaller than the values predicted by Munk. 50 years after Munk's seminal paper, Ferrari et al. (2016) proposed that a depth-dependent turbulent diffusivity could be balanced by <em>downwelling</em>, with negative vertical velocities in the ocean interior. In this theory, the overturning circulation is upwelling in thin boundary layers along the sloping sides of the ocean basins.\n",
        "\n",
        "When the diffusivity, $\\kappa$, is a function of $z$, the steady advection/diffusion equation can be written\n",
        "\n",
        "$$ w\\frac{dT}{dz} = \\frac{d}{dz}\\left(\\kappa(z) \\frac{dT}{dz}\\right)$$\n",
        "\n",
        "The Dedalus script below solves the previous equation and again compares the results with the observed temperature profile. For the depth-dependent diffusivity, $\\kappa(z)$, we take\n",
        "\n",
        "$$ \\kappa(z)=\\kappa_{bg} + (\\kappa_0-\\kappa_{bg})e^{-(z+D)/l} $$\n",
        "\n",
        "using the form from Rogers et al., 2023, where $\\kappa_{bg}=1\\times 10^{-5} m^2/s$ is the background diffusivity characteristic of the upper water column, $\\kappa_0=8.6\\times 10^{-4} m^2/s$ characterizes the enhanced mixing near the bottom of the ocean, and $l=667m$ is an exponential decay scale. In the script below, we start with $w=0$."
      ]
    },
    {
      "cell_type": "code",
      "execution_count": 49,
      "metadata": {
        "colab": {
          "base_uri": "https://localhost:8080/",
          "height": 460
        },
        "id": "87RT9MRj_ZFz",
        "outputId": "c44aea3c-0b30-43c3-f278-e18d77b6de7b"
      },
      "outputs": [
        {
          "output_type": "stream",
          "name": "stderr",
          "text": [
            "INFO:subsystems:Building subproblem matrices 1/1 (~100%) Elapsed: 0s, Remaining: 0s, Rate: 2.5e+00/s\n"
          ]
        },
        {
          "output_type": "stream",
          "name": "stdout",
          "text": [
            "2024-10-31 15:54:42,077 subsystems 0/1 INFO :: Building subproblem matrices 1/1 (~100%) Elapsed: 0s, Remaining: 0s, Rate: 2.5e+00/s\n"
          ]
        },
        {
          "output_type": "execute_result",
          "data": {
            "text/plain": [
              "Text(0, 0.5, 'Depth (m)')"
            ]
          },
          "metadata": {},
          "execution_count": 49
        },
        {
          "output_type": "display_data",
          "data": {
            "text/plain": [
              "<Figure size 600x400 with 1 Axes>"
            ],
            "image/png": "[encoded data removed]"
          },
          "metadata": {}
        }
      ],
      "source": [
        "\"\"\"\n",
        "Dedalus script to solve the steady advection/diffusion equation\n",
        "with a spatially-variable diffusivity\n",
        "\"\"\"\n",
        "\n",
        "import numpy as np\n",
        "import matplotlib.pyplot as plt\n",
        "import dedalus.public as d3\n",
        "import logging\n",
        "logger = logging.getLogger(__name__)\n",
        "\n",
        "# Set various parameters. Note that the depth and the top and bottom temperature\n",
        "# are taken from the CTD data in the code cell above. That cell must be run first to define CTD_T and CTD_z.\n",
        "z_surface = CTD_z[-1]\n",
        "z_bottom = CTD_z[0]\n",
        "T_surface = CTD_T[-1]\n",
        "T_bottom = CTD_T[0]\n",
        "Nz = 1000\n",
        "\n",
        "# Set the vertical velocity, positive for upwelling\n",
        "w = 5e-10 # m/s # originally set to zero\n",
        "\n",
        "# Bases\n",
        "zcoord = d3.Coordinate('z')\n",
        "dist = d3.Distributor(zcoord, dtype=np.float64)\n",
        "zbasis = d3.Chebyshev(zcoord, size=Nz, bounds=(z_bottom, z_surface))\n",
        "z = dist.local_grid(zbasis)\n",
        "\n",
        "# Fields\n",
        "T = dist.Field(name='T', bases=zbasis)\n",
        "kappa = dist.Field(name='kappa', bases=zbasis)\n",
        "# Set the diffusivity\n",
        "\n",
        "# Here are the Rogers et al., 2023 values for characteristic diffusivities\n",
        "kappa_bg = 1e-5 # m^2/s\n",
        "kappa_0 = 8.6e-4 # m^2/s\n",
        "lscale = 667 # m\n",
        "D = 5000 # m -> reference depth\n",
        "# Here are alternative values to test their effects (comment out to revert to literature values)\n",
        "kappa_bg = 1e-5 # m^2/s\n",
        "kappa_0 = 8.6e-3 # m^2/s\n",
        "lscale = 667 # m\n",
        "D = 5000 # m -> reference depth\n",
        "\n",
        "# Below is the form of the diffusivity profile from Rogers et al., 2023\n",
        "kappa['g'] = kappa_bg + (kappa_0 - kappa_bg)*np.exp((-D-z)/lscale) # m^2/s\n",
        "\n",
        "# Add two tau variables to allow us to apply two boundary conditions\n",
        "tau_1 = dist.Field(name='tau_1')\n",
        "tau_2 = dist.Field(name='tau_2')\n",
        "lift_basis = zbasis.derivative_basis(1)\n",
        "lift = lambda A: d3.Lift(A, lift_basis, -1)\n",
        "\n",
        "# Substitutions\n",
        "dz = lambda A: d3.Differentiate(A, zcoord)\n",
        "Tz = dz(T) + lift(tau_1)\n",
        "Tzz = dz(Tz) + lift(tau_2)\n",
        "\n",
        "# Problem\n",
        "problem = d3.LBVP([T, tau_1, tau_2], namespace=locals())\n",
        "problem.add_equation(\"w*Tz - dz(kappa*Tz) + lift(tau_2) = 0\")\n",
        "problem.add_equation(\"T(z=z_surface) = T_surface\")\n",
        "problem.add_equation(\"T(z=z_bottom) = T_bottom\")\n",
        "\n",
        "# Solver\n",
        "solver = problem.build_solver()\n",
        "solver.solve()\n",
        "\n",
        "# Plot\n",
        "plt.figure(figsize=(6, 4))\n",
        "Tg=T['g']\n",
        "plt.scatter(CTD_T,CTD_z,s=10)\n",
        "plt.plot(Tg,z,'k')\n",
        "plt.xlabel('Temperature (ºC)')\n",
        "plt.ylabel('Depth (m)')"
      ]
    },
    {
      "cell_type": "markdown",
      "metadata": {
        "id": "Xp-suwco_ZF1"
      },
      "source": [
        "### 1.6 Student investigation\n",
        "<a id='section1pt6'></a>\n",
        "\n",
        "a) Note from the results of the script above that the density profile is reasonable, even though $w=0$. In the box below, comment on the balance in this case and what this implies about the diffusive heat flux.\n",
        "\n",
        "b) Next, find a vertical velocity that produces a better agreement with the observations and report it below.\n",
        "\n",
        "c) Then, try varying the details of the $\\kappa(z)$ profile. How sensitive is the optimal $w$ to your choice of $\\kappa(z)$? What does this imply about the circulation in the ocean interior if $\\kappa(z)$ varies between regions of smooth and rough topography?\n",
        "\n",
        "(As an aside, note that the requied vertical velocity is much smaller than the one used by Munk (1966). This implies that the dense, cold water that sinks at the poles must rise elsewhere. Ferrari et al. (2016) proposed that this occurs in boundary layers near the seafloor.)"
      ]
    },
    {
      "cell_type": "markdown",
      "metadata": {
        "id": "03MnIvFB_ZF1"
      },
      "source": [
        "a) A non-zero vertical velocity is evidently not essential to yield a sensible depth profile. There is still turbulence, but it sums vertically to zero and the eddies are smaller than a grid cell.\n",
        "\n",
        "b) $z=10^{-8} \\space m/s$ is successful as a very slow upwelling, paired with the initial $\\kappa(z)$ profile.\n",
        "\n",
        "c) $\\kappa_0$ would be greater with more rough bathymetry, and lower with smaller bathymetry, as there would be fewer internal waves and turbulence across the bottom. With a $\\kappa_0$ that is 10x greater, $w$ should be more than 10x smaller (ie the sensitivity of $w$ is greater than 1, but without observational data it is hard to know the real-world consequences of this). This is because rough bathymetry and vertical velocity both cause mixing, so if one is greater, the other should be smaller, in order to yield the same depth profile."
      ]
    },
    {
      "cell_type": "markdown",
      "metadata": {
        "id": "K7Ppi8fU_ZF1"
      },
      "source": [
        "## 2. Transport of pollution in a river\n",
        "\n",
        "Advection/diffusion equations are a common way to model the material transport in many physical systems. In this section we will model the transport and dilution of a pollutants added to a river.\n",
        "\n",
        "For simplicity, we will model the river as a rectangular channel, and we will neglect depth variations. Let $x$ be the coordinate along the length of the river, and $y$ be the cross-stream coordinate. We will model the river current as\n",
        "\n",
        "$$ u(y) = U_0\\left(1-\\frac{(y-w/2)^2}{(w/2)^2}\\right) $$\n",
        "\n",
        "where $w$ is the width of the river and $U_0$ is the maximum current speed which occurs at the center of the river (the $y$-coordinate will run from 0 to $w$).\n",
        "\n",
        "Since we want to know how the pollution levels vary in time, we will solve the time-dependent advection/diffusion equation. We will model the addition of pollution by adding a spatially-dependent source term to the right hand side of the equation governing pollutant concentration:\n",
        "\n",
        "$$ \\frac{\\partial c}{\\partial t} + u(y)\\frac{\\partial c}{\\partial x} = \\kappa \\nabla^2 c + S(x,y) $$\n",
        "\n",
        "where $\\nabla^2=(\\partial_x^2 + \\partial_y^2)$ is the Laplacian operator for diffusion in 2D Cartesian coordinates, and $S$ is the source term."
      ]
    },
    {
      "cell_type": "markdown",
      "metadata": {
        "id": "x9I5ggJ__ZF2"
      },
      "source": [
        "### 2.1 Dedalus script\n",
        "\n",
        "The script below solves the time-dependent advection/diffusion equation with a source term."
      ]
    },
    {
      "cell_type": "code",
      "execution_count": 108,
      "metadata": {
        "colab": {
          "base_uri": "https://localhost:8080/"
        },
        "id": "36Ztor63_ZF2",
        "outputId": "edc7669f-5fec-4dae-f678-2efc2462aa7b"
      },
      "outputs": [
        {
          "output_type": "stream",
          "name": "stderr",
          "text": [
            "INFO:subsystems:Building subproblem matrices 1/1 (~100%) Elapsed: 1s, Remaining: 0s, Rate: 1.6e+00/s\n"
          ]
        },
        {
          "output_type": "stream",
          "name": "stdout",
          "text": [
            "2024-10-31 16:49:35,976 subsystems 0/1 INFO :: Building subproblem matrices 1/1 (~100%) Elapsed: 1s, Remaining: 0s, Rate: 1.6e+00/s\n"
          ]
        },
        {
          "output_type": "stream",
          "name": "stderr",
          "text": [
            "INFO:__main__:Starting main loop\n"
          ]
        },
        {
          "output_type": "stream",
          "name": "stdout",
          "text": [
            "2024-10-31 16:49:35,988 __main__ 0/1 INFO :: Starting main loop\n"
          ]
        },
        {
          "output_type": "stream",
          "name": "stderr",
          "text": [
            "INFO:__main__:Iteration=1, Time=3.906250e-01, dt=3.906250e-01\n"
          ]
        },
        {
          "output_type": "stream",
          "name": "stdout",
          "text": [
            "2024-10-31 16:49:36,049 __main__ 0/1 INFO :: Iteration=1, Time=3.906250e-01, dt=3.906250e-01\n"
          ]
        },
        {
          "output_type": "stream",
          "name": "stderr",
          "text": [
            "INFO:__main__:Iteration=11, Time=4.296875e+00, dt=3.906250e-01\n"
          ]
        },
        {
          "output_type": "stream",
          "name": "stdout",
          "text": [
            "2024-10-31 16:49:36,098 __main__ 0/1 INFO :: Iteration=11, Time=4.296875e+00, dt=3.906250e-01\n"
          ]
        },
        {
          "output_type": "stream",
          "name": "stderr",
          "text": [
            "INFO:__main__:Iteration=21, Time=8.203125e+00, dt=3.906250e-01\n"
          ]
        },
        {
          "output_type": "stream",
          "name": "stdout",
          "text": [
            "2024-10-31 16:49:36,146 __main__ 0/1 INFO :: Iteration=21, Time=8.203125e+00, dt=3.906250e-01\n"
          ]
        },
        {
          "output_type": "stream",
          "name": "stderr",
          "text": [
            "INFO:__main__:Iteration=31, Time=1.210938e+01, dt=3.906250e-01\n"
          ]
        },
        {
          "output_type": "stream",
          "name": "stdout",
          "text": [
            "2024-10-31 16:49:36,190 __main__ 0/1 INFO :: Iteration=31, Time=1.210938e+01, dt=3.906250e-01\n"
          ]
        },
        {
          "output_type": "stream",
          "name": "stderr",
          "text": [
            "INFO:__main__:Iteration=41, Time=1.601562e+01, dt=3.906250e-01\n"
          ]
        },
        {
          "output_type": "stream",
          "name": "stdout",
          "text": [
            "2024-10-31 16:49:36,234 __main__ 0/1 INFO :: Iteration=41, Time=1.601562e+01, dt=3.906250e-01\n"
          ]
        },
        {
          "output_type": "stream",
          "name": "stderr",
          "text": [
            "INFO:__main__:Iteration=51, Time=1.992188e+01, dt=3.906250e-01\n"
          ]
        },
        {
          "output_type": "stream",
          "name": "stdout",
          "text": [
            "2024-10-31 16:49:36,282 __main__ 0/1 INFO :: Iteration=51, Time=1.992188e+01, dt=3.906250e-01\n"
          ]
        },
        {
          "output_type": "stream",
          "name": "stderr",
          "text": [
            "INFO:__main__:Iteration=61, Time=2.382812e+01, dt=3.906250e-01\n"
          ]
        },
        {
          "output_type": "stream",
          "name": "stdout",
          "text": [
            "2024-10-31 16:49:36,327 __main__ 0/1 INFO :: Iteration=61, Time=2.382812e+01, dt=3.906250e-01\n"
          ]
        },
        {
          "output_type": "stream",
          "name": "stderr",
          "text": [
            "INFO:__main__:Iteration=71, Time=2.773438e+01, dt=3.906250e-01\n"
          ]
        },
        {
          "output_type": "stream",
          "name": "stdout",
          "text": [
            "2024-10-31 16:49:36,373 __main__ 0/1 INFO :: Iteration=71, Time=2.773438e+01, dt=3.906250e-01\n"
          ]
        },
        {
          "output_type": "stream",
          "name": "stderr",
          "text": [
            "INFO:__main__:Iteration=81, Time=3.164062e+01, dt=3.906250e-01\n"
          ]
        },
        {
          "output_type": "stream",
          "name": "stdout",
          "text": [
            "2024-10-31 16:49:36,425 __main__ 0/1 INFO :: Iteration=81, Time=3.164062e+01, dt=3.906250e-01\n"
          ]
        },
        {
          "output_type": "stream",
          "name": "stderr",
          "text": [
            "INFO:__main__:Iteration=91, Time=3.554688e+01, dt=3.906250e-01\n"
          ]
        },
        {
          "output_type": "stream",
          "name": "stdout",
          "text": [
            "2024-10-31 16:49:36,477 __main__ 0/1 INFO :: Iteration=91, Time=3.554688e+01, dt=3.906250e-01\n"
          ]
        },
        {
          "output_type": "stream",
          "name": "stderr",
          "text": [
            "INFO:__main__:Iteration=101, Time=3.945312e+01, dt=3.906250e-01\n"
          ]
        },
        {
          "output_type": "stream",
          "name": "stdout",
          "text": [
            "2024-10-31 16:49:36,533 __main__ 0/1 INFO :: Iteration=101, Time=3.945312e+01, dt=3.906250e-01\n"
          ]
        },
        {
          "output_type": "stream",
          "name": "stderr",
          "text": [
            "INFO:__main__:Iteration=111, Time=4.335938e+01, dt=3.906250e-01\n"
          ]
        },
        {
          "output_type": "stream",
          "name": "stdout",
          "text": [
            "2024-10-31 16:49:36,586 __main__ 0/1 INFO :: Iteration=111, Time=4.335938e+01, dt=3.906250e-01\n"
          ]
        },
        {
          "output_type": "stream",
          "name": "stderr",
          "text": [
            "INFO:__main__:Iteration=121, Time=4.726562e+01, dt=3.906250e-01\n"
          ]
        },
        {
          "output_type": "stream",
          "name": "stdout",
          "text": [
            "2024-10-31 16:49:36,633 __main__ 0/1 INFO :: Iteration=121, Time=4.726562e+01, dt=3.906250e-01\n"
          ]
        },
        {
          "output_type": "stream",
          "name": "stderr",
          "text": [
            "INFO:__main__:Iteration=131, Time=5.117188e+01, dt=3.906250e-01\n"
          ]
        },
        {
          "output_type": "stream",
          "name": "stdout",
          "text": [
            "2024-10-31 16:49:36,700 __main__ 0/1 INFO :: Iteration=131, Time=5.117188e+01, dt=3.906250e-01\n"
          ]
        },
        {
          "output_type": "stream",
          "name": "stderr",
          "text": [
            "INFO:__main__:Iteration=141, Time=5.507812e+01, dt=3.906250e-01\n"
          ]
        },
        {
          "output_type": "stream",
          "name": "stdout",
          "text": [
            "2024-10-31 16:49:36,765 __main__ 0/1 INFO :: Iteration=141, Time=5.507812e+01, dt=3.906250e-01\n"
          ]
        },
        {
          "output_type": "stream",
          "name": "stderr",
          "text": [
            "INFO:__main__:Iteration=151, Time=5.898438e+01, dt=3.906250e-01\n"
          ]
        },
        {
          "output_type": "stream",
          "name": "stdout",
          "text": [
            "2024-10-31 16:49:36,813 __main__ 0/1 INFO :: Iteration=151, Time=5.898438e+01, dt=3.906250e-01\n"
          ]
        },
        {
          "output_type": "stream",
          "name": "stderr",
          "text": [
            "INFO:__main__:Iteration=161, Time=6.289062e+01, dt=3.906250e-01\n"
          ]
        },
        {
          "output_type": "stream",
          "name": "stdout",
          "text": [
            "2024-10-31 16:49:36,862 __main__ 0/1 INFO :: Iteration=161, Time=6.289062e+01, dt=3.906250e-01\n"
          ]
        },
        {
          "output_type": "stream",
          "name": "stderr",
          "text": [
            "INFO:__main__:Iteration=171, Time=6.679688e+01, dt=3.906250e-01\n"
          ]
        },
        {
          "output_type": "stream",
          "name": "stdout",
          "text": [
            "2024-10-31 16:49:36,907 __main__ 0/1 INFO :: Iteration=171, Time=6.679688e+01, dt=3.906250e-01\n"
          ]
        },
        {
          "output_type": "stream",
          "name": "stderr",
          "text": [
            "INFO:__main__:Iteration=181, Time=7.070312e+01, dt=3.906250e-01\n"
          ]
        },
        {
          "output_type": "stream",
          "name": "stdout",
          "text": [
            "2024-10-31 16:49:36,951 __main__ 0/1 INFO :: Iteration=181, Time=7.070312e+01, dt=3.906250e-01\n"
          ]
        },
        {
          "output_type": "stream",
          "name": "stderr",
          "text": [
            "INFO:__main__:Iteration=191, Time=7.460938e+01, dt=3.906250e-01\n"
          ]
        },
        {
          "output_type": "stream",
          "name": "stdout",
          "text": [
            "2024-10-31 16:49:36,996 __main__ 0/1 INFO :: Iteration=191, Time=7.460938e+01, dt=3.906250e-01\n"
          ]
        },
        {
          "output_type": "stream",
          "name": "stderr",
          "text": [
            "INFO:__main__:Iteration=201, Time=7.851562e+01, dt=3.906250e-01\n"
          ]
        },
        {
          "output_type": "stream",
          "name": "stdout",
          "text": [
            "2024-10-31 16:49:37,042 __main__ 0/1 INFO :: Iteration=201, Time=7.851562e+01, dt=3.906250e-01\n"
          ]
        },
        {
          "output_type": "stream",
          "name": "stderr",
          "text": [
            "INFO:__main__:Iteration=211, Time=8.242188e+01, dt=3.906250e-01\n"
          ]
        },
        {
          "output_type": "stream",
          "name": "stdout",
          "text": [
            "2024-10-31 16:49:37,091 __main__ 0/1 INFO :: Iteration=211, Time=8.242188e+01, dt=3.906250e-01\n"
          ]
        },
        {
          "output_type": "stream",
          "name": "stderr",
          "text": [
            "INFO:__main__:Iteration=221, Time=8.632812e+01, dt=3.906250e-01\n"
          ]
        },
        {
          "output_type": "stream",
          "name": "stdout",
          "text": [
            "2024-10-31 16:49:37,138 __main__ 0/1 INFO :: Iteration=221, Time=8.632812e+01, dt=3.906250e-01\n"
          ]
        },
        {
          "output_type": "stream",
          "name": "stderr",
          "text": [
            "INFO:__main__:Iteration=231, Time=9.023438e+01, dt=3.906250e-01\n"
          ]
        },
        {
          "output_type": "stream",
          "name": "stdout",
          "text": [
            "2024-10-31 16:49:37,183 __main__ 0/1 INFO :: Iteration=231, Time=9.023438e+01, dt=3.906250e-01\n"
          ]
        },
        {
          "output_type": "stream",
          "name": "stderr",
          "text": [
            "INFO:__main__:Iteration=241, Time=9.414062e+01, dt=3.906250e-01\n"
          ]
        },
        {
          "output_type": "stream",
          "name": "stdout",
          "text": [
            "2024-10-31 16:49:37,230 __main__ 0/1 INFO :: Iteration=241, Time=9.414062e+01, dt=3.906250e-01\n"
          ]
        },
        {
          "output_type": "stream",
          "name": "stderr",
          "text": [
            "INFO:__main__:Iteration=251, Time=9.804688e+01, dt=3.906250e-01\n"
          ]
        },
        {
          "output_type": "stream",
          "name": "stdout",
          "text": [
            "2024-10-31 16:49:37,278 __main__ 0/1 INFO :: Iteration=251, Time=9.804688e+01, dt=3.906250e-01\n"
          ]
        },
        {
          "output_type": "stream",
          "name": "stderr",
          "text": [
            "INFO:__main__:Iteration=261, Time=1.019531e+02, dt=3.906250e-01\n"
          ]
        },
        {
          "output_type": "stream",
          "name": "stdout",
          "text": [
            "2024-10-31 16:49:37,315 __main__ 0/1 INFO :: Iteration=261, Time=1.019531e+02, dt=3.906250e-01\n"
          ]
        },
        {
          "output_type": "stream",
          "name": "stderr",
          "text": [
            "INFO:__main__:Iteration=271, Time=1.058594e+02, dt=3.906250e-01\n"
          ]
        },
        {
          "output_type": "stream",
          "name": "stdout",
          "text": [
            "2024-10-31 16:49:37,347 __main__ 0/1 INFO :: Iteration=271, Time=1.058594e+02, dt=3.906250e-01\n"
          ]
        },
        {
          "output_type": "stream",
          "name": "stderr",
          "text": [
            "INFO:__main__:Iteration=281, Time=1.097656e+02, dt=3.906250e-01\n"
          ]
        },
        {
          "output_type": "stream",
          "name": "stdout",
          "text": [
            "2024-10-31 16:49:37,379 __main__ 0/1 INFO :: Iteration=281, Time=1.097656e+02, dt=3.906250e-01\n"
          ]
        },
        {
          "output_type": "stream",
          "name": "stderr",
          "text": [
            "INFO:__main__:Iteration=291, Time=1.136719e+02, dt=3.906250e-01\n"
          ]
        },
        {
          "output_type": "stream",
          "name": "stdout",
          "text": [
            "2024-10-31 16:49:37,411 __main__ 0/1 INFO :: Iteration=291, Time=1.136719e+02, dt=3.906250e-01\n"
          ]
        },
        {
          "output_type": "stream",
          "name": "stderr",
          "text": [
            "INFO:__main__:Iteration=301, Time=1.175781e+02, dt=3.906250e-01\n"
          ]
        },
        {
          "output_type": "stream",
          "name": "stdout",
          "text": [
            "2024-10-31 16:49:37,443 __main__ 0/1 INFO :: Iteration=301, Time=1.175781e+02, dt=3.906250e-01\n"
          ]
        },
        {
          "output_type": "stream",
          "name": "stderr",
          "text": [
            "INFO:__main__:Iteration=311, Time=1.214844e+02, dt=3.906250e-01\n"
          ]
        },
        {
          "output_type": "stream",
          "name": "stdout",
          "text": [
            "2024-10-31 16:49:37,476 __main__ 0/1 INFO :: Iteration=311, Time=1.214844e+02, dt=3.906250e-01\n"
          ]
        },
        {
          "output_type": "stream",
          "name": "stderr",
          "text": [
            "INFO:__main__:Iteration=321, Time=1.253906e+02, dt=3.906250e-01\n"
          ]
        },
        {
          "output_type": "stream",
          "name": "stdout",
          "text": [
            "2024-10-31 16:49:37,511 __main__ 0/1 INFO :: Iteration=321, Time=1.253906e+02, dt=3.906250e-01\n"
          ]
        },
        {
          "output_type": "stream",
          "name": "stderr",
          "text": [
            "INFO:__main__:Iteration=331, Time=1.292969e+02, dt=3.906250e-01\n"
          ]
        },
        {
          "output_type": "stream",
          "name": "stdout",
          "text": [
            "2024-10-31 16:49:37,553 __main__ 0/1 INFO :: Iteration=331, Time=1.292969e+02, dt=3.906250e-01\n"
          ]
        },
        {
          "output_type": "stream",
          "name": "stderr",
          "text": [
            "INFO:__main__:Iteration=341, Time=1.332031e+02, dt=3.906250e-01\n"
          ]
        },
        {
          "output_type": "stream",
          "name": "stdout",
          "text": [
            "2024-10-31 16:49:37,592 __main__ 0/1 INFO :: Iteration=341, Time=1.332031e+02, dt=3.906250e-01\n"
          ]
        },
        {
          "output_type": "stream",
          "name": "stderr",
          "text": [
            "INFO:__main__:Iteration=351, Time=1.371094e+02, dt=3.906250e-01\n"
          ]
        },
        {
          "output_type": "stream",
          "name": "stdout",
          "text": [
            "2024-10-31 16:49:37,632 __main__ 0/1 INFO :: Iteration=351, Time=1.371094e+02, dt=3.906250e-01\n"
          ]
        },
        {
          "output_type": "stream",
          "name": "stderr",
          "text": [
            "INFO:__main__:Iteration=361, Time=1.410156e+02, dt=3.906250e-01\n"
          ]
        },
        {
          "output_type": "stream",
          "name": "stdout",
          "text": [
            "2024-10-31 16:49:37,671 __main__ 0/1 INFO :: Iteration=361, Time=1.410156e+02, dt=3.906250e-01\n"
          ]
        },
        {
          "output_type": "stream",
          "name": "stderr",
          "text": [
            "INFO:__main__:Iteration=371, Time=1.449219e+02, dt=3.906250e-01\n"
          ]
        },
        {
          "output_type": "stream",
          "name": "stdout",
          "text": [
            "2024-10-31 16:49:37,712 __main__ 0/1 INFO :: Iteration=371, Time=1.449219e+02, dt=3.906250e-01\n"
          ]
        },
        {
          "output_type": "stream",
          "name": "stderr",
          "text": [
            "INFO:__main__:Iteration=381, Time=1.488281e+02, dt=3.906250e-01\n"
          ]
        },
        {
          "output_type": "stream",
          "name": "stdout",
          "text": [
            "2024-10-31 16:49:37,754 __main__ 0/1 INFO :: Iteration=381, Time=1.488281e+02, dt=3.906250e-01\n"
          ]
        },
        {
          "output_type": "stream",
          "name": "stderr",
          "text": [
            "INFO:__main__:Iteration=391, Time=1.527344e+02, dt=3.906250e-01\n"
          ]
        },
        {
          "output_type": "stream",
          "name": "stdout",
          "text": [
            "2024-10-31 16:49:37,802 __main__ 0/1 INFO :: Iteration=391, Time=1.527344e+02, dt=3.906250e-01\n"
          ]
        },
        {
          "output_type": "stream",
          "name": "stderr",
          "text": [
            "INFO:__main__:Iteration=401, Time=1.566406e+02, dt=3.906250e-01\n"
          ]
        },
        {
          "output_type": "stream",
          "name": "stdout",
          "text": [
            "2024-10-31 16:49:37,845 __main__ 0/1 INFO :: Iteration=401, Time=1.566406e+02, dt=3.906250e-01\n"
          ]
        },
        {
          "output_type": "stream",
          "name": "stderr",
          "text": [
            "INFO:__main__:Iteration=411, Time=1.605469e+02, dt=3.906250e-01\n"
          ]
        },
        {
          "output_type": "stream",
          "name": "stdout",
          "text": [
            "2024-10-31 16:49:37,880 __main__ 0/1 INFO :: Iteration=411, Time=1.605469e+02, dt=3.906250e-01\n"
          ]
        },
        {
          "output_type": "stream",
          "name": "stderr",
          "text": [
            "INFO:__main__:Iteration=421, Time=1.644531e+02, dt=3.906250e-01\n"
          ]
        },
        {
          "output_type": "stream",
          "name": "stdout",
          "text": [
            "2024-10-31 16:49:37,913 __main__ 0/1 INFO :: Iteration=421, Time=1.644531e+02, dt=3.906250e-01\n"
          ]
        },
        {
          "output_type": "stream",
          "name": "stderr",
          "text": [
            "INFO:__main__:Iteration=431, Time=1.683594e+02, dt=3.906250e-01\n"
          ]
        },
        {
          "output_type": "stream",
          "name": "stdout",
          "text": [
            "2024-10-31 16:49:37,944 __main__ 0/1 INFO :: Iteration=431, Time=1.683594e+02, dt=3.906250e-01\n"
          ]
        },
        {
          "output_type": "stream",
          "name": "stderr",
          "text": [
            "INFO:__main__:Iteration=441, Time=1.722656e+02, dt=3.906250e-01\n"
          ]
        },
        {
          "output_type": "stream",
          "name": "stdout",
          "text": [
            "2024-10-31 16:49:37,975 __main__ 0/1 INFO :: Iteration=441, Time=1.722656e+02, dt=3.906250e-01\n"
          ]
        },
        {
          "output_type": "stream",
          "name": "stderr",
          "text": [
            "INFO:__main__:Iteration=451, Time=1.761719e+02, dt=3.906250e-01\n"
          ]
        },
        {
          "output_type": "stream",
          "name": "stdout",
          "text": [
            "2024-10-31 16:49:38,006 __main__ 0/1 INFO :: Iteration=451, Time=1.761719e+02, dt=3.906250e-01\n"
          ]
        },
        {
          "output_type": "stream",
          "name": "stderr",
          "text": [
            "INFO:__main__:Iteration=461, Time=1.800781e+02, dt=3.906250e-01\n"
          ]
        },
        {
          "output_type": "stream",
          "name": "stdout",
          "text": [
            "2024-10-31 16:49:38,036 __main__ 0/1 INFO :: Iteration=461, Time=1.800781e+02, dt=3.906250e-01\n"
          ]
        },
        {
          "output_type": "stream",
          "name": "stderr",
          "text": [
            "INFO:__main__:Iteration=471, Time=1.839844e+02, dt=3.906250e-01\n"
          ]
        },
        {
          "output_type": "stream",
          "name": "stdout",
          "text": [
            "2024-10-31 16:49:38,073 __main__ 0/1 INFO :: Iteration=471, Time=1.839844e+02, dt=3.906250e-01\n"
          ]
        },
        {
          "output_type": "stream",
          "name": "stderr",
          "text": [
            "INFO:__main__:Iteration=481, Time=1.878906e+02, dt=3.906250e-01\n"
          ]
        },
        {
          "output_type": "stream",
          "name": "stdout",
          "text": [
            "2024-10-31 16:49:38,107 __main__ 0/1 INFO :: Iteration=481, Time=1.878906e+02, dt=3.906250e-01\n"
          ]
        },
        {
          "output_type": "stream",
          "name": "stderr",
          "text": [
            "INFO:__main__:Iteration=491, Time=1.917969e+02, dt=3.906250e-01\n"
          ]
        },
        {
          "output_type": "stream",
          "name": "stdout",
          "text": [
            "2024-10-31 16:49:38,140 __main__ 0/1 INFO :: Iteration=491, Time=1.917969e+02, dt=3.906250e-01\n"
          ]
        },
        {
          "output_type": "stream",
          "name": "stderr",
          "text": [
            "INFO:__main__:Iteration=501, Time=1.957031e+02, dt=3.906250e-01\n"
          ]
        },
        {
          "output_type": "stream",
          "name": "stdout",
          "text": [
            "2024-10-31 16:49:38,175 __main__ 0/1 INFO :: Iteration=501, Time=1.957031e+02, dt=3.906250e-01\n"
          ]
        },
        {
          "output_type": "stream",
          "name": "stderr",
          "text": [
            "INFO:__main__:Iteration=511, Time=1.996094e+02, dt=3.906250e-01\n"
          ]
        },
        {
          "output_type": "stream",
          "name": "stdout",
          "text": [
            "2024-10-31 16:49:38,209 __main__ 0/1 INFO :: Iteration=511, Time=1.996094e+02, dt=3.906250e-01\n"
          ]
        },
        {
          "output_type": "stream",
          "name": "stderr",
          "text": [
            "INFO:__main__:Iteration=521, Time=2.035156e+02, dt=3.906250e-01\n"
          ]
        },
        {
          "output_type": "stream",
          "name": "stdout",
          "text": [
            "2024-10-31 16:49:38,243 __main__ 0/1 INFO :: Iteration=521, Time=2.035156e+02, dt=3.906250e-01\n"
          ]
        },
        {
          "output_type": "stream",
          "name": "stderr",
          "text": [
            "INFO:__main__:Iteration=531, Time=2.074219e+02, dt=3.906250e-01\n"
          ]
        },
        {
          "output_type": "stream",
          "name": "stdout",
          "text": [
            "2024-10-31 16:49:38,278 __main__ 0/1 INFO :: Iteration=531, Time=2.074219e+02, dt=3.906250e-01\n"
          ]
        },
        {
          "output_type": "stream",
          "name": "stderr",
          "text": [
            "INFO:__main__:Iteration=541, Time=2.113281e+02, dt=3.906250e-01\n"
          ]
        },
        {
          "output_type": "stream",
          "name": "stdout",
          "text": [
            "2024-10-31 16:49:38,309 __main__ 0/1 INFO :: Iteration=541, Time=2.113281e+02, dt=3.906250e-01\n"
          ]
        },
        {
          "output_type": "stream",
          "name": "stderr",
          "text": [
            "INFO:__main__:Iteration=551, Time=2.152344e+02, dt=3.906250e-01\n"
          ]
        },
        {
          "output_type": "stream",
          "name": "stdout",
          "text": [
            "2024-10-31 16:49:38,340 __main__ 0/1 INFO :: Iteration=551, Time=2.152344e+02, dt=3.906250e-01\n"
          ]
        },
        {
          "output_type": "stream",
          "name": "stderr",
          "text": [
            "INFO:__main__:Iteration=561, Time=2.191406e+02, dt=3.906250e-01\n"
          ]
        },
        {
          "output_type": "stream",
          "name": "stdout",
          "text": [
            "2024-10-31 16:49:38,372 __main__ 0/1 INFO :: Iteration=561, Time=2.191406e+02, dt=3.906250e-01\n"
          ]
        },
        {
          "output_type": "stream",
          "name": "stderr",
          "text": [
            "INFO:__main__:Iteration=571, Time=2.230469e+02, dt=3.906250e-01\n"
          ]
        },
        {
          "output_type": "stream",
          "name": "stdout",
          "text": [
            "2024-10-31 16:49:38,404 __main__ 0/1 INFO :: Iteration=571, Time=2.230469e+02, dt=3.906250e-01\n"
          ]
        },
        {
          "output_type": "stream",
          "name": "stderr",
          "text": [
            "INFO:__main__:Iteration=581, Time=2.269531e+02, dt=3.906250e-01\n"
          ]
        },
        {
          "output_type": "stream",
          "name": "stdout",
          "text": [
            "2024-10-31 16:49:38,438 __main__ 0/1 INFO :: Iteration=581, Time=2.269531e+02, dt=3.906250e-01\n"
          ]
        },
        {
          "output_type": "stream",
          "name": "stderr",
          "text": [
            "INFO:__main__:Iteration=591, Time=2.308594e+02, dt=3.906250e-01\n"
          ]
        },
        {
          "output_type": "stream",
          "name": "stdout",
          "text": [
            "2024-10-31 16:49:38,472 __main__ 0/1 INFO :: Iteration=591, Time=2.308594e+02, dt=3.906250e-01\n"
          ]
        },
        {
          "output_type": "stream",
          "name": "stderr",
          "text": [
            "INFO:__main__:Iteration=601, Time=2.347656e+02, dt=3.906250e-01\n"
          ]
        },
        {
          "output_type": "stream",
          "name": "stdout",
          "text": [
            "2024-10-31 16:49:38,511 __main__ 0/1 INFO :: Iteration=601, Time=2.347656e+02, dt=3.906250e-01\n"
          ]
        },
        {
          "output_type": "stream",
          "name": "stderr",
          "text": [
            "INFO:__main__:Iteration=611, Time=2.386719e+02, dt=3.906250e-01\n"
          ]
        },
        {
          "output_type": "stream",
          "name": "stdout",
          "text": [
            "2024-10-31 16:49:38,554 __main__ 0/1 INFO :: Iteration=611, Time=2.386719e+02, dt=3.906250e-01\n"
          ]
        },
        {
          "output_type": "stream",
          "name": "stderr",
          "text": [
            "INFO:__main__:Iteration=621, Time=2.425781e+02, dt=3.906250e-01\n"
          ]
        },
        {
          "output_type": "stream",
          "name": "stdout",
          "text": [
            "2024-10-31 16:49:38,596 __main__ 0/1 INFO :: Iteration=621, Time=2.425781e+02, dt=3.906250e-01\n"
          ]
        },
        {
          "output_type": "stream",
          "name": "stderr",
          "text": [
            "INFO:__main__:Iteration=631, Time=2.464844e+02, dt=3.906250e-01\n"
          ]
        },
        {
          "output_type": "stream",
          "name": "stdout",
          "text": [
            "2024-10-31 16:49:38,636 __main__ 0/1 INFO :: Iteration=631, Time=2.464844e+02, dt=3.906250e-01\n"
          ]
        },
        {
          "output_type": "stream",
          "name": "stderr",
          "text": [
            "INFO:__main__:Iteration=641, Time=2.503906e+02, dt=3.906250e-01\n"
          ]
        },
        {
          "output_type": "stream",
          "name": "stdout",
          "text": [
            "2024-10-31 16:49:38,679 __main__ 0/1 INFO :: Iteration=641, Time=2.503906e+02, dt=3.906250e-01\n"
          ]
        },
        {
          "output_type": "stream",
          "name": "stderr",
          "text": [
            "INFO:__main__:Iteration=651, Time=2.542969e+02, dt=3.906250e-01\n"
          ]
        },
        {
          "output_type": "stream",
          "name": "stdout",
          "text": [
            "2024-10-31 16:49:38,725 __main__ 0/1 INFO :: Iteration=651, Time=2.542969e+02, dt=3.906250e-01\n"
          ]
        },
        {
          "output_type": "stream",
          "name": "stderr",
          "text": [
            "INFO:__main__:Iteration=661, Time=2.582031e+02, dt=3.906250e-01\n"
          ]
        },
        {
          "output_type": "stream",
          "name": "stdout",
          "text": [
            "2024-10-31 16:49:38,766 __main__ 0/1 INFO :: Iteration=661, Time=2.582031e+02, dt=3.906250e-01\n"
          ]
        },
        {
          "output_type": "stream",
          "name": "stderr",
          "text": [
            "INFO:__main__:Iteration=671, Time=2.621094e+02, dt=3.906250e-01\n"
          ]
        },
        {
          "output_type": "stream",
          "name": "stdout",
          "text": [
            "2024-10-31 16:49:38,809 __main__ 0/1 INFO :: Iteration=671, Time=2.621094e+02, dt=3.906250e-01\n"
          ]
        },
        {
          "output_type": "stream",
          "name": "stderr",
          "text": [
            "INFO:__main__:Iteration=681, Time=2.660156e+02, dt=3.906250e-01\n"
          ]
        },
        {
          "output_type": "stream",
          "name": "stdout",
          "text": [
            "2024-10-31 16:49:38,856 __main__ 0/1 INFO :: Iteration=681, Time=2.660156e+02, dt=3.906250e-01\n"
          ]
        },
        {
          "output_type": "stream",
          "name": "stderr",
          "text": [
            "INFO:__main__:Iteration=691, Time=2.699219e+02, dt=3.906250e-01\n"
          ]
        },
        {
          "output_type": "stream",
          "name": "stdout",
          "text": [
            "2024-10-31 16:49:38,889 __main__ 0/1 INFO :: Iteration=691, Time=2.699219e+02, dt=3.906250e-01\n"
          ]
        },
        {
          "output_type": "stream",
          "name": "stderr",
          "text": [
            "INFO:__main__:Iteration=701, Time=2.738281e+02, dt=3.906250e-01\n"
          ]
        },
        {
          "output_type": "stream",
          "name": "stdout",
          "text": [
            "2024-10-31 16:49:38,923 __main__ 0/1 INFO :: Iteration=701, Time=2.738281e+02, dt=3.906250e-01\n"
          ]
        },
        {
          "output_type": "stream",
          "name": "stderr",
          "text": [
            "INFO:__main__:Iteration=711, Time=2.777344e+02, dt=3.906250e-01\n"
          ]
        },
        {
          "output_type": "stream",
          "name": "stdout",
          "text": [
            "2024-10-31 16:49:38,956 __main__ 0/1 INFO :: Iteration=711, Time=2.777344e+02, dt=3.906250e-01\n"
          ]
        },
        {
          "output_type": "stream",
          "name": "stderr",
          "text": [
            "INFO:__main__:Iteration=721, Time=2.816406e+02, dt=3.906250e-01\n"
          ]
        },
        {
          "output_type": "stream",
          "name": "stdout",
          "text": [
            "2024-10-31 16:49:38,989 __main__ 0/1 INFO :: Iteration=721, Time=2.816406e+02, dt=3.906250e-01\n"
          ]
        },
        {
          "output_type": "stream",
          "name": "stderr",
          "text": [
            "INFO:__main__:Iteration=731, Time=2.855469e+02, dt=3.906250e-01\n"
          ]
        },
        {
          "output_type": "stream",
          "name": "stdout",
          "text": [
            "2024-10-31 16:49:39,021 __main__ 0/1 INFO :: Iteration=731, Time=2.855469e+02, dt=3.906250e-01\n"
          ]
        },
        {
          "output_type": "stream",
          "name": "stderr",
          "text": [
            "INFO:__main__:Iteration=741, Time=2.894531e+02, dt=3.906250e-01\n"
          ]
        },
        {
          "output_type": "stream",
          "name": "stdout",
          "text": [
            "2024-10-31 16:49:39,053 __main__ 0/1 INFO :: Iteration=741, Time=2.894531e+02, dt=3.906250e-01\n"
          ]
        },
        {
          "output_type": "stream",
          "name": "stderr",
          "text": [
            "INFO:__main__:Iteration=751, Time=2.933594e+02, dt=3.906250e-01\n"
          ]
        },
        {
          "output_type": "stream",
          "name": "stdout",
          "text": [
            "2024-10-31 16:49:39,088 __main__ 0/1 INFO :: Iteration=751, Time=2.933594e+02, dt=3.906250e-01\n"
          ]
        },
        {
          "output_type": "stream",
          "name": "stderr",
          "text": [
            "INFO:__main__:Iteration=761, Time=2.972656e+02, dt=3.906250e-01\n"
          ]
        },
        {
          "output_type": "stream",
          "name": "stdout",
          "text": [
            "2024-10-31 16:49:39,122 __main__ 0/1 INFO :: Iteration=761, Time=2.972656e+02, dt=3.906250e-01\n"
          ]
        },
        {
          "output_type": "stream",
          "name": "stderr",
          "text": [
            "INFO:__main__:Iteration=771, Time=3.011719e+02, dt=3.906250e-01\n"
          ]
        },
        {
          "output_type": "stream",
          "name": "stdout",
          "text": [
            "2024-10-31 16:49:39,154 __main__ 0/1 INFO :: Iteration=771, Time=3.011719e+02, dt=3.906250e-01\n"
          ]
        },
        {
          "output_type": "stream",
          "name": "stderr",
          "text": [
            "INFO:__main__:Iteration=781, Time=3.050781e+02, dt=3.906250e-01\n"
          ]
        },
        {
          "output_type": "stream",
          "name": "stdout",
          "text": [
            "2024-10-31 16:49:39,186 __main__ 0/1 INFO :: Iteration=781, Time=3.050781e+02, dt=3.906250e-01\n"
          ]
        },
        {
          "output_type": "stream",
          "name": "stderr",
          "text": [
            "INFO:__main__:Iteration=791, Time=3.089844e+02, dt=3.906250e-01\n"
          ]
        },
        {
          "output_type": "stream",
          "name": "stdout",
          "text": [
            "2024-10-31 16:49:39,219 __main__ 0/1 INFO :: Iteration=791, Time=3.089844e+02, dt=3.906250e-01\n"
          ]
        },
        {
          "output_type": "stream",
          "name": "stderr",
          "text": [
            "INFO:__main__:Iteration=801, Time=3.128906e+02, dt=3.906250e-01\n"
          ]
        },
        {
          "output_type": "stream",
          "name": "stdout",
          "text": [
            "2024-10-31 16:49:39,256 __main__ 0/1 INFO :: Iteration=801, Time=3.128906e+02, dt=3.906250e-01\n"
          ]
        },
        {
          "output_type": "stream",
          "name": "stderr",
          "text": [
            "INFO:__main__:Iteration=811, Time=3.167969e+02, dt=3.906250e-01\n"
          ]
        },
        {
          "output_type": "stream",
          "name": "stdout",
          "text": [
            "2024-10-31 16:49:39,289 __main__ 0/1 INFO :: Iteration=811, Time=3.167969e+02, dt=3.906250e-01\n"
          ]
        },
        {
          "output_type": "stream",
          "name": "stderr",
          "text": [
            "INFO:__main__:Iteration=821, Time=3.207031e+02, dt=3.906250e-01\n"
          ]
        },
        {
          "output_type": "stream",
          "name": "stdout",
          "text": [
            "2024-10-31 16:49:39,321 __main__ 0/1 INFO :: Iteration=821, Time=3.207031e+02, dt=3.906250e-01\n"
          ]
        },
        {
          "output_type": "stream",
          "name": "stderr",
          "text": [
            "INFO:__main__:Iteration=831, Time=3.246094e+02, dt=3.906250e-01\n"
          ]
        },
        {
          "output_type": "stream",
          "name": "stdout",
          "text": [
            "2024-10-31 16:49:39,352 __main__ 0/1 INFO :: Iteration=831, Time=3.246094e+02, dt=3.906250e-01\n"
          ]
        },
        {
          "output_type": "stream",
          "name": "stderr",
          "text": [
            "INFO:__main__:Iteration=841, Time=3.285156e+02, dt=3.906250e-01\n"
          ]
        },
        {
          "output_type": "stream",
          "name": "stdout",
          "text": [
            "2024-10-31 16:49:39,384 __main__ 0/1 INFO :: Iteration=841, Time=3.285156e+02, dt=3.906250e-01\n"
          ]
        },
        {
          "output_type": "stream",
          "name": "stderr",
          "text": [
            "INFO:__main__:Iteration=851, Time=3.324219e+02, dt=3.906250e-01\n"
          ]
        },
        {
          "output_type": "stream",
          "name": "stdout",
          "text": [
            "2024-10-31 16:49:39,417 __main__ 0/1 INFO :: Iteration=851, Time=3.324219e+02, dt=3.906250e-01\n"
          ]
        },
        {
          "output_type": "stream",
          "name": "stderr",
          "text": [
            "INFO:__main__:Iteration=861, Time=3.363281e+02, dt=3.906250e-01\n"
          ]
        },
        {
          "output_type": "stream",
          "name": "stdout",
          "text": [
            "2024-10-31 16:49:39,448 __main__ 0/1 INFO :: Iteration=861, Time=3.363281e+02, dt=3.906250e-01\n"
          ]
        },
        {
          "output_type": "stream",
          "name": "stderr",
          "text": [
            "INFO:__main__:Iteration=871, Time=3.402344e+02, dt=3.906250e-01\n"
          ]
        },
        {
          "output_type": "stream",
          "name": "stdout",
          "text": [
            "2024-10-31 16:49:39,481 __main__ 0/1 INFO :: Iteration=871, Time=3.402344e+02, dt=3.906250e-01\n"
          ]
        },
        {
          "output_type": "stream",
          "name": "stderr",
          "text": [
            "INFO:__main__:Iteration=881, Time=3.441406e+02, dt=3.906250e-01\n"
          ]
        },
        {
          "output_type": "stream",
          "name": "stdout",
          "text": [
            "2024-10-31 16:49:39,519 __main__ 0/1 INFO :: Iteration=881, Time=3.441406e+02, dt=3.906250e-01\n"
          ]
        },
        {
          "output_type": "stream",
          "name": "stderr",
          "text": [
            "INFO:__main__:Iteration=891, Time=3.480469e+02, dt=3.906250e-01\n"
          ]
        },
        {
          "output_type": "stream",
          "name": "stdout",
          "text": [
            "2024-10-31 16:49:39,566 __main__ 0/1 INFO :: Iteration=891, Time=3.480469e+02, dt=3.906250e-01\n"
          ]
        },
        {
          "output_type": "stream",
          "name": "stderr",
          "text": [
            "INFO:__main__:Iteration=901, Time=3.519531e+02, dt=3.906250e-01\n"
          ]
        },
        {
          "output_type": "stream",
          "name": "stdout",
          "text": [
            "2024-10-31 16:49:39,609 __main__ 0/1 INFO :: Iteration=901, Time=3.519531e+02, dt=3.906250e-01\n"
          ]
        },
        {
          "output_type": "stream",
          "name": "stderr",
          "text": [
            "INFO:__main__:Iteration=911, Time=3.558594e+02, dt=3.906250e-01\n"
          ]
        },
        {
          "output_type": "stream",
          "name": "stdout",
          "text": [
            "2024-10-31 16:49:39,650 __main__ 0/1 INFO :: Iteration=911, Time=3.558594e+02, dt=3.906250e-01\n"
          ]
        },
        {
          "output_type": "stream",
          "name": "stderr",
          "text": [
            "INFO:__main__:Iteration=921, Time=3.597656e+02, dt=3.906250e-01\n"
          ]
        },
        {
          "output_type": "stream",
          "name": "stdout",
          "text": [
            "2024-10-31 16:49:39,695 __main__ 0/1 INFO :: Iteration=921, Time=3.597656e+02, dt=3.906250e-01\n"
          ]
        },
        {
          "output_type": "stream",
          "name": "stderr",
          "text": [
            "INFO:__main__:Iteration=931, Time=3.636719e+02, dt=3.906250e-01\n"
          ]
        },
        {
          "output_type": "stream",
          "name": "stdout",
          "text": [
            "2024-10-31 16:49:39,740 __main__ 0/1 INFO :: Iteration=931, Time=3.636719e+02, dt=3.906250e-01\n"
          ]
        },
        {
          "output_type": "stream",
          "name": "stderr",
          "text": [
            "INFO:__main__:Iteration=941, Time=3.675781e+02, dt=3.906250e-01\n"
          ]
        },
        {
          "output_type": "stream",
          "name": "stdout",
          "text": [
            "2024-10-31 16:49:39,783 __main__ 0/1 INFO :: Iteration=941, Time=3.675781e+02, dt=3.906250e-01\n"
          ]
        },
        {
          "output_type": "stream",
          "name": "stderr",
          "text": [
            "INFO:__main__:Iteration=951, Time=3.714844e+02, dt=3.906250e-01\n"
          ]
        },
        {
          "output_type": "stream",
          "name": "stdout",
          "text": [
            "2024-10-31 16:49:39,832 __main__ 0/1 INFO :: Iteration=951, Time=3.714844e+02, dt=3.906250e-01\n"
          ]
        },
        {
          "output_type": "stream",
          "name": "stderr",
          "text": [
            "INFO:__main__:Iteration=961, Time=3.753906e+02, dt=3.906250e-01\n"
          ]
        },
        {
          "output_type": "stream",
          "name": "stdout",
          "text": [
            "2024-10-31 16:49:39,875 __main__ 0/1 INFO :: Iteration=961, Time=3.753906e+02, dt=3.906250e-01\n"
          ]
        },
        {
          "output_type": "stream",
          "name": "stderr",
          "text": [
            "INFO:__main__:Iteration=971, Time=3.792969e+02, dt=3.906250e-01\n"
          ]
        },
        {
          "output_type": "stream",
          "name": "stdout",
          "text": [
            "2024-10-31 16:49:39,915 __main__ 0/1 INFO :: Iteration=971, Time=3.792969e+02, dt=3.906250e-01\n"
          ]
        },
        {
          "output_type": "stream",
          "name": "stderr",
          "text": [
            "INFO:__main__:Iteration=981, Time=3.832031e+02, dt=3.906250e-01\n"
          ]
        },
        {
          "output_type": "stream",
          "name": "stdout",
          "text": [
            "2024-10-31 16:49:39,948 __main__ 0/1 INFO :: Iteration=981, Time=3.832031e+02, dt=3.906250e-01\n"
          ]
        },
        {
          "output_type": "stream",
          "name": "stderr",
          "text": [
            "INFO:__main__:Iteration=991, Time=3.871094e+02, dt=3.906250e-01\n"
          ]
        },
        {
          "output_type": "stream",
          "name": "stdout",
          "text": [
            "2024-10-31 16:49:39,981 __main__ 0/1 INFO :: Iteration=991, Time=3.871094e+02, dt=3.906250e-01\n"
          ]
        },
        {
          "output_type": "stream",
          "name": "stderr",
          "text": [
            "INFO:__main__:Iteration=1001, Time=3.910156e+02, dt=3.906250e-01\n"
          ]
        },
        {
          "output_type": "stream",
          "name": "stdout",
          "text": [
            "2024-10-31 16:49:40,016 __main__ 0/1 INFO :: Iteration=1001, Time=3.910156e+02, dt=3.906250e-01\n"
          ]
        },
        {
          "output_type": "stream",
          "name": "stderr",
          "text": [
            "INFO:__main__:Iteration=1011, Time=3.949219e+02, dt=3.906250e-01\n"
          ]
        },
        {
          "output_type": "stream",
          "name": "stdout",
          "text": [
            "2024-10-31 16:49:40,049 __main__ 0/1 INFO :: Iteration=1011, Time=3.949219e+02, dt=3.906250e-01\n"
          ]
        },
        {
          "output_type": "stream",
          "name": "stderr",
          "text": [
            "INFO:__main__:Iteration=1021, Time=3.988281e+02, dt=3.906250e-01\n"
          ]
        },
        {
          "output_type": "stream",
          "name": "stdout",
          "text": [
            "2024-10-31 16:49:40,085 __main__ 0/1 INFO :: Iteration=1021, Time=3.988281e+02, dt=3.906250e-01\n"
          ]
        },
        {
          "output_type": "stream",
          "name": "stderr",
          "text": [
            "INFO:__main__:Iteration=1031, Time=4.027344e+02, dt=3.906250e-01\n"
          ]
        },
        {
          "output_type": "stream",
          "name": "stdout",
          "text": [
            "2024-10-31 16:49:40,120 __main__ 0/1 INFO :: Iteration=1031, Time=4.027344e+02, dt=3.906250e-01\n"
          ]
        },
        {
          "output_type": "stream",
          "name": "stderr",
          "text": [
            "INFO:__main__:Iteration=1041, Time=4.066406e+02, dt=3.906250e-01\n"
          ]
        },
        {
          "output_type": "stream",
          "name": "stdout",
          "text": [
            "2024-10-31 16:49:40,154 __main__ 0/1 INFO :: Iteration=1041, Time=4.066406e+02, dt=3.906250e-01\n"
          ]
        },
        {
          "output_type": "stream",
          "name": "stderr",
          "text": [
            "INFO:__main__:Iteration=1051, Time=4.105469e+02, dt=3.906250e-01\n"
          ]
        },
        {
          "output_type": "stream",
          "name": "stdout",
          "text": [
            "2024-10-31 16:49:40,193 __main__ 0/1 INFO :: Iteration=1051, Time=4.105469e+02, dt=3.906250e-01\n"
          ]
        },
        {
          "output_type": "stream",
          "name": "stderr",
          "text": [
            "INFO:__main__:Iteration=1061, Time=4.144531e+02, dt=3.906250e-01\n"
          ]
        },
        {
          "output_type": "stream",
          "name": "stdout",
          "text": [
            "2024-10-31 16:49:40,228 __main__ 0/1 INFO :: Iteration=1061, Time=4.144531e+02, dt=3.906250e-01\n"
          ]
        },
        {
          "output_type": "stream",
          "name": "stderr",
          "text": [
            "INFO:__main__:Iteration=1071, Time=4.183594e+02, dt=3.906250e-01\n"
          ]
        },
        {
          "output_type": "stream",
          "name": "stdout",
          "text": [
            "2024-10-31 16:49:40,262 __main__ 0/1 INFO :: Iteration=1071, Time=4.183594e+02, dt=3.906250e-01\n"
          ]
        },
        {
          "output_type": "stream",
          "name": "stderr",
          "text": [
            "INFO:__main__:Iteration=1081, Time=4.222656e+02, dt=3.906250e-01\n"
          ]
        },
        {
          "output_type": "stream",
          "name": "stdout",
          "text": [
            "2024-10-31 16:49:40,296 __main__ 0/1 INFO :: Iteration=1081, Time=4.222656e+02, dt=3.906250e-01\n"
          ]
        },
        {
          "output_type": "stream",
          "name": "stderr",
          "text": [
            "INFO:__main__:Iteration=1091, Time=4.261719e+02, dt=3.906250e-01\n"
          ]
        },
        {
          "output_type": "stream",
          "name": "stdout",
          "text": [
            "2024-10-31 16:49:40,332 __main__ 0/1 INFO :: Iteration=1091, Time=4.261719e+02, dt=3.906250e-01\n"
          ]
        },
        {
          "output_type": "stream",
          "name": "stderr",
          "text": [
            "INFO:__main__:Iteration=1101, Time=4.300781e+02, dt=3.906250e-01\n"
          ]
        },
        {
          "output_type": "stream",
          "name": "stdout",
          "text": [
            "2024-10-31 16:49:40,368 __main__ 0/1 INFO :: Iteration=1101, Time=4.300781e+02, dt=3.906250e-01\n"
          ]
        },
        {
          "output_type": "stream",
          "name": "stderr",
          "text": [
            "INFO:__main__:Iteration=1111, Time=4.339844e+02, dt=3.906250e-01\n"
          ]
        },
        {
          "output_type": "stream",
          "name": "stdout",
          "text": [
            "2024-10-31 16:49:40,403 __main__ 0/1 INFO :: Iteration=1111, Time=4.339844e+02, dt=3.906250e-01\n"
          ]
        },
        {
          "output_type": "stream",
          "name": "stderr",
          "text": [
            "INFO:__main__:Iteration=1121, Time=4.378906e+02, dt=3.906250e-01\n"
          ]
        },
        {
          "output_type": "stream",
          "name": "stdout",
          "text": [
            "2024-10-31 16:49:40,438 __main__ 0/1 INFO :: Iteration=1121, Time=4.378906e+02, dt=3.906250e-01\n"
          ]
        },
        {
          "output_type": "stream",
          "name": "stderr",
          "text": [
            "INFO:__main__:Iteration=1131, Time=4.417969e+02, dt=3.906250e-01\n"
          ]
        },
        {
          "output_type": "stream",
          "name": "stdout",
          "text": [
            "2024-10-31 16:49:40,473 __main__ 0/1 INFO :: Iteration=1131, Time=4.417969e+02, dt=3.906250e-01\n"
          ]
        },
        {
          "output_type": "stream",
          "name": "stderr",
          "text": [
            "INFO:__main__:Iteration=1141, Time=4.457031e+02, dt=3.906250e-01\n"
          ]
        },
        {
          "output_type": "stream",
          "name": "stdout",
          "text": [
            "2024-10-31 16:49:40,515 __main__ 0/1 INFO :: Iteration=1141, Time=4.457031e+02, dt=3.906250e-01\n"
          ]
        },
        {
          "output_type": "stream",
          "name": "stderr",
          "text": [
            "INFO:__main__:Iteration=1151, Time=4.496094e+02, dt=3.906250e-01\n"
          ]
        },
        {
          "output_type": "stream",
          "name": "stdout",
          "text": [
            "2024-10-31 16:49:40,561 __main__ 0/1 INFO :: Iteration=1151, Time=4.496094e+02, dt=3.906250e-01\n"
          ]
        },
        {
          "output_type": "stream",
          "name": "stderr",
          "text": [
            "INFO:__main__:Iteration=1161, Time=4.535156e+02, dt=3.906250e-01\n"
          ]
        },
        {
          "output_type": "stream",
          "name": "stdout",
          "text": [
            "2024-10-31 16:49:40,607 __main__ 0/1 INFO :: Iteration=1161, Time=4.535156e+02, dt=3.906250e-01\n"
          ]
        },
        {
          "output_type": "stream",
          "name": "stderr",
          "text": [
            "INFO:__main__:Iteration=1171, Time=4.574219e+02, dt=3.906250e-01\n"
          ]
        },
        {
          "output_type": "stream",
          "name": "stdout",
          "text": [
            "2024-10-31 16:49:40,653 __main__ 0/1 INFO :: Iteration=1171, Time=4.574219e+02, dt=3.906250e-01\n"
          ]
        },
        {
          "output_type": "stream",
          "name": "stderr",
          "text": [
            "INFO:__main__:Iteration=1181, Time=4.613281e+02, dt=3.906250e-01\n"
          ]
        },
        {
          "output_type": "stream",
          "name": "stdout",
          "text": [
            "2024-10-31 16:49:40,695 __main__ 0/1 INFO :: Iteration=1181, Time=4.613281e+02, dt=3.906250e-01\n"
          ]
        },
        {
          "output_type": "stream",
          "name": "stderr",
          "text": [
            "INFO:__main__:Iteration=1191, Time=4.652344e+02, dt=3.906250e-01\n"
          ]
        },
        {
          "output_type": "stream",
          "name": "stdout",
          "text": [
            "2024-10-31 16:49:40,740 __main__ 0/1 INFO :: Iteration=1191, Time=4.652344e+02, dt=3.906250e-01\n"
          ]
        },
        {
          "output_type": "stream",
          "name": "stderr",
          "text": [
            "INFO:__main__:Iteration=1201, Time=4.691406e+02, dt=3.906250e-01\n"
          ]
        },
        {
          "output_type": "stream",
          "name": "stdout",
          "text": [
            "2024-10-31 16:49:40,786 __main__ 0/1 INFO :: Iteration=1201, Time=4.691406e+02, dt=3.906250e-01\n"
          ]
        },
        {
          "output_type": "stream",
          "name": "stderr",
          "text": [
            "INFO:__main__:Iteration=1211, Time=4.730469e+02, dt=3.906250e-01\n"
          ]
        },
        {
          "output_type": "stream",
          "name": "stdout",
          "text": [
            "2024-10-31 16:49:40,830 __main__ 0/1 INFO :: Iteration=1211, Time=4.730469e+02, dt=3.906250e-01\n"
          ]
        },
        {
          "output_type": "stream",
          "name": "stderr",
          "text": [
            "INFO:__main__:Iteration=1221, Time=4.769531e+02, dt=3.906250e-01\n"
          ]
        },
        {
          "output_type": "stream",
          "name": "stdout",
          "text": [
            "2024-10-31 16:49:40,864 __main__ 0/1 INFO :: Iteration=1221, Time=4.769531e+02, dt=3.906250e-01\n"
          ]
        },
        {
          "output_type": "stream",
          "name": "stderr",
          "text": [
            "INFO:__main__:Iteration=1231, Time=4.808594e+02, dt=3.906250e-01\n"
          ]
        },
        {
          "output_type": "stream",
          "name": "stdout",
          "text": [
            "2024-10-31 16:49:40,900 __main__ 0/1 INFO :: Iteration=1231, Time=4.808594e+02, dt=3.906250e-01\n"
          ]
        },
        {
          "output_type": "stream",
          "name": "stderr",
          "text": [
            "INFO:__main__:Iteration=1241, Time=4.847656e+02, dt=3.906250e-01\n"
          ]
        },
        {
          "output_type": "stream",
          "name": "stdout",
          "text": [
            "2024-10-31 16:49:40,943 __main__ 0/1 INFO :: Iteration=1241, Time=4.847656e+02, dt=3.906250e-01\n"
          ]
        },
        {
          "output_type": "stream",
          "name": "stderr",
          "text": [
            "INFO:__main__:Iteration=1251, Time=4.886719e+02, dt=3.906250e-01\n"
          ]
        },
        {
          "output_type": "stream",
          "name": "stdout",
          "text": [
            "2024-10-31 16:49:40,976 __main__ 0/1 INFO :: Iteration=1251, Time=4.886719e+02, dt=3.906250e-01\n"
          ]
        },
        {
          "output_type": "stream",
          "name": "stderr",
          "text": [
            "INFO:__main__:Iteration=1261, Time=4.925781e+02, dt=3.906250e-01\n"
          ]
        },
        {
          "output_type": "stream",
          "name": "stdout",
          "text": [
            "2024-10-31 16:49:41,012 __main__ 0/1 INFO :: Iteration=1261, Time=4.925781e+02, dt=3.906250e-01\n"
          ]
        },
        {
          "output_type": "stream",
          "name": "stderr",
          "text": [
            "INFO:__main__:Iteration=1271, Time=4.964844e+02, dt=3.906250e-01\n"
          ]
        },
        {
          "output_type": "stream",
          "name": "stdout",
          "text": [
            "2024-10-31 16:49:41,046 __main__ 0/1 INFO :: Iteration=1271, Time=4.964844e+02, dt=3.906250e-01\n"
          ]
        },
        {
          "output_type": "stream",
          "name": "stderr",
          "text": [
            "INFO:__main__:Iteration=1281, Time=5.003906e+02, dt=3.906250e-01\n"
          ]
        },
        {
          "output_type": "stream",
          "name": "stdout",
          "text": [
            "2024-10-31 16:49:41,083 __main__ 0/1 INFO :: Iteration=1281, Time=5.003906e+02, dt=3.906250e-01\n"
          ]
        },
        {
          "output_type": "stream",
          "name": "stderr",
          "text": [
            "INFO:__main__:Iteration=1291, Time=5.042969e+02, dt=3.906250e-01\n"
          ]
        },
        {
          "output_type": "stream",
          "name": "stdout",
          "text": [
            "2024-10-31 16:49:41,122 __main__ 0/1 INFO :: Iteration=1291, Time=5.042969e+02, dt=3.906250e-01\n"
          ]
        },
        {
          "output_type": "stream",
          "name": "stderr",
          "text": [
            "INFO:__main__:Iteration=1301, Time=5.082031e+02, dt=3.906250e-01\n"
          ]
        },
        {
          "output_type": "stream",
          "name": "stdout",
          "text": [
            "2024-10-31 16:49:41,158 __main__ 0/1 INFO :: Iteration=1301, Time=5.082031e+02, dt=3.906250e-01\n"
          ]
        },
        {
          "output_type": "stream",
          "name": "stderr",
          "text": [
            "INFO:__main__:Iteration=1311, Time=5.121094e+02, dt=3.906250e-01\n"
          ]
        },
        {
          "output_type": "stream",
          "name": "stdout",
          "text": [
            "2024-10-31 16:49:41,193 __main__ 0/1 INFO :: Iteration=1311, Time=5.121094e+02, dt=3.906250e-01\n"
          ]
        },
        {
          "output_type": "stream",
          "name": "stderr",
          "text": [
            "INFO:__main__:Iteration=1321, Time=5.160156e+02, dt=3.906250e-01\n"
          ]
        },
        {
          "output_type": "stream",
          "name": "stdout",
          "text": [
            "2024-10-31 16:49:41,227 __main__ 0/1 INFO :: Iteration=1321, Time=5.160156e+02, dt=3.906250e-01\n"
          ]
        },
        {
          "output_type": "stream",
          "name": "stderr",
          "text": [
            "INFO:__main__:Iteration=1331, Time=5.199219e+02, dt=3.906250e-01\n"
          ]
        },
        {
          "output_type": "stream",
          "name": "stdout",
          "text": [
            "2024-10-31 16:49:41,262 __main__ 0/1 INFO :: Iteration=1331, Time=5.199219e+02, dt=3.906250e-01\n"
          ]
        },
        {
          "output_type": "stream",
          "name": "stderr",
          "text": [
            "INFO:__main__:Iteration=1341, Time=5.238281e+02, dt=3.906250e-01\n"
          ]
        },
        {
          "output_type": "stream",
          "name": "stdout",
          "text": [
            "2024-10-31 16:49:41,296 __main__ 0/1 INFO :: Iteration=1341, Time=5.238281e+02, dt=3.906250e-01\n"
          ]
        },
        {
          "output_type": "stream",
          "name": "stderr",
          "text": [
            "INFO:__main__:Iteration=1351, Time=5.277344e+02, dt=3.906250e-01\n"
          ]
        },
        {
          "output_type": "stream",
          "name": "stdout",
          "text": [
            "2024-10-31 16:49:41,329 __main__ 0/1 INFO :: Iteration=1351, Time=5.277344e+02, dt=3.906250e-01\n"
          ]
        },
        {
          "output_type": "stream",
          "name": "stderr",
          "text": [
            "INFO:__main__:Iteration=1361, Time=5.316406e+02, dt=3.906250e-01\n"
          ]
        },
        {
          "output_type": "stream",
          "name": "stdout",
          "text": [
            "2024-10-31 16:49:41,361 __main__ 0/1 INFO :: Iteration=1361, Time=5.316406e+02, dt=3.906250e-01\n"
          ]
        },
        {
          "output_type": "stream",
          "name": "stderr",
          "text": [
            "INFO:__main__:Iteration=1371, Time=5.355469e+02, dt=3.906250e-01\n"
          ]
        },
        {
          "output_type": "stream",
          "name": "stdout",
          "text": [
            "2024-10-31 16:49:41,394 __main__ 0/1 INFO :: Iteration=1371, Time=5.355469e+02, dt=3.906250e-01\n"
          ]
        },
        {
          "output_type": "stream",
          "name": "stderr",
          "text": [
            "INFO:__main__:Iteration=1381, Time=5.394531e+02, dt=3.906250e-01\n"
          ]
        },
        {
          "output_type": "stream",
          "name": "stdout",
          "text": [
            "2024-10-31 16:49:41,427 __main__ 0/1 INFO :: Iteration=1381, Time=5.394531e+02, dt=3.906250e-01\n"
          ]
        },
        {
          "output_type": "stream",
          "name": "stderr",
          "text": [
            "INFO:__main__:Iteration=1391, Time=5.433594e+02, dt=3.906250e-01\n"
          ]
        },
        {
          "output_type": "stream",
          "name": "stdout",
          "text": [
            "2024-10-31 16:49:41,466 __main__ 0/1 INFO :: Iteration=1391, Time=5.433594e+02, dt=3.906250e-01\n"
          ]
        },
        {
          "output_type": "stream",
          "name": "stderr",
          "text": [
            "INFO:__main__:Iteration=1401, Time=5.472656e+02, dt=3.906250e-01\n"
          ]
        },
        {
          "output_type": "stream",
          "name": "stdout",
          "text": [
            "2024-10-31 16:49:41,506 __main__ 0/1 INFO :: Iteration=1401, Time=5.472656e+02, dt=3.906250e-01\n"
          ]
        },
        {
          "output_type": "stream",
          "name": "stderr",
          "text": [
            "INFO:__main__:Iteration=1411, Time=5.511719e+02, dt=3.906250e-01\n"
          ]
        },
        {
          "output_type": "stream",
          "name": "stdout",
          "text": [
            "2024-10-31 16:49:41,547 __main__ 0/1 INFO :: Iteration=1411, Time=5.511719e+02, dt=3.906250e-01\n"
          ]
        },
        {
          "output_type": "stream",
          "name": "stderr",
          "text": [
            "INFO:__main__:Iteration=1421, Time=5.550781e+02, dt=3.906250e-01\n"
          ]
        },
        {
          "output_type": "stream",
          "name": "stdout",
          "text": [
            "2024-10-31 16:49:41,591 __main__ 0/1 INFO :: Iteration=1421, Time=5.550781e+02, dt=3.906250e-01\n"
          ]
        },
        {
          "output_type": "stream",
          "name": "stderr",
          "text": [
            "INFO:__main__:Iteration=1431, Time=5.589844e+02, dt=3.906250e-01\n"
          ]
        },
        {
          "output_type": "stream",
          "name": "stdout",
          "text": [
            "2024-10-31 16:49:41,637 __main__ 0/1 INFO :: Iteration=1431, Time=5.589844e+02, dt=3.906250e-01\n"
          ]
        },
        {
          "output_type": "stream",
          "name": "stderr",
          "text": [
            "INFO:__main__:Iteration=1441, Time=5.628906e+02, dt=3.906250e-01\n"
          ]
        },
        {
          "output_type": "stream",
          "name": "stdout",
          "text": [
            "2024-10-31 16:49:41,678 __main__ 0/1 INFO :: Iteration=1441, Time=5.628906e+02, dt=3.906250e-01\n"
          ]
        },
        {
          "output_type": "stream",
          "name": "stderr",
          "text": [
            "INFO:__main__:Iteration=1451, Time=5.667969e+02, dt=3.906250e-01\n"
          ]
        },
        {
          "output_type": "stream",
          "name": "stdout",
          "text": [
            "2024-10-31 16:49:41,722 __main__ 0/1 INFO :: Iteration=1451, Time=5.667969e+02, dt=3.906250e-01\n"
          ]
        },
        {
          "output_type": "stream",
          "name": "stderr",
          "text": [
            "INFO:__main__:Iteration=1461, Time=5.707031e+02, dt=3.906250e-01\n"
          ]
        },
        {
          "output_type": "stream",
          "name": "stdout",
          "text": [
            "2024-10-31 16:49:41,769 __main__ 0/1 INFO :: Iteration=1461, Time=5.707031e+02, dt=3.906250e-01\n"
          ]
        },
        {
          "output_type": "stream",
          "name": "stderr",
          "text": [
            "INFO:__main__:Iteration=1471, Time=5.746094e+02, dt=3.906250e-01\n"
          ]
        },
        {
          "output_type": "stream",
          "name": "stdout",
          "text": [
            "2024-10-31 16:49:41,814 __main__ 0/1 INFO :: Iteration=1471, Time=5.746094e+02, dt=3.906250e-01\n"
          ]
        },
        {
          "output_type": "stream",
          "name": "stderr",
          "text": [
            "INFO:__main__:Iteration=1481, Time=5.785156e+02, dt=3.906250e-01\n"
          ]
        },
        {
          "output_type": "stream",
          "name": "stdout",
          "text": [
            "2024-10-31 16:49:41,857 __main__ 0/1 INFO :: Iteration=1481, Time=5.785156e+02, dt=3.906250e-01\n"
          ]
        },
        {
          "output_type": "stream",
          "name": "stderr",
          "text": [
            "INFO:__main__:Iteration=1491, Time=5.824219e+02, dt=3.906250e-01\n"
          ]
        },
        {
          "output_type": "stream",
          "name": "stdout",
          "text": [
            "2024-10-31 16:49:41,891 __main__ 0/1 INFO :: Iteration=1491, Time=5.824219e+02, dt=3.906250e-01\n"
          ]
        },
        {
          "output_type": "stream",
          "name": "stderr",
          "text": [
            "INFO:__main__:Iteration=1501, Time=5.863281e+02, dt=3.906250e-01\n"
          ]
        },
        {
          "output_type": "stream",
          "name": "stdout",
          "text": [
            "2024-10-31 16:49:41,930 __main__ 0/1 INFO :: Iteration=1501, Time=5.863281e+02, dt=3.906250e-01\n"
          ]
        },
        {
          "output_type": "stream",
          "name": "stderr",
          "text": [
            "INFO:__main__:Iteration=1511, Time=5.902344e+02, dt=3.906250e-01\n"
          ]
        },
        {
          "output_type": "stream",
          "name": "stdout",
          "text": [
            "2024-10-31 16:49:41,977 __main__ 0/1 INFO :: Iteration=1511, Time=5.902344e+02, dt=3.906250e-01\n"
          ]
        },
        {
          "output_type": "stream",
          "name": "stderr",
          "text": [
            "INFO:__main__:Iteration=1521, Time=5.941406e+02, dt=3.906250e-01\n"
          ]
        },
        {
          "output_type": "stream",
          "name": "stdout",
          "text": [
            "2024-10-31 16:49:42,013 __main__ 0/1 INFO :: Iteration=1521, Time=5.941406e+02, dt=3.906250e-01\n"
          ]
        },
        {
          "output_type": "stream",
          "name": "stderr",
          "text": [
            "INFO:__main__:Iteration=1531, Time=5.980469e+02, dt=3.906250e-01\n"
          ]
        },
        {
          "output_type": "stream",
          "name": "stdout",
          "text": [
            "2024-10-31 16:49:42,045 __main__ 0/1 INFO :: Iteration=1531, Time=5.980469e+02, dt=3.906250e-01\n"
          ]
        },
        {
          "output_type": "stream",
          "name": "stderr",
          "text": [
            "INFO:__main__:Iteration=1541, Time=6.019531e+02, dt=3.906250e-01\n"
          ]
        },
        {
          "output_type": "stream",
          "name": "stdout",
          "text": [
            "2024-10-31 16:49:42,080 __main__ 0/1 INFO :: Iteration=1541, Time=6.019531e+02, dt=3.906250e-01\n"
          ]
        },
        {
          "output_type": "stream",
          "name": "stderr",
          "text": [
            "INFO:__main__:Iteration=1551, Time=6.058594e+02, dt=3.906250e-01\n"
          ]
        },
        {
          "output_type": "stream",
          "name": "stdout",
          "text": [
            "2024-10-31 16:49:42,113 __main__ 0/1 INFO :: Iteration=1551, Time=6.058594e+02, dt=3.906250e-01\n"
          ]
        },
        {
          "output_type": "stream",
          "name": "stderr",
          "text": [
            "INFO:__main__:Iteration=1561, Time=6.097656e+02, dt=3.906250e-01\n"
          ]
        },
        {
          "output_type": "stream",
          "name": "stdout",
          "text": [
            "2024-10-31 16:49:42,147 __main__ 0/1 INFO :: Iteration=1561, Time=6.097656e+02, dt=3.906250e-01\n"
          ]
        },
        {
          "output_type": "stream",
          "name": "stderr",
          "text": [
            "INFO:__main__:Iteration=1571, Time=6.136719e+02, dt=3.906250e-01\n"
          ]
        },
        {
          "output_type": "stream",
          "name": "stdout",
          "text": [
            "2024-10-31 16:49:42,182 __main__ 0/1 INFO :: Iteration=1571, Time=6.136719e+02, dt=3.906250e-01\n"
          ]
        },
        {
          "output_type": "stream",
          "name": "stderr",
          "text": [
            "INFO:__main__:Iteration=1581, Time=6.175781e+02, dt=3.906250e-01\n"
          ]
        },
        {
          "output_type": "stream",
          "name": "stdout",
          "text": [
            "2024-10-31 16:49:42,215 __main__ 0/1 INFO :: Iteration=1581, Time=6.175781e+02, dt=3.906250e-01\n"
          ]
        },
        {
          "output_type": "stream",
          "name": "stderr",
          "text": [
            "INFO:__main__:Iteration=1591, Time=6.214844e+02, dt=3.906250e-01\n"
          ]
        },
        {
          "output_type": "stream",
          "name": "stdout",
          "text": [
            "2024-10-31 16:49:42,248 __main__ 0/1 INFO :: Iteration=1591, Time=6.214844e+02, dt=3.906250e-01\n"
          ]
        },
        {
          "output_type": "stream",
          "name": "stderr",
          "text": [
            "INFO:__main__:Iteration=1601, Time=6.253906e+02, dt=3.906250e-01\n"
          ]
        },
        {
          "output_type": "stream",
          "name": "stdout",
          "text": [
            "2024-10-31 16:49:42,288 __main__ 0/1 INFO :: Iteration=1601, Time=6.253906e+02, dt=3.906250e-01\n"
          ]
        },
        {
          "output_type": "stream",
          "name": "stderr",
          "text": [
            "INFO:__main__:Iteration=1611, Time=6.292969e+02, dt=3.906250e-01\n"
          ]
        },
        {
          "output_type": "stream",
          "name": "stdout",
          "text": [
            "2024-10-31 16:49:42,323 __main__ 0/1 INFO :: Iteration=1611, Time=6.292969e+02, dt=3.906250e-01\n"
          ]
        },
        {
          "output_type": "stream",
          "name": "stderr",
          "text": [
            "INFO:__main__:Iteration=1621, Time=6.332031e+02, dt=3.906250e-01\n"
          ]
        },
        {
          "output_type": "stream",
          "name": "stdout",
          "text": [
            "2024-10-31 16:49:42,357 __main__ 0/1 INFO :: Iteration=1621, Time=6.332031e+02, dt=3.906250e-01\n"
          ]
        },
        {
          "output_type": "stream",
          "name": "stderr",
          "text": [
            "INFO:__main__:Iteration=1631, Time=6.371094e+02, dt=3.906250e-01\n"
          ]
        },
        {
          "output_type": "stream",
          "name": "stdout",
          "text": [
            "2024-10-31 16:49:42,393 __main__ 0/1 INFO :: Iteration=1631, Time=6.371094e+02, dt=3.906250e-01\n"
          ]
        },
        {
          "output_type": "stream",
          "name": "stderr",
          "text": [
            "INFO:__main__:Iteration=1641, Time=6.410156e+02, dt=3.906250e-01\n"
          ]
        },
        {
          "output_type": "stream",
          "name": "stdout",
          "text": [
            "2024-10-31 16:49:42,429 __main__ 0/1 INFO :: Iteration=1641, Time=6.410156e+02, dt=3.906250e-01\n"
          ]
        },
        {
          "output_type": "stream",
          "name": "stderr",
          "text": [
            "INFO:__main__:Iteration=1651, Time=6.449219e+02, dt=3.906250e-01\n"
          ]
        },
        {
          "output_type": "stream",
          "name": "stdout",
          "text": [
            "2024-10-31 16:49:42,463 __main__ 0/1 INFO :: Iteration=1651, Time=6.449219e+02, dt=3.906250e-01\n"
          ]
        },
        {
          "output_type": "stream",
          "name": "stderr",
          "text": [
            "INFO:__main__:Iteration=1661, Time=6.488281e+02, dt=3.906250e-01\n"
          ]
        },
        {
          "output_type": "stream",
          "name": "stdout",
          "text": [
            "2024-10-31 16:49:42,502 __main__ 0/1 INFO :: Iteration=1661, Time=6.488281e+02, dt=3.906250e-01\n"
          ]
        },
        {
          "output_type": "stream",
          "name": "stderr",
          "text": [
            "INFO:__main__:Iteration=1671, Time=6.527344e+02, dt=3.906250e-01\n"
          ]
        },
        {
          "output_type": "stream",
          "name": "stdout",
          "text": [
            "2024-10-31 16:49:42,546 __main__ 0/1 INFO :: Iteration=1671, Time=6.527344e+02, dt=3.906250e-01\n"
          ]
        },
        {
          "output_type": "stream",
          "name": "stderr",
          "text": [
            "INFO:__main__:Iteration=1681, Time=6.566406e+02, dt=3.906250e-01\n"
          ]
        },
        {
          "output_type": "stream",
          "name": "stdout",
          "text": [
            "2024-10-31 16:49:42,593 __main__ 0/1 INFO :: Iteration=1681, Time=6.566406e+02, dt=3.906250e-01\n"
          ]
        },
        {
          "output_type": "stream",
          "name": "stderr",
          "text": [
            "INFO:__main__:Iteration=1691, Time=6.605469e+02, dt=3.906250e-01\n"
          ]
        },
        {
          "output_type": "stream",
          "name": "stdout",
          "text": [
            "2024-10-31 16:49:42,633 __main__ 0/1 INFO :: Iteration=1691, Time=6.605469e+02, dt=3.906250e-01\n"
          ]
        },
        {
          "output_type": "stream",
          "name": "stderr",
          "text": [
            "INFO:__main__:Iteration=1701, Time=6.644531e+02, dt=3.906250e-01\n"
          ]
        },
        {
          "output_type": "stream",
          "name": "stdout",
          "text": [
            "2024-10-31 16:49:42,682 __main__ 0/1 INFO :: Iteration=1701, Time=6.644531e+02, dt=3.906250e-01\n"
          ]
        },
        {
          "output_type": "stream",
          "name": "stderr",
          "text": [
            "INFO:__main__:Iteration=1711, Time=6.683594e+02, dt=3.906250e-01\n"
          ]
        },
        {
          "output_type": "stream",
          "name": "stdout",
          "text": [
            "2024-10-31 16:49:42,724 __main__ 0/1 INFO :: Iteration=1711, Time=6.683594e+02, dt=3.906250e-01\n"
          ]
        },
        {
          "output_type": "stream",
          "name": "stderr",
          "text": [
            "INFO:__main__:Iteration=1721, Time=6.722656e+02, dt=3.906250e-01\n"
          ]
        },
        {
          "output_type": "stream",
          "name": "stdout",
          "text": [
            "2024-10-31 16:49:42,770 __main__ 0/1 INFO :: Iteration=1721, Time=6.722656e+02, dt=3.906250e-01\n"
          ]
        },
        {
          "output_type": "stream",
          "name": "stderr",
          "text": [
            "INFO:__main__:Iteration=1731, Time=6.761719e+02, dt=3.906250e-01\n"
          ]
        },
        {
          "output_type": "stream",
          "name": "stdout",
          "text": [
            "2024-10-31 16:49:42,813 __main__ 0/1 INFO :: Iteration=1731, Time=6.761719e+02, dt=3.906250e-01\n"
          ]
        },
        {
          "output_type": "stream",
          "name": "stderr",
          "text": [
            "INFO:__main__:Iteration=1741, Time=6.800781e+02, dt=3.906250e-01\n"
          ]
        },
        {
          "output_type": "stream",
          "name": "stdout",
          "text": [
            "2024-10-31 16:49:42,854 __main__ 0/1 INFO :: Iteration=1741, Time=6.800781e+02, dt=3.906250e-01\n"
          ]
        },
        {
          "output_type": "stream",
          "name": "stderr",
          "text": [
            "INFO:__main__:Iteration=1751, Time=6.839844e+02, dt=3.906250e-01\n"
          ]
        },
        {
          "output_type": "stream",
          "name": "stdout",
          "text": [
            "2024-10-31 16:49:42,887 __main__ 0/1 INFO :: Iteration=1751, Time=6.839844e+02, dt=3.906250e-01\n"
          ]
        },
        {
          "output_type": "stream",
          "name": "stderr",
          "text": [
            "INFO:__main__:Iteration=1761, Time=6.878906e+02, dt=3.906250e-01\n"
          ]
        },
        {
          "output_type": "stream",
          "name": "stdout",
          "text": [
            "2024-10-31 16:49:42,920 __main__ 0/1 INFO :: Iteration=1761, Time=6.878906e+02, dt=3.906250e-01\n"
          ]
        },
        {
          "output_type": "stream",
          "name": "stderr",
          "text": [
            "INFO:__main__:Iteration=1771, Time=6.917969e+02, dt=3.906250e-01\n"
          ]
        },
        {
          "output_type": "stream",
          "name": "stdout",
          "text": [
            "2024-10-31 16:49:42,955 __main__ 0/1 INFO :: Iteration=1771, Time=6.917969e+02, dt=3.906250e-01\n"
          ]
        },
        {
          "output_type": "stream",
          "name": "stderr",
          "text": [
            "INFO:__main__:Iteration=1781, Time=6.957031e+02, dt=3.906250e-01\n"
          ]
        },
        {
          "output_type": "stream",
          "name": "stdout",
          "text": [
            "2024-10-31 16:49:43,000 __main__ 0/1 INFO :: Iteration=1781, Time=6.957031e+02, dt=3.906250e-01\n"
          ]
        },
        {
          "output_type": "stream",
          "name": "stderr",
          "text": [
            "INFO:__main__:Iteration=1791, Time=6.996094e+02, dt=3.906250e-01\n"
          ]
        },
        {
          "output_type": "stream",
          "name": "stdout",
          "text": [
            "2024-10-31 16:49:43,033 __main__ 0/1 INFO :: Iteration=1791, Time=6.996094e+02, dt=3.906250e-01\n"
          ]
        },
        {
          "output_type": "stream",
          "name": "stderr",
          "text": [
            "INFO:__main__:Iteration=1801, Time=7.035156e+02, dt=3.906250e-01\n"
          ]
        },
        {
          "output_type": "stream",
          "name": "stdout",
          "text": [
            "2024-10-31 16:49:43,074 __main__ 0/1 INFO :: Iteration=1801, Time=7.035156e+02, dt=3.906250e-01\n"
          ]
        },
        {
          "output_type": "stream",
          "name": "stderr",
          "text": [
            "INFO:__main__:Iteration=1811, Time=7.074219e+02, dt=3.906250e-01\n"
          ]
        },
        {
          "output_type": "stream",
          "name": "stdout",
          "text": [
            "2024-10-31 16:49:43,107 __main__ 0/1 INFO :: Iteration=1811, Time=7.074219e+02, dt=3.906250e-01\n"
          ]
        },
        {
          "output_type": "stream",
          "name": "stderr",
          "text": [
            "INFO:__main__:Iteration=1821, Time=7.113281e+02, dt=3.906250e-01\n"
          ]
        },
        {
          "output_type": "stream",
          "name": "stdout",
          "text": [
            "2024-10-31 16:49:43,143 __main__ 0/1 INFO :: Iteration=1821, Time=7.113281e+02, dt=3.906250e-01\n"
          ]
        },
        {
          "output_type": "stream",
          "name": "stderr",
          "text": [
            "INFO:__main__:Iteration=1831, Time=7.152344e+02, dt=3.906250e-01\n"
          ]
        },
        {
          "output_type": "stream",
          "name": "stdout",
          "text": [
            "2024-10-31 16:49:43,175 __main__ 0/1 INFO :: Iteration=1831, Time=7.152344e+02, dt=3.906250e-01\n"
          ]
        },
        {
          "output_type": "stream",
          "name": "stderr",
          "text": [
            "INFO:__main__:Iteration=1841, Time=7.191406e+02, dt=3.906250e-01\n"
          ]
        },
        {
          "output_type": "stream",
          "name": "stdout",
          "text": [
            "2024-10-31 16:49:43,208 __main__ 0/1 INFO :: Iteration=1841, Time=7.191406e+02, dt=3.906250e-01\n"
          ]
        },
        {
          "output_type": "stream",
          "name": "stderr",
          "text": [
            "INFO:__main__:Iteration=1851, Time=7.230469e+02, dt=3.906250e-01\n"
          ]
        },
        {
          "output_type": "stream",
          "name": "stdout",
          "text": [
            "2024-10-31 16:49:43,243 __main__ 0/1 INFO :: Iteration=1851, Time=7.230469e+02, dt=3.906250e-01\n"
          ]
        },
        {
          "output_type": "stream",
          "name": "stderr",
          "text": [
            "INFO:__main__:Iteration=1861, Time=7.269531e+02, dt=3.906250e-01\n"
          ]
        },
        {
          "output_type": "stream",
          "name": "stdout",
          "text": [
            "2024-10-31 16:49:43,277 __main__ 0/1 INFO :: Iteration=1861, Time=7.269531e+02, dt=3.906250e-01\n"
          ]
        },
        {
          "output_type": "stream",
          "name": "stderr",
          "text": [
            "INFO:__main__:Iteration=1871, Time=7.308594e+02, dt=3.906250e-01\n"
          ]
        },
        {
          "output_type": "stream",
          "name": "stdout",
          "text": [
            "2024-10-31 16:49:43,311 __main__ 0/1 INFO :: Iteration=1871, Time=7.308594e+02, dt=3.906250e-01\n"
          ]
        },
        {
          "output_type": "stream",
          "name": "stderr",
          "text": [
            "INFO:__main__:Iteration=1881, Time=7.347656e+02, dt=3.906250e-01\n"
          ]
        },
        {
          "output_type": "stream",
          "name": "stdout",
          "text": [
            "2024-10-31 16:49:43,345 __main__ 0/1 INFO :: Iteration=1881, Time=7.347656e+02, dt=3.906250e-01\n"
          ]
        },
        {
          "output_type": "stream",
          "name": "stderr",
          "text": [
            "INFO:__main__:Iteration=1891, Time=7.386719e+02, dt=3.906250e-01\n"
          ]
        },
        {
          "output_type": "stream",
          "name": "stdout",
          "text": [
            "2024-10-31 16:49:43,381 __main__ 0/1 INFO :: Iteration=1891, Time=7.386719e+02, dt=3.906250e-01\n"
          ]
        },
        {
          "output_type": "stream",
          "name": "stderr",
          "text": [
            "INFO:__main__:Iteration=1901, Time=7.425781e+02, dt=3.906250e-01\n"
          ]
        },
        {
          "output_type": "stream",
          "name": "stdout",
          "text": [
            "2024-10-31 16:49:43,415 __main__ 0/1 INFO :: Iteration=1901, Time=7.425781e+02, dt=3.906250e-01\n"
          ]
        },
        {
          "output_type": "stream",
          "name": "stderr",
          "text": [
            "INFO:__main__:Iteration=1911, Time=7.464844e+02, dt=3.906250e-01\n"
          ]
        },
        {
          "output_type": "stream",
          "name": "stdout",
          "text": [
            "2024-10-31 16:49:43,454 __main__ 0/1 INFO :: Iteration=1911, Time=7.464844e+02, dt=3.906250e-01\n"
          ]
        },
        {
          "output_type": "stream",
          "name": "stderr",
          "text": [
            "INFO:__main__:Iteration=1921, Time=7.503906e+02, dt=3.906250e-01\n"
          ]
        },
        {
          "output_type": "stream",
          "name": "stdout",
          "text": [
            "2024-10-31 16:49:43,490 __main__ 0/1 INFO :: Iteration=1921, Time=7.503906e+02, dt=3.906250e-01\n"
          ]
        },
        {
          "output_type": "stream",
          "name": "stderr",
          "text": [
            "INFO:__main__:Iteration=1931, Time=7.542969e+02, dt=3.906250e-01\n"
          ]
        },
        {
          "output_type": "stream",
          "name": "stdout",
          "text": [
            "2024-10-31 16:49:43,533 __main__ 0/1 INFO :: Iteration=1931, Time=7.542969e+02, dt=3.906250e-01\n"
          ]
        },
        {
          "output_type": "stream",
          "name": "stderr",
          "text": [
            "INFO:__main__:Iteration=1941, Time=7.582031e+02, dt=3.906250e-01\n"
          ]
        },
        {
          "output_type": "stream",
          "name": "stdout",
          "text": [
            "2024-10-31 16:49:43,574 __main__ 0/1 INFO :: Iteration=1941, Time=7.582031e+02, dt=3.906250e-01\n"
          ]
        },
        {
          "output_type": "stream",
          "name": "stderr",
          "text": [
            "INFO:__main__:Iteration=1951, Time=7.621094e+02, dt=3.906250e-01\n"
          ]
        },
        {
          "output_type": "stream",
          "name": "stdout",
          "text": [
            "2024-10-31 16:49:43,618 __main__ 0/1 INFO :: Iteration=1951, Time=7.621094e+02, dt=3.906250e-01\n"
          ]
        },
        {
          "output_type": "stream",
          "name": "stderr",
          "text": [
            "INFO:__main__:Iteration=1961, Time=7.660156e+02, dt=3.906250e-01\n"
          ]
        },
        {
          "output_type": "stream",
          "name": "stdout",
          "text": [
            "2024-10-31 16:49:43,663 __main__ 0/1 INFO :: Iteration=1961, Time=7.660156e+02, dt=3.906250e-01\n"
          ]
        },
        {
          "output_type": "stream",
          "name": "stderr",
          "text": [
            "INFO:__main__:Iteration=1971, Time=7.699219e+02, dt=3.906250e-01\n"
          ]
        },
        {
          "output_type": "stream",
          "name": "stdout",
          "text": [
            "2024-10-31 16:49:43,709 __main__ 0/1 INFO :: Iteration=1971, Time=7.699219e+02, dt=3.906250e-01\n"
          ]
        },
        {
          "output_type": "stream",
          "name": "stderr",
          "text": [
            "INFO:__main__:Iteration=1981, Time=7.738281e+02, dt=3.906250e-01\n"
          ]
        },
        {
          "output_type": "stream",
          "name": "stdout",
          "text": [
            "2024-10-31 16:49:43,750 __main__ 0/1 INFO :: Iteration=1981, Time=7.738281e+02, dt=3.906250e-01\n"
          ]
        },
        {
          "output_type": "stream",
          "name": "stderr",
          "text": [
            "INFO:__main__:Iteration=1991, Time=7.777344e+02, dt=3.906250e-01\n"
          ]
        },
        {
          "output_type": "stream",
          "name": "stdout",
          "text": [
            "2024-10-31 16:49:43,796 __main__ 0/1 INFO :: Iteration=1991, Time=7.777344e+02, dt=3.906250e-01\n"
          ]
        },
        {
          "output_type": "stream",
          "name": "stderr",
          "text": [
            "INFO:__main__:Iteration=2001, Time=7.816406e+02, dt=3.906250e-01\n"
          ]
        },
        {
          "output_type": "stream",
          "name": "stdout",
          "text": [
            "2024-10-31 16:49:43,835 __main__ 0/1 INFO :: Iteration=2001, Time=7.816406e+02, dt=3.906250e-01\n"
          ]
        },
        {
          "output_type": "stream",
          "name": "stderr",
          "text": [
            "INFO:__main__:Iteration=2011, Time=7.855469e+02, dt=3.906250e-01\n"
          ]
        },
        {
          "output_type": "stream",
          "name": "stdout",
          "text": [
            "2024-10-31 16:49:43,870 __main__ 0/1 INFO :: Iteration=2011, Time=7.855469e+02, dt=3.906250e-01\n"
          ]
        },
        {
          "output_type": "stream",
          "name": "stderr",
          "text": [
            "INFO:__main__:Iteration=2021, Time=7.894531e+02, dt=3.906250e-01\n"
          ]
        },
        {
          "output_type": "stream",
          "name": "stdout",
          "text": [
            "2024-10-31 16:49:43,903 __main__ 0/1 INFO :: Iteration=2021, Time=7.894531e+02, dt=3.906250e-01\n"
          ]
        },
        {
          "output_type": "stream",
          "name": "stderr",
          "text": [
            "INFO:__main__:Iteration=2031, Time=7.933594e+02, dt=3.906250e-01\n"
          ]
        },
        {
          "output_type": "stream",
          "name": "stdout",
          "text": [
            "2024-10-31 16:49:43,935 __main__ 0/1 INFO :: Iteration=2031, Time=7.933594e+02, dt=3.906250e-01\n"
          ]
        },
        {
          "output_type": "stream",
          "name": "stderr",
          "text": [
            "INFO:__main__:Iteration=2041, Time=7.972656e+02, dt=3.906250e-01\n"
          ]
        },
        {
          "output_type": "stream",
          "name": "stdout",
          "text": [
            "2024-10-31 16:49:43,968 __main__ 0/1 INFO :: Iteration=2041, Time=7.972656e+02, dt=3.906250e-01\n"
          ]
        },
        {
          "output_type": "stream",
          "name": "stderr",
          "text": [
            "INFO:__main__:Iteration=2051, Time=8.011719e+02, dt=3.906250e-01\n"
          ]
        },
        {
          "output_type": "stream",
          "name": "stdout",
          "text": [
            "2024-10-31 16:49:44,004 __main__ 0/1 INFO :: Iteration=2051, Time=8.011719e+02, dt=3.906250e-01\n"
          ]
        },
        {
          "output_type": "stream",
          "name": "stderr",
          "text": [
            "INFO:__main__:Iteration=2061, Time=8.050781e+02, dt=3.906250e-01\n"
          ]
        },
        {
          "output_type": "stream",
          "name": "stdout",
          "text": [
            "2024-10-31 16:49:44,046 __main__ 0/1 INFO :: Iteration=2061, Time=8.050781e+02, dt=3.906250e-01\n"
          ]
        },
        {
          "output_type": "stream",
          "name": "stderr",
          "text": [
            "INFO:__main__:Iteration=2071, Time=8.089844e+02, dt=3.906250e-01\n"
          ]
        },
        {
          "output_type": "stream",
          "name": "stdout",
          "text": [
            "2024-10-31 16:49:44,081 __main__ 0/1 INFO :: Iteration=2071, Time=8.089844e+02, dt=3.906250e-01\n"
          ]
        },
        {
          "output_type": "stream",
          "name": "stderr",
          "text": [
            "INFO:__main__:Iteration=2081, Time=8.128906e+02, dt=3.906250e-01\n"
          ]
        },
        {
          "output_type": "stream",
          "name": "stdout",
          "text": [
            "2024-10-31 16:49:44,115 __main__ 0/1 INFO :: Iteration=2081, Time=8.128906e+02, dt=3.906250e-01\n"
          ]
        },
        {
          "output_type": "stream",
          "name": "stderr",
          "text": [
            "INFO:__main__:Iteration=2091, Time=8.167969e+02, dt=3.906250e-01\n"
          ]
        },
        {
          "output_type": "stream",
          "name": "stdout",
          "text": [
            "2024-10-31 16:49:44,155 __main__ 0/1 INFO :: Iteration=2091, Time=8.167969e+02, dt=3.906250e-01\n"
          ]
        },
        {
          "output_type": "stream",
          "name": "stderr",
          "text": [
            "INFO:__main__:Iteration=2101, Time=8.207031e+02, dt=3.906250e-01\n"
          ]
        },
        {
          "output_type": "stream",
          "name": "stdout",
          "text": [
            "2024-10-31 16:49:44,190 __main__ 0/1 INFO :: Iteration=2101, Time=8.207031e+02, dt=3.906250e-01\n"
          ]
        },
        {
          "output_type": "stream",
          "name": "stderr",
          "text": [
            "INFO:__main__:Iteration=2111, Time=8.246094e+02, dt=3.906250e-01\n"
          ]
        },
        {
          "output_type": "stream",
          "name": "stdout",
          "text": [
            "2024-10-31 16:49:44,224 __main__ 0/1 INFO :: Iteration=2111, Time=8.246094e+02, dt=3.906250e-01\n"
          ]
        },
        {
          "output_type": "stream",
          "name": "stderr",
          "text": [
            "INFO:__main__:Iteration=2121, Time=8.285156e+02, dt=3.906250e-01\n"
          ]
        },
        {
          "output_type": "stream",
          "name": "stdout",
          "text": [
            "2024-10-31 16:49:44,260 __main__ 0/1 INFO :: Iteration=2121, Time=8.285156e+02, dt=3.906250e-01\n"
          ]
        },
        {
          "output_type": "stream",
          "name": "stderr",
          "text": [
            "INFO:__main__:Iteration=2131, Time=8.324219e+02, dt=3.906250e-01\n"
          ]
        },
        {
          "output_type": "stream",
          "name": "stdout",
          "text": [
            "2024-10-31 16:49:44,297 __main__ 0/1 INFO :: Iteration=2131, Time=8.324219e+02, dt=3.906250e-01\n"
          ]
        },
        {
          "output_type": "stream",
          "name": "stderr",
          "text": [
            "INFO:__main__:Iteration=2141, Time=8.363281e+02, dt=3.906250e-01\n"
          ]
        },
        {
          "output_type": "stream",
          "name": "stdout",
          "text": [
            "2024-10-31 16:49:44,334 __main__ 0/1 INFO :: Iteration=2141, Time=8.363281e+02, dt=3.906250e-01\n"
          ]
        },
        {
          "output_type": "stream",
          "name": "stderr",
          "text": [
            "INFO:__main__:Iteration=2151, Time=8.402344e+02, dt=3.906250e-01\n"
          ]
        },
        {
          "output_type": "stream",
          "name": "stdout",
          "text": [
            "2024-10-31 16:49:44,373 __main__ 0/1 INFO :: Iteration=2151, Time=8.402344e+02, dt=3.906250e-01\n"
          ]
        },
        {
          "output_type": "stream",
          "name": "stderr",
          "text": [
            "INFO:__main__:Iteration=2161, Time=8.441406e+02, dt=3.906250e-01\n"
          ]
        },
        {
          "output_type": "stream",
          "name": "stdout",
          "text": [
            "2024-10-31 16:49:44,410 __main__ 0/1 INFO :: Iteration=2161, Time=8.441406e+02, dt=3.906250e-01\n"
          ]
        },
        {
          "output_type": "stream",
          "name": "stderr",
          "text": [
            "INFO:__main__:Iteration=2171, Time=8.480469e+02, dt=3.906250e-01\n"
          ]
        },
        {
          "output_type": "stream",
          "name": "stdout",
          "text": [
            "2024-10-31 16:49:44,448 __main__ 0/1 INFO :: Iteration=2171, Time=8.480469e+02, dt=3.906250e-01\n"
          ]
        },
        {
          "output_type": "stream",
          "name": "stderr",
          "text": [
            "INFO:__main__:Iteration=2181, Time=8.519531e+02, dt=3.906250e-01\n"
          ]
        },
        {
          "output_type": "stream",
          "name": "stdout",
          "text": [
            "2024-10-31 16:49:44,485 __main__ 0/1 INFO :: Iteration=2181, Time=8.519531e+02, dt=3.906250e-01\n"
          ]
        },
        {
          "output_type": "stream",
          "name": "stderr",
          "text": [
            "INFO:__main__:Iteration=2191, Time=8.558594e+02, dt=3.906250e-01\n"
          ]
        },
        {
          "output_type": "stream",
          "name": "stdout",
          "text": [
            "2024-10-31 16:49:44,532 __main__ 0/1 INFO :: Iteration=2191, Time=8.558594e+02, dt=3.906250e-01\n"
          ]
        },
        {
          "output_type": "stream",
          "name": "stderr",
          "text": [
            "INFO:__main__:Iteration=2201, Time=8.597656e+02, dt=3.906250e-01\n"
          ]
        },
        {
          "output_type": "stream",
          "name": "stdout",
          "text": [
            "2024-10-31 16:49:44,587 __main__ 0/1 INFO :: Iteration=2201, Time=8.597656e+02, dt=3.906250e-01\n"
          ]
        },
        {
          "output_type": "stream",
          "name": "stderr",
          "text": [
            "INFO:__main__:Iteration=2211, Time=8.636719e+02, dt=3.906250e-01\n"
          ]
        },
        {
          "output_type": "stream",
          "name": "stdout",
          "text": [
            "2024-10-31 16:49:44,636 __main__ 0/1 INFO :: Iteration=2211, Time=8.636719e+02, dt=3.906250e-01\n"
          ]
        },
        {
          "output_type": "stream",
          "name": "stderr",
          "text": [
            "INFO:__main__:Iteration=2221, Time=8.675781e+02, dt=3.906250e-01\n"
          ]
        },
        {
          "output_type": "stream",
          "name": "stdout",
          "text": [
            "2024-10-31 16:49:44,680 __main__ 0/1 INFO :: Iteration=2221, Time=8.675781e+02, dt=3.906250e-01\n"
          ]
        },
        {
          "output_type": "stream",
          "name": "stderr",
          "text": [
            "INFO:__main__:Iteration=2231, Time=8.714844e+02, dt=3.906250e-01\n"
          ]
        },
        {
          "output_type": "stream",
          "name": "stdout",
          "text": [
            "2024-10-31 16:49:44,725 __main__ 0/1 INFO :: Iteration=2231, Time=8.714844e+02, dt=3.906250e-01\n"
          ]
        },
        {
          "output_type": "stream",
          "name": "stderr",
          "text": [
            "INFO:__main__:Iteration=2241, Time=8.753906e+02, dt=3.906250e-01\n"
          ]
        },
        {
          "output_type": "stream",
          "name": "stdout",
          "text": [
            "2024-10-31 16:49:44,771 __main__ 0/1 INFO :: Iteration=2241, Time=8.753906e+02, dt=3.906250e-01\n"
          ]
        },
        {
          "output_type": "stream",
          "name": "stderr",
          "text": [
            "INFO:__main__:Iteration=2251, Time=8.792969e+02, dt=3.906250e-01\n"
          ]
        },
        {
          "output_type": "stream",
          "name": "stdout",
          "text": [
            "2024-10-31 16:49:44,821 __main__ 0/1 INFO :: Iteration=2251, Time=8.792969e+02, dt=3.906250e-01\n"
          ]
        },
        {
          "output_type": "stream",
          "name": "stderr",
          "text": [
            "INFO:__main__:Iteration=2261, Time=8.832031e+02, dt=3.906250e-01\n"
          ]
        },
        {
          "output_type": "stream",
          "name": "stdout",
          "text": [
            "2024-10-31 16:49:44,869 __main__ 0/1 INFO :: Iteration=2261, Time=8.832031e+02, dt=3.906250e-01\n"
          ]
        },
        {
          "output_type": "stream",
          "name": "stderr",
          "text": [
            "INFO:__main__:Iteration=2271, Time=8.871094e+02, dt=3.906250e-01\n"
          ]
        },
        {
          "output_type": "stream",
          "name": "stdout",
          "text": [
            "2024-10-31 16:49:44,905 __main__ 0/1 INFO :: Iteration=2271, Time=8.871094e+02, dt=3.906250e-01\n"
          ]
        },
        {
          "output_type": "stream",
          "name": "stderr",
          "text": [
            "INFO:__main__:Iteration=2281, Time=8.910156e+02, dt=3.906250e-01\n"
          ]
        },
        {
          "output_type": "stream",
          "name": "stdout",
          "text": [
            "2024-10-31 16:49:44,942 __main__ 0/1 INFO :: Iteration=2281, Time=8.910156e+02, dt=3.906250e-01\n"
          ]
        },
        {
          "output_type": "stream",
          "name": "stderr",
          "text": [
            "INFO:__main__:Iteration=2291, Time=8.949219e+02, dt=3.906250e-01\n"
          ]
        },
        {
          "output_type": "stream",
          "name": "stdout",
          "text": [
            "2024-10-31 16:49:44,979 __main__ 0/1 INFO :: Iteration=2291, Time=8.949219e+02, dt=3.906250e-01\n"
          ]
        },
        {
          "output_type": "stream",
          "name": "stderr",
          "text": [
            "INFO:__main__:Iteration=2301, Time=8.988281e+02, dt=3.906250e-01\n"
          ]
        },
        {
          "output_type": "stream",
          "name": "stdout",
          "text": [
            "2024-10-31 16:49:45,022 __main__ 0/1 INFO :: Iteration=2301, Time=8.988281e+02, dt=3.906250e-01\n"
          ]
        },
        {
          "output_type": "stream",
          "name": "stderr",
          "text": [
            "INFO:__main__:Iteration=2311, Time=9.027344e+02, dt=3.906250e-01\n"
          ]
        },
        {
          "output_type": "stream",
          "name": "stdout",
          "text": [
            "2024-10-31 16:49:45,071 __main__ 0/1 INFO :: Iteration=2311, Time=9.027344e+02, dt=3.906250e-01\n"
          ]
        },
        {
          "output_type": "stream",
          "name": "stderr",
          "text": [
            "INFO:__main__:Iteration=2321, Time=9.066406e+02, dt=3.906250e-01\n"
          ]
        },
        {
          "output_type": "stream",
          "name": "stdout",
          "text": [
            "2024-10-31 16:49:45,111 __main__ 0/1 INFO :: Iteration=2321, Time=9.066406e+02, dt=3.906250e-01\n"
          ]
        },
        {
          "output_type": "stream",
          "name": "stderr",
          "text": [
            "INFO:__main__:Iteration=2331, Time=9.105469e+02, dt=3.906250e-01\n"
          ]
        },
        {
          "output_type": "stream",
          "name": "stdout",
          "text": [
            "2024-10-31 16:49:45,156 __main__ 0/1 INFO :: Iteration=2331, Time=9.105469e+02, dt=3.906250e-01\n"
          ]
        },
        {
          "output_type": "stream",
          "name": "stderr",
          "text": [
            "INFO:__main__:Iteration=2341, Time=9.144531e+02, dt=3.906250e-01\n"
          ]
        },
        {
          "output_type": "stream",
          "name": "stdout",
          "text": [
            "2024-10-31 16:49:45,192 __main__ 0/1 INFO :: Iteration=2341, Time=9.144531e+02, dt=3.906250e-01\n"
          ]
        },
        {
          "output_type": "stream",
          "name": "stderr",
          "text": [
            "INFO:__main__:Iteration=2351, Time=9.183594e+02, dt=3.906250e-01\n"
          ]
        },
        {
          "output_type": "stream",
          "name": "stdout",
          "text": [
            "2024-10-31 16:49:45,226 __main__ 0/1 INFO :: Iteration=2351, Time=9.183594e+02, dt=3.906250e-01\n"
          ]
        },
        {
          "output_type": "stream",
          "name": "stderr",
          "text": [
            "INFO:__main__:Iteration=2361, Time=9.222656e+02, dt=3.906250e-01\n"
          ]
        },
        {
          "output_type": "stream",
          "name": "stdout",
          "text": [
            "2024-10-31 16:49:45,261 __main__ 0/1 INFO :: Iteration=2361, Time=9.222656e+02, dt=3.906250e-01\n"
          ]
        },
        {
          "output_type": "stream",
          "name": "stderr",
          "text": [
            "INFO:__main__:Iteration=2371, Time=9.261719e+02, dt=3.906250e-01\n"
          ]
        },
        {
          "output_type": "stream",
          "name": "stdout",
          "text": [
            "2024-10-31 16:49:45,298 __main__ 0/1 INFO :: Iteration=2371, Time=9.261719e+02, dt=3.906250e-01\n"
          ]
        },
        {
          "output_type": "stream",
          "name": "stderr",
          "text": [
            "INFO:__main__:Iteration=2381, Time=9.300781e+02, dt=3.906250e-01\n"
          ]
        },
        {
          "output_type": "stream",
          "name": "stdout",
          "text": [
            "2024-10-31 16:49:45,332 __main__ 0/1 INFO :: Iteration=2381, Time=9.300781e+02, dt=3.906250e-01\n"
          ]
        },
        {
          "output_type": "stream",
          "name": "stderr",
          "text": [
            "INFO:__main__:Iteration=2391, Time=9.339844e+02, dt=3.906250e-01\n"
          ]
        },
        {
          "output_type": "stream",
          "name": "stdout",
          "text": [
            "2024-10-31 16:49:45,370 __main__ 0/1 INFO :: Iteration=2391, Time=9.339844e+02, dt=3.906250e-01\n"
          ]
        },
        {
          "output_type": "stream",
          "name": "stderr",
          "text": [
            "INFO:__main__:Iteration=2401, Time=9.378906e+02, dt=3.906250e-01\n"
          ]
        },
        {
          "output_type": "stream",
          "name": "stdout",
          "text": [
            "2024-10-31 16:49:45,411 __main__ 0/1 INFO :: Iteration=2401, Time=9.378906e+02, dt=3.906250e-01\n"
          ]
        },
        {
          "output_type": "stream",
          "name": "stderr",
          "text": [
            "INFO:__main__:Iteration=2411, Time=9.417969e+02, dt=3.906250e-01\n"
          ]
        },
        {
          "output_type": "stream",
          "name": "stdout",
          "text": [
            "2024-10-31 16:49:45,445 __main__ 0/1 INFO :: Iteration=2411, Time=9.417969e+02, dt=3.906250e-01\n"
          ]
        },
        {
          "output_type": "stream",
          "name": "stderr",
          "text": [
            "INFO:__main__:Iteration=2421, Time=9.457031e+02, dt=3.906250e-01\n"
          ]
        },
        {
          "output_type": "stream",
          "name": "stdout",
          "text": [
            "2024-10-31 16:49:45,480 __main__ 0/1 INFO :: Iteration=2421, Time=9.457031e+02, dt=3.906250e-01\n"
          ]
        },
        {
          "output_type": "stream",
          "name": "stderr",
          "text": [
            "INFO:__main__:Iteration=2431, Time=9.496094e+02, dt=3.906250e-01\n"
          ]
        },
        {
          "output_type": "stream",
          "name": "stdout",
          "text": [
            "2024-10-31 16:49:45,527 __main__ 0/1 INFO :: Iteration=2431, Time=9.496094e+02, dt=3.906250e-01\n"
          ]
        },
        {
          "output_type": "stream",
          "name": "stderr",
          "text": [
            "INFO:__main__:Iteration=2441, Time=9.535156e+02, dt=3.906250e-01\n"
          ]
        },
        {
          "output_type": "stream",
          "name": "stdout",
          "text": [
            "2024-10-31 16:49:45,575 __main__ 0/1 INFO :: Iteration=2441, Time=9.535156e+02, dt=3.906250e-01\n"
          ]
        },
        {
          "output_type": "stream",
          "name": "stderr",
          "text": [
            "INFO:__main__:Iteration=2451, Time=9.574219e+02, dt=3.906250e-01\n"
          ]
        },
        {
          "output_type": "stream",
          "name": "stdout",
          "text": [
            "2024-10-31 16:49:45,619 __main__ 0/1 INFO :: Iteration=2451, Time=9.574219e+02, dt=3.906250e-01\n"
          ]
        },
        {
          "output_type": "stream",
          "name": "stderr",
          "text": [
            "INFO:__main__:Iteration=2461, Time=9.613281e+02, dt=3.906250e-01\n"
          ]
        },
        {
          "output_type": "stream",
          "name": "stdout",
          "text": [
            "2024-10-31 16:49:45,664 __main__ 0/1 INFO :: Iteration=2461, Time=9.613281e+02, dt=3.906250e-01\n"
          ]
        },
        {
          "output_type": "stream",
          "name": "stderr",
          "text": [
            "INFO:__main__:Iteration=2471, Time=9.652344e+02, dt=3.906250e-01\n"
          ]
        },
        {
          "output_type": "stream",
          "name": "stdout",
          "text": [
            "2024-10-31 16:49:45,712 __main__ 0/1 INFO :: Iteration=2471, Time=9.652344e+02, dt=3.906250e-01\n"
          ]
        },
        {
          "output_type": "stream",
          "name": "stderr",
          "text": [
            "INFO:__main__:Iteration=2481, Time=9.691406e+02, dt=3.906250e-01\n"
          ]
        },
        {
          "output_type": "stream",
          "name": "stdout",
          "text": [
            "2024-10-31 16:49:45,763 __main__ 0/1 INFO :: Iteration=2481, Time=9.691406e+02, dt=3.906250e-01\n"
          ]
        },
        {
          "output_type": "stream",
          "name": "stderr",
          "text": [
            "INFO:__main__:Iteration=2491, Time=9.730469e+02, dt=3.906250e-01\n"
          ]
        },
        {
          "output_type": "stream",
          "name": "stdout",
          "text": [
            "2024-10-31 16:49:45,808 __main__ 0/1 INFO :: Iteration=2491, Time=9.730469e+02, dt=3.906250e-01\n"
          ]
        },
        {
          "output_type": "stream",
          "name": "stderr",
          "text": [
            "INFO:__main__:Iteration=2501, Time=9.769531e+02, dt=3.906250e-01\n"
          ]
        },
        {
          "output_type": "stream",
          "name": "stdout",
          "text": [
            "2024-10-31 16:49:45,849 __main__ 0/1 INFO :: Iteration=2501, Time=9.769531e+02, dt=3.906250e-01\n"
          ]
        },
        {
          "output_type": "stream",
          "name": "stderr",
          "text": [
            "INFO:__main__:Iteration=2511, Time=9.808594e+02, dt=3.906250e-01\n"
          ]
        },
        {
          "output_type": "stream",
          "name": "stdout",
          "text": [
            "2024-10-31 16:49:45,884 __main__ 0/1 INFO :: Iteration=2511, Time=9.808594e+02, dt=3.906250e-01\n"
          ]
        },
        {
          "output_type": "stream",
          "name": "stderr",
          "text": [
            "INFO:__main__:Iteration=2521, Time=9.847656e+02, dt=3.906250e-01\n"
          ]
        },
        {
          "output_type": "stream",
          "name": "stdout",
          "text": [
            "2024-10-31 16:49:45,921 __main__ 0/1 INFO :: Iteration=2521, Time=9.847656e+02, dt=3.906250e-01\n"
          ]
        },
        {
          "output_type": "stream",
          "name": "stderr",
          "text": [
            "INFO:__main__:Iteration=2531, Time=9.886719e+02, dt=3.906250e-01\n"
          ]
        },
        {
          "output_type": "stream",
          "name": "stdout",
          "text": [
            "2024-10-31 16:49:45,958 __main__ 0/1 INFO :: Iteration=2531, Time=9.886719e+02, dt=3.906250e-01\n"
          ]
        },
        {
          "output_type": "stream",
          "name": "stderr",
          "text": [
            "INFO:__main__:Iteration=2541, Time=9.925781e+02, dt=3.906250e-01\n"
          ]
        },
        {
          "output_type": "stream",
          "name": "stdout",
          "text": [
            "2024-10-31 16:49:45,997 __main__ 0/1 INFO :: Iteration=2541, Time=9.925781e+02, dt=3.906250e-01\n"
          ]
        },
        {
          "output_type": "stream",
          "name": "stderr",
          "text": [
            "INFO:__main__:Iteration=2551, Time=9.964844e+02, dt=3.906250e-01\n"
          ]
        },
        {
          "output_type": "stream",
          "name": "stdout",
          "text": [
            "2024-10-31 16:49:46,032 __main__ 0/1 INFO :: Iteration=2551, Time=9.964844e+02, dt=3.906250e-01\n"
          ]
        },
        {
          "output_type": "stream",
          "name": "stderr",
          "text": [
            "INFO:__main__:Iteration=2561, Time=1.000391e+03, dt=3.906250e-01\n"
          ]
        },
        {
          "output_type": "stream",
          "name": "stdout",
          "text": [
            "2024-10-31 16:49:46,071 __main__ 0/1 INFO :: Iteration=2561, Time=1.000391e+03, dt=3.906250e-01\n"
          ]
        },
        {
          "output_type": "stream",
          "name": "stderr",
          "text": [
            "INFO:__main__:Iteration=2571, Time=1.004297e+03, dt=3.906250e-01\n"
          ]
        },
        {
          "output_type": "stream",
          "name": "stdout",
          "text": [
            "2024-10-31 16:49:46,121 __main__ 0/1 INFO :: Iteration=2571, Time=1.004297e+03, dt=3.906250e-01\n"
          ]
        },
        {
          "output_type": "stream",
          "name": "stderr",
          "text": [
            "INFO:__main__:Iteration=2581, Time=1.008203e+03, dt=3.906250e-01\n"
          ]
        },
        {
          "output_type": "stream",
          "name": "stdout",
          "text": [
            "2024-10-31 16:49:46,158 __main__ 0/1 INFO :: Iteration=2581, Time=1.008203e+03, dt=3.906250e-01\n"
          ]
        },
        {
          "output_type": "stream",
          "name": "stderr",
          "text": [
            "INFO:__main__:Iteration=2591, Time=1.012109e+03, dt=3.906250e-01\n"
          ]
        },
        {
          "output_type": "stream",
          "name": "stdout",
          "text": [
            "2024-10-31 16:49:46,193 __main__ 0/1 INFO :: Iteration=2591, Time=1.012109e+03, dt=3.906250e-01\n"
          ]
        },
        {
          "output_type": "stream",
          "name": "stderr",
          "text": [
            "INFO:__main__:Iteration=2601, Time=1.016016e+03, dt=3.906250e-01\n"
          ]
        },
        {
          "output_type": "stream",
          "name": "stdout",
          "text": [
            "2024-10-31 16:49:46,230 __main__ 0/1 INFO :: Iteration=2601, Time=1.016016e+03, dt=3.906250e-01\n"
          ]
        },
        {
          "output_type": "stream",
          "name": "stderr",
          "text": [
            "INFO:__main__:Iteration=2611, Time=1.019922e+03, dt=3.906250e-01\n"
          ]
        },
        {
          "output_type": "stream",
          "name": "stdout",
          "text": [
            "2024-10-31 16:49:46,265 __main__ 0/1 INFO :: Iteration=2611, Time=1.019922e+03, dt=3.906250e-01\n"
          ]
        },
        {
          "output_type": "stream",
          "name": "stderr",
          "text": [
            "INFO:__main__:Iteration=2621, Time=1.023828e+03, dt=3.906250e-01\n"
          ]
        },
        {
          "output_type": "stream",
          "name": "stdout",
          "text": [
            "2024-10-31 16:49:46,301 __main__ 0/1 INFO :: Iteration=2621, Time=1.023828e+03, dt=3.906250e-01\n"
          ]
        },
        {
          "output_type": "stream",
          "name": "stderr",
          "text": [
            "INFO:__main__:Iteration=2631, Time=1.027734e+03, dt=3.906250e-01\n"
          ]
        },
        {
          "output_type": "stream",
          "name": "stdout",
          "text": [
            "2024-10-31 16:49:46,337 __main__ 0/1 INFO :: Iteration=2631, Time=1.027734e+03, dt=3.906250e-01\n"
          ]
        },
        {
          "output_type": "stream",
          "name": "stderr",
          "text": [
            "INFO:__main__:Iteration=2641, Time=1.031641e+03, dt=3.906250e-01\n"
          ]
        },
        {
          "output_type": "stream",
          "name": "stdout",
          "text": [
            "2024-10-31 16:49:46,372 __main__ 0/1 INFO :: Iteration=2641, Time=1.031641e+03, dt=3.906250e-01\n"
          ]
        },
        {
          "output_type": "stream",
          "name": "stderr",
          "text": [
            "INFO:__main__:Iteration=2651, Time=1.035547e+03, dt=3.906250e-01\n"
          ]
        },
        {
          "output_type": "stream",
          "name": "stdout",
          "text": [
            "2024-10-31 16:49:46,408 __main__ 0/1 INFO :: Iteration=2651, Time=1.035547e+03, dt=3.906250e-01\n"
          ]
        },
        {
          "output_type": "stream",
          "name": "stderr",
          "text": [
            "INFO:__main__:Iteration=2661, Time=1.039453e+03, dt=3.906250e-01\n"
          ]
        },
        {
          "output_type": "stream",
          "name": "stdout",
          "text": [
            "2024-10-31 16:49:46,451 __main__ 0/1 INFO :: Iteration=2661, Time=1.039453e+03, dt=3.906250e-01\n"
          ]
        },
        {
          "output_type": "stream",
          "name": "stderr",
          "text": [
            "INFO:__main__:Iteration=2671, Time=1.043359e+03, dt=3.906250e-01\n"
          ]
        },
        {
          "output_type": "stream",
          "name": "stdout",
          "text": [
            "2024-10-31 16:49:46,488 __main__ 0/1 INFO :: Iteration=2671, Time=1.043359e+03, dt=3.906250e-01\n"
          ]
        },
        {
          "output_type": "stream",
          "name": "stderr",
          "text": [
            "INFO:__main__:Iteration=2681, Time=1.047266e+03, dt=3.906250e-01\n"
          ]
        },
        {
          "output_type": "stream",
          "name": "stdout",
          "text": [
            "2024-10-31 16:49:46,532 __main__ 0/1 INFO :: Iteration=2681, Time=1.047266e+03, dt=3.906250e-01\n"
          ]
        },
        {
          "output_type": "stream",
          "name": "stderr",
          "text": [
            "INFO:__main__:Iteration=2691, Time=1.051172e+03, dt=3.906250e-01\n"
          ]
        },
        {
          "output_type": "stream",
          "name": "stdout",
          "text": [
            "2024-10-31 16:49:46,577 __main__ 0/1 INFO :: Iteration=2691, Time=1.051172e+03, dt=3.906250e-01\n"
          ]
        },
        {
          "output_type": "stream",
          "name": "stderr",
          "text": [
            "INFO:__main__:Iteration=2701, Time=1.055078e+03, dt=3.906250e-01\n"
          ]
        },
        {
          "output_type": "stream",
          "name": "stdout",
          "text": [
            "2024-10-31 16:49:46,624 __main__ 0/1 INFO :: Iteration=2701, Time=1.055078e+03, dt=3.906250e-01\n"
          ]
        },
        {
          "output_type": "stream",
          "name": "stderr",
          "text": [
            "INFO:__main__:Iteration=2711, Time=1.058984e+03, dt=3.906250e-01\n"
          ]
        },
        {
          "output_type": "stream",
          "name": "stdout",
          "text": [
            "2024-10-31 16:49:46,670 __main__ 0/1 INFO :: Iteration=2711, Time=1.058984e+03, dt=3.906250e-01\n"
          ]
        },
        {
          "output_type": "stream",
          "name": "stderr",
          "text": [
            "INFO:__main__:Iteration=2721, Time=1.062891e+03, dt=3.906250e-01\n"
          ]
        },
        {
          "output_type": "stream",
          "name": "stdout",
          "text": [
            "2024-10-31 16:49:46,710 __main__ 0/1 INFO :: Iteration=2721, Time=1.062891e+03, dt=3.906250e-01\n"
          ]
        },
        {
          "output_type": "stream",
          "name": "stderr",
          "text": [
            "INFO:__main__:Iteration=2731, Time=1.066797e+03, dt=3.906250e-01\n"
          ]
        },
        {
          "output_type": "stream",
          "name": "stdout",
          "text": [
            "2024-10-31 16:49:46,753 __main__ 0/1 INFO :: Iteration=2731, Time=1.066797e+03, dt=3.906250e-01\n"
          ]
        },
        {
          "output_type": "stream",
          "name": "stderr",
          "text": [
            "INFO:__main__:Iteration=2741, Time=1.070703e+03, dt=3.906250e-01\n"
          ]
        },
        {
          "output_type": "stream",
          "name": "stdout",
          "text": [
            "2024-10-31 16:49:46,799 __main__ 0/1 INFO :: Iteration=2741, Time=1.070703e+03, dt=3.906250e-01\n"
          ]
        },
        {
          "output_type": "stream",
          "name": "stderr",
          "text": [
            "INFO:__main__:Iteration=2751, Time=1.074609e+03, dt=3.906250e-01\n"
          ]
        },
        {
          "output_type": "stream",
          "name": "stdout",
          "text": [
            "2024-10-31 16:49:46,842 __main__ 0/1 INFO :: Iteration=2751, Time=1.074609e+03, dt=3.906250e-01\n"
          ]
        },
        {
          "output_type": "stream",
          "name": "stderr",
          "text": [
            "INFO:__main__:Iteration=2761, Time=1.078516e+03, dt=3.906250e-01\n"
          ]
        },
        {
          "output_type": "stream",
          "name": "stdout",
          "text": [
            "2024-10-31 16:49:46,880 __main__ 0/1 INFO :: Iteration=2761, Time=1.078516e+03, dt=3.906250e-01\n"
          ]
        },
        {
          "output_type": "stream",
          "name": "stderr",
          "text": [
            "INFO:__main__:Iteration=2771, Time=1.082422e+03, dt=3.906250e-01\n"
          ]
        },
        {
          "output_type": "stream",
          "name": "stdout",
          "text": [
            "2024-10-31 16:49:46,916 __main__ 0/1 INFO :: Iteration=2771, Time=1.082422e+03, dt=3.906250e-01\n"
          ]
        },
        {
          "output_type": "stream",
          "name": "stderr",
          "text": [
            "INFO:__main__:Iteration=2781, Time=1.086328e+03, dt=3.906250e-01\n"
          ]
        },
        {
          "output_type": "stream",
          "name": "stdout",
          "text": [
            "2024-10-31 16:49:46,951 __main__ 0/1 INFO :: Iteration=2781, Time=1.086328e+03, dt=3.906250e-01\n"
          ]
        },
        {
          "output_type": "stream",
          "name": "stderr",
          "text": [
            "INFO:__main__:Iteration=2791, Time=1.090234e+03, dt=3.906250e-01\n"
          ]
        },
        {
          "output_type": "stream",
          "name": "stdout",
          "text": [
            "2024-10-31 16:49:46,985 __main__ 0/1 INFO :: Iteration=2791, Time=1.090234e+03, dt=3.906250e-01\n"
          ]
        },
        {
          "output_type": "stream",
          "name": "stderr",
          "text": [
            "INFO:__main__:Iteration=2801, Time=1.094141e+03, dt=3.906250e-01\n"
          ]
        },
        {
          "output_type": "stream",
          "name": "stdout",
          "text": [
            "2024-10-31 16:49:47,023 __main__ 0/1 INFO :: Iteration=2801, Time=1.094141e+03, dt=3.906250e-01\n"
          ]
        },
        {
          "output_type": "stream",
          "name": "stderr",
          "text": [
            "INFO:__main__:Iteration=2811, Time=1.098047e+03, dt=3.906250e-01\n"
          ]
        },
        {
          "output_type": "stream",
          "name": "stdout",
          "text": [
            "2024-10-31 16:49:47,061 __main__ 0/1 INFO :: Iteration=2811, Time=1.098047e+03, dt=3.906250e-01\n"
          ]
        },
        {
          "output_type": "stream",
          "name": "stderr",
          "text": [
            "INFO:__main__:Iteration=2821, Time=1.101953e+03, dt=3.906250e-01\n"
          ]
        },
        {
          "output_type": "stream",
          "name": "stdout",
          "text": [
            "2024-10-31 16:49:47,101 __main__ 0/1 INFO :: Iteration=2821, Time=1.101953e+03, dt=3.906250e-01\n"
          ]
        },
        {
          "output_type": "stream",
          "name": "stderr",
          "text": [
            "INFO:__main__:Iteration=2831, Time=1.105859e+03, dt=3.906250e-01\n"
          ]
        },
        {
          "output_type": "stream",
          "name": "stdout",
          "text": [
            "2024-10-31 16:49:47,151 __main__ 0/1 INFO :: Iteration=2831, Time=1.105859e+03, dt=3.906250e-01\n"
          ]
        },
        {
          "output_type": "stream",
          "name": "stderr",
          "text": [
            "INFO:__main__:Iteration=2841, Time=1.109766e+03, dt=3.906250e-01\n"
          ]
        },
        {
          "output_type": "stream",
          "name": "stdout",
          "text": [
            "2024-10-31 16:49:47,191 __main__ 0/1 INFO :: Iteration=2841, Time=1.109766e+03, dt=3.906250e-01\n"
          ]
        },
        {
          "output_type": "stream",
          "name": "stderr",
          "text": [
            "INFO:__main__:Iteration=2851, Time=1.113672e+03, dt=3.906250e-01\n"
          ]
        },
        {
          "output_type": "stream",
          "name": "stdout",
          "text": [
            "2024-10-31 16:49:47,227 __main__ 0/1 INFO :: Iteration=2851, Time=1.113672e+03, dt=3.906250e-01\n"
          ]
        },
        {
          "output_type": "stream",
          "name": "stderr",
          "text": [
            "INFO:__main__:Iteration=2861, Time=1.117578e+03, dt=3.906250e-01\n"
          ]
        },
        {
          "output_type": "stream",
          "name": "stdout",
          "text": [
            "2024-10-31 16:49:47,261 __main__ 0/1 INFO :: Iteration=2861, Time=1.117578e+03, dt=3.906250e-01\n"
          ]
        },
        {
          "output_type": "stream",
          "name": "stderr",
          "text": [
            "INFO:__main__:Iteration=2871, Time=1.121484e+03, dt=3.906250e-01\n"
          ]
        },
        {
          "output_type": "stream",
          "name": "stdout",
          "text": [
            "2024-10-31 16:49:47,298 __main__ 0/1 INFO :: Iteration=2871, Time=1.121484e+03, dt=3.906250e-01\n"
          ]
        },
        {
          "output_type": "stream",
          "name": "stderr",
          "text": [
            "INFO:__main__:Iteration=2881, Time=1.125391e+03, dt=3.906250e-01\n"
          ]
        },
        {
          "output_type": "stream",
          "name": "stdout",
          "text": [
            "2024-10-31 16:49:47,357 __main__ 0/1 INFO :: Iteration=2881, Time=1.125391e+03, dt=3.906250e-01\n"
          ]
        },
        {
          "output_type": "stream",
          "name": "stderr",
          "text": [
            "INFO:__main__:Iteration=2891, Time=1.129297e+03, dt=3.906250e-01\n"
          ]
        },
        {
          "output_type": "stream",
          "name": "stdout",
          "text": [
            "2024-10-31 16:49:47,404 __main__ 0/1 INFO :: Iteration=2891, Time=1.129297e+03, dt=3.906250e-01\n"
          ]
        },
        {
          "output_type": "stream",
          "name": "stderr",
          "text": [
            "INFO:__main__:Iteration=2901, Time=1.133203e+03, dt=3.906250e-01\n"
          ]
        },
        {
          "output_type": "stream",
          "name": "stdout",
          "text": [
            "2024-10-31 16:49:47,453 __main__ 0/1 INFO :: Iteration=2901, Time=1.133203e+03, dt=3.906250e-01\n"
          ]
        },
        {
          "output_type": "stream",
          "name": "stderr",
          "text": [
            "INFO:__main__:Iteration=2911, Time=1.137109e+03, dt=3.906250e-01\n"
          ]
        },
        {
          "output_type": "stream",
          "name": "stdout",
          "text": [
            "2024-10-31 16:49:47,503 __main__ 0/1 INFO :: Iteration=2911, Time=1.137109e+03, dt=3.906250e-01\n"
          ]
        },
        {
          "output_type": "stream",
          "name": "stderr",
          "text": [
            "INFO:__main__:Iteration=2921, Time=1.141016e+03, dt=3.906250e-01\n"
          ]
        },
        {
          "output_type": "stream",
          "name": "stdout",
          "text": [
            "2024-10-31 16:49:47,555 __main__ 0/1 INFO :: Iteration=2921, Time=1.141016e+03, dt=3.906250e-01\n"
          ]
        },
        {
          "output_type": "stream",
          "name": "stderr",
          "text": [
            "INFO:__main__:Iteration=2931, Time=1.144922e+03, dt=3.906250e-01\n"
          ]
        },
        {
          "output_type": "stream",
          "name": "stdout",
          "text": [
            "2024-10-31 16:49:47,610 __main__ 0/1 INFO :: Iteration=2931, Time=1.144922e+03, dt=3.906250e-01\n"
          ]
        },
        {
          "output_type": "stream",
          "name": "stderr",
          "text": [
            "INFO:__main__:Iteration=2941, Time=1.148828e+03, dt=3.906250e-01\n"
          ]
        },
        {
          "output_type": "stream",
          "name": "stdout",
          "text": [
            "2024-10-31 16:49:47,664 __main__ 0/1 INFO :: Iteration=2941, Time=1.148828e+03, dt=3.906250e-01\n"
          ]
        },
        {
          "output_type": "stream",
          "name": "stderr",
          "text": [
            "INFO:__main__:Iteration=2951, Time=1.152734e+03, dt=3.906250e-01\n"
          ]
        },
        {
          "output_type": "stream",
          "name": "stdout",
          "text": [
            "2024-10-31 16:49:47,718 __main__ 0/1 INFO :: Iteration=2951, Time=1.152734e+03, dt=3.906250e-01\n"
          ]
        },
        {
          "output_type": "stream",
          "name": "stderr",
          "text": [
            "INFO:__main__:Iteration=2961, Time=1.156641e+03, dt=3.906250e-01\n"
          ]
        },
        {
          "output_type": "stream",
          "name": "stdout",
          "text": [
            "2024-10-31 16:49:47,774 __main__ 0/1 INFO :: Iteration=2961, Time=1.156641e+03, dt=3.906250e-01\n"
          ]
        },
        {
          "output_type": "stream",
          "name": "stderr",
          "text": [
            "INFO:__main__:Iteration=2971, Time=1.160547e+03, dt=3.906250e-01\n"
          ]
        },
        {
          "output_type": "stream",
          "name": "stdout",
          "text": [
            "2024-10-31 16:49:47,829 __main__ 0/1 INFO :: Iteration=2971, Time=1.160547e+03, dt=3.906250e-01\n"
          ]
        },
        {
          "output_type": "stream",
          "name": "stderr",
          "text": [
            "INFO:__main__:Iteration=2981, Time=1.164453e+03, dt=3.906250e-01\n"
          ]
        },
        {
          "output_type": "stream",
          "name": "stdout",
          "text": [
            "2024-10-31 16:49:47,885 __main__ 0/1 INFO :: Iteration=2981, Time=1.164453e+03, dt=3.906250e-01\n"
          ]
        },
        {
          "output_type": "stream",
          "name": "stderr",
          "text": [
            "INFO:__main__:Iteration=2991, Time=1.168359e+03, dt=3.906250e-01\n"
          ]
        },
        {
          "output_type": "stream",
          "name": "stdout",
          "text": [
            "2024-10-31 16:49:47,935 __main__ 0/1 INFO :: Iteration=2991, Time=1.168359e+03, dt=3.906250e-01\n"
          ]
        },
        {
          "output_type": "stream",
          "name": "stderr",
          "text": [
            "INFO:__main__:Iteration=3001, Time=1.172266e+03, dt=3.906250e-01\n"
          ]
        },
        {
          "output_type": "stream",
          "name": "stdout",
          "text": [
            "2024-10-31 16:49:47,984 __main__ 0/1 INFO :: Iteration=3001, Time=1.172266e+03, dt=3.906250e-01\n"
          ]
        },
        {
          "output_type": "stream",
          "name": "stderr",
          "text": [
            "INFO:__main__:Iteration=3011, Time=1.176172e+03, dt=3.906250e-01\n"
          ]
        },
        {
          "output_type": "stream",
          "name": "stdout",
          "text": [
            "2024-10-31 16:49:48,032 __main__ 0/1 INFO :: Iteration=3011, Time=1.176172e+03, dt=3.906250e-01\n"
          ]
        },
        {
          "output_type": "stream",
          "name": "stderr",
          "text": [
            "INFO:__main__:Iteration=3021, Time=1.180078e+03, dt=3.906250e-01\n"
          ]
        },
        {
          "output_type": "stream",
          "name": "stdout",
          "text": [
            "2024-10-31 16:49:48,086 __main__ 0/1 INFO :: Iteration=3021, Time=1.180078e+03, dt=3.906250e-01\n"
          ]
        },
        {
          "output_type": "stream",
          "name": "stderr",
          "text": [
            "INFO:__main__:Iteration=3031, Time=1.183984e+03, dt=3.906250e-01\n"
          ]
        },
        {
          "output_type": "stream",
          "name": "stdout",
          "text": [
            "2024-10-31 16:49:48,138 __main__ 0/1 INFO :: Iteration=3031, Time=1.183984e+03, dt=3.906250e-01\n"
          ]
        },
        {
          "output_type": "stream",
          "name": "stderr",
          "text": [
            "INFO:__main__:Iteration=3041, Time=1.187891e+03, dt=3.906250e-01\n"
          ]
        },
        {
          "output_type": "stream",
          "name": "stdout",
          "text": [
            "2024-10-31 16:49:48,188 __main__ 0/1 INFO :: Iteration=3041, Time=1.187891e+03, dt=3.906250e-01\n"
          ]
        },
        {
          "output_type": "stream",
          "name": "stderr",
          "text": [
            "INFO:__main__:Iteration=3051, Time=1.191797e+03, dt=3.906250e-01\n"
          ]
        },
        {
          "output_type": "stream",
          "name": "stdout",
          "text": [
            "2024-10-31 16:49:48,251 __main__ 0/1 INFO :: Iteration=3051, Time=1.191797e+03, dt=3.906250e-01\n"
          ]
        },
        {
          "output_type": "stream",
          "name": "stderr",
          "text": [
            "INFO:__main__:Iteration=3061, Time=1.195703e+03, dt=3.906250e-01\n"
          ]
        },
        {
          "output_type": "stream",
          "name": "stdout",
          "text": [
            "2024-10-31 16:49:48,298 __main__ 0/1 INFO :: Iteration=3061, Time=1.195703e+03, dt=3.906250e-01\n"
          ]
        },
        {
          "output_type": "stream",
          "name": "stderr",
          "text": [
            "INFO:__main__:Iteration=3071, Time=1.199609e+03, dt=3.906250e-01\n"
          ]
        },
        {
          "output_type": "stream",
          "name": "stdout",
          "text": [
            "2024-10-31 16:49:48,344 __main__ 0/1 INFO :: Iteration=3071, Time=1.199609e+03, dt=3.906250e-01\n"
          ]
        },
        {
          "output_type": "stream",
          "name": "stderr",
          "text": [
            "INFO:__main__:Iteration=3081, Time=1.203516e+03, dt=3.906250e-01\n"
          ]
        },
        {
          "output_type": "stream",
          "name": "stdout",
          "text": [
            "2024-10-31 16:49:48,387 __main__ 0/1 INFO :: Iteration=3081, Time=1.203516e+03, dt=3.906250e-01\n"
          ]
        },
        {
          "output_type": "stream",
          "name": "stderr",
          "text": [
            "INFO:__main__:Iteration=3091, Time=1.207422e+03, dt=3.906250e-01\n"
          ]
        },
        {
          "output_type": "stream",
          "name": "stdout",
          "text": [
            "2024-10-31 16:49:48,437 __main__ 0/1 INFO :: Iteration=3091, Time=1.207422e+03, dt=3.906250e-01\n"
          ]
        },
        {
          "output_type": "stream",
          "name": "stderr",
          "text": [
            "INFO:__main__:Iteration=3101, Time=1.211328e+03, dt=3.906250e-01\n"
          ]
        },
        {
          "output_type": "stream",
          "name": "stdout",
          "text": [
            "2024-10-31 16:49:48,485 __main__ 0/1 INFO :: Iteration=3101, Time=1.211328e+03, dt=3.906250e-01\n"
          ]
        },
        {
          "output_type": "stream",
          "name": "stderr",
          "text": [
            "INFO:__main__:Iteration=3111, Time=1.215234e+03, dt=3.906250e-01\n"
          ]
        },
        {
          "output_type": "stream",
          "name": "stdout",
          "text": [
            "2024-10-31 16:49:48,541 __main__ 0/1 INFO :: Iteration=3111, Time=1.215234e+03, dt=3.906250e-01\n"
          ]
        },
        {
          "output_type": "stream",
          "name": "stderr",
          "text": [
            "INFO:__main__:Iteration=3121, Time=1.219141e+03, dt=3.906250e-01\n"
          ]
        },
        {
          "output_type": "stream",
          "name": "stdout",
          "text": [
            "2024-10-31 16:49:48,607 __main__ 0/1 INFO :: Iteration=3121, Time=1.219141e+03, dt=3.906250e-01\n"
          ]
        },
        {
          "output_type": "stream",
          "name": "stderr",
          "text": [
            "INFO:__main__:Iteration=3131, Time=1.223047e+03, dt=3.906250e-01\n"
          ]
        },
        {
          "output_type": "stream",
          "name": "stdout",
          "text": [
            "2024-10-31 16:49:48,668 __main__ 0/1 INFO :: Iteration=3131, Time=1.223047e+03, dt=3.906250e-01\n"
          ]
        },
        {
          "output_type": "stream",
          "name": "stderr",
          "text": [
            "INFO:__main__:Iteration=3141, Time=1.226953e+03, dt=3.906250e-01\n"
          ]
        },
        {
          "output_type": "stream",
          "name": "stdout",
          "text": [
            "2024-10-31 16:49:48,726 __main__ 0/1 INFO :: Iteration=3141, Time=1.226953e+03, dt=3.906250e-01\n"
          ]
        },
        {
          "output_type": "stream",
          "name": "stderr",
          "text": [
            "INFO:__main__:Iteration=3151, Time=1.230859e+03, dt=3.906250e-01\n"
          ]
        },
        {
          "output_type": "stream",
          "name": "stdout",
          "text": [
            "2024-10-31 16:49:48,773 __main__ 0/1 INFO :: Iteration=3151, Time=1.230859e+03, dt=3.906250e-01\n"
          ]
        },
        {
          "output_type": "stream",
          "name": "stderr",
          "text": [
            "INFO:__main__:Iteration=3161, Time=1.234766e+03, dt=3.906250e-01\n"
          ]
        },
        {
          "output_type": "stream",
          "name": "stdout",
          "text": [
            "2024-10-31 16:49:48,818 __main__ 0/1 INFO :: Iteration=3161, Time=1.234766e+03, dt=3.906250e-01\n"
          ]
        },
        {
          "output_type": "stream",
          "name": "stderr",
          "text": [
            "INFO:__main__:Iteration=3171, Time=1.238672e+03, dt=3.906250e-01\n"
          ]
        },
        {
          "output_type": "stream",
          "name": "stdout",
          "text": [
            "2024-10-31 16:49:48,860 __main__ 0/1 INFO :: Iteration=3171, Time=1.238672e+03, dt=3.906250e-01\n"
          ]
        },
        {
          "output_type": "stream",
          "name": "stderr",
          "text": [
            "INFO:__main__:Iteration=3181, Time=1.242578e+03, dt=3.906250e-01\n"
          ]
        },
        {
          "output_type": "stream",
          "name": "stdout",
          "text": [
            "2024-10-31 16:49:48,903 __main__ 0/1 INFO :: Iteration=3181, Time=1.242578e+03, dt=3.906250e-01\n"
          ]
        },
        {
          "output_type": "stream",
          "name": "stderr",
          "text": [
            "INFO:__main__:Iteration=3191, Time=1.246484e+03, dt=3.906250e-01\n"
          ]
        },
        {
          "output_type": "stream",
          "name": "stdout",
          "text": [
            "2024-10-31 16:49:48,947 __main__ 0/1 INFO :: Iteration=3191, Time=1.246484e+03, dt=3.906250e-01\n"
          ]
        },
        {
          "output_type": "stream",
          "name": "stderr",
          "text": [
            "INFO:__main__:Iteration=3201, Time=1.250391e+03, dt=3.906250e-01\n"
          ]
        },
        {
          "output_type": "stream",
          "name": "stdout",
          "text": [
            "2024-10-31 16:49:48,995 __main__ 0/1 INFO :: Iteration=3201, Time=1.250391e+03, dt=3.906250e-01\n"
          ]
        },
        {
          "output_type": "stream",
          "name": "stderr",
          "text": [
            "INFO:__main__:Iteration=3211, Time=1.254297e+03, dt=3.906250e-01\n"
          ]
        },
        {
          "output_type": "stream",
          "name": "stdout",
          "text": [
            "2024-10-31 16:49:49,045 __main__ 0/1 INFO :: Iteration=3211, Time=1.254297e+03, dt=3.906250e-01\n"
          ]
        },
        {
          "output_type": "stream",
          "name": "stderr",
          "text": [
            "INFO:__main__:Iteration=3221, Time=1.258203e+03, dt=3.906250e-01\n"
          ]
        },
        {
          "output_type": "stream",
          "name": "stdout",
          "text": [
            "2024-10-31 16:49:49,095 __main__ 0/1 INFO :: Iteration=3221, Time=1.258203e+03, dt=3.906250e-01\n"
          ]
        },
        {
          "output_type": "stream",
          "name": "stderr",
          "text": [
            "INFO:__main__:Iteration=3231, Time=1.262109e+03, dt=3.906250e-01\n"
          ]
        },
        {
          "output_type": "stream",
          "name": "stdout",
          "text": [
            "2024-10-31 16:49:49,138 __main__ 0/1 INFO :: Iteration=3231, Time=1.262109e+03, dt=3.906250e-01\n"
          ]
        },
        {
          "output_type": "stream",
          "name": "stderr",
          "text": [
            "INFO:__main__:Iteration=3241, Time=1.266016e+03, dt=3.906250e-01\n"
          ]
        },
        {
          "output_type": "stream",
          "name": "stdout",
          "text": [
            "2024-10-31 16:49:49,181 __main__ 0/1 INFO :: Iteration=3241, Time=1.266016e+03, dt=3.906250e-01\n"
          ]
        },
        {
          "output_type": "stream",
          "name": "stderr",
          "text": [
            "INFO:__main__:Iteration=3251, Time=1.269922e+03, dt=3.906250e-01\n"
          ]
        },
        {
          "output_type": "stream",
          "name": "stdout",
          "text": [
            "2024-10-31 16:49:49,227 __main__ 0/1 INFO :: Iteration=3251, Time=1.269922e+03, dt=3.906250e-01\n"
          ]
        },
        {
          "output_type": "stream",
          "name": "stderr",
          "text": [
            "INFO:__main__:Iteration=3261, Time=1.273828e+03, dt=3.906250e-01\n"
          ]
        },
        {
          "output_type": "stream",
          "name": "stdout",
          "text": [
            "2024-10-31 16:49:49,270 __main__ 0/1 INFO :: Iteration=3261, Time=1.273828e+03, dt=3.906250e-01\n"
          ]
        },
        {
          "output_type": "stream",
          "name": "stderr",
          "text": [
            "INFO:__main__:Iteration=3271, Time=1.277734e+03, dt=3.906250e-01\n"
          ]
        },
        {
          "output_type": "stream",
          "name": "stdout",
          "text": [
            "2024-10-31 16:49:49,324 __main__ 0/1 INFO :: Iteration=3271, Time=1.277734e+03, dt=3.906250e-01\n"
          ]
        },
        {
          "output_type": "stream",
          "name": "stderr",
          "text": [
            "INFO:__main__:Iteration=3281, Time=1.281641e+03, dt=3.906250e-01\n"
          ]
        },
        {
          "output_type": "stream",
          "name": "stdout",
          "text": [
            "2024-10-31 16:49:49,375 __main__ 0/1 INFO :: Iteration=3281, Time=1.281641e+03, dt=3.906250e-01\n"
          ]
        },
        {
          "output_type": "stream",
          "name": "stderr",
          "text": [
            "INFO:__main__:Iteration=3291, Time=1.285547e+03, dt=3.906250e-01\n"
          ]
        },
        {
          "output_type": "stream",
          "name": "stdout",
          "text": [
            "2024-10-31 16:49:49,417 __main__ 0/1 INFO :: Iteration=3291, Time=1.285547e+03, dt=3.906250e-01\n"
          ]
        },
        {
          "output_type": "stream",
          "name": "stderr",
          "text": [
            "INFO:__main__:Iteration=3301, Time=1.289453e+03, dt=3.906250e-01\n"
          ]
        },
        {
          "output_type": "stream",
          "name": "stdout",
          "text": [
            "2024-10-31 16:49:49,460 __main__ 0/1 INFO :: Iteration=3301, Time=1.289453e+03, dt=3.906250e-01\n"
          ]
        },
        {
          "output_type": "stream",
          "name": "stderr",
          "text": [
            "INFO:__main__:Iteration=3311, Time=1.293359e+03, dt=3.906250e-01\n"
          ]
        },
        {
          "output_type": "stream",
          "name": "stdout",
          "text": [
            "2024-10-31 16:49:49,504 __main__ 0/1 INFO :: Iteration=3311, Time=1.293359e+03, dt=3.906250e-01\n"
          ]
        },
        {
          "output_type": "stream",
          "name": "stderr",
          "text": [
            "INFO:__main__:Iteration=3321, Time=1.297266e+03, dt=3.906250e-01\n"
          ]
        },
        {
          "output_type": "stream",
          "name": "stdout",
          "text": [
            "2024-10-31 16:49:49,546 __main__ 0/1 INFO :: Iteration=3321, Time=1.297266e+03, dt=3.906250e-01\n"
          ]
        },
        {
          "output_type": "stream",
          "name": "stderr",
          "text": [
            "INFO:__main__:Iteration=3331, Time=1.301172e+03, dt=3.906250e-01\n"
          ]
        },
        {
          "output_type": "stream",
          "name": "stdout",
          "text": [
            "2024-10-31 16:49:49,608 __main__ 0/1 INFO :: Iteration=3331, Time=1.301172e+03, dt=3.906250e-01\n"
          ]
        },
        {
          "output_type": "stream",
          "name": "stderr",
          "text": [
            "INFO:__main__:Iteration=3341, Time=1.305078e+03, dt=3.906250e-01\n"
          ]
        },
        {
          "output_type": "stream",
          "name": "stdout",
          "text": [
            "2024-10-31 16:49:49,682 __main__ 0/1 INFO :: Iteration=3341, Time=1.305078e+03, dt=3.906250e-01\n"
          ]
        },
        {
          "output_type": "stream",
          "name": "stderr",
          "text": [
            "INFO:__main__:Iteration=3351, Time=1.308984e+03, dt=3.906250e-01\n"
          ]
        },
        {
          "output_type": "stream",
          "name": "stdout",
          "text": [
            "2024-10-31 16:49:49,742 __main__ 0/1 INFO :: Iteration=3351, Time=1.308984e+03, dt=3.906250e-01\n"
          ]
        },
        {
          "output_type": "stream",
          "name": "stderr",
          "text": [
            "INFO:__main__:Iteration=3361, Time=1.312891e+03, dt=3.906250e-01\n"
          ]
        },
        {
          "output_type": "stream",
          "name": "stdout",
          "text": [
            "2024-10-31 16:49:49,800 __main__ 0/1 INFO :: Iteration=3361, Time=1.312891e+03, dt=3.906250e-01\n"
          ]
        },
        {
          "output_type": "stream",
          "name": "stderr",
          "text": [
            "INFO:__main__:Iteration=3371, Time=1.316797e+03, dt=3.906250e-01\n"
          ]
        },
        {
          "output_type": "stream",
          "name": "stdout",
          "text": [
            "2024-10-31 16:49:49,851 __main__ 0/1 INFO :: Iteration=3371, Time=1.316797e+03, dt=3.906250e-01\n"
          ]
        },
        {
          "output_type": "stream",
          "name": "stderr",
          "text": [
            "INFO:__main__:Iteration=3381, Time=1.320703e+03, dt=3.906250e-01\n"
          ]
        },
        {
          "output_type": "stream",
          "name": "stdout",
          "text": [
            "2024-10-31 16:49:49,908 __main__ 0/1 INFO :: Iteration=3381, Time=1.320703e+03, dt=3.906250e-01\n"
          ]
        },
        {
          "output_type": "stream",
          "name": "stderr",
          "text": [
            "INFO:__main__:Iteration=3391, Time=1.324609e+03, dt=3.906250e-01\n"
          ]
        },
        {
          "output_type": "stream",
          "name": "stdout",
          "text": [
            "2024-10-31 16:49:49,954 __main__ 0/1 INFO :: Iteration=3391, Time=1.324609e+03, dt=3.906250e-01\n"
          ]
        },
        {
          "output_type": "stream",
          "name": "stderr",
          "text": [
            "INFO:__main__:Iteration=3401, Time=1.328516e+03, dt=3.906250e-01\n"
          ]
        },
        {
          "output_type": "stream",
          "name": "stdout",
          "text": [
            "2024-10-31 16:49:50,001 __main__ 0/1 INFO :: Iteration=3401, Time=1.328516e+03, dt=3.906250e-01\n"
          ]
        },
        {
          "output_type": "stream",
          "name": "stderr",
          "text": [
            "INFO:__main__:Iteration=3411, Time=1.332422e+03, dt=3.906250e-01\n"
          ]
        },
        {
          "output_type": "stream",
          "name": "stdout",
          "text": [
            "2024-10-31 16:49:50,048 __main__ 0/1 INFO :: Iteration=3411, Time=1.332422e+03, dt=3.906250e-01\n"
          ]
        },
        {
          "output_type": "stream",
          "name": "stderr",
          "text": [
            "INFO:__main__:Iteration=3421, Time=1.336328e+03, dt=3.906250e-01\n"
          ]
        },
        {
          "output_type": "stream",
          "name": "stdout",
          "text": [
            "2024-10-31 16:49:50,096 __main__ 0/1 INFO :: Iteration=3421, Time=1.336328e+03, dt=3.906250e-01\n"
          ]
        },
        {
          "output_type": "stream",
          "name": "stderr",
          "text": [
            "INFO:__main__:Iteration=3431, Time=1.340234e+03, dt=3.906250e-01\n"
          ]
        },
        {
          "output_type": "stream",
          "name": "stdout",
          "text": [
            "2024-10-31 16:49:50,160 __main__ 0/1 INFO :: Iteration=3431, Time=1.340234e+03, dt=3.906250e-01\n"
          ]
        },
        {
          "output_type": "stream",
          "name": "stderr",
          "text": [
            "INFO:__main__:Iteration=3441, Time=1.344141e+03, dt=3.906250e-01\n"
          ]
        },
        {
          "output_type": "stream",
          "name": "stdout",
          "text": [
            "2024-10-31 16:49:50,212 __main__ 0/1 INFO :: Iteration=3441, Time=1.344141e+03, dt=3.906250e-01\n"
          ]
        },
        {
          "output_type": "stream",
          "name": "stderr",
          "text": [
            "INFO:__main__:Iteration=3451, Time=1.348047e+03, dt=3.906250e-01\n"
          ]
        },
        {
          "output_type": "stream",
          "name": "stdout",
          "text": [
            "2024-10-31 16:49:50,266 __main__ 0/1 INFO :: Iteration=3451, Time=1.348047e+03, dt=3.906250e-01\n"
          ]
        },
        {
          "output_type": "stream",
          "name": "stderr",
          "text": [
            "INFO:__main__:Iteration=3461, Time=1.351953e+03, dt=3.906250e-01\n"
          ]
        },
        {
          "output_type": "stream",
          "name": "stdout",
          "text": [
            "2024-10-31 16:49:50,314 __main__ 0/1 INFO :: Iteration=3461, Time=1.351953e+03, dt=3.906250e-01\n"
          ]
        },
        {
          "output_type": "stream",
          "name": "stderr",
          "text": [
            "INFO:__main__:Iteration=3471, Time=1.355859e+03, dt=3.906250e-01\n"
          ]
        },
        {
          "output_type": "stream",
          "name": "stdout",
          "text": [
            "2024-10-31 16:49:50,367 __main__ 0/1 INFO :: Iteration=3471, Time=1.355859e+03, dt=3.906250e-01\n"
          ]
        },
        {
          "output_type": "stream",
          "name": "stderr",
          "text": [
            "INFO:__main__:Iteration=3481, Time=1.359766e+03, dt=3.906250e-01\n"
          ]
        },
        {
          "output_type": "stream",
          "name": "stdout",
          "text": [
            "2024-10-31 16:49:50,424 __main__ 0/1 INFO :: Iteration=3481, Time=1.359766e+03, dt=3.906250e-01\n"
          ]
        },
        {
          "output_type": "stream",
          "name": "stderr",
          "text": [
            "INFO:__main__:Iteration=3491, Time=1.363672e+03, dt=3.906250e-01\n"
          ]
        },
        {
          "output_type": "stream",
          "name": "stdout",
          "text": [
            "2024-10-31 16:49:50,470 __main__ 0/1 INFO :: Iteration=3491, Time=1.363672e+03, dt=3.906250e-01\n"
          ]
        },
        {
          "output_type": "stream",
          "name": "stderr",
          "text": [
            "INFO:__main__:Iteration=3501, Time=1.367578e+03, dt=3.906250e-01\n"
          ]
        },
        {
          "output_type": "stream",
          "name": "stdout",
          "text": [
            "2024-10-31 16:49:50,519 __main__ 0/1 INFO :: Iteration=3501, Time=1.367578e+03, dt=3.906250e-01\n"
          ]
        },
        {
          "output_type": "stream",
          "name": "stderr",
          "text": [
            "INFO:__main__:Iteration=3511, Time=1.371484e+03, dt=3.906250e-01\n"
          ]
        },
        {
          "output_type": "stream",
          "name": "stdout",
          "text": [
            "2024-10-31 16:49:50,580 __main__ 0/1 INFO :: Iteration=3511, Time=1.371484e+03, dt=3.906250e-01\n"
          ]
        },
        {
          "output_type": "stream",
          "name": "stderr",
          "text": [
            "INFO:__main__:Iteration=3521, Time=1.375391e+03, dt=3.906250e-01\n"
          ]
        },
        {
          "output_type": "stream",
          "name": "stdout",
          "text": [
            "2024-10-31 16:49:50,636 __main__ 0/1 INFO :: Iteration=3521, Time=1.375391e+03, dt=3.906250e-01\n"
          ]
        },
        {
          "output_type": "stream",
          "name": "stderr",
          "text": [
            "INFO:__main__:Iteration=3531, Time=1.379297e+03, dt=3.906250e-01\n"
          ]
        },
        {
          "output_type": "stream",
          "name": "stdout",
          "text": [
            "2024-10-31 16:49:50,692 __main__ 0/1 INFO :: Iteration=3531, Time=1.379297e+03, dt=3.906250e-01\n"
          ]
        },
        {
          "output_type": "stream",
          "name": "stderr",
          "text": [
            "INFO:__main__:Iteration=3541, Time=1.383203e+03, dt=3.906250e-01\n"
          ]
        },
        {
          "output_type": "stream",
          "name": "stdout",
          "text": [
            "2024-10-31 16:49:50,754 __main__ 0/1 INFO :: Iteration=3541, Time=1.383203e+03, dt=3.906250e-01\n"
          ]
        },
        {
          "output_type": "stream",
          "name": "stderr",
          "text": [
            "INFO:__main__:Iteration=3551, Time=1.387109e+03, dt=3.906250e-01\n"
          ]
        },
        {
          "output_type": "stream",
          "name": "stdout",
          "text": [
            "2024-10-31 16:49:50,803 __main__ 0/1 INFO :: Iteration=3551, Time=1.387109e+03, dt=3.906250e-01\n"
          ]
        },
        {
          "output_type": "stream",
          "name": "stderr",
          "text": [
            "INFO:__main__:Iteration=3561, Time=1.391016e+03, dt=3.906250e-01\n"
          ]
        },
        {
          "output_type": "stream",
          "name": "stdout",
          "text": [
            "2024-10-31 16:49:50,855 __main__ 0/1 INFO :: Iteration=3561, Time=1.391016e+03, dt=3.906250e-01\n"
          ]
        },
        {
          "output_type": "stream",
          "name": "stderr",
          "text": [
            "INFO:__main__:Iteration=3571, Time=1.394922e+03, dt=3.906250e-01\n"
          ]
        },
        {
          "output_type": "stream",
          "name": "stdout",
          "text": [
            "2024-10-31 16:49:50,903 __main__ 0/1 INFO :: Iteration=3571, Time=1.394922e+03, dt=3.906250e-01\n"
          ]
        },
        {
          "output_type": "stream",
          "name": "stderr",
          "text": [
            "INFO:__main__:Iteration=3581, Time=1.398828e+03, dt=3.906250e-01\n"
          ]
        },
        {
          "output_type": "stream",
          "name": "stdout",
          "text": [
            "2024-10-31 16:49:50,949 __main__ 0/1 INFO :: Iteration=3581, Time=1.398828e+03, dt=3.906250e-01\n"
          ]
        },
        {
          "output_type": "stream",
          "name": "stderr",
          "text": [
            "INFO:__main__:Iteration=3591, Time=1.402734e+03, dt=3.906250e-01\n"
          ]
        },
        {
          "output_type": "stream",
          "name": "stdout",
          "text": [
            "2024-10-31 16:49:50,994 __main__ 0/1 INFO :: Iteration=3591, Time=1.402734e+03, dt=3.906250e-01\n"
          ]
        },
        {
          "output_type": "stream",
          "name": "stderr",
          "text": [
            "INFO:__main__:Iteration=3601, Time=1.406641e+03, dt=3.906250e-01\n"
          ]
        },
        {
          "output_type": "stream",
          "name": "stdout",
          "text": [
            "2024-10-31 16:49:51,041 __main__ 0/1 INFO :: Iteration=3601, Time=1.406641e+03, dt=3.906250e-01\n"
          ]
        },
        {
          "output_type": "stream",
          "name": "stderr",
          "text": [
            "INFO:__main__:Iteration=3611, Time=1.410547e+03, dt=3.906250e-01\n"
          ]
        },
        {
          "output_type": "stream",
          "name": "stdout",
          "text": [
            "2024-10-31 16:49:51,098 __main__ 0/1 INFO :: Iteration=3611, Time=1.410547e+03, dt=3.906250e-01\n"
          ]
        },
        {
          "output_type": "stream",
          "name": "stderr",
          "text": [
            "INFO:__main__:Iteration=3621, Time=1.414453e+03, dt=3.906250e-01\n"
          ]
        },
        {
          "output_type": "stream",
          "name": "stdout",
          "text": [
            "2024-10-31 16:49:51,154 __main__ 0/1 INFO :: Iteration=3621, Time=1.414453e+03, dt=3.906250e-01\n"
          ]
        },
        {
          "output_type": "stream",
          "name": "stderr",
          "text": [
            "INFO:__main__:Iteration=3631, Time=1.418359e+03, dt=3.906250e-01\n"
          ]
        },
        {
          "output_type": "stream",
          "name": "stdout",
          "text": [
            "2024-10-31 16:49:51,209 __main__ 0/1 INFO :: Iteration=3631, Time=1.418359e+03, dt=3.906250e-01\n"
          ]
        },
        {
          "output_type": "stream",
          "name": "stderr",
          "text": [
            "INFO:__main__:Iteration=3641, Time=1.422266e+03, dt=3.906250e-01\n"
          ]
        },
        {
          "output_type": "stream",
          "name": "stdout",
          "text": [
            "2024-10-31 16:49:51,257 __main__ 0/1 INFO :: Iteration=3641, Time=1.422266e+03, dt=3.906250e-01\n"
          ]
        },
        {
          "output_type": "stream",
          "name": "stderr",
          "text": [
            "INFO:__main__:Iteration=3651, Time=1.426172e+03, dt=3.906250e-01\n"
          ]
        },
        {
          "output_type": "stream",
          "name": "stdout",
          "text": [
            "2024-10-31 16:49:51,305 __main__ 0/1 INFO :: Iteration=3651, Time=1.426172e+03, dt=3.906250e-01\n"
          ]
        },
        {
          "output_type": "stream",
          "name": "stderr",
          "text": [
            "INFO:__main__:Iteration=3661, Time=1.430078e+03, dt=3.906250e-01\n"
          ]
        },
        {
          "output_type": "stream",
          "name": "stdout",
          "text": [
            "2024-10-31 16:49:51,354 __main__ 0/1 INFO :: Iteration=3661, Time=1.430078e+03, dt=3.906250e-01\n"
          ]
        },
        {
          "output_type": "stream",
          "name": "stderr",
          "text": [
            "INFO:__main__:Iteration=3671, Time=1.433984e+03, dt=3.906250e-01\n"
          ]
        },
        {
          "output_type": "stream",
          "name": "stdout",
          "text": [
            "2024-10-31 16:49:51,403 __main__ 0/1 INFO :: Iteration=3671, Time=1.433984e+03, dt=3.906250e-01\n"
          ]
        },
        {
          "output_type": "stream",
          "name": "stderr",
          "text": [
            "INFO:__main__:Iteration=3681, Time=1.437891e+03, dt=3.906250e-01\n"
          ]
        },
        {
          "output_type": "stream",
          "name": "stdout",
          "text": [
            "2024-10-31 16:49:51,460 __main__ 0/1 INFO :: Iteration=3681, Time=1.437891e+03, dt=3.906250e-01\n"
          ]
        },
        {
          "output_type": "stream",
          "name": "stderr",
          "text": [
            "INFO:__main__:Iteration=3691, Time=1.441797e+03, dt=3.906250e-01\n"
          ]
        },
        {
          "output_type": "stream",
          "name": "stdout",
          "text": [
            "2024-10-31 16:49:51,517 __main__ 0/1 INFO :: Iteration=3691, Time=1.441797e+03, dt=3.906250e-01\n"
          ]
        },
        {
          "output_type": "stream",
          "name": "stderr",
          "text": [
            "INFO:__main__:Iteration=3701, Time=1.445703e+03, dt=3.906250e-01\n"
          ]
        },
        {
          "output_type": "stream",
          "name": "stdout",
          "text": [
            "2024-10-31 16:49:51,584 __main__ 0/1 INFO :: Iteration=3701, Time=1.445703e+03, dt=3.906250e-01\n"
          ]
        },
        {
          "output_type": "stream",
          "name": "stderr",
          "text": [
            "INFO:__main__:Iteration=3711, Time=1.449609e+03, dt=3.906250e-01\n"
          ]
        },
        {
          "output_type": "stream",
          "name": "stdout",
          "text": [
            "2024-10-31 16:49:51,654 __main__ 0/1 INFO :: Iteration=3711, Time=1.449609e+03, dt=3.906250e-01\n"
          ]
        },
        {
          "output_type": "stream",
          "name": "stderr",
          "text": [
            "INFO:__main__:Iteration=3721, Time=1.453516e+03, dt=3.906250e-01\n"
          ]
        },
        {
          "output_type": "stream",
          "name": "stdout",
          "text": [
            "2024-10-31 16:49:51,718 __main__ 0/1 INFO :: Iteration=3721, Time=1.453516e+03, dt=3.906250e-01\n"
          ]
        },
        {
          "output_type": "stream",
          "name": "stderr",
          "text": [
            "INFO:__main__:Iteration=3731, Time=1.457422e+03, dt=3.906250e-01\n"
          ]
        },
        {
          "output_type": "stream",
          "name": "stdout",
          "text": [
            "2024-10-31 16:49:51,776 __main__ 0/1 INFO :: Iteration=3731, Time=1.457422e+03, dt=3.906250e-01\n"
          ]
        },
        {
          "output_type": "stream",
          "name": "stderr",
          "text": [
            "INFO:__main__:Iteration=3741, Time=1.461328e+03, dt=3.906250e-01\n"
          ]
        },
        {
          "output_type": "stream",
          "name": "stdout",
          "text": [
            "2024-10-31 16:49:51,824 __main__ 0/1 INFO :: Iteration=3741, Time=1.461328e+03, dt=3.906250e-01\n"
          ]
        },
        {
          "output_type": "stream",
          "name": "stderr",
          "text": [
            "INFO:__main__:Iteration=3751, Time=1.465234e+03, dt=3.906250e-01\n"
          ]
        },
        {
          "output_type": "stream",
          "name": "stdout",
          "text": [
            "2024-10-31 16:49:51,868 __main__ 0/1 INFO :: Iteration=3751, Time=1.465234e+03, dt=3.906250e-01\n"
          ]
        },
        {
          "output_type": "stream",
          "name": "stderr",
          "text": [
            "INFO:__main__:Iteration=3761, Time=1.469141e+03, dt=3.906250e-01\n"
          ]
        },
        {
          "output_type": "stream",
          "name": "stdout",
          "text": [
            "2024-10-31 16:49:51,912 __main__ 0/1 INFO :: Iteration=3761, Time=1.469141e+03, dt=3.906250e-01\n"
          ]
        },
        {
          "output_type": "stream",
          "name": "stderr",
          "text": [
            "INFO:__main__:Iteration=3771, Time=1.473047e+03, dt=3.906250e-01\n"
          ]
        },
        {
          "output_type": "stream",
          "name": "stdout",
          "text": [
            "2024-10-31 16:49:51,963 __main__ 0/1 INFO :: Iteration=3771, Time=1.473047e+03, dt=3.906250e-01\n"
          ]
        },
        {
          "output_type": "stream",
          "name": "stderr",
          "text": [
            "INFO:__main__:Iteration=3781, Time=1.476953e+03, dt=3.906250e-01\n"
          ]
        },
        {
          "output_type": "stream",
          "name": "stdout",
          "text": [
            "2024-10-31 16:49:52,011 __main__ 0/1 INFO :: Iteration=3781, Time=1.476953e+03, dt=3.906250e-01\n"
          ]
        },
        {
          "output_type": "stream",
          "name": "stderr",
          "text": [
            "INFO:__main__:Iteration=3791, Time=1.480859e+03, dt=3.906250e-01\n"
          ]
        },
        {
          "output_type": "stream",
          "name": "stdout",
          "text": [
            "2024-10-31 16:49:52,054 __main__ 0/1 INFO :: Iteration=3791, Time=1.480859e+03, dt=3.906250e-01\n"
          ]
        },
        {
          "output_type": "stream",
          "name": "stderr",
          "text": [
            "INFO:__main__:Iteration=3801, Time=1.484766e+03, dt=3.906250e-01\n"
          ]
        },
        {
          "output_type": "stream",
          "name": "stdout",
          "text": [
            "2024-10-31 16:49:52,102 __main__ 0/1 INFO :: Iteration=3801, Time=1.484766e+03, dt=3.906250e-01\n"
          ]
        },
        {
          "output_type": "stream",
          "name": "stderr",
          "text": [
            "INFO:__main__:Iteration=3811, Time=1.488672e+03, dt=3.906250e-01\n"
          ]
        },
        {
          "output_type": "stream",
          "name": "stdout",
          "text": [
            "2024-10-31 16:49:52,145 __main__ 0/1 INFO :: Iteration=3811, Time=1.488672e+03, dt=3.906250e-01\n"
          ]
        },
        {
          "output_type": "stream",
          "name": "stderr",
          "text": [
            "INFO:__main__:Iteration=3821, Time=1.492578e+03, dt=3.906250e-01\n"
          ]
        },
        {
          "output_type": "stream",
          "name": "stdout",
          "text": [
            "2024-10-31 16:49:52,190 __main__ 0/1 INFO :: Iteration=3821, Time=1.492578e+03, dt=3.906250e-01\n"
          ]
        },
        {
          "output_type": "stream",
          "name": "stderr",
          "text": [
            "INFO:__main__:Iteration=3831, Time=1.496484e+03, dt=3.906250e-01\n"
          ]
        },
        {
          "output_type": "stream",
          "name": "stdout",
          "text": [
            "2024-10-31 16:49:52,233 __main__ 0/1 INFO :: Iteration=3831, Time=1.496484e+03, dt=3.906250e-01\n"
          ]
        },
        {
          "output_type": "stream",
          "name": "stderr",
          "text": [
            "INFO:solvers:Simulation stop time reached.\n"
          ]
        },
        {
          "output_type": "stream",
          "name": "stdout",
          "text": [
            "2024-10-31 16:49:52,273 solvers 0/1 INFO :: Simulation stop time reached.\n"
          ]
        },
        {
          "output_type": "stream",
          "name": "stderr",
          "text": [
            "INFO:solvers:Final iteration: 3840\n"
          ]
        },
        {
          "output_type": "stream",
          "name": "stdout",
          "text": [
            "2024-10-31 16:49:52,277 solvers 0/1 INFO :: Final iteration: 3840\n"
          ]
        },
        {
          "output_type": "stream",
          "name": "stderr",
          "text": [
            "INFO:solvers:Final sim time: 1500.0\n"
          ]
        },
        {
          "output_type": "stream",
          "name": "stdout",
          "text": [
            "2024-10-31 16:49:52,281 solvers 0/1 INFO :: Final sim time: 1500.0\n"
          ]
        },
        {
          "output_type": "stream",
          "name": "stderr",
          "text": [
            "INFO:solvers:Setup time (init - iter 0): 0.7748 sec\n"
          ]
        },
        {
          "output_type": "stream",
          "name": "stdout",
          "text": [
            "2024-10-31 16:49:52,284 solvers 0/1 INFO :: Setup time (init - iter 0): 0.7748 sec\n"
          ]
        },
        {
          "output_type": "stream",
          "name": "stderr",
          "text": [
            "INFO:solvers:Warmup time (iter 0-10): 0.09742 sec\n"
          ]
        },
        {
          "output_type": "stream",
          "name": "stdout",
          "text": [
            "2024-10-31 16:49:52,286 solvers 0/1 INFO :: Warmup time (iter 0-10): 0.09742 sec\n"
          ]
        },
        {
          "output_type": "stream",
          "name": "stderr",
          "text": [
            "INFO:solvers:Run time (iter 10-end): 16.18 sec\n"
          ]
        },
        {
          "output_type": "stream",
          "name": "stdout",
          "text": [
            "2024-10-31 16:49:52,288 solvers 0/1 INFO :: Run time (iter 10-end): 16.18 sec\n"
          ]
        },
        {
          "output_type": "stream",
          "name": "stderr",
          "text": [
            "INFO:solvers:CPU time (iter 10-end): 0.004495 cpu-hr\n"
          ]
        },
        {
          "output_type": "stream",
          "name": "stdout",
          "text": [
            "2024-10-31 16:49:52,290 solvers 0/1 INFO :: CPU time (iter 10-end): 0.004495 cpu-hr\n"
          ]
        },
        {
          "output_type": "stream",
          "name": "stderr",
          "text": [
            "INFO:solvers:Speed: 4.104e+06 mode-stages/cpu-sec\n"
          ]
        },
        {
          "output_type": "stream",
          "name": "stdout",
          "text": [
            "2024-10-31 16:49:52,292 solvers 0/1 INFO :: Speed: 4.104e+06 mode-stages/cpu-sec\n"
          ]
        }
      ],
      "source": [
        "\"\"\"\n",
        "Script to solve the time-dependent advection/diffusion equation\n",
        "\"\"\"\n",
        "\n",
        "import numpy as np\n",
        "import matplotlib.pyplot as plt\n",
        "import dedalus.public as dedalus\n",
        "import logging\n",
        "logger = logging.getLogger(__name__)\n",
        "\n",
        "# Set parameters\n",
        "U0 = 0.5 # maximum current speed in m/s (initially 0.1)\n",
        "w = 10 # width of the river in m\n",
        "L = 50 # length of the river section to simulate\n",
        "kappa = 1e-2 # diffusivity in m^2/s\n",
        "S0 = 1 # amplitude of the pollution source term\n",
        "S_w = 1 # width of the source term in m\n",
        "S_x = 10 # center of the forcing in x\n",
        "S_y = 0 # center of the forcing in y\n",
        "S_t = 1 # forcing timescale\n",
        "\n",
        "# Numerical parameters\n",
        "Nx = 256 # number of gridoints in x\n",
        "Ny = 32 # number of gridpoints in y\n",
        "stop_sim_time=1500 # end time in seconds\n",
        "timestep = (L/Nx)/U0 # timestep in seconds, calculated from the CFL number\n",
        "\n",
        "import numpy as np\n",
        "import dedalus.public as dedalus\n",
        "import logging\n",
        "logger = logging.getLogger(__name__)\n",
        "\n",
        "# Bases and coordinates\n",
        "coords = dedalus.CartesianCoordinates('x', 'y')\n",
        "dist = dedalus.Distributor(coords, dtype=np.float64)\n",
        "xbasis = dedalus.RealFourier(coords['x'], size=Nx, bounds=(0, L), dealias=3/2)\n",
        "ybasis = dedalus.ChebyshevT(coords['y'], size=Ny, bounds=(0, w), dealias=3/2)\n",
        "x, y = dist.local_grids(xbasis, ybasis)\n",
        "ex, ey = coords.unit_vector_fields(dist) # x and y unit vectors\n",
        "\n",
        "# Fields\n",
        "c = dist.Field(name='b', bases=(xbasis,ybasis))\n",
        "u = dist.Field(name='u', bases=(xbasis,ybasis))\n",
        "tau_1 = dist.Field(name='tau_1', bases=xbasis)\n",
        "tau_2 = dist.Field(name='tau_2', bases=xbasis)\n",
        "\n",
        "# Specify the velocity field\n",
        "u['g'] = U0 * (1- (y - w/2)**2.0/(w/2)**2.0) # parabolic velocity profile\n",
        "\n",
        "# Substitutions\n",
        "lift_basis = ybasis.derivative_basis(1)\n",
        "lift = lambda A: dedalus.Lift(A, lift_basis, -1)\n",
        "grad_c = dedalus.grad(c) + ey*lift(tau_1)\n",
        "dx = lambda A: dedalus.Differentiate(A, coords['x'])\n",
        "\n",
        "S = dist.Field(name='u', bases=(xbasis,ybasis))\n",
        "S['g'] = S0*np.exp(-(x-S_x)**2.0/S_w**2.0-(y-S_y)**2.0/S_w**2.0)\n",
        "\n",
        "# Problem\n",
        "problem = dedalus.IVP([c, tau_1, tau_2], namespace=locals())\n",
        "problem.add_equation(\"dt(c) + u*dx(c) - kappa*div(grad_c) + lift(tau_2) = S/S_t\")\n",
        "problem.add_equation(\"c(y=0) = 0\")\n",
        "problem.add_equation(\"c(y=w) = 0\")\n",
        "\n",
        "# Now, set the solver\n",
        "solver = problem.build_solver(dedalus.RK222)\n",
        "solver.stop_sim_time = stop_sim_time\n",
        "\n",
        "# Create an array to periodically save the concentration field for plotting later\n",
        "c.change_scales(1)\n",
        "c_save = [np.copy(c['g'])];\n",
        "\n",
        "t_save = [solver.sim_time]; # Save the initial condition and the initial time\n",
        "# Main loop\n",
        "try:\n",
        "    logger.info('Starting main loop')\n",
        "    while solver.proceed:\n",
        "        solver.step(timestep)\n",
        "        if (solver.iteration-1) % 10 == 0:\n",
        "            logger.info('Iteration=%i, Time=%e, dt=%e' %(solver.iteration, solver.sim_time, timestep))\n",
        "            c.change_scales(1)\n",
        "            c_save.append(np.copy(c['g']))\n",
        "            t_save.append(solver.sim_time)\n",
        "except:\n",
        "    logger.error('Exception raised, triggering end of main loop.')\n",
        "    raise\n",
        "finally:\n",
        "    solver.log_stats()\n",
        "\n",
        "# Convert the variables to numpy arrays for allow array slicing\n",
        "c_save = np.array(c_save)"
      ]
    },
    {
      "cell_type": "markdown",
      "metadata": {
        "id": "48QGRuWt_ZF4"
      },
      "source": [
        "## 2.2 Visualization\n",
        "\n",
        "The script below makes a movie of the results from the saved variables. To run this, you need to have ffmpeg installed.  If you don't already have it installed, you can install ffmpeg with the command:\n",
        "\n",
        "`conda install -c conda-forge ffmpeg`"
      ]
    },
    {
      "cell_type": "code",
      "execution_count": 109,
      "metadata": {
        "colab": {
          "base_uri": "https://localhost:8080/"
        },
        "id": "cb7UJ78Z_ZF4",
        "outputId": "9c6e5b57-187c-4f92-ec51-28f29fc898a8"
      },
      "outputs": [
        {
          "output_type": "stream",
          "name": "stderr",
          "text": [
            "INFO:matplotlib.animation:Animation.save using <class 'matplotlib.animation.FFMpegWriter'>\n"
          ]
        },
        {
          "output_type": "stream",
          "name": "stdout",
          "text": [
            "2024-10-31 16:49:52,650 matplotlib.animation 0/1 INFO :: Animation.save using <class 'matplotlib.animation.FFMpegWriter'>\n"
          ]
        },
        {
          "output_type": "stream",
          "name": "stderr",
          "text": [
            "INFO:matplotlib.animation:MovieWriter._run: running command: ffmpeg -f rawvideo -vcodec rawvideo -s 600x600 -pix_fmt rgba -r 25.0 -i pipe: -vcodec h264 -pix_fmt yuv420p -y /tmp/tmpihxd8ixs/temp.m4v\n"
          ]
        },
        {
          "output_type": "stream",
          "name": "stdout",
          "text": [
            "2024-10-31 16:49:52,661 matplotlib.animation 0/1 INFO :: MovieWriter._run: running command: ffmpeg -f rawvideo -vcodec rawvideo -s 600x600 -pix_fmt rgba -r 25.0 -i pipe: -vcodec h264 -pix_fmt yuv420p -y /tmp/tmpihxd8ixs/temp.m4v\n"
          ]
        },
        {
          "output_type": "execute_result",
          "data": {
            "text/plain": [
              "<IPython.core.display.HTML object>"
            ],
            "text/html": [
              "<video width=\"600\" height=\"600\" controls autoplay loop>\n",
              "  <source type=\"video/mp4\" src=\"data:video/mp4;base64,AAAAIGZ0eXBNNFYgAAACAE00ViBpc29taXNvMmF2YzEAAAAIZnJlZQABvqltZGF0AAACrgYF//+q\n",
              "3EXpvebZSLeWLNgg2SPu73gyNjQgLSBjb3JlIDE2MyByMzA2MCA1ZGI2YWE2IC0gSC4yNjQvTVBF\n",
              "Ry00IEFWQyBjb2RlYyAtIENvcHlsZWZ0IDIwMDMtMjAyMSAtIGh0dHA6Ly93d3cudmlkZW9sYW4u\n",
              "b3JnL3gyNjQuaHRtbCAtIG9wdGlvbnM6IGNhYmFjPTEgcmVmPTMgZGVibG9jaz0xOjA6MCBhbmFs\n",
              "eXNlPTB4MzoweDExMyBtZT1oZXggc3VibWU9NyBwc3k9MSBwc3lfcmQ9MS4wMDowLjAwIG1peGVk\n",
              "X3JlZj0xIG1lX3JhbmdlPTE2IGNocm9tYV9tZT0xIHRyZWxsaXM9MSA4eDhkY3Q9MSBjcW09MCBk\n",
              "ZWFkem9uZT0yMSwxMSBmYXN0X3Bza2lwPTEgY2hyb21hX3FwX29mZnNldD0tMiB0aHJlYWRzPTMg\n",
              "bG9va2FoZWFkX3RocmVhZHM9MSBzbGljZWRfdGhyZWFkcz0wIG5yPTAgZGVjaW1hdGU9MSBpbnRl\n",
              "cmxhY2VkPTAgYmx1cmF5X2NvbXBhdD0wIGNvbnN0cmFpbmVkX2ludHJhPTAgYmZyYW1lcz0zIGJf\n",
              "cHlyYW1pZD0yIGJfYWRhcHQ9MSBiX2JpYXM9MCBkaXJlY3Q9MSB3ZWlnaHRiPTEgb3Blbl9nb3A9\n",
              "MCB3ZWlnaHRwPTIga2V5aW50PTI1MCBrZXlpbnRfbWluPTI1IHNjZW5lY3V0PTQwIGludHJhX3Jl\n",
              "ZnJlc2g9MCByY19sb29rYWhlYWQ9NDAgcmM9Y3JmIG1idHJlZT0xIGNyZj0yMy4wIHFjb21wPTAu\n",
              "NjAgcXBtaW49MCBxcG1heD02OSBxcHN0ZXA9NCBpcF9yYXRpbz0xLjQwIGFxPTE6MS4wMACAAAAP\n",
              "0mWIhAA7//73Tr8Cm0WXagOSVwr2yqQmWblSawHypgAAAwAAAwAAAwLa9HiTO+TU8TYAAAMBBwAo\n",
              "YVMRISAUsbwqBIiSFwOM4J7KJY/zy8QQHsF2oHjmXHiOyzMLWDvJqNXV6mpT2QTlmoq7BdXLgpVv\n",
              "NqiG2Yz6eLB5WUpk9+tcBwCVsQop79rg+yBBIwy8fzfXwczCPK83uiXCb4qFAj27oGUglvtkdK/w\n",
              "9cXgG74wR4aGIgVb9NPQ5T877LEuFwDB7fOlXbpM1Ys1Qzk0y8hcaqYE0MJ+0QJgUaavXsyEpAFC\n",
              "8KNXLdZNI5W86SEFfgvIsSp1wMr7vJGssDfaUa0Bj5toSSB4kniNljQu56XKcqMzVUU1TJqAzolI\n",
              "I21iJFcu0jrNa3zVork6DMjyveFvDvezDsBix2mdoO/N5CZyir3rVIsSvMI5ngdA5Wk6O+ZIDFAk\n",
              "GwYD5sAFrz2gBtE3w5NjadBZnDri7TY2KsZxbC1kqRRbJWUYSe7nH93Qv35FQgailbml9kujPbUY\n",
              "MQfGAtZ5ukQNcW5TVAoLzUTfHr8eykXUxAEw45tGCrR404uB7c7k9umbj+PBJGKJJ/sz6pfJ6dxR\n",
              "iKN8GuDZvDCG8kAc0+9ZXuhKWhJaMCoeF9cU9gYLVq2tWqlufQI1cWGhcZ5wpFoyBZhccDydiayr\n",
              "ba+zdFjZdtFbcaKl9IzaHPStS9sXbKUp//1uiuq0kEZvPM+Pj51cwYxFwtKhETnAUczwgoa3HGnH\n",
              "m3Ld5qiHszPscdEZ4ni9RCCz3nfyGmVqAYn6aPQu39f1HAmcFgxLKOd/+UMYprVdBwt++ULW5XwG\n",
              "daxzBg9qZkjcpeRMyd2S37Nax7tz+0QJL9yyBLuqIwW45n0bMqQ7VeZGpD/KdDmSquHAikywrmhH\n",
              "85bOcfPdWXkmQa/Z5ujc7vlH11HkDx93ZYlRkh8rQrztYWrt1KLgn1lndU7wQxlJrBuRCnsfXWPM\n",
              "XWhcfsi54N3KSjip4gWToih5bgPj1HJJ+HgzB3lY2dM7e4ihP+Tl8yUdDRInAeVzptaQemDY8vmp\n",
              "pGBO2ja5PZyC2w5uDe8+GE6Wv/4MjePkOgew+B7VNQTfPNDzSJ5FUPemdOZt7v7ZT+D/M8UZEisB\n",
              "vuRTHvOc94oSEjiK4FURutgjyL64Ruoiuiwyhq1jd/sXGqgq/D3Dei5pnyWiX+nG8bSJGMsuxzn4\n",
              "2n+H9pbc6emv6MDxfrGJDGS5xIp/7O+BnTUNsz3l6muuI2SVx59P3m7mYFjU2icjlK+BTEgkTuFm\n",
              "MupWWeN/ySI9Rur77hoLW5sAAeXZmU+WkhG4Zh2rQW+UCIFEYSeZavxQeVmIwhZNOjNtJkJMibzs\n",
              "Bq15Yt5KaB5jbQZCChOVIpkTxNiO9qk+5W6gSLIjxakb2RyClngNO7Jv/RsfbzSTfiwG/TNMe92N\n",
              "1w5RnG0+FXzeFbg7TomktbYOPICB6JxrhbVqdO1MQr8hwyFMu0krs/uHJVlpmlOmaipxOCYpxk3j\n",
              "BwbNJm89wsp1kIGoj8k9mYzg6v5sZHIeoT7uQQT8Lg6x3PmxtUEbn4Z54DTHV6oLkqg3lnUqfmi/\n",
              "7kMVSoJ/MEn1m1vvbY/h8sRTGzrztqHKjcTJ2HEWtQLbR+e+pG2CMxT58FaZJkLiHp4VFwBiXU4y\n",
              "5fA1FEFq3eYdjy3zKW9rcSyCYrv+uNtaxsy4S9T+PreqDEndTrMgzj7yS/7a8tdPbJH7+gTYj1fl\n",
              "FB+n6rFwvlsg3E3vTsWLn+2IWJKpbwMGd0AiRaj6gQceEvtV4MgeaRIsrRcDsISaXr2xAbF8SqAc\n",
              "nvblklQsELDfKyMVVeWc/Pv+mHJ50aBT5SNHUHW/byp276+y+R6hEPIUXTO/iLEEHWC2pIdqlo7v\n",
              "FE8ygdfem7lb/Z4Mzg1MF0sdtUw2lDtbXiZSqSfoAUmgSS6SjbIbvwSTRh5SAWYRCNJ93xDvhEbw\n",
              "CbaWenCIv6qdVrYQHPfL+Ee7Qxu4Ws4NqLaQhEvaY8pL2yvetCDlAoAX4Ooom5aPS8ArJRUNOP4U\n",
              "L8DeX6yZbkx5KeYqbjHOJGwJ17ufkD1yYZ1eH+kNSA0bb/D8kEvwC1jAbiK+VmRwkk+o5LoOfen8\n",
              "/+UuSbba1Oo+/lzu2zMG8KKt8OJ5QUdpIB+GotKwQHs/9WP5Nc/9G/6/iVoOtsqdvKN+KSeRZavG\n",
              "tdaIC2lU4VfPbQzj2pDPomiJzXlm1vrNvDJgzxaSy7X+LoH8Htujp+KnWr6uXh726eK5BKJgi25p\n",
              "g4OVNHnRdQS3XfL7GP2oGPWSxt9xFO7MErJXc8+YCkxMOa3IVKPrBbo8RMA9QOp+YykrlgTh/1U9\n",
              "DpWUubW/nYv1e3J4MQ+kIrCkEk1tEdsKfYxU+04P11GynqyZM/sD76evcA4/vIcFO6iW08DQCwRy\n",
              "96wxEYUhj+Sgz+NFQcT4l73pBOn0x0tGtDw9gM7UnEEFe5ByyA2nMf8AfFPyfMQ07oaCpjGdv6df\n",
              "yjPinKfkgfTczIJumRUsMykS6IHwwr1EkKo65vno5+zFy+KJVHSRRvL88+eiPtMvXpIG1LQrTK0B\n",
              "fZvA7SPwAE6QeUuyO8FLPkKkJWl9EIWatPAqdPzSvESxHKnkCtZz2sTvU5LLQNIrJmSZSgeNf3PP\n",
              "R3YoACeNW2f10gdQsHcKn5sMi9GCoQyUo2FcJqX63/lnO/BhYfJpyzGlaa+CNt6Kp32TnjaHjzz8\n",
              "/h1BNGQco5edWY2lCWT7J3tWX+zAdvKK9eSkB7xK7/4H8U/7lEZlRVhRj+byae7i4SAEfvcWX49D\n",
              "dO6AfGM9+AAAEgmuKd1AY3zsfftKuy/fGpjvWDpDyUUGtpIndAfI/wNdUQ09tiDxNuQpn/M2NMvN\n",
              "YX5Mw8N34+MTgdHgrF4dgjog8rP3VweAAMjCSoV+fLJ9DkJsmFlh3+Vw0PRIONkK0lFDBX8/hOII\n",
              "Hw8nVwDcXt18lRvRdj+WUZL+UA9Ro5gWg4pq8pR5P7ZJumHus10eAm7UIcztqfMlLm0DrRJ7g493\n",
              "Q6NBYqknIvZdsuilWMbQPATucgBVugf+Io6sWFnmugemxheUHrOYOvn3M8G3QIy5dV2KiW+9BMzJ\n",
              "9DRCBoneqwX3Tio2OtG/SMd7MUAceE0lTeY8npGoOByuw1NuCVqEAYEZiX10FdzazK++eVZi3N1u\n",
              "tUQy9jQQAOeiWHGa+HAWVEQpJCwZf0g6h/icFYYKLlkIARYdGDQ0s3DyzUyB0djdUY+qafeGp7+G\n",
              "yos3OceO73rtbpzIOSroOj1ZyLECi/OMWlncNh5VBarKgLDolFhMczD0r3+UAPnH+IXM6UH2kUGv\n",
              "9ufSAkeVMJLQUI5xnpuow8myyzFOi3XFkoj0tIfwhhFA610PGsvj299KWi3xRv3MYcCRtAAAmxjQ\n",
              "LfUK/5YDf5BYTMwL0vl+lf5SOsbs7mvWu15GIteVeodkEM3IU90ZJtgSNLhmvhKIGgAKVc46qJkl\n",
              "e6RXpcn+n6wVLPmKXI71ThPs8qxMGhLzpbhiTHbo5SuPpyiS7C/HdG2FQEVBfPRCqCx+rsulg5qN\n",
              "9uQC2J+lRc2/37Qzqx7qd/bgZJSInXr6DMoYZIEAOCzACI9OWEE8+G0mda51EhJnmymkLfKZ9UFR\n",
              "+ef4TffjXNfvydeba0YGClHH6ZP1kcIGXMGw2+AcasrlLFZWfiHPF3ajqQy3VYlE0a1ccuU1pucc\n",
              "7gDrIBcVKP+/JOzHWHlE+SO6qw2+P/1RbWIE3XEsv/8K2B4kXalX8LFrKnmwGW6k8YCXH+Qq+K5z\n",
              "P9pwP69gI71yYdcQvx7hkfos6M2eN0UVtY3vkQHi07rSGUYpvy8kM+2Fe1WpOZSJOQVa/yW0hUgI\n",
              "LR9xixxI5XDekgwd/umKf9kXJPhHlaUvxDXsALT40lPrhQRVrsaiYLVbUS5CrCJj0BGPORnvirwX\n",
              "gvc3H/y5RDBBd36fwyJJTp79LLhMNfWwTtDFqpuHlc2N8UCtOT9TbgXgmhL5KSw/R94lsl1dxDzT\n",
              "KkAP/hkPVt2R5b4ivFUb/l1vlGVaGT+tuxi9bqU+69TW4U389znxmwbVbeKjg/im7g9TYj4Jha5m\n",
              "pjBa4lfKbRqiUh23fl5MvkpK86oxyTvERqwbTxvkV6PqsizqkmDvym0J3aTVoLzKMRPtSoxsM2Hg\n",
              "dRtCQZAaib3dz6aoynZDRqo+xevSQkbXT77okgO9PQ1JCBfFO5XSaH7z2nPWy6HeIfOdLMuFCMJv\n",
              "IKFkQXiD2mS5ty7XpOskXRK/cl+OhRqAZBgO5Xd1YRx8tV7GB2gdCzBiE1pX7wlsYm/Wn1FbJbD6\n",
              "OSKbfE4iHsQndGh4vZ6VKaRmSIyEZ4ZWWz/OiXC0kUNpLTy6UgaWju3TNW2WHp8xkKReaf8dBX8u\n",
              "OtL5zdO27CecCcGU23VFWR6srzyJAoNemWHNPtTb8SXYOHBV8FP0y3H6GmfsjaHeCHIzbK6qe0IS\n",
              "/2HzW5OFaHRtsVjHFHDC3/IrqEVVXCEizWNHjsvYN1aTlM8+6TQBcAaZIHgdM6AoM4Sezrrjq8M6\n",
              "q1Gt3Do/ZSqHIO72iwplQRcp+Q/e5r8EQ2Lv8bdFNBoLYrojCHuAhw90XoYu/RFMa5EVqx9wzXCe\n",
              "KrianroJDAVj/vFLJiJuqlmrKIlQNpwcBPvoK3cTFa9JWJKIedOxGGf87HCgygfK96KnQGUlNBWX\n",
              "+MEnZ9wE6n8PgTY90eA5i5dWpO/BzUgI+m/c/qBREVp3P6CDy2wjGX361vka95pEMQkQKRKeecid\n",
              "Wj+iwJWF2hh2TpOuva3XmmMbB40YdDvgoALgMpGcWy+LdPSt0z2bq1KuSLzppwVoFXPvIOFG22yd\n",
              "sax6rXnCNtAZ+i7YSSkqfDSPQepPi+kRJADKhd1PXNyyCHkN63KPYlXvzL29Ev1xxVE4vLWNwpKG\n",
              "LY1XD34BbyeCtb6JXRxYLQHRQhwyNlvYvZ9ii9ld5gTeExrWETl2qftY40xyxjm7DD03yvqHjELn\n",
              "F5LAYMXzQN4AmZKoI4dhmOGgTjgCHhbh8gyDmv86lQX9Z7dsEhjiN0KX8yTpKOX18bZAt2crH3Mr\n",
              "ZrBrGPIwkmsGXuIRSpAC3ecM7+9c8xi8D60pm/fboADBNRZgrH3u7OSyWXKtOCPW9r+U0HLaxgMd\n",
              "/U75LpSBb7/whuHkZeABRQu34fJrHAZws51j1NL5p+9ROZeq3VfGAvFGHnKY6dg+MvfopOcKMBDj\n",
              "yUw2uxomzYNd5CEhGSvq4U4eIUY6HwFk2RPXEE9wlTvCZqF1hHDq/iWqLMJMrUtAaJuYyjh+yZV6\n",
              "XbkicX55yB8wWYtSuNbAZwLExCkWtg9GwAAAAwAAAwAAAwAAAwAAAwAAAwAAAwAAAwAAAwAAAwAA\n",
              "AwAXcQAAArBBmiRsQ7/+qZYAAAMAOka6YRioPI1ROhHtS76IjCG7ASJHebZ/JyIDsaAEzJSjr11/\n",
              "ZNORp4LKu3tQtYvM0iNtbS3yNLzNB9lKaUfjsVZt+Gbl123LEOkJaC+1AHOCiHGI1/zdWs7l0/bq\n",
              "4ourv3STpABBdulaolhGf6T2tkOz3jYkSxcEVoRTaV4NPVpWgi85EedGvnq34EJPtWz5dA5d5pLQ\n",
              "DVQs45YEW4xZemODDli36kU1hW807gJLrRJ2n920xlo/CK7p5rG1pTy9Lm2wqxSzijn+cyhzUfxE\n",
              "biVSrDN/elB0HBGq8dJR0AMbg86nyfU0tJsfeUeZxkJhaQC7+Ok1LCpcbZC6Ey24zlOQP54ghZWS\n",
              "h8Lr5b/APq9fv1UpDqMb82k7bcronusRACAbWPvtmOHSz3pvxwyd4XLQjYqQaJE0YVeuO+hhUw8V\n",
              "/lQgJLmj7mMtvyXFkQD+dzg4kQ0CD7ouXMrtyDhpCdgBR+stTKdc+lWnKRTKmjQGQ1QdIKoDD5yT\n",
              "rY2aU0Lf6MrxCRwIXLNPWRNzmjXLvG+BG70oRQXFzCtgmh1mpRq0T3dT2e6H5kO2DXl/fkxNbw/Q\n",
              "wa+YUwK90jDJI5+hKuX610wIzWsn5FPmCKUdfih83L19cbmMdvhSVYXZkEGwZrAwkJkOZmkWCLBg\n",
              "KX4LBdTGBCtF/0bpZsfAfwCFFmyqGA+tey2izUUlKW27Uva5SPGs1EUgl0e7q3COQFmD1/DYq/wz\n",
              "gyLTTtKeWzb6TJ0yumOwY1oIQKqPo+wxF4U9an7Q7vKJGlVb1YQt9DnMAyaCzaVsouViTZUMBLhj\n",
              "2c0AvaoslU6lZVRwvU8yP4T/WG2ZO5VzrrzHwBl7Pdj/QgV2LeRddcFan7NmufEtitmXCoFhasPS\n",
              "lc1vuKm3U8zMKiI5AAABNkGeQniF/wAAAwBFd9Fla3L308tF9XExCsAEtWyzFqeRWQ9l9bAK/mv/\n",
              "85o+yjOF2l4yPoGde5Vfs8noj5X6xfIENe70cRtdFMX62kxygOLutidUZbsdSMdtJLJ/u1oUbxZw\n",
              "DOYgQmD443Ay7drxR10t5mHQjYtxd/cGdO1nuQCTH8oPzT7EUKZJdFF26rkSbTuooH2fBLYbL3Bc\n",
              "vSEhV9fLUAQvWCNV1H7dfwsd83xNb07qkbzPK3lTRuWPOqleejqTSyShwxdv9GVm5YoWEg94nnt9\n",
              "ZfJXKePH5tS3n/YATNhytJQshIljXDQs5nkTRe/o5BfZxn4t5ZAVIWC3YEAT1sXDf05FZRpWPVUA\n",
              "Ac6KikLnW3LeP9i8vb+dTH2ubGlj5iJVwbfJZZrPpIDAG7VhncAAa0EAAACSAZ5hdEK/AAADAEV7\n",
              "1Stj8dqAEI3P3x0j6o93EHCshVzuePM+T/gZnx8k43KR3QdMITm56p9TkHJEmCh/sfOxpqei/Zwl\n",
              "XgLwzqcVtAiBYYAIl9kbysuaCc9rjCzTZ1x4lAWrbSbTAdppPB5UF1TOaNid4+dG53Be+xFX65aq\n",
              "QnHFMR3QKn1j2zwluokSkAAAVsAAAACgAZ5jakK/AAADAF+dDKjGMTrx0+/BkqAD+eWpRrzKTy1a\n",
              "YegHc53RBXSNPlJaMXLl3YXsY5qU6Qyjzv9alH3BDco434bdUNOqTalggK+c7UaX7vjeILo1dpxG\n",
              "ZKJgb7wpewDv6HrlICC7nFvBAyjgyrrrVZntB0bWjtfN6K13M0pdk9S9ieRZ/9CtoUPDi5WGgHbN\n",
              "QbJO8NSm58VcAAAMCQAAAqBBmmhJqEFomUwId//+qZYAAAMAK4r/szMAJqhAiVcaZm+E7GL7X/xb\n",
              "PDpBDqKXAcBg+tn8T+NpskolcHJowN3/IjdsVTnbBocB1KVIh7fPVk2XKOuT8v63D/uAoiEACFKK\n",
              "OrLz/NHLqc0keSUh2WCdgnugsM7oGmmGB+HuH+mJs/ehgOZ3rsYBc7wYcTF+xm4a0B1e5ctaPVka\n",
              "6xqcKf2T09JTguVQaG8VZrmyxmHTiRWCR5UJ536PMKfsyLYgC5g3qO6y+tzrKOCwpTX0psdbq8ty\n",
              "k4K5EsAfuEWtRpCgMM52uL4y7eHQYsEXfiW/+vvvFdtNyv8Gx+7E6tLwl+XHLTjgc96GMmm2RKwL\n",
              "Y+lqC0tpNxowucggeLxBDEUZ51S8qxUQTAydMsosVs6HrKahsL5bhncHPEH/6VH3EkGgkEzxYIG/\n",
              "YL/8yy/VyHpVRV7XeVGGZl7/qHiwjpNAE2bGpg7XyqBFdXsgmzDxJvJztE9R/9mqNVZES84q6ySJ\n",
              "4dfBS2ArHrNGuMzH0uvi+NpDlHKhkuwRtNfBS+6pWrvOgFkAIqQHl6IyxYHzQW+cGyKtozH8tIV0\n",
              "3LqCNMdK5daA2kW/JVxaz6JlmiPNXDqnwrhC+JfxUYfLewGOGvcbklkxeUX0v2Jc3h1c7fk8onEd\n",
              "1bDuKFROd2NPTPW7oKKFF/8H4rdnlxs2/rPf3kvgqN63mDI0wvqFu43VmrfeyV5+BlpS7plbjban\n",
              "99aQ9gcN5SOtNRHEoR3ulxYL1l8LlsM95U/iEk6oyhCOxyqFy9ehepD+THSHtWzc07o/bQpTBCZv\n",
              "aFH59QXfnFrSq0CGwWCrOsgVGJhqkD1bcp/Uu3olKquh/fROry7XqUaWRfD4J9UD9jt4riXHAPiB\n",
              "+Kcl+cEAAADiQZ6GRREsL/8AAAMAMuY/fMjSsYAQmkmEGIqogqn5AMptNA8FPnlehY/9Qe36QqEN\n",
              "zOGmE9dzWUaRSbsTu0LBGdj7GnJFYHNzLowuPBihWadiFpmDxTw9s9eIHnw/XKmHX9Q7rZyKNhe7\n",
              "Bqn+dvnY/e3+02MjKDdctM5mP4tP6mmiycLWC4K8LWbdi9xbt7ESCjfCm5nx7dAmGZ7IDnttaSkF\n",
              "fsob9E8mg/9abLbrTIRVJzSW5G2ZSm5kLxcNgz2407SykM0vfGDbx0M3u8SF9VSt87XRJAyPKx1Y\n",
              "8t9mQAAl4QAAAI8BnqV0Qr8AAAMAQueJq42AAJ1msrt5Gampus6CD3dFneS4Qn6NXo9+V+GuK3+w\n",
              "qzRFglYuaXDSk4JiEP2rMMfg0wQ15EYZyHuWDbw5aqcny5XdEA2t3naLK1qSY1CEgN8y69srmC3z\n",
              "5DCs3iPwTbGeUeygLTR/2hxooYr/cIsIkSMsZYQ/UP96ZYWfDQACRwAAAKIBnqdqQr8AAAMARWQL\n",
              "jDRnACV33v06JVi+CVqTohyZEPSMjbMzxLxDPyUi0k0JshZlB0EA5RLNRuczeibfViEW99Zcn9/8\n",
              "/c76g4t7c2+RSaEaa3z89YspPLNMMX56xYNlqxuJSmajnFqCX6LHsgiIbpkLk/zDNqk3FTe0I4ZP\n",
              "zIeFlmdwbx9Me/cI3TXBBWt3B4uFRFhQbCyWcoK18AAA0IAAAAG9QZqsSahBbJlMCHf//qmWAAAD\n",
              "ACuRoUFQFqACdvhni4eP8FfViJmQUgVtDyq8s5L8gCPiq3exOMu3RG42NZU9nmAc8gDzNv6u7UGW\n",
              "++BAjKZCtWkcqsTsCdiwV/zrlyq6UgD+xX6+xGT+oG3EF0QYWsHuPMycg10xTQ0A/dTqjxdbYLBG\n",
              "R1ewwm2bH3OKq1QMgSGCZyMpeaY1/2oPBvTd0oEtuwXMhjGxi9XbyOtfBFuUmJ1JsSl5gne6UHzY\n",
              "SqLAD4LZEeOKgcyChhrednG1A89D53wnx42EKmbyFHnrUk+11G7W7ORC6bBgtM41QveqhwudfVLa\n",
              "2VKI0hWzuX6EXUne0u9CGF6bfS4GLlYwu2OYh6+AUtzJfFj61mDRNC7+5M33hEnSb9E2LbQIuNWn\n",
              "vn07xBQUghPHoSHoDHQd8hAXedt1xbdxrRf7ke8dCUvgonvn6O0kdVIWECMzcMLb8TviUBNijVlc\n",
              "k4lLSjodURvQnQk5jcm5hJiFikbhSaoYZKg8yPpq/auAxpCTt5RGpM2IEnjUumfBJrIB8llw+1vY\n",
              "L/36BUMjJYoDAYVkJ3u1wtpgQKMMCLWMyqplOAAAASlBnspFFSwv/wAAAwAziCrYAON34oAkC9C8\n",
              "2UgFUjbuPPk4kmsiucNGeY92Ao12ASWOMPRdXsC5OL8vLKmcUV7wWLeToUgazKlwxR35hRH/YTD1\n",
              "OX0ZwCnxEiVeaNW/xnQppustZFYHXkFJvDbns0HwKa0Tgq3RcN4sht1zaJdPnkTDRPUo1ptoKSJA\n",
              "jpIp9rpCz6mw8T+Hyg27PGxIDRP0azM5JE9ffcFtbMzwUGdiyTZOSN5b7HXig7rh0Jt2zVe6W4ak\n",
              "1Ly04TCsIQ4RdfWkF1eXIV4gJKlVGsMatkhQRxvDEIABs53hWyxjxitZ4XO4kSxB6suqri2qNAnG\n",
              "n+6Hd07iydUOCwx2b/lQVgD/OtdCsgN6vGNBh95c7eyu+tOudXQAAAMAVMEAAADIAZ7pdEK/AAAD\n",
              "AEVcwvMOL6gA8pHgEn4kwgsrryFR8xQpDS2u7Zgob+qwov8PG2xZhsF2ShR1pqeoJV2PiD/SamMt\n",
              "HaXnbhQkrGNzOTxO1mL5NAarkTeXnMFHTMeOQC9TR4ZdGwaU8eiD2HekBbdi3jbNpiDS8VU3WGrw\n",
              "P+XxDeqsgVGiVM43sNTGDyx9cvLQ5lhH/D9TQnwO2BpoRS7Sipt70t48L0AJWDq3h/X+WVX5C1rE\n",
              "0EGqgDVJAJYvBrkEZSelwAAAO6AAAACrAZ7rakK/AAADAEV1zkDeAEmSMBv2HeVCDMqdlyRLP49O\n",
              "pHk1Twn3Qokwy/8jO+4CqbuApY5aexR5dAqhhfcZly5lRs/GTPTsdK3NHJ659yQwsrDOkiM/cYTT\n",
              "Hn+7XTZPooBOOSjNGEleuPtnk1a5hDfIg1zEtdb5JJt7hCTHMCAntgh4haQy5SYo9356q6sGky3+\n",
              "xtCtjZEQkj//FmUzMo4Y7PabewAAAwHHAAACXEGa8EmoQWyZTAh3//6plgAAAwA6RCwUwrq1L6xz\n",
              "IiLUivUuoXwe98AEQfDSY3SV7xr7QNW/inN7LrQzzwb3yplyQE+1kQOsqrYFcpmsW4ynRRBD47xC\n",
              "UekblG4HAsrRHot9ssyYIAggE4IfTcOUcTKLY/kkcGBNhM7jyR2Mlrt4ts3UX7yPRQN6kgFy2+vU\n",
              "05o2a9RX/Upba6ipf8nSDNaXfS26qDg4LpRnZoVWaodwm7SaNxfzAaG6SFKWjm6R2MxcY2QXtC0O\n",
              "7bSH55wFezDn/YFDQazACWIAKN0EsbaSQNpxy5Tem+gUZdUzml0kWIShxjhEAscIMQ20myzgAUGL\n",
              "BQ2cF0muZiNwkDIyDGSHmKSX3yp492cuE/vALkf0YvAebM+5LdI2DsanhGjnHdTYWXS4+wZa7mPL\n",
              "J8dmr/iGSWlXPPUdCj3WiVblba/PKy55qPU1IFVxiMYTna1FXrH9A/2Oay3MsW/vXUt+5oXoKEKI\n",
              "728cCMzAdQE7YYnRR2VjTbm1mFdi5AjubHvrxZUf7Uws71oFtxsl9ffCPhqEraY080yDAZ7wen08\n",
              "3pU/MCLJcJgNYsmGRNXdMw6NYEVgfSs8cqxLOjVPCyq89bbCF1bqrcxyHn8YVuW4zSzf17E9IfPd\n",
              "X98n9e219SSesX8ozmQ6MmeavqjNaMqd4pqOftHrGZqMuXaHSr1FJwPQtSD79b6cCSIAjiupss/B\n",
              "xqbxEoeEGZCcS2oJ6pdOJXTrM/gC69w/lFcNHcdNB4eSjdDeRgRGtFAFTSR1lEcWrw+EtvG1VWrc\n",
              "NQudEuEAAADpQZ8ORRUsL/8AAAMARXOOnu9rMs9xJmVIgrkABMhneFisYfCnLKGurjvKLGYE69yJ\n",
              "SYJu7Yqgz4UK8b4domBSFbe64TMt63+oiUvlSk7dAo+unzCNF6U8TwJEeszkOPFrzmonYFchwNgC\n",
              "Y3Ko389SrpSChjgMI77aoGpDVJTzJm3lWkEL+yIawBCkPlqJ7Yfjd5ErlGEwPxE7/fUw/d+rcx0m\n",
              "b8cH7/yy4t6waO0EIIkjla0p3r4Uhkn+oDy7uf01N4BXnqIlae487MTNCbq54nBokXy6iD4nynUe\n",
              "20ERBGLBlNEKcAAAE3EAAACxAZ8tdEK/AAADAEV8DV0vACT2Y2OA4cLXbbVXtW3Ng35YEnKdHGCM\n",
              "YzpVr2A8dysBbavZ193+pp/FBE5qtnKDU+sp7O5VgmMwTcV4csJcaDzuoJhFyHu0LMzW6fPE/S4u\n",
              "Z82hq09nlTs19akfst47y9/h1utd1Ppdmwybh3yAeEkr6oj5H14xHxatQSACe+7q9h+QpupfuEyy\n",
              "4eDiFlokCnTs+daK+9/OUiya4KAAADehAAAAjQGfL2pCvwAAAwBfh/utidFeuPEzb2ZkACUBnum9\n",
              "luG1xHfTIgBhXMcn/Y2XVgPYRu7/ix/2ADjINqk3ZCTqWOaVNXjC5KKfcDgSY6Z/teH5F7Oh1yoD\n",
              "zRXQKlDRR6T4IvTzkJntZExGxrdJW5FiQx+40ilKigTjCRp4W8Ny1Eki9GO0kI5jfX71AAAEXAAA\n",
              "AmZBmzRJqEFsmUwId//+qZYAAAMAOkugVPpVMXgsdX6FFaQr/PvzP7uwAlUbFK47PAgEFpW/QGOZ\n",
              "VWjNeSCm+h+Mp+XHoHa4/ugFeJ/W2n5KlCSGcA+9m+rvPMeKj4EPC8px8IeRquBUJvvDyQtL7jcs\n",
              "SBPYbv4AaLcOZVHiObAt957Sg1ala/5EpFL+NVH6uhMAJzSqXLnVfnf9OCT46+I7vw8Okmw7h8ok\n",
              "qtgOe0KgeTA7MfJqcg3dB4duNM1IEOeX9cWeyeiecuemtZ03q0+vUGRAAAADAACVt6ztEiiggAK/\n",
              "mK/BDZtwoaNcI4zYP+k71QtHPYmfgHfty+8LIw3ZC7Gc+iLS93ymrpX/vOjD4dQtidl+e2Z8PhPO\n",
              "ZFiFQADBLOrRXKfn+kqVPXPOoPUdRtauL1tyRFSFeiDDogMhUmz4PkIdgHVCZ2O8Qi4MrNXfsksI\n",
              "gLV/gbThrTcXnkhtpih4Z9etPfzmdluN6rQU3gOnsLSRhcP/5BumjX0J9Fcm7wbnxsZUx2WEyCBA\n",
              "FrB8OjojZYlMLQwm1VRrTG1Xrw8WwoQ5ucULpEsmL+ND2AFfSPWsse2rj6mfO331A3Jbzz1DHmik\n",
              "aGZZ4VQ/h0aw48iaf0oc3vX1qmWKjFnyqS8S1Fl1Ou2nasP4nt978kWczDg9Ov+mdzPx2Emg8H+M\n",
              "2BFiwiAgI9ecY16Qf9q9oUO2I9DadPE+MaSzTAFCiq02c4v8U2ahTcaowIguNXaj5cLa6SO55OEs\n",
              "mo11y0dKgdLTeXuqLRAetbcdBVCd1/8sq2iUqiDuZykYhi46+zky56x6AAAK2AAAARpBn1JFFSwv\n",
              "/wAAAwBFc46e72syz3EmdHzpz9HwAJatbE5smFRT00hF5CsYqxZiF2GWow3fknpdJLN/cvxL59a7\n",
              "q4EhjMWjaSAnAutufKI5deEGF1cvLxFcqtQRAK9i8dwmG1qeHVaOUIf9Bp8fz61848nBpj4FyO7r\n",
              "Qg5KM4xcUYNPuBptqriOedsC7ZqukPWfIfIb39AnuCS4QN4P+oiMZGvFJTz+sYXpCWutQ4Q8kzEg\n",
              "v7ckgmY0DOPT5nEmLqvKv4eweIS31PIq0FCKxojCSZXS750JEd3ICbZtPNyBs7n9xmpZber2UJNX\n",
              "RjiU+eqFBV+xbq6McHQ1bof1LQLBHKoZaSH89Rp08FOgECh2A8lDrpJTwAAAIOEAAACqAZ9xdEK/\n",
              "AAADAF+SHyk1BaEfjiWShOIJlFeXOXAA9lAWPETCJT+0uoaumUw85iwRqV9R23CP1vbughF4beBk\n",
              "TDfHPB0CDX3amwDHqhY5YbO3T5hsnpfHPtA0qUaZDTRw5n2gZdeTEtDg3zO0KHDMFgi+/LkKQ/HS\n",
              "vF313YehrmCjW76UbMswAU3074JxPLxd/D/vVoncCJZmLjlhJq2EOKvd2QwGGAAAKSAAAACyAZ9z\n",
              "akK/AAADAF+dDKjGMTrx0/Am0wO8W4MAE46udc8JGkahLgKFsdaQtRQQFe/UCk2u5ZLxHh4BYA/9\n",
              "X+cXRfU8qLT2OmR9uOqOC0b1AzGKDnI/HAtx9EgEMSdqk/jM49LB1u8g8/dtXGYNgTnxz4X2YZjP\n",
              "uIKUSRF6FNTgGndT+Y3lG0wAeglVz5x5DJiIiepXhtmyMrrtgauJsgOekHBvvywdud/YmWeYXxkA\n",
              "AAMD0gAAAj1Bm3hJqEFsmUwId//+qZYAAAMAK4Ktg6RgBabF9z1CbtdDUQ01X1M5f21TLk2Hues8\n",
              "30z3SLKWOfv3daR0NYTJRcxQQpH1hA2wInNLXy2zeAfwJvxLOinIWRJ4ZMMaSEapF4TE8E26urtk\n",
              "6GZVJdJsd/698knb/V4KSLsckIadbkmuREKGo8VQlhqyBw+0qtaOuoPUNbYNKL/vqSqFsZCZvZ0Q\n",
              "3lP2JZPplMmSttMz0WjyONw1O/RPFR33pkd00d3oLiJZ2WzAgsukwcxI+DZ2n1oRiUeR7K9s6naT\n",
              "J4miUDeb7Gwk8N0tkyusp8yACxmaAIL/9+uxJgGNoiK/wlzFBXsqnxn7K8Ln/lSGnba2eH3OOGGf\n",
              "VkftEsDk6CDcxH0NaZBK8oZq1oTr1cx04i4mliGAZS8tXizZPoAvT7Yvaa9UPr9f1e3z/lTYnv7o\n",
              "t1OBcR1QyTM8ja9rIATK6QQ6+npwWklaiVgEytReg/wrv4xL4MPa5IjmAP42C5JRTTPUdlDkgzdS\n",
              "LkHYJzSwAu9meHza/7MIx11DMo1IC8NafjrMrfmLbyLRHJO2Q03J7AAYupa4IIPAiQvUei5M17Hg\n",
              "urrZtc7uvjxSuVJOW4Sd/BotgoJiwYtcqYsVtEToPXeeIKiHdBvvOyKed+VB37Ub4jxVHZtH3kP5\n",
              "+z8z0UxW50dA77ACL7Zi8xA1YqKOjjdfvIwHM0Eo3Pf2fdBeLKig/AtU51mf503g7w1iZtcOVPgj\n",
              "7/nZ9y1FUMAATcEAAAD5QZ+WRRUsL/8AAAMAM1mJoUvYQAP48c9EWg5Q+dOy4ygTXgDD+Iz+kNp4\n",
              "jdMyll73KjOMk3Fb8vFDLMs4DuW27P5Vqgx9onyaFbM74MGCqm5TJk+2t6VU/T7UbL7B1OwdaG1/\n",
              "gaUsQeB4imeS8WdRoO5IN9/RbB3+W5qUNKy/LveKgyLS20tLD7349uHLWTKGR/+9LPnmuI82o5M8\n",
              "rhBRZ/ppe/3xMbgNyxEMP/o1rTO0SUaP+Ys4FH+XugBE83rV1cjgva+g3nAUVfpItgupqSODf8t7\n",
              "5YNdcsq7y/W3UVcYVjnDZKXOD7kMfrUkqfiAcBmEAAADAIGAAAAAkgGftXRCvwAAAwBFe99WSpwA\n",
              "lgMekgvjT7qT9NS0T9LV3KaYOzthPjwUxYr7TGnPyRI2vweeMA22BOHUl/CNz2mmHSQLjms1yL4I\n",
              "99jFg4EDbKyQYrX7iL3Dn/mCn58fCh/KqDngA2oXEokGtz0w2eGQ1D0pS5ytT+FTwqDz/VoaQmOc\n",
              "ox2yN6Bod6XlYyAAAAaNAAAAcwGft2pCvwAAAwBFdciI5RpnACQ+SLweC0z/sNR6VHDBxWXA75dj\n",
              "BFJOCjC1wTbpw4DN7aiLlqAB54WVEPAFnIsGdEFiMAyPd5omXP38uf8GzAGatgahqx/iCEaC2h+y\n",
              "uEolZD0FjOepTJcVkXLbQYAAAdMAAALZQZu8SahBbJlMCHf//qmWAAADADpDfOAMtuofDvD3kZAX\n",
              "O3RotB4UpU0a7TRTxAAGfMoYEnqPco9K91949cDOdcD87LiC/no12gvvKXUAyFW4Li+w6SS1GLOo\n",
              "J8jMxsVuI9nPuGFWG3LrlREbCUnpTaJHdPnelrfDN4oqHrcadWsEAfgdQ5fGORwshwNveUz9qQvB\n",
              "lW9eA9XyndtDTcEjeWyMlrVjz1MET+6MFXfWaqplwlbh7Ewyn6G3M0PAyeQl13eErhmjEGr2amC4\n",
              "P13oQLBoZ77W/I/cnYhTngbiC2nuDnn+V6ibipkATKN80ceCSIz+p81qLeF5psMZKplGnLh/+5Tu\n",
              "mYavig8wF0vL3FX/djT+dMO/Vj2XU49vuSz6U6dSx7RmtJNxzuEnBJXi50HThU+ufBJ7iqahXA06\n",
              "zXK5mzFHMruo9i3D9hKa+aaaxvsLdpj21gzQqubrczMw6btQGYl306h2YeXDt1Qgmpuc5NaWXMID\n",
              "qWFqs7VoUQjo6eDYbQmUzUQan85X5VYej5fFK1MBROjAiTjahUrOnc32jR6081466CubLO6KuLlE\n",
              "B8VFBuY43Q+LZnNfw9cC99PbikvJ+gcO2oj2yB1+8FoYA18kT3d7NV4g76bgg3MOS1JuRfn5Kp1J\n",
              "Td2SplMwxYAHJhsK5BktTh1CrFammM3JSZZZPbkA9hwR+5gojrAaZBy51VpZUGuGBieZZ/agpelQ\n",
              "MghSam3Ir8HLAJ5JxXi3R1pwCWLHYR7ND13ay1cOYrQWcBLlb9E2rPujA/LKjiCwZNV7BShIlogk\n",
              "QGM8/vmcD6B9L4oQImd1jVvppxFYe6MTuSyE/F3Cp7XCocU5SOoOQuRH2CdvpQ4/dDKv8d64PhwW\n",
              "puJo/Gn+VU11MDoiPBwu6KGb5xx30frEQkZ4bRqvGaNkAIjY4iJVsxC4ZTVuPavsx1apgIOnuNbN\n",
              "JHMru4T8Em4G6KG+AAAA2EGf2kUVLC//AAADAEVyWv6LwnIzX4IcBzqtqZNPoCvOQoAJswLnoAYo\n",
              "ph/irmhMK5UrhMI5puVoiGJJsau5JO+jpcegvrtffeShglSpHiox1pnqd4VheklTpBTFNOiG2iyr\n",
              "TRvfMqY4ki+uQHttUnmm3Zkmx+v7bkc82hfINrqLewbbOHN/QHyYWB9snKJM/oxNRXdt1gzzcO9F\n",
              "WlV9wcAGWp4juPKT//nda2W3QC8cGadjZCDr8iullRSOy5+uate0KSxb1/yoOV+xTB3JNRFL+H4A\n",
              "AAMD1wAAAOoBn/l0Qr8AAAMAX6N/zyRt6aMOn+oc/RgaXAA+m6N1fRJQzB3x5m9y+KSzwqADmxaO\n",
              "r01+vCA79gwp4lmTNtrDVJWdJzGf/bh1LJHQonc8Dz8megPG9E1zcCfOJAsq68LLgQAhZuKp1OG1\n",
              "U3A7QSRUbAaL1YJHUSIm6XzHOqDCSpJcyWLaBO3JBm4YtrV+mq5sVrK++pZs9m4OMyssWQp9p/e/\n",
              "utSmX3Cfo3OPnHrZX6c5X7roidLYZeNaqSk70uWwST6GetStbaLddzg7+36VD2j3DiY3z62miEzE\n",
              "vyte8G6UunMf9AAAB8wAAACyAZ/7akK/AAADAF+H+62J0V648XJ2a3SUIAIg82RGZAu9/CvlBbB/\n",
              "DxjHf4T44gvmxF8fSSkxBWqA+cmghuCnjLftqK+MK++qMiD9M8KjgIdhlACiKKhIxGjexO/EF+54\n",
              "w6LvfcXGwqJkFE9YlWVCpFfmqvKyv2E1rZA/2vncD+vYTXExU3GTsl8Xrqx+yhPITDMHAEhPNMly\n",
              "spL5m/jv0hr/rkgwLR5vkgAc6VgAAAMCHwAAAkpBm+BJqEFsmUwId//+qZYAAAMALJjgGj7dADiE\n",
              "35mGJUBlDAMhqNfwFwmw2t7kncN7qY2YFpBhQjibqlIYPlmpcCLPpVGSGXt4Dd5kv346Pxh4AOWE\n",
              "JISx8ptviEkDdWE5YEi1CCbRS784nkcrDYJNW8bmq0PNqANk1FxaZ0XgsKpxAT+ityXpUixymQDC\n",
              "Fgv83yiOYEg5pb2xs/P84IwRn8rrJctqw8HUI2wSiieAw5sItBGmgXViRkw8NWNGCAQN45cdyJvh\n",
              "C0HZ+f8zJWfWXzg4jLGlVoAtuxD/9wT0bpeT5HXExmw8YJxvv3/hvxVQIAK+WL4lPL1rqY2C8rBo\n",
              "7R+jqUNkkQ8qoEzwJpUoDvWUIniwznxdkiW3ctLKcUWLZJ/rFBbPnykeoF6RlOw7qLLVf6nhzD9P\n",
              "weofCQg5a5Dt0QltGr0/oBi4FCu0piL/MAd/lkUnfSVic8iVRpmZzXC3agsTOyywBPapLCp1n/ZM\n",
              "48ZDy2eqCeimZyI3cVu+DsdVPRM6cRtkETyfY50HuTxbUWeqrprMMef2VHEH7MY4aGiB8WjeLeuo\n",
              "JYUwb+z4M6FSXNgT515H05HbjnQzGqSh5QGOE6NOq1N8/lDkuz7inWzV2V1W0KUyJT8KcSEZurda\n",
              "iyND1MAjxm20oXvV3xjDyClmlmgEd2KNX/2lfw5mOw5UcPp0lH51jEkVi3D+N+6hRmFiacwYQkgu\n",
              "M+ycSOiHiOBQape+O69w/LlE3khdIZWKA4m4Zkp2YghSRjhDf0rpDS/oAAGfAAAA/kGeHkUVLC//\n",
              "AAADADOkxgAnDielIermEfZqDv+wVrQyaeOJ/kvxE1Yy9WRPmS63OESzjkUbhsD/RixvQCmNU3Vm\n",
              "nFcQ82WiGJ48y9CbMG1lJp3Ulg0y/2hoxN9J0nRg3Ob444rvXQu1q6NQTLpihwXoAObgDz1jmOsv\n",
              "dV65aff2WbzrwHVU7QYv/R3iEYZJTkxGPaQqABT2aKPl2adBbwDHanAO+CHxHEKa8RkHHYz/NfCh\n",
              "YTLHFyDJTJr8KWqRcARmU/gZC7k3GkQa5U8ImEqtFaX7yvcS/0iUnmA+JMRAVJuwpGWGPSaoq4/7\n",
              "xo/sHkiVQPHssLGQF2AAAH3AAAAAqwGePXRCvwAAAwBEeH3IdvACD8021HuDdyAX0s6l8k6Zy1aU\n",
              "QY6WCYvmcWRba3KES7oZmBtuwpJwgFzyD8ICCsET9rcikQsJTrVrjpPt5K/xxaq5CYblSmmRT+r1\n",
              "1RDbz9MYzWY98y6thNGGomTsBwmcCtZx/ekHSidUixjxzOJlHKTzHzVFMoh4eP8FINs0a50Pb5Uh\n",
              "eV5UGlSH/NTfwXV45D5wXGvgAAAUEAAAAM0Bnj9qQr8AAAMARXWwgTd1fwAmXUvvmQZzqB2+mgIA\n",
              "fpTtNerM3JqSmrb6V+BNsls3cJkD36WFNAiHSmjVVWy0kFnTjsFwy+XM4r70GAD/LIDVobc9JGzj\n",
              "zj+sJ8snrfUIBfIrWxFpZALa2ntRraP5zDnEgTJWmu1JsSdfed1G/1rB8ETTIgMK0fUwGamYUMiS\n",
              "+D3UOB+xJ8A83jxC+VfqGtW5pKX8srp8iJEHjI4Lwjq1iaq3DudlXgluxNR7OEGnAvcfT1VwWwAA\n",
              "AwKnAAACUUGaJEmoQWyZTAh3//6plgAAAwArfIWgA3nqx3wgJ6iaftyLCZFMcnFJRMO40cZb9RIW\n",
              "+dwb/INmuu+RQXmx2ELke51CF8N20WpY3EvVbrPk5D9MPKWSZaSAqF9zHlApkmpMN2sN+TrsVLXy\n",
              "Ic9hixzabvRKykytvNxNd1RFI+cdtfhKwsxtKdYriFlusrLquTHgPxCsepiblewSw5Ld/Y8x4kWp\n",
              "k3ISP22nUUvXUcCQjv537FSjci29pFK7iilzY7xHKA3X00MhrrOtiiTviBmtnRFSbBh3LrprNjsd\n",
              "v0bV9LRMe2PUktz93qxtRHGmt9BkVqqN3M39tB9zOuibs+GAMkI+o6Mg/fBHV1BfTtRprhUXRBGB\n",
              "mRwZTtH1tZE9UQ0GANmiT0zU3ylrnbhXRuMHKyFBiavPksMAAbB9X8WVtCkC1gA8TOrhRZX7s2Il\n",
              "6xfzuK0y4CL+DcpbkIFgbQv5XkzQxAydLdqRzvWU7sIzEP87dEEf4nT7SyrsyuXt+6XGC3Gxn3mc\n",
              "2ml2da9imfFMt43MA9wgnQ13XNI+Jkv+p3VA3fmjmN3pzyUt6uzjg6ubABSyWNas7TuRcESRhNMB\n",
              "NRyvXHT+ChEbd63tMKqgDMcZqrer8BJ/wnWVPuiZa/SwX2dCpqUtehwnEwO0FoKV6LFY+d1Bk0ID\n",
              "Qy8A2IE3pTkK1fZMGffVFEDTp3C6H0OCMUdn2rDWenuy5IeN3nf0D8/Hu1/K92rXTE0RdgvMXtwh\n",
              "nbUsHh1sMvKO2VnUHte4CsJhd6qTAy4XzaaAAAS8AAAAzEGeQkUVLC//AAADADOKWX+SyABsYP7/\n",
              "dwBDUyytR+klq4YcasBvJBfcQvCsDx0QCCZF+rHvImGzdn2Riir1honQxptC8DzHxAP+OcRTtz9/\n",
              "6IZaWgD/jzX72TAGZcTkfNNz0DnW6hJEg3Pvh75O0QMKRdzoU+zVTCKH3xW2SFFPAbRfdS0Sed/d\n",
              "xqRyW5g6mM51be95OYvkSOGklDYWll3u9Cj9fL73ANOsoluoYXWCH2sU8Gld5pN8bgrxsL595Za8\n",
              "EMbxAKqRgAADpwAAAIsBnmF0Qr8AAAMAQ6PiAEH5p0l5uPtD6MCGoEt+75X9KuYyUR744FOgoVKT\n",
              "DP/6ElnymyCUJcCbDv5bGyMFqHsnoYWJ0WpRS6Wsa433tyA5oT5lxTWV+cl+xXow5Irig7gDhjSO\n",
              "b2DBCDB1l+9/8Bq1sU1vBpCLleJ75guUiGv/KM/NbvhPTP8AAAesAAAAlgGeY2pCvwAAAwBFY8e5\n",
              "EEACHP6J1OiYUCPec5HBdihCl4GFyxLsDs+y0dqRLOajIFTPOERmkkpQqRlmJYW28NCnwW6Sv75E\n",
              "YPCgShrPMSmsTsWURngIEYUMPDQ+8FmyU9bYRvNvUmjFFt4jpqWuYH9P0NvBz/kyN4NfofsBx+Hf\n",
              "CeNOljyvTon+Pa646f0WtzpQAABHwQAAAcRBmmhJqEFsmUwId//+qZYAAAMAK400JQAW+qb/nkao\n",
              "PcEPxjaXmT+ms5s8FhcFER/TZ9vgVKsex8O1JFGywT0oeqSEKM9mgVlFuw+wiUsQU53laqCOaC1P\n",
              "cXdjzC6IQASnI8QNtY7RZfahNoG/n2UfE7Vrp69Isvf/GcNeppXfLSTJFVWIGgSQFeoOrSdk7php\n",
              "ZkBANCGjhbMiYDk+GOIHLOvo9WK0PWab5gFiGXvgQRemHjcr/Kb+RcWttEOfWMALPQG60R3EcLIs\n",
              "jybsr8xltWQ1cD+ONC3mHlCjRfTEHfqEJW3T9bBIzlMJ5JchR75/nWi8ACU91V8GT87Tr1C286yq\n",
              "gxmek6w943rCm8x4450ogCthawL87vX9xbTAo7bFaeqC6WTc2gJJFfiMqo4P5RUEAIraqeKgCywO\n",
              "7MXXky4XQVwlO3XxHq8xStz4g7PB+weMqTY7UMMg9eM3Gz/VvWzkEHyWf3kifH4oWZto1J3IJxZU\n",
              "GZrWhGVa/k3WRdvtGBWJjwWzbl49vpbIwerwV0FbFw4sJ0JPx0dW1pD9zfZvilW9tD3U0tU53Lcb\n",
              "W3uYqHNYekftsPOiWcHMNTFDH/jG8QAAATtBnoZFFSwv/wAAAwAy3w+BZ2D01YAWKS54Gz/9ervy\n",
              "KFMt/mAXeH8VCa+h4mG+A/01ar/3IltfwzDWF7lxlMclvBVnzHN2hUk4YQwgRgkVsNLKisbC4k4y\n",
              "yqbFO1YewCnsbVSjUsb4TZbpAP6zw+egbKnKOE0r/xQdsrLnlbsXzVDlkoqxTOlf+G16gO9Msn4C\n",
              "wEIcw3KlYSEVqcl4weIDEdzXAcGuzBcdY2zNFkAT9MStXgCDF1U4jrwdeNRdvE2wlcbldgefcFbt\n",
              "obp+y54+P1JW3J2CrtCfnEEhhWGE+gwAsTjCdoqXdgLNk4rEHdVn73H3B0dGdMB68kpOAk93btTw\n",
              "LS2r+s6gGOlAahF/h2zXxpf86ooEv+Y65cNf6MhnTNZAJDUv8ARHkhOe0OYUZMUHfu0rS4AAAScA\n",
              "AACnAZ6ldEK/AAADAEVciZKas6hXgBAsl+XtxmC2mZPT8H9tuWjYcB2cpQMOE3//s9NxVjuGIxG9\n",
              "XIA0/O7fwkzIX9qaxXSre8lSV9o4gLROSVlomQT+jjnvDjLBqstVpv9hPQKqRpUWQYAlduUHIq9V\n",
              "bpPYBIK67at4qhI+x2YzII/ebHNDmaSer2MPNi4HdabQqBLSKZnGG6Klpn58LqhlcxXW4AAARMEA\n",
              "AACvAZ6nakK/AAADAEV1uc3H4AIg2b9V8BQa0ryS6BAo5ueUdVZKKYTDJSckj022UB/1652RM4bd\n",
              "RLn5ceC08HPYNRFoYkEUN4QKVOjJasCdOhzItmVNTrsWeMTBwbE4PEIuyn9IXuC+F3CScQAfKQjg\n",
              "mev3RTGDM/K0vr0qkYAtir2ZfPkK/AsncJ/8rtB4A62avIk5wA1fLLx0DUoIkIR7JGWxlr6yMyuZ\n",
              "NfRAAAB8wAAAAlxBmqxJqEFsmUwId//+qZYAAAMAK4wvetACUHgs8/0zM4NusjnDBIiO/vVfzdLm\n",
              "FWHS5WLyOe0nzvdmd95NmvF+faEWlzRzv/MEv+BfLHB+zAHryuaDd7hptQLapq1yoZNnhDpNTZ0z\n",
              "v0fhAUhemTrHhs0rxjzcUJ+imdQ9i5qzpkh7PXwnofC4p/dyYAr4e+jVF1t4a5PfRZkJeyLAPw7k\n",
              "PwFrsJjlL1yFdzfpiw5ywpymtmJ6p3BU+lXKzUqnIf047FND0faZcr6vK4+0q3CVRD1SK7Qmz1X3\n",
              "tOgMG2A1M3GhzK+I2geJikAyjzIRAwEclBPcIP3jDPxw7ymsZ2KzIMQv57Avg8udfvGlKpIIvBgx\n",
              "jPj4rGZTvn1cPlR0t3Phd5dTFsNYkdw3V4DTrVaBcZdOwkjNlbClcjHC83U5uR5pGnuZSHEvXwcl\n",
              "JicyRogwADEFdNndn/zsXdX03FL0YJNSuT19HQ03R8FvJCZ0oSoJjdvxvpGo4+htuSbihAx1SGpI\n",
              "mPqjSUH8VuS7yyxaYyb785suDZ+eeya40KsGQp4eXm2Sig/hWLbQbtXYLknKNdjqzy90YfmTx/y2\n",
              "nA6BocCz0UfwtCdjG2Fq3kqfOrnjh4c1+7tBiv+3h0978rWt6dC5BB8s3MO/Aw//VTNrs2bWFF07\n",
              "xP5N4n5CmRvSLxIUMMlmhl1RkcDxkg84hxzsoirjn1OxECAxYh+zAitHoV4ZKx0E+pf7kuK4WAW6\n",
              "cB9JXniiv1UU9W7+4ZL2VIS1cuba3ADdzv5aqisyGIIxdhTHddtl8nswAAYEAAAA7UGeykUVLC//\n",
              "AAADADOBI6+80AIU89YrQYWFoCIyg3Z3t8oYL+rq6tKMbdtwflDfXT5424zPSV0aPHYRh4kY/Zxp\n",
              "Sh3duI+ziTR4L4ZWd02odO0JCn138YwVk83dFBlOKiQfO2uR/3HHzHhkkddOmP0Ro4agc4aiUAgM\n",
              "wnhlfC9DUx36OP45g9SPec1L2CQBYllSujDNVwYr9neCBtD8Pi0Cd9H+ylrQBZelb9Z1Lck4K+s9\n",
              "pnlQRBy2npV8JhcgHCngAWXB96pMXNEiAtzxyPx9T3UA33ciV5rxR20F8zidSod2zd1UuckQAAA6\n",
              "4QAAANYBnul0Qr8AAAMARXvdx9TXgAhENsu0Y0K71OY3eJ3xE88c4D+dB4ZBtdgp8pFdHz/bAaq3\n",
              "iqsi3AfKgTPNXIp/jrTL1gdPgO8NkGoJXpJEJWH6A0tahOxDfJmNFBiRd6742WtBguZU6XFUlJOK\n",
              "om7CSI6zsHwmGTsjaskQrPniF9rIn30fFGjp8bilxnMRQAGdtMGd12mbMRQaNxD0vXkrvw5/eOM/\n",
              "TJCb+LpJgoiL+5KzWY/6aRQ4D5sT67asmxD2C3TIkaTLPgJ07GtwlWqn5rfgAAfcAAAAyAGe62pC\n",
              "vwAAAwBDo+IATEdVpl/YYmQOWgDN+no/GZ/Q9RqKdW0ExXRfpddyK4v3NvD6dG4X5eDbhbzPAFhO\n",
              "QCM4YYEGshlOU5MoyWTupcd8c50ctPwSTp8buaqM3Di3UP6dh5mJlSfzBP6KLvXTf88swbJH2ovF\n",
              "ZiRpaZXdUDrzoB2TzkvnRQmDIwIXhND0UWkMYAiK8kPcpT+5eAoYSmTjwtG3vD7BXkM5T1O1fQRv\n",
              "Ll0VWguMsKz+0bvpsQoZBnUfJEwAACTgAAABqkGa8EmoQWyZTAh3//6plgAAAwArdJrcqUAFwIcn\n",
              "1+y6xQWIq3y9UArGp6TG4Sf18kIX2ss5cxebVUecC90wLuTEU2ElOTLLYpVSaWLm4bTzZMdXKODw\n",
              "G/kGpZFVCaM86QFMjIOaowWvT7B9KU727PuFSJioga0i+TYdt3notbVbliAFZ6XfNuk+lXHIaqoM\n",
              "ArQC60vy5zGOyM+/CvcU0bd+mo87rk/1mUaRLH4AgO+z8p3pxVsW+d83whT03mUnPuoldEnv4Ena\n",
              "vB7wgJR3nJIpEujGjiMqOHpBImJ7jqhM5C+EUbK8TyRxFia+Xo8NJOZ6uoqxbgxopxCaW5iUUMYx\n",
              "LPd3BDqAP6LT/HG4/ddxcOsrbhEw1S3e3iCEWRfv7JVeRhPnEIJQClnWPBrXB2lrj9C/fG0eWVG4\n",
              "uRn1c2OtIoQbCdUmeXp0S+70LYNZJivULRApdsMHs9x1xUtOloZAOih4HvCa0+kAn5olPFfcTL2Z\n",
              "ryYg8CNk8qc2uWmcjHH/1r7wLEkkJYFJirXneOPz8hrUezwEKORyiO0LRCYJ1A/Hpqa89y/dwQAA\n",
              "AS9Bnw5FFSwv/wAAAwAy31FTst3ACyeUJbzKhRtU/nAdayZ3pSCouY6lZyVW8U9KdLuj/0dtikLR\n",
              "qso6gopdc3v4b3iks04TXQ/ljNAKweHQxZIvdaZhCv9btL7Ogg+XCEI1ebl8U1EQBaem4U7nGSkw\n",
              "FeRSvL9GNDCEUHPPjcCh9IsBgh2e6puonHd7TKwBMvZm9SbkNcgMWDCuT2PvYkQYDgFfDWNKs6+T\n",
              "JEFPXn6/tTgtXyaDpWPB4UVkxLXFuQS4JCuYSeDWhNHSevyRh0BejYbJj3nWEj/JWTRE9kz6NL1Z\n",
              "YBQExIFLpVdpe0mGDuUuyB+ktwh+Zw5ZvT1ocbWuMeFgKPIYRJgJc8KWSPA2+/ph/sJf5iQP1uKo\n",
              "vKdiemz13+WWTuJAsG9cAAADA7sAAACxAZ8tdEK/AAADAEVc4dGIAEG+HrVefR9tquz2tmPEWWtv\n",
              "6wRnvZr31ZkOwHao6teYgKH7STqWygwjHOXD9TuJsqyDREj0mUcygEasqZcw9OqXYKseNOY5G93t\n",
              "95xXufpxJMQVapDofZnC3satAkCB+5cMQ0IJWWZ0/UgtJLNzkxmh3gXOAluumqJofnKr7ExazVVz\n",
              "OMvxJ56fQ2/gHY7YQlbhqd8afViMERMOMoAAAETBAAAAvgGfL2pCvwAAAwBFZBPf6vwAQ+t/KV0D\n",
              "usrVNX5xC1fCOCLHdz2srh2YAVXVHu3bpu0lHar2nh+boUGJ3DfSwbTiUL3kuiyag3Mrw0Vp88Xk\n",
              "eo3eryE4UV2frf3/ZXSZRJ0FzG9y0qQihRWRvx61otV0BOlXdUKvYhTrjNSH7/hx6dB7p+4OLGTh\n",
              "A49jllRQcvHq9plCGpv89Js9T03WgOapjHRb7JG9T5hQTxw2u8UFIKmNDHpuoSSSbIAAF3AAAAGt\n",
              "QZs0SahBbJlMCHf//qmWAAADACuMiU6gAfnFhhhwrLlQPpKw9pzpU6JcAbGj9KMblyOoTu92jLyz\n",
              "QRRKr7F9Mr1QhHh2i0r1M7NzJ9o1J/3A8E7AQfGO6hn64KhlenDESEV8FxidE0wRdTvB3aQmc9Sl\n",
              "O/AXR/Ik1eSlRIn59LaV+EbCwI2qg5Vb/+oOtuX/cpNAd5XMfPTEiembJhHAE9t7QaDJ8RxL0uOb\n",
              "nJq6pJz1nAvLLR1fyTps6amn0FXmvPFT4LjRUyWhu5KLlfus4QskQyBElV8Xmq1PL7s7qgQ7YdZb\n",
              "aHUc4hXOXt81YfE6R05Vqzx7haX0AjcQ+Ad2NKr0pPMsL14VjR1bNh6znbFhALQ5Jr597ONX3Nc8\n",
              "wx1xZtdQQqx3MdPJuOodlaE4DQp8NhmSKROxe1+qna7mtEoyfHCSzfyrfmGGKZKOB2vAhjVQ9qvu\n",
              "n1weIlGiri1IBp9ZXhVpmQLCvbV+0OXm3EZhUCqcRBbit5F6E4xpN9FPtMzAvw41KRcmJrlUB75p\n",
              "ODc25u2fTuCRs8R4nEKTZ1baZ+4T8mnxIoAAAD1gAAAA6EGfUkUVLC//AAADADOBc3yxWcACHUsv\n",
              "fu/nRWVpR4O9Mcp9pM2sT5pDZCEYvxU0OcbO8+bTJUUU+Gelu5TTV4uKDlArrDV9ZkKjOySNv8g0\n",
              "dhf0sOVZzMO0zntk0tfldEskYGdQg/m6lxpGdpoLdIWaZAwxvJiHgPbyIJx+9TME47goNJAQbu8+\n",
              "Ky4fuzK1eUTqRL37jB061AQxD8/PpzR2sXv6/zS5H5BVs+YDXk8povXTUEspvmU9Sg/Wal9SJo9i\n",
              "DsWlAngKgADtx0crCKh1IHQ8/7jzmx0w8d/+1LcawZrLaAAABzUAAAC0AZ9xdEK/AAADAEV7x6PD\n",
              "8HAA2L5fUgDEQl5nvFx9HxGowo8Mp8wMZ3fQ35qAtPwJjmOzFlyklvvzDfGMGUfD1x9FfoSoRgGS\n",
              "KNDb+9UDn+NXdYBBcsi9TAQ80e/rUOyKAEtoRSd6unwy8VbiLjEtrWqQnlf7r0zHz4yxKm2mpFte\n",
              "/Q+e6FfgBeHB0k43lRwNMGSMrdR2G5yCgTRULRPmd68eiacw/7tJ7SRkMenirgAAAwG/AAAA3AGf\n",
              "c2pCvwAAAwBDCVlsAeWEAIPzTpLzW4kO/kCxKi39v6SZ44cTa+a8bEObEDaKjMLJpGvFkW2tpA/U\n",
              "WLEomL0TuRiKLEWromFVH8DL2phhX5tvkYDmgKppq40ndyCIBMSZ0Ymh3h7fYd/HKckyHAN1GaYq\n",
              "m5nOo/DGi7WDKVVf2phbVvHE06ZpKo37OcMAkyMmzNqZ1xmHXoDgvMtYZPzRJVqYNfA4IaBS9+EW\n",
              "9rMIS3vMZ6tlTAJ5NwPF83e6TQLxmNP9bo76b350MJEQuofAaQpLwA2IAAADA6YAAAKcQZt4SahB\n",
              "bJlMCHf//qmWAAADACu8Lf8bc71gALW+zA/Qzh5bP+b+ZP2Ff3EOQw30geVnBEPlFQ7XFRjj1Qip\n",
              "oh8iSSJoFUysWGdrEXshCzeUNIyx03yIEDpEgUPpE5tYwk50AHWJ1CtdD38Dv84Jpl13OiQrw+xg\n",
              "ocpNhe6Dz3haNyGvVg7gyiTyDVx8CDpIGIleAYoam0hkku9j9i7Acp7EEI0drJz+K3Z9fMKX8udw\n",
              "cs9UMbDG8+9iD37n6MJ0tCtth92czVL3W/CKCe5E+MPbVsoZbOFkxnlnQUhQqdXidbtHaWoG09oT\n",
              "2p2ZU4Rta6lDZJdtsqqyPNnKxLdMdspWqrbdr6rKUJp0zC9doaoCI7xP1QUrN1aXNhdsu+Y5xKDD\n",
              "Sa8npNza8uK+Bfn0JVjPED2itkPtLpwJve6GxE/TxosTpASzxr4INsVGfm/0z/odQSsABeYtw+Pp\n",
              "M5qMe2qf/6YrfdQfmnaA/Nxs0ovVZRB/W3Vms40312s27LYtz5kLxk1jVKMKjy/1XhjVqAfZvnm6\n",
              "MAq0X3g9DbdufZ4cQ18aOsqgQzWCXjpm4GcgeDyJo4EisSGbI+QWLgMcahQt218CiBXlnh1ceUSa\n",
              "U/lvZba3vr9VswUCLeR3QFNKwOIimoBPAtu1kNwD3mEXrT6sTpT8oxyQAAEX7nZvgstLgiM2Y6sM\n",
              "t9EvrAflukwBrNqdXTmQXXpOw7jVMiNfaLZpk/ktj22s5bfKDCmobRbmFdmwdDnP8efhrSzefZ78\n",
              "dlxTsmOIKLJCLSYDykAc66+H8ltTK/zd+IpOxdxL57MCcxYPv/hamWHALhO7/gofqHFyJEN28NqY\n",
              "xP98BM+XwQcTIovQ3qD65OdFDw4KI0/Y4tcs4f0x4MVPz0EAAAEaQZ+WRRUsL/8AAAMAMuGkNgA/\n",
              "UL59VEhtHYG1lPAk4xQuzCVr7FqwTp9sCbHIbGKN7JUimkEfpIpRkhf09WG8V2JoHZMepD8LGGFW\n",
              "9EwzPdgWYIrxnkPB6VqAWTw/qxweO2FSONtUaYimH+rLlVDRdHMI/NGfep1THUrD6oiCrawCNqUk\n",
              "dyCMhieXLIqRacYCSor43mc/bqsjn5F1PTXiuRYtv8XYZrSPuyb4/dFa4OSOUgOTCphm/kdPi9X2\n",
              "SAPLc61uPwoAjIYDiQAqI/BGOzZfouzImE8yO6GoT4337P9kC+I269w9B69dGgSV7qg/2tnWZtaM\n",
              "ituadL7mLxgG3d4mBPVkySTcQY22VLk8gZd03sBb7gAAAwN6AAAAnQGftXRCvwAAAwBFXGn1qiTg\n",
              "AbLdsQD60OUpMjjF4o3Dd4DmNhaImWoFE11S9IlC7/I9ePQW+G4woaT7+vfz3u3K8W/RaPec9gsA\n",
              "GkmZCvSyytcITVC06zsvuWyHfgfq6aP6iEbMdeY4ZX+M0aBL/tyZhZh5bUboOx266HbLhIPUSEdU\n",
              "Roj9KOttOp73rQV6rUFVbIBogndygAAAFpEAAAC2AZ+3akK/AAADAEVjSAng14AH7bA6tT1MVC2f\n",
              "nryaH/Ea+3oCavEhjMl0pqTWWBPt4vQvgXlM8PAXTyHsK9zKADkP4dQrTqWi03/mGQuGV5jg5VX1\n",
              "MVj/i+2hen5DB/iJ3e+BIsInunkgZgOUfOJahTaHfY8wYWKrfYYjmmZ8EFeJWfivIrBbAHYw6DAC\n",
              "3K1GSYqJi4FggN1iPhemsCJX0fY1pns1QL3t8XOZ2ZS9DIPX4AAADekAAAHAQZu8SahBbJlMCHf/\n",
              "/qmWAAADACuLl8QAWwWIRdRvVvjnnfqWw515XFqwLt9QBHwf3/MATRp/G02IZnm0g/h8NnbUPoj0\n",
              "m4yj+x9oL4Xw0MtvG4pOArjH6P8cG622irCTBtRQkEcKUcQvWowfhqt07f/8ehC8xrGNpW3JsvXd\n",
              "1mTrUbyll0hhkR2tFjKE1sUA+N9lO/ufo/6gAMuC6DcULJ2mF7fKKVKb75Tx/NwDz6p4mDWH4VZZ\n",
              "H9ZnPMtnO/n4io7X7RbIfrxgDjzWZyoQqynXfRRgBXi+Ug2MQZOUXtTnDJWS0xXibEdp0ak056Iz\n",
              "2/NYlFMUqY2i5DRc+I4Xu0lfn1UkkLaelf1wiDciWMC/cXR7Y+5WquvfhRz+aI2ErCKNbrOhrIoE\n",
              "JtdJZB8ZkzuaZwWwf8ppPXXtKFJWpLrT7O5X+lwiH3TPMBHe8XXNW/jXOT3PV1ulP0DzHTTCA+GT\n",
              "xZQUw5y38b/IjwP8ENzQDjVHOdj3hDcCjmId5UjlZvQ1GAlK2uxlpMxyiS3N+NZPSQ7MarVdqzrN\n",
              "qLpgxMN/puYl4zVG/OPgoECog3SF/loPkvlhcgi2VAAAAwBiwAAAAOxBn9pFFSwv/wAAAwAzbeXi\n",
              "ABK/7NVQK66zIYJQ4HpILZRFyNfsMhMkGwFTUp9cImCtwSv6dqjxUm1OQ94lTVR54gF3RJ8R6v8G\n",
              "pbwuad0B8XCwNr/VoH8Cs4kD457oUIa6/fBU4IwOCdUojrQ9CIBoPy60nZuEdVXDzhTpJ0cKdF+f\n",
              "M43Vz08prXFrhWNnd3g6i8vVtvtNrKja+NNdS5DEjooJx+PirtEYU0XWmql8AYwJg5a/NrdYMTD1\n",
              "MbN11cFIfM26p1vImkJl5vnB1FL79h+KKzlAtlYVeRlDChgcP9rO1/SjQgvWAAALuQAAAMoBn/l0\n",
              "Qr8AAAMARXuMBPw6m+ACHmchR3zUi+stBtVTjnRSyuEZquaUciRKWMOCg4SCJ2UTWAFMHqkGsbEz\n",
              "0geOvAiGuXtcQCc7yMi5/+HGDHSyJ46xwrwx6b0tr/LrhfjdehFhA1vTi8ceO/YYRKu0/tiextm/\n",
              "4Ly+fkaJjdLjmS3jKWHbjOuZAw3lrQcwedItfQQQ3TSbjC+yVK0kabY4aIHUvWMvrzB0onJGIsyZ\n",
              "ylr+OO1Z4JKlEFCExJL/R6hu7MCrxJgAADFgAAAAmAGf+2pCvwAAAwBFdWoYEm8AIFNkg/Nvxri2\n",
              "SuscrE0pN0BaDpR3mkVPLe9rq5KTC/UkekLKugR/ZUKmgPHEqjGvGQU5YxEE06Mzg/Ol0J+l70Lh\n",
              "Xn5e5hu5tE5utjMHuTMXdC70Yn6GRRXmBPi/If/pHV2Fn/cWyhmQ9KtnP3EwseBTgUTsoGYH8ZVT\n",
              "dmOyyhRTyqAAAI2BAAACYUGb4EmoQWyZTAh3//6plgAAAwArfIWgAuN+Bwq3+A5PgNJdvdor39tP\n",
              "M4qA7eObTh18zyTWPFpLyiS7KPCXv/QZdeWCu7a4huWBZiLaoKCFHaREJMecmv1VX5gqLIZ4Y/Fj\n",
              "hB6kgUdHlckrnSecBHECGp1Gd/Q9+UheqouZXFX3jtyE+KcDIItSZvHje5jZGtS7pgz5JDPcF2+A\n",
              "47lhr/pq+AMHKs+FbaN6Cp+MN2PD+LGOxigA1jZ+9cg2NeYrCO8cweLm399X94ea6jjke9dl9os0\n",
              "ZR0wWY3rjJ9aPADQXVFCaoROeyt/EfmjD3VVBIt922pCAxR3xVcjWJbA/ktNvNt9I8teoGWNHKWW\n",
              "4hiTGlnshFtoQJwsSq3h/lUh15wLoZ39Y9mhrL7DdKnMaIo4aehZ+2fHbbPgPIDoFwn0B1ztUdxU\n",
              "FE5fhf5YZoy25Fndd4RMp3Z8G3RMqKypUQO8qpM/9gMMshXkl8AJl/1wEIp7ENGB4WN6HCvxW2xH\n",
              "1BkIP1pKsbW7RS5AEgu7u3zq9RUAjjLiKLLg473A6sJBM8t1oVE8J06d1HFzasNrNdcg/jRo+qGw\n",
              "HPyEJpA54NOr+E6y+BXDNbRZDqWP7gYFb7MlLiOweI1nH0PL8+K989+4Z8jFnfNzGZJmgebSsXjN\n",
              "1Tc3K8evc6O7cYpWYbGYccvMujShReX9o8pPas3k9t20aH6IHzyIdhq8SZVWVJ0yAv+ztnQL4KeC\n",
              "JLLnoXGhdNw41Nbl/XJFmT34nIi5zp6E359ur4nxVqSJdHJsZj+D5NKFA4rXoQI3YV/8sUKh/wAA\n",
              "ANBBnh5FFSwv/wAAAwAzii0PZHAAiDvAKEw8lmwJamLNeGC6IynKix1RRAzVLuyD95FCRU+mZPP/\n",
              "uPRyBDTc038ljJLL1l2V3aFbG3kTH/zZbBh5FmYiWIq+uyKQNhZdFseg8vo4HGTmGt36ibABNrRy\n",
              "4hUqbTbZv2YOr6YG0mk1C/TgPpvQLmNKYTBhm7w+I8F1YuKNqHnqOlf5xfvWOPg34L9wwGremlj+\n",
              "yBhSlbikekH0fGKJT/20yR9ztr+Sqg35SJnr58s9I2uI5GWAAANCAAAAqQGePXRCvwAAAwBCpV+v\n",
              "1Y+xqADVZb+0haMPNg7HbwI+rI/lMCAbh/T42QhRFCj0aEOrxecr6KKkgE4/HwvoRalAb+fgxqtP\n",
              "7cbSjA/z/VRm0bCDOKZBh+THJT5HzowCJD+kckLyMdXEYo4sJOtn1p8rp/i6Etdb7/h/pM9jjpg7\n",
              "9PMMMv8s4YxIVAUFxeSlkwtd5dCTdUxqaJ/SVS0vBCjVsijcsAAAQcAAAACvAZ4/akK/AAADAEVj\n",
              "uFNivzZwANi9NO+aANtI6QpdR/5y47eD7omodqPFnjdzAFsMpMPKtec4dSAqpk0pKEeSuQ0UhwYB\n",
              "rzFmVo06aM9lf60YX4mOFueD57tNgRwe4r1IhTrzhVzjQtHAax/mYUED4NoGWDzwetP66MtVcim8\n",
              "BOso/uLEXiA34zfWcqmc98DK/0PwVw0SBFrHT61fcA2/YQ300y/9fa3mEBGAAAAI+QAAAp5BmiRJ\n",
              "qEFsmUwId//+qZYAAAMAK4xR6dQASf0gX9JDX0vVPLPLC+ZjPMXX+czVSHKjLcTeJsm8dEqUDoi8\n",
              "01KoELg13+jLoR0UQkqgzBawj981vcs+TkP4YmGEvwYUPo4yIbevOfZfoU9TY+WC3UJAc7XdqEJi\n",
              "0j99d6F2w1gfcdH+SaDHghpRrm9Zlm1I5iSlD7IBESg1IuEj4GEonzdSlSRo7JzHLE4f5kSbaekw\n",
              "sSR92nvsQm/HLr8cRvxFN7AteGuKX6CScLIl8FEqOtp8QzeXqgDE1GdiNScffNRe1eNwqrz6wqlM\n",
              "UeP+CBr1dXVAGhPsfyvwVj5CPxh20c6C3NVGu4BJ4K2Ua1jnhdhKzpSSojUb4pGrp/vRdj3XECgb\n",
              "NApIcz8fN1O0t+eEu1pQPuPba/vnA790rWOWl7LKSxkHG5QpiPeMpzIdNpw5ReE4lQrC6UJ/F2mC\n",
              "pZcU16SO0DV0tsWxITtSvhrJA788nPQCnm0OjPoLn1rFvmaEyb3IOjv/idR7G7edkdIZqNLCxHYg\n",
              "tYc1pDskI3/eggJYWBtg8UlYHUKojGVCM8zW8X/CZZcuUaz7kqAWE2NQFi08iC9R8F/8y2npzmGJ\n",
              "2fFkFaxLhTZY539d+qdkmoJZTv3uAtYCdSKy8iLIbycp+tUASYrOxdcUvUE+IVakTSWEUGa4s+ub\n",
              "l/QI3TaPXp4RxXk6yANOL927kHrWHR3q6o2Q8lLEf0CWFqQaiIyxrZomeFoXWqpz8IxdzghVjWfz\n",
              "uWl1nr7Q/IKDQYbLMXHkGOKl4OtNH4AEK0nQIdGw05G7VuuxZ73zzAu7vuA8qI0bN/hyTdEJYbF9\n",
              "xve1TzIixN+TzBdTSZUotJ2JfvVs9kKfcyqDQ6XXBLUWJjoAAArYAAABBkGeQkUVLC//AAADADLy\n",
              "0eWAEoNIvhaNixuSKNKIKjK2bCfVPs6zNceB3Ry9m3uF7GWZov4m1NIUUSLwDW42D6MG48KpHzV/\n",
              "hM0CPT0RPw0uzks+MdPbOnOflYdpJSqMYcscOtkZXKAk0gYQrvTaTJWGUnoQ2HREPgkdN9svjNl1\n",
              "oORJjeyLBNrSUUrmd23Is86OJZ5laX0pkTemCw5OxA0CbfinEmFcILsz6GHqGcnp8oE0Q+t5q+QA\n",
              "NQY/QqIES4Le+FYzWLmqAbd9CzxUIQuPqO9wunrJvbfMOrnZfG05BfJGKTWJM5LSRjuK6ipBRplg\n",
              "JU8NOzZrs6cPe1CnTZtDQAAAdMEAAACLAZ5hdEK/AAADAEVclxbkjbwAhNrbJbHxFP0SGEo3PrC2\n",
              "88ZunDi3PXH1y1l9ZoC7nca8CmeBbVol7152xYXh/tlXGGjWhBpwPf9DDQa3OIr3s7Z7Bu3htQn7\n",
              "6LutXroYk8SJZnjtcdDjbxiT6/O45hNrL8JZ+XTVZOT5pP9TeXwEqny+d2EAAAMB6QAAAJYBnmNq\n",
              "Qr8AAAMARXW5tprgAbUQtsKB9jdeD3tCf3b48ahnUjqsuRvEgeb5twgOCZZ72zbCiwuu1ulKzMfw\n",
              "ZccpVJMWrimakhI8s8aaw4U4uNhc563xJPj831xQYiossgfTSKqwsm2POuqlwQpnVN9It6WGlbOI\n",
              "RKNTnwj2picFNBm7E+19mhTwOXAmSPfUfaAagAAAMWEAAAGrQZpoSahBbJlMCHf//qmWAAADACuB\n",
              "TKgA3FarfIVf0vxvRB3rdC43vz5SwxmyLntNJaJKMD/GactC5JUig3Svu7ShvapGPw2i4WzZBrp1\n",
              "ZTLuxfeTW5iR6KTH3jnnb0DeOnldCv0BjFhjMKbgr++WFlm6OHBojEmKFc1g4CdoBJGmIRVwd3MY\n",
              "CehUpuRv6Qt0MMKqq04bSGEhwVaCg1787sJyHxW1O+TBkRgwx/osHMwYAWDbTqjzLWGxA05oS92j\n",
              "Rv1vDY79WSfywHuHBV1OfWYNQsuZAtSv9BOkQbV3aQ4JBYrwITMa1ZHiVZwwlbzLjMukHtZvo9qN\n",
              "BJJvpDSB6qG+zwsHSVA8KbOswZ/FWswltpoLY7Gpy3icKaU9H6VOMQ1r1mNwX7DaDN1qxXdClvC2\n",
              "+xno84DgOacU3U8/iweBt1+O3CeE816jJR0Bj1BNzWvlctvKWXs0+5RIa9HnbCYFO9h9XuXGLZ9W\n",
              "22cntpgwvcmkdo0qUd3VouEX/P8O8QyJPqs/rzuovjw+W5/9hJvzsoBkIBUY4MKzYMesLfrYmvo0\n",
              "lAAAAwBlQQAAAPZBnoZFFSwv/wAAAwAzimMw+ABDy4oB2xz/QsV+UNPwjggJ1wGKfcvFDDLW7Y3s\n",
              "Ct74QnGYoJ9trClmuiEeWokzDc2kfNRgrnd0kJ4TRVdOXuCSFRpyLw5HACnMOYo4XRWq7ujXSLUk\n",
              "FcsnGv988GlbdcL+t8VGWh7JqhcqBMPeu6Suz+m5Nz2UmeRQsbl0BaVbrp+QfaEJz1mdYZUgSV4c\n",
              "14a86jcAcyWg/ZxQ4/SDC7Fw5iqdu0nnX8c9Hj5o6/e3W9pkHeTBaKlar0U0UQAnmMxK+Zu31Ptv\n",
              "6sXH1GbubtIAGyxgfEBtU5uyOfTqUrFmAAADAwMAAACkAZ6ldEK/AAADAEOj4gBB+oH3z168fgug\n",
              "ymFHrg6SYGm0cmqAeiwiTQAwrz6+k1AEnfCBoz5Ayw0v90OueBCgPB+bEYYUTk2bD/i0u08s/mIh\n",
              "NtOTN8CvmyBcaC8/naI8wgCC0KhUKjSoV/GVkn6n7p0dN/45zaw+l/wEmSVHII5ljZEdjwmg34uD\n",
              "qdaAUKzHixWsy6bSEFW6k0c/I2cMoAAACXkAAAC4AZ6nakK/AAADAEVjXFlXgBB+ijFUAXmUXdpW\n",
              "AALBHPIG95quWrfNn376N2U5H6tB5o0Pk2fHWVTmNmCJTwkM/yCNGXJ6bja62Iw3Tl1l9gqTN4t4\n",
              "jtCsmPrX4FSV9Be0faGwOHIgPQhCaEOlifbtTBoPz3jMfYk+GAo9RSnLY/4evlx8ALm2wk5WF68f\n",
              "PeVU+szOtmryin998aChq6K6Sk5ztJeAtRRiMc4hhHluLKMSRGTcAAAGBAAAAlxBmqxJqEFsmUwI\n",
              "d//+qZYAAAMAK5FOvGgBKImK99T547wDt9zqp1sc6+nH5SnEoaz8+yOOvez9myKetJ7ttWbgxJYI\n",
              "h7SMJBRysNOoeVsofd5YLr6y5JMToffLjLAZxB32lDsVD4Sdxwrtud3zE3T4WnwZmSF+zOJ9dHL0\n",
              "kHtLppx7zkVlgQLlweLJKvGmw5qM10bxa+ZmZxYYyMWsPBJ3o9+1Qrt/1bVMm95UxA8E1KbY02iu\n",
              "xgKNzcE0UF9Z9qkg0WkvBqhIORlNvdru2zCVDjHskxSJx/rwIuBb3nFvwhUD0aHzPKJ5Pp0Y/MB2\n",
              "FLYx5aqgLxp1zMuHZuQAXzil11bR/hYsUJG1gVS1HmmEH7LEtOrX7jAkvclR3BrwqhzXwNWHN9to\n",
              "b4t5DATu0+yePnLTCPYq8IObOb63tzhzIcjmzovioZiFDr0e08MLVga/wzhq8tOT8+yZ/28fv3LV\n",
              "625MByMZ+W3H4oi1BMxVHlKicWkdVIdtkjwLOHmvDswpEXH8DWPamcs47B38qlXqfB9pAJwKpQo1\n",
              "bs7ZKHBfB6LD2qJOQNknHxxklo1GiW2MS9amgDg5XlnFd0Ky94wg/yh/nbVJMCbmSdnY2pjEPC3u\n",
              "sNwDwnuq26b7rcZqAJQnWC9Oa5x2jNthi9/XsZPzvjKKs+nSygPpGMDe7vECdkTK9bObwlGWThem\n",
              "MAFGuE3oH8654YS3Gzi/VKc4IlykV+Z2J1jgLj3JaM7dhfWknsC7phH5Cf1dL/IX9ZOl6N+bA1OO\n",
              "RUIYGlOlpGMLoSEadv1325dwxIAAAPSAAAABHUGeykUVLC//AAADADNHGc69wAs1EbMI/C8eWZcd\n",
              "8j0dWYh+zb0w+N4ki2Lr+XgZL0L5wc20DNzI41UbLp9CdbBxKsNTmSvvMSMs/LhXh1XMkQCV/PqV\n",
              "gn5W1lwVzyAu74HqxdlaKM8H3RjOZv8vpAZB9AdLdrlST10XBbHMUvAfpRdQPNsGaZKgOOGX07Ek\n",
              "40Nol5R7VhEg1z2dyXZzfgihtmrRSB/A4x52Sm2OtRu2VlN/5RFdovqmK+m71LQYZULrawFmdeLh\n",
              "scp88NIX5x/PUytwEaVs2wGzXhtJKkQSoO0gw6VypgUhZlSJX3IE4fCpuScWUhfdRY97HVp8qOUP\n",
              "Y3oQM6He7FjHU0RGLPKtmdx1FUsBQWg0AAAoIQAAANsBnul0Qr8AAAMARVylP9eVynAA0SihiOdV\n",
              "ONrNf8zl+fRmesND1rNNMztoG9cJEI4gNth5Ed2VFIv8EPO4N+gWEkr5M6wawOvOAkd48LTCQW0N\n",
              "O0edQncob/A4f+2qcApjK87XA/CEIrhPE1EnVC8N70uDzBYUzcwiBmMrXSh5rytnoNgnycyVBWZl\n",
              "UeEFCxcfvCuYOXs2F0gIilvAv4SP2tCDxet3+BzWIiksUpw/101OdPaMbcWzKRC7CqNq/0R8a6Wz\n",
              "LCx/Mr/RAFUqRzrRSNSl6ZEGSAAACLgAAACqAZ7rakK/AAADAEV1ufrYgAQ3oL5iu7ATttis3EwU\n",
              "0MhLl/M3/R8wbQo15JO5sANhX9DAGVOYZzRHKAY2nAaYMSoKBc5+3chuv9OVqwll0oNLxxP+yFBa\n",
              "fZYepUSuc2o8QycbFTvgbEuA0BZrtb5dUIxL5q7ZKBBbNNykNsb8LVt69q++Er6WMJyt+JFsz5xm\n",
              "u3h4jn+UnDyzuTnOE5USSs/99MNIAAADApIAAAJMQZrwSahBbJlMCHf//qmWAAADACt5CzABIxC3\n",
              "wCMA0KtBhskMuY6sLQ53ssf4F+EVoeeaQrIN3+q0EGxwfRX8jouRsZEchGfScq8myqNknGY4WR+V\n",
              "RLQByMJXqYqHT+lu07hWiivRtGpzMJgUexJtuDhyoI+lCpFbrFo6IkJ6al28gzrWFxq2Jc+yPByO\n",
              "VLCW5SjFOXhD+kMxHJv09eawL/i++8ELwOFOmGin/erstI2vH8nv7rU9DFlmZChPAK2hFqlELtQ+\n",
              "dzYcyVnFMMHaNMsNV3tq+kHlJxYuFixt6al0by9KrKZWidFY4MlA4L6o22A9iv2Lbi1jkxZG0hlK\n",
              "A2E/tLpMZaxg1t/0p78uit3TphDXTBGlsSzjghPXPCJ/RrtSLzXpLGFYgJoqbd3JOdOiUkgd4KMB\n",
              "6XiFGOg2svZu/tY2bdyQ99kfumI7kEZU0Uuy3IS9RUURTwy5Z1lcfVpKS89/ZMb4kpBkBtC+JCeN\n",
              "27768IFAsriVg0kTmmMX0ZI3e8LCAUkLbabW374em30HyFa8BlEIyp0MFeTkW2+QPAuytZ63wrtV\n",
              "5DdNzwH3aZDLv/dCsuP4hYGqaEYtFfqC54zczMcW9ArsPdFmxMCTATKDfvu2AbY+AvRnnxfv2g7s\n",
              "z7uLHvoGQ3frXFG5iMqgu3suG4wz1vXWEf7fBBqmdLkim9IJ/tc6qazp0Y1rHyHhWA/pi/+IuOcu\n",
              "NpDWJdSnmndDU8VMFm6DsMkEzoNI3pmDFAf3HTuR229yFereP1JE+elNAAADAD/BAAAA9EGfDkUV\n",
              "LC//AAADADOBcyoxY5gAdi9/ujDEc0aWdeLS6CcZ/TrBBSqYqh40qzyUOnoinOqGL2inLiiwVawq\n",
              "HmBrHy8EBqqXPpbD6b7TDonQg+AG6/fUMAlnvnp6ZMINu8oF7P6N7dOstlca4acN/4KnkrPdvtCy\n",
              "zO5AUvYZwqU3c43AlX+9X5S3l+Qnd5uF2E8746Npr9IpHts4x5bDJ6i7VlFVnCo0cOFM/beJ3HgT\n",
              "C4VYS2SE9mFrgTwS/DnB8pym6e/5EBlM0AQ5/KNCPq4NEpElkYb3zHsczLq9Nd4kfPNhr137/9ML\n",
              "C0bkPLwsAAADAWUAAACtAZ8tdEK/AAADAEV713fCPABDei5pCL/bU6YqpyDftSpAKttrocYew6jT\n",
              "gm+fYOyAi+Bjvkk73GilsP0yOHRY1/LKAndP+G69Kz7HQUMSoX/j3zvOSp9a2yj0xReoe+kxM1ls\n",
              "zE4x4p6ucsiVohebVjl8AVHRu3w+fPOqf9+MF+cOMHhMdEr39h1Ubm1nyk0XcGoF2Gd44iCsaLX9\n",
              "afht4a810NSfuHGwcAAAg4EAAACSAZ8vakK/AAADAEJtHBEQAg/NOlSLEL6XfqA+dlF4vNnCealJ\n",
              "127PgJQ6UDJtwKt2RvIyT4SwRwXW+yYxZUdDMbrPqjOgVHqfa89d9bGbMJMAEaqErDqdmqNLob/C\n",
              "LSC2xaoqPbI/dSP0ZgdSgrnwFhvkPdxUbLcAiwrjWUUWHgyBzt2H/Py8i/rANwyddwAALaAAAAHE\n",
              "QZs0SahBbJlMCHf//qmWAAADACuMXp3QAlTzaXOn3PHXvuYWa9bE5lQPmJ6YrtFu+9f2bLH0oB/v\n",
              "GCTu5K6XKZcQwpEh+MSfTyiv62iHVETmHy60gjrCF8B9mwy1DK15lrKgrPTI6uxSU3bSzBmOwT/Q\n",
              "14PDeKuWdE9hZzWCAo8LrqUcMiX/Y967y7uhwVTqcS8eAS99PQ/yh9/3cPQwfBs40NQTfSYvMDRY\n",
              "YcVwZZt9K3msAB3vdjhDEnFjpnMsJdvR7psBPJNaJvQAgQ3vtvwlveSk3YL+gkvAh3zHeeS2Sp5a\n",
              "b7waRprqyQhZ/QrsUNciQDBiJ2krqcD5YuhNDJpkQmzvT+tZdwaTEs4CKlFk3Mn2drc5KCxV32Iv\n",
              "DsaXFPH1InQ4LwkVCsvupqLTn/Aqz0w1rdUXyppKg0NgSYIBZbMFxItud3Pw9g8VYA0n8R9gQpkl\n",
              "vp2Lq935w5OY3zV7WtngYMcc2//eIf/6KYeH+1uZO+8Gn7GCryUj6Dcv/MKXMnfeM4os2b+pWPqu\n",
              "V9Wn24CKmc62iA3OsrUN1MpyyNKPGeEF/hhtHixGybMXhLjjmYl0JrU0kWkVFOlOsAAAFtAAAAEV\n",
              "QZ9SRRUsL/8AAAMAM238ogAP3Qk2ze/uaT3WBxeQvbkGYtegDRhsj6Uj1kk8pamIqWrWyUElqAGz\n",
              "oDeOOEktCaCLNaaIY3WcIOwT2q9qqswbSny1KmJXt5JsEv649v/193uDTqwOpVP/SEv8pDBD8K1l\n",
              "Bi9RNVbbga0QnRdrT9ZrSVMIkjk5ACZHG6OfbOdTkt1r/0hXMY/0O75Oi4v4lA4vaWQEYayW/4Br\n",
              "lTYM3DXplKdjIK2aq50AeLKgVRlAAW2YlIe/n2FDSRLBoJLpVX0SFs4dWIZnBdBQ5GHkWGIWxSCd\n",
              "2wyzfDtuTEqi3Lxm55ToMCEHmWaqOsW+/QF3dnA20YyegloxQO3A39UXWgrBQAABDwAAALEBn3F0\n",
              "Qr8AAAMARVyjO/okzA+ACULAnt/WpG80fKVhjUV0MQT6AQc1cVaQZjfyhPH2I71cywevZ6Flti3e\n",
              "OLNF1CSVMqKBVuvyD1na1AUyfOAlX5yREcj6V21pGu1AEuDcbDjPrVRnhBUZHJYOKyfdwheG2d37\n",
              "Dz+795mHomC9RNntHogQ1vbWhQF+8wLdbUQE8j6P2t4HG/LqYzt2MQ5MhNMQ6gKRZPNjX5oSkAAA\n",
              "CkgAAACdAZ9zakK/AAADAEVkC5G6jgAbLw6Sos6VIuarchMSjVPjUON1wSh6R+LIttbxM9GXquQu\n",
              "QFrhffoOSZIk3EqTaVsszWsTDEBrk6gY6ktIJVRogRa6o8/4cqK7eaYyglB5tHNL98GeS5r2Drem\n",
              "bn8P3Fish7cYQCrQUFXXpxP4luQTyWFH7ZtyLPJM1j5CF2F2hYO8PQkmZitgAAAd0AAAAdJBm3hJ\n",
              "qEFsmUwId//+qZYAAAMAK4FMqAC46FCnB14wACU5hwXgB3ppc3h9Jto6kNj7UH5DWByxEJTi5U4r\n",
              "J9AmY+nStY1rvVeIghd33bZnPb09T3cA0KSmk1A6jTBtEXakfzaPAKteybGnq5najwaNDOrV0Cjj\n",
              "OrtMIZWyfWo6pVpUz/uZfP4dy9h6pLxIm96dzFL2oRlRKZL9o1axrnrfuwbOENtUm9djE0q+5peU\n",
              "4FYOQ2APdJGUgLD7nSF/8F6jMYzwI+9FTlqcWF8xzrxfHNxlz+JQPdGdpq79PLMVh1guYxXasy2O\n",
              "IZNRwIx7CXaGd+UYxygGIxx0qNoOl6VubCdyQ/AGodotKDI4/Uvrhkw8kqKyJQyVhMApz5FyLFSA\n",
              "IEV2nSA3UKcIyqB7rkMUp/mKgqUBihePtldQr+w46FaLbfyLOyZJBE8oZJgKkiDM63UUBiG7nrHC\n",
              "SFxNm0CX3dfrOhtPUpvMG26hCZfISQQflC/W3aycP1He7vozq6cBQYq+LfNc9ywJt8GI/+o3MTZT\n",
              "Q7qcj+WF4e3RErWfXf+vZqxVcP2KeiMh5VzBdLBGciNTGCdkrQ6zEClXsHqz6/3BLCAwdeUKvq2W\n",
              "rSzbSmpBAAABSkGflkUVLC//AAADADOK5kACWSKQ4PyKlzr2E0S/RykNWq99vdEAJWvOjeO4Wsmn\n",
              "4chnERtIAiAusDq0XjrvYP5Bbrwk45uxM3VGE5x7hTL552fJm5YeBvbWWnopNKoQ8TVETaXZIUUv\n",
              "56mjQN2beAvZ9sxCKB+xfk+YctwAuJ626sD5WUZpwXD+YxjLgkyX0ioRSyHAMHbLs9spcOZFISYE\n",
              "7QVlJKMYIKkfLHn+W5sClBvoDg/d/SorLy94BOt9yAYzsk8y6eU7+/4SLoqZZCKnGFLuoGyPznW3\n",
              "PcYt7cWzHQzWui3pMSdOuZCa94KURqpG99DBDmLSVgquprAM1JUWGi85XQw9o0jx3TthcKIYARgU\n",
              "Y+sFIbuj3rj/VLFGVIr2M4DrM2/OLBpXQUAX9LtbulRQ/ggJvGSppfIFyHHuiA7clAa9kAACggAA\n",
              "AJoBn7V0Qr8AAAMARXuCNvonwARB5sYqoFy1x9REJgmmxuY9g0SU2N82hhxdiEkGd6x8NoYHZaO/\n",
              "tEWRANMF1UgLZ8OFh4uvMBmxSJSVjYrY9EMiXHPpeSGvaXMB78+rROvkXcMz3XHFn70pvUQ6b+oa\n",
              "KKs7MOKEEubdd1uUXGbBeawhCthLJDxA0CWs6K+iaHbDqXDyaCAAABvRAAAArwGft2pCvwAAAwBF\n",
              "daTa/V218AEBWZpZWViPSlO7pjm3A10bfh1nFwLhfSdiPCWYSItYaIuTMaWP0zSS1JeGJxB0tbVz\n",
              "7syfLGDThXeb/IzLOTfHL7y4B7NAP7q2jUKgeYUxxLQCpdhphA0eoVj31uj2gy3WeyjgHfCxL8EQ\n",
              "V5gDuGRQXelqtQzyIeWBd8Q/jYd78etEiaZIk2jcBFivwP/1xSxozzQekIxlgAAAqYEAAAJYQZu8\n",
              "SahBbJlMCHf//qmWAAADACuQVhqAB9wX2/GGzSif57A77QwD7pNr6urPfxFzBuOxQGUoHgPnUS0c\n",
              "rbVnEVF90LCvPtboJgU6cn5znvK/+GGABzfrrAls0ejybTPrvnPgLm/liQB8YAPlME60c2eOeRfw\n",
              "RPPYTvBF+CH1xb3PXr+Y1fpYgw1oqHc7aBM3I3CHFmhEW+209e045WnbokztlGZ2ye7cmXJ1BPNk\n",
              "Qhp+dRV5xU5IfAPfJ/+SvXxal3X68y9ONi9oEyRmra1iqATEQpbwQzssUBT5xTSM3v73sKWOC8sQ\n",
              "ZBQtJNTZ+3ctVFSQZNgfoiUNAXsBvxHaua+SscKQhyhqNuv9/J+ExkflcyrFw3kWW7d6ArtvBtft\n",
              "PY6IEG5kYjMrOyOOq3qxpsGRXxBlgQ3AWZZFDvC1vwVlDkYsB2XfZ6EsmaDzYVcjDwU6sF2P5Z0Y\n",
              "jKGchNx4YhiPUtVPJLLSTgzRdLZ6zb7/v0d4fBj90TBjHJLryjGuA8q5amrK8QIQM7tOJZwTZjWT\n",
              "YoLjrKso34F5MIh32ebiBNR8i57URBPnU+I5myunN4XYHRwVImy2np1PGa0RAcR/Nbbk7srwIEuq\n",
              "a1AbGVdfSEJM5Tjz1PjNJp5jTjyeH0dQ8NbCud3ncJPnSb7tWV8GszYE6HDjsFawW4PGmNzz5b0+\n",
              "wrpggqgKMsxbB6/QXeAoAwgcDYhQHF8VOmkl2z8CnTzvJ/K+OXkyiZ7Pod84xkKXY5Hs9thJjAUo\n",
              "cj6aguKK4Nl4rJjSTJ4i5z6fGv4rhNyakxsgAAAAzEGf2kUVLC//AAADADOKZJUQAL67YEE2o2U+\n",
              "vb7QKD3bNgZyraTK6MNJ9dCujSfubXI5a3MnTnYcYrmEtTjP7xJMRNEdjgunH0OXGeFABvzi+1Ps\n",
              "NNxEZ4bYv9iK+YbYfmp8d4QE5bA2xqxdMBGldY4OXjgIFnDd5e9Tuxvb9yDlbI6OYPyZ+uNyAVIB\n",
              "f2IGXZ+9rNnAb5AN4awe3C7exkS7EbOntbP1d8FPCLndVy4hsOuPeroSkITzkn8XJL09bMun6YgW\n",
              "HozAAAB3QQAAAMIBn/l0Qr8AAAMAQ6PiAEKcwcHHApqTBYdU9rdsZPK5nlbT8JBsTN1R43jSnVF3\n",
              "VylUJfFBDUb+zB3Rd9ScBtGrG0Y8nm5oiw4Y2xqb6TX5KKFOeIy8iK+1+Lk/zAIyDwqKrNjE/w2o\n",
              "22I1fFUMve8BbbO/MfzL/x0Ggld5zT5uRf/gbYFIk4bu/nnlDpy6noQgUr1Rb8/9psvsOcThxjPT\n",
              "pXfP39dbdWUGEuFU/lGlZ38YKKfHEqO4zVg1YtIcAAAVMAAAAK8Bn/tqQr8AAAMARWNHOxa+4AHj\n",
              "cL3y38ZbtpwUVZVXsGEXy4B0WIbMPLriqvmJnf9Lay6X1fEOrOoft0HNp5cV4q3cLtVuHtjPU5Yb\n",
              "Y7WsdD0nb4QudFXKhVuWjOj+oILFXltJp41qKFvmqFl/Gr8ZJ2aKJQlw3jBByzbPVJ2vlmCBNE1p\n",
              "VQcizmngx4X+09GwyvzHjXg9CsYb8LhrhP/fhFHvQJ9MEWeFHu8AAAXFAAACVUGb4EmoQWyZTAh3\n",
              "//6plgAAAwArfIWgA3E6zLvtrk3rqsiXwvkWtJZcKhFq399McmzXFFCNXWsiLpqWgVn8rEjJJRKy\n",
              "+NGr30XAEgVyr0zzxCv2QfDrIQHUyKbhr8cVRpfwMwb0/cRnTE6DLyzcdyZbV7osgwuLzd0ASG5L\n",
              "2jhee1o/zL+W14j8VRNPH+2FUQ5F5RfwMg2+PJR+3s3gw7ETgEu6K6LCiUP1bdkBAWydtcKJbd1S\n",
              "cz52XxYNknIH6TCOYexUSuj+RylfbznW4Lko24yw+Z+NHRhcJ2LpHirFEoyQTxcIjcpx8J27JEfV\n",
              "jZR5d62rhL8vA/SiITXYMx+HF5Ep97SE2F7YTYFyeTLqY9vm3ij3/hDk1Jrj1riV3GBb9JPWjeGB\n",
              "m8TCV6zQy4owbemcMegf+1rGxnzCoNuOie1acuOas+z1a38JrgFsZzqdyKsWj4OkkifRgcxViROt\n",
              "IIxXTJUK3Nld58lT8h8gXiCPzXny4SMom2Etj2UcAQq7ABEj5RkbEenER+CrZZ9p35DPgGgOKk43\n",
              "sSoQxFlAi/sR60cUAZC5WFV0YHxzJSKBHabZ8dLw/zCSQDnkANQQ0gSCou9CtALHZrYK3P6qZZOG\n",
              "yExoPG3HnuXw3S3rYOcSlqSl5WoZbx2iAHsddduiVjTHPLVhYzJkz0jR9uohZlV8Ts6j/Zu/vIHf\n",
              "8scarm/+U+Ai2jTEFFj8yh46QLvPLXmQ2e57Qo5jf2AetKLz45v/WSL0jNk0BTQuT2sjJiNOxJp6\n",
              "mK4iMhqN/cRwQ9gAAAMCbwAAAQRBnh5FFSwv/wAAAwAy4nURcAJh2CaAZPqwSGmlCb358OT2f/GW\n",
              "7NA5g5CdRLWe5zKkvGhxe/QeGv/vHRVc0h76nh42u1NBPjplVYNoiU6bcFiiggMK3+X9sAhmxpnx\n",
              "6xfxizm7moQG2l6eb4+xG2WDBWWYKPUyi7K3W2deRBFLQIl2HgY/14012rPMUkHt6Ubj7cHwSvEB\n",
              "Ln5iq6NqgVgPe8uqSsuFfrv7Stt8+gOcsKzL0Yad64F+ScDEygxq0/zcZT6E9yE9jW9ThOFPZQQc\n",
              "dAYEyA15e8KwAejI9Q7vh4U5ylz4Eanfb8D07r/kS7GqxMnKP/DhCc2N6xjZqMakAACHgAAAAKcB\n",
              "nj10Qr8AAAMARXvVPi4AIbzTd9O/tBuQC/i2W8XevkkKM0eCUxhFXeLIttbaguQdhNddJ+0TNqmY\n",
              "/zvTX1y/Tbl3IPTnTDXQHcfxMY8yt9h7UqETL9utPc7PqsEEzv6Najj//iBB24wxbWW+0uzhO1j5\n",
              "yHON2C64sulAHBmwvu+x8TrVWZZleb76u1gZvofeo/ZxeTagbXIxh/vzaHuqS8VGAAAsoAAAALIB\n",
              "nj9qQr8AAAMARXVdJAYZsO4AIb0Wcc35jaRffMKmjp22sLObRvjv6ehEEWwBZBTfopYT2rUJj8tq\n",
              "Vtf+KqZbI1nxlFjk72NVw0wl1cAi+bVoW8ZcySOoYXSFnX2702rpFnNpiokQ4UMFt4TFSNe1ws8V\n",
              "HoY+Pww1k8pnqedeGOjRmQkXAz/oE0r/byfA0qVrJPRAvTEK13KC8JUj5BKjhGFg8h+bGTBEGmlZ\n",
              "+gAAAwGBAAACa0GaJEmoQWyZTAh3//6plgAAAwArgUyoAJxRQ0X5GS0DB50UIX2na3iwSY3sgzCN\n",
              "dCf9+DfBOXMLXcNrfVDhfQp+0qb0v/LgZQdW6RtH2bcaCyctM+CVRP+7RxB5oY5nVEm9ive4YDlU\n",
              "GH3LYujqUHkDsnv4Dnqspy8UNPOKxs9XUbxIJFgD/r7Mj0bzPP2hNMwCm1RWeceG3mTObgEpW+nh\n",
              "rhr5+kXo9HX+JXmhn0Tdr52gCnWExJrWqKK5NKg1dq5CS+aLCuMrHmbjGYHzXKAAiq7zPEsN21g4\n",
              "nppiVwgPi7KM6ZD1l+r4k1s+VyiVfipkTTiuYiVamXIKTXPReiysKrbGvONRkN92EtYlc5uFkHGj\n",
              "TqtTUMgg7q1rOHtIDzyiS5O/VJ6smCrxxEHByEhEi/UFZecyUwHxVkZepD+vS+VhNtf40xRXZG/e\n",
              "iVGdQBP0yyNArAzTXhjniZ1JVr6rnZ0T1GErZMopvmTDvc4vsqT814ikTua+ONBJeFaFYP7qyE1n\n",
              "Gaf7e72OkU/UXe14kcYKyz+UqTx/gHHsSkvAG58/AuaS706SU/7v30pxnPUKInPs5AevVQ4l1LNG\n",
              "D0TYkUCZw+cNzGAZPnrdQMtqQTLkU4rc9aYmyJMc/rZ4/f4QO3FwXTsVNAQzARe62lvI6GJmfgcr\n",
              "nf8lxaVAH0LeNJwOX5H/z+JF+rOllLOOdd+Kr+JzmLB8ncCvJbSSnI0nFmuoy0av0f7+6up3F2vD\n",
              "cYauEpETipCwH+UpbilY9pW5gu2APnx03pVdwGF2p9QYVq2KZvAxB/p9QBar4Xgkj8s5HqYgAAAD\n",
              "Ag4AAADcQZ5CRRUsL/8AAAMAM4pZfejAAiD1KEzGWHoF6xxS4byUn8DWKAQsjqqjEv5zdGtZaHan\n",
              "4r1iGFVy47GhFQkAcQdDLFIObs4ZidYJAIoB2Pwf5xHAuz/mKnyfPxmLlVoULusAcANOsf/5fmXI\n",
              "/0q0nkCc9fsYH8lzvYDGfQ9ggjuI+DKKmF81huEygQAerQ2xXabzCRpiM/edTz2m7eK2OSxrnGWE\n",
              "gjOuApLEaiVRCz+0oiaI9gKz1kxWfpRNSA2uZKr0mVCjU0eUTzN5nFTwFKoWPRUpMnHAAAAXcQAA\n",
              "AJgBnmF0Qr8AAAMAQqVfvwWykDUAGq2h5uV7I/ReSNumqy17R2ZWdFZYUg1Cg197cRFilHrXrfqg\n",
              "Y/v5JDw7qrSAPASi+5y8NK9jraYNzxruzDYcvRkBK+WzaiHHGGx+0xVPrcRJ2ApdEt1xx1h6i9MY\n",
              "n7lu1WJJaV7306jYXbDS6V0gf0HfLbE6Ts9bWaFM+iYRXwAAAwAf4AAAAJ0BnmNqQr8AAAMARWNN\n",
              "TXABDeiyUDPHJlGqi51YT1TmlOrB2/c68wJnbklaG52TWsJOy4WoWBCSH/g/16xxhsAiiZeoMV18\n",
              "DMrXjizwNFpNn2rj13oH2TXI9n1059RUEKI9Oxvny+eI9AKvlo2kZr1h+AjMAU/PYSs3E3aAPy9B\n",
              "K0lEG30P2rk5NwMBK1wHs5iIQpEbnGgiLRgwAAG1AAAB7UGaaEmoQWyZTAh3//6plgAAAwAromsM\n",
              "uVABb06jHFfeB7htTFIbFFDVXmPByh7B5vGJQzYttmnaiCQf4uwHUK6OPq5VApIhkkGvFPTIO10I\n",
              "+NM0w5DLtfEmtJq5rOKGCMSgveBd3203CV6k+koZQNqLXF1EpLlpjvntFOKzfWxdtMyVbPQD2Ws3\n",
              "/xTrZWcKAs6HNSGfIZXA0S8JK00qFBilUEPMp0uSGHtK3wxIO42fSp1Lu/uEXdFA8n4n3Zeri0Bt\n",
              "6tRfZ4SJsJR2ll3UlgTyyeJ1wq7QDVSdvit4yvgW1nx2opUbYvOvADCj960UqDcsBpH4lW+uzFmn\n",
              "YlmkTP5Gzu48cYv4MFWflpiZf7tpI5lGU69WCDxJKPsJ+5+ik/XXq953wW+5UKb1cw/j4/PsXl2n\n",
              "VwmFvCy/SEwlw2/yEdrFjrXeUD1qWUMcQJy4FmnlJuRIVIT4JevstdPaPQ1FSh5XDvJitMJl83g+\n",
              "0v4yeSvCtHoK/nworbxIUS3gogOlTnkbnOWJHEsY8FNmf6hbiQtuVI1CxpHrlfDWC/bKFGsWmO9/\n",
              "/6LNEDXBlW311ikq2g62mTXX7aTznGeDUuuiSv4Uxq5MgK5ZCShpU9dZU5kSDJsqNiBYnBoOEIF5\n",
              "5lZ2vrCVy5zxiNL48REAAAFBQZ6GRRUsL/8AAAMAM2emIYALoCpSa1KpKvLPn8crPjH6sTqQZUkz\n",
              "R60jBbOqWUBG4hOi64XSgy30b7SsRhzTC1U+pBw+R3Gz/KUxkvoRzOn3v7Saq25f1lif6v0nspEb\n",
              "TCRExpQBPrQkakUcISZqbyJJOicN1ryBw0MqA0L0cTuid3ycqB05fJqhUIZpxtYHtAnrhhfMPlVM\n",
              "VSI/l7ZEu8+DZeqKucW86p/G2pGz90P/FyWBi/O2kXQ40R+OeB1gVmeJjpWCSwQA3K43oP/G+0Gs\n",
              "uBhcKeAmLZR2cTI5ohVhA9gSP2QCGiyo6CNZSmeVJBvuhO2+sELastqSo0EgS0mLvLVo3Iiza3yB\n",
              "noDs8NfX4OFyL7g7Drk3lqUMBta/puvVLk27yL97bTSRExGi5f7FXIfhvns+ZBJUgdgAABUxAAAA\n",
              "mgGepXRCvwAAAwBFXLBNU496+ACHuO13dyPb9vCOtxVakwLKpRN9LsqhqWLVG0KP9augnLidXfkg\n",
              "KKwkGhBgZ96cHrD/ZmHJ4OdBN5ql73CRhYVfwQMA3yZzLS3dP+MgGjrWtj16Eef562hjlhSVkbUP\n",
              "t+daBbwckQlsqpbXvAtZ2FqkLdxJvQ+ytuwgY0IiXRl+kyXUmAAABvUAAACgAZ6nakK/AAADAEV1\n",
              "sfTPS7gAhukr/6urFJTEf4j5FZ6TiS377p3l321ed5m+VLvYnStZKk0L7C3+eRYvvp5BoXuL7AH+\n",
              "Mrkvw7kakTSsd2zwuUMbqp9eTvNrU1tL4ru86Go8KxfigaQQc/kU+7GF56pKu7yeB7jFr74ev5N4\n",
              "659D8782Quiv5+4TPE/Z03E4y/PrWp+rcGAoL9QAAAMCVgAAAbNBmqxJqEFsmUwId//+qZYAAAMA\n",
              "K3yFoAJySlemUWcsQ1tj5SCXjSIbxXcJq4DvJ5wajqMr+bP67nmK2c+chbeZMJUGxw9MwntkVvaf\n",
              "4J0CseqqTblxkY0KWDxqTkYf0Oqz4ANYU2yNl4Ah7uKf00fRznFB74dF59Ibi3CoAOCdSn7WQ1R5\n",
              "0ZoxkWUT9wVgg0MWK/H5Crocsc1n5UsVCy6nD6XbCS4GKu8wHfryG6i2wqrGMT5hMPFwVIXJ+Lb7\n",
              "yVhKk90gRcUeLq4KoXfWomtwGgY7RIxqEwrRAm/e77MFm6+Ac3Ae6h+wJFXVnzmfraVxXWEyA9/y\n",
              "5u0Cw8Ur1PQJespx9nGsA0OfjjfcRDsMr03XaOCey5cdDu6kG2z/iixUMpLtOX3RvxDQMFOIuiqL\n",
              "hiJJIZvqoNHr9tD2SDhbo0XDry4uKJ12ooxzo4mcjxmFct8aqqmZ40lIUGuaHM/ElLFiWbUpF3Q/\n",
              "0k8OYLHnHjcY7N4ZXa749/vwc4TcXzmsXprEl2Kf/Yy/HH16eZWrvFRyzly3TMaYr/GiIB25tp9b\n",
              "G5dy7uNmrmEtwhgAAAMAqYAAAAEfQZ7KRRUsL/8AAAMAM4EjsnPiABtKYbF9sVHoamkmpVLwn4kd\n",
              "1+rCx7a44pTqD6Itfkm0GlUxa4ehJXYXDRsVfpVoFGTPfWtuz91WcMRUqmGKAn6f4xGUvAmGH6uw\n",
              "xd3bg2YG563FfFYNQVUvKTprywJy6RP/dveuNHsr3CSdljWCSWNHjvSNWpRiYnHWRJ77aDMShC34\n",
              "JHLeCHxXjcEBTkIAuPXJBEU5MRMSWH1hZH+xTHKTYv5JvQmalqun42IXJTCyrsQIj1mrO7lRZjqM\n",
              "7emW3K6gnhoDtR/uI3im/bmrW9gBtDdboAAAIP/zx7JI0Y2LSnLqgPbKaahib0+5r4mSzbEKn2RP\n",
              "P2rPy8HCr58cUUVvtj1vG2kliAAAM+EAAADrAZ7pdEK/AAADAEV78CAgAQjFZAcaHv9CEXO69hwJ\n",
              "yWi0gpzdF1T+auAyfiYBzDh28WwcZzHxK0p2IaV2AN6D8dUcRPS1ZF2puS8FkyXw3A4v4dvc9EeX\n",
              "5qxFm4DlD06V0+JDn9GPOg7yVapma9ZZAIpmAQJtyANPme6EYb6ZeYaoz3kC4gWf1JYq40/3fAO0\n",
              "YfsOPZfHVEd5TFCTsM7wSgpNsJlX7uMR4WhNcyJoR+AqulaoucRTfXApA09+tR+7A1y2+nkupd2i\n",
              "72aVGI9VajkOqjBmt/ph715+WZjiupmCj2kkBgAAAwC2gAAAAL4BnutqQr8AAAMAQqVfn1tpsagA\n",
              "/bYkIXGVliQc0BIGkG8yrBBmHivWjP0vTzAAZprul1ZWmjgucW7o426O0lBsHB3CvRYh8R1eK54+\n",
              "KncA+zr3rePna3BSd18Av/7Q65Z0Lx7cWUwBJBySo/kWfJXUKOzv8VclensfgPbFYpYb3ZIY6oT1\n",
              "QSkWAVhBuC55sgj8z/2jdYp6oKjQJ7zhbMUt0b6SfWRDQZm+P56H0F/jddhtam42HSyg3oAAAKuA\n",
              "AAABY0Ga8EmoQWyZTAh3//6plgAAAwAri73jQAlOv20XtY1lGVv6whHU31aU1KegFFp0inhZTFty\n",
              "EtT+AZdv7kah6v4cLp+wib7qedBzBRRrKd4JwqLjgOxas3+EnVt1DvL/mfH1CHoEQacxAiF0NhzS\n",
              "Gx20CZUW5iClUvQELY9PsOKGJYhS7EBkvLPUKR21CSR9T+wZko+5Xxjk8OMyBcpRyU9ekmuUTk12\n",
              "crJvHBrcfz5niZGUQQosNrFLH4aRUr9SDwoUDWQJw4yAYZU8LV9YjItT02DRu0CFfM5pDJBkJQ6l\n",
              "M1UZDGoyubEQJi+DU3fhzI83Eq68VgMN6lt1XpZHXqyaW2L8+5lgC26XOL9ddAWg4TFMpqoVgm7C\n",
              "iUZ7mirrRxp29BjyRARvlSM7WaPs2JdIOX9FixvHy9CvnCDW1ukdBkqFD72WzzrC75BZ01l5e61L\n",
              "yJH//16r5j1eKMh/AAADAm8AAAEdQZ8ORRUsL/8AAAMAM4KMgAP3QottzQm8h3tcTulF1GNovZM1\n",
              "fiHmxp6/Qh7c5Gj9tMEWxlgdnbl0o4elZbDsIoATMaVZZKCrzEIvWbuUXmm+pTW60ow9kDAQS3me\n",
              "DCwBRSayvmYzqdJ2oRhUsDPK0Qn4STsNVeIgQ58GEypYe4CGMtBD4Su4g74vwSJQYb/fC2sBCy7Y\n",
              "ZJW6cQJtgVjDD5VNITGbLUSeH9t7ey8MMTPhjlqKbtcrVgnha51fY6sBqSS3flR6m9vsw4rphVkO\n",
              "soVWQGkhrJO5dtnnisr9OQ04kCJPAHpXCWu+5QKdyMbWcbLMEXnkbHveRjXYcAhaqqmg7Uj2iVmm\n",
              "ngfCJ4hSKsWn6UdBHrpI4igAAIuBAAAAqwGfLXRCvwAAAwBFXK/GU08AIQomw5eN0nEVqX54vWEG\n",
              "+A5UXCAtgnp198G81eXnNZn/f/ZfUmh0EYP0SFxoMr3SJF+O3c099hhGX/XKi/ZBIzTFjFMghuK6\n",
              "iM8yDZxaLnX5NXm6nk8JOo4h42p9EjmjJUkYuS2JnHQ3ZPS9x16VXwvajaxTfOVYIYF4HTfJK5x4\n",
              "PHNjed4VtRQmuWGP/36u/4sZggAAAwCigQAAAKwBny9qQr8AAAMARWP1PArwANnK3bvvI2fA1RRV\n",
              "B6W5MwTAWQge30xGSMob62GBaGf0WyvsETXRl37bcckGWTaHstKatiWBJdf+usbYs8BpiRWBA98t\n",
              "R8NIfotpuY919lyXOPrL6iWhI59DsiA1xM4QZIcVs2oyoUrorhrAD/XZtPFZ7VclGyZqkwKXBLHZ\n",
              "nHsq2rWdyW0lYxzHcZ/m6fn5sNewHUgmh4AAAEHAAAACOUGbNEmoQWyZTAh3//6plgAAAwArjWPC\n",
              "3qAC5QvVJzMf3UqqxDdE2Fk8Uc6+mqF8IDxa0G/aRug0duQ/AD3+bU0nWU8R9FM2SJnuuiJnp8AO\n",
              "YdcO+k/RnAYq12NRprC9AZ6MB2S1FBlwqJ5IoQ91fRiP6NZQyBkkj/Qb8YZJEsMwKbOd9YQlNOKd\n",
              "o583aYeN7Qr873/pnDZyHMcO0OoGnMwe8kfTseddIWpRmo9sFnmFFHXL+3bVRpv2x+qwFk9pFvqY\n",
              "rkWYaaUzG3jYkdwb3ZdTKlUCNhS9ouToLtwPEqjwxoQOyrcK/+eArTLBm3EsoWQ52AZKugsa3AiX\n",
              "oBCpUjwH3maPriru3YSDACAi0kM3VlBVD5FHUuWs+NQTYULYqyIDn0mDHavi75jHkJRLXmgMtVVI\n",
              "2Vf3CkJqRBH1f1oKDNuNjH12nPvJrKN8BC3hrN5IGilVEBxTXjak8dA7USBAGf8e7nX97KhgtsqP\n",
              "46a4uql9buomjszUuneZAz1nzRMPEJ5uO5xO2t6XrAfqb9qqlslji/rmPsJpTjXZmJVHa8WJuC9y\n",
              "Zwha0gGLtGI4fNaLqYUrhz/OB1QlYqgf0LVG/Eb7uI2d4alThU6A1kbLaUy2nlqZBl5fFjqNkZMQ\n",
              "0fgtxIQTLnORfpmJKjGZs97Uyg9JpXZsvBnnTu09/iv2HwNbJ6UiE2dF+eP61iXxE5+n4feDWyT6\n",
              "cKHM1FDKnqPfBxrfPLGzwA1ssZTLDt04fgt4sKAAAIuAAAAA4kGfUkUVLC//AAADADOBO27L3tZw\n",
              "aAEBXKLWoUIaOnQKskPgPxPArvy3xKl+Oxvii9ReWf8ITmolkweL4GokhEHMWZUWo36awL0oQEC6\n",
              "eR1isttKLPOAxKaXzzPD41ZCMC3+/YzL/o12F6YGQxhRhKX73rvbh5tJxFYaJUrJA3LSeY1GTC5Z\n",
              "hwunROEjFUL6XcjeXC/mJ78ZIo0FgWxup9XxDx1vS6Z7s+23EsFjuhiIqEE4Kw8WSRZRZDTHEJnW\n",
              "iOETctFVN+HAUvblwPys7hm6Bslc0t7B+3bGiJdccAAAHzEAAACPAZ9xdEK/AAADAEV7x6O3g7gA\n",
              "hvRZxzfr2xoatNWkgg8ZmbvGllLljrtQkIfFqWPjBXJIPdrHfoA0yS8tBRgObGCSlhvHn9vaERM2\n",
              "xZnr3/lrgnVMNj9WVkBm+MRmG248T4fdSCQpqLfO/fvio4IG26FT0WtPDnHUAWwrs/RFWZTPpYxB\n",
              "5HNR2IWD34AAEvAAAADEAZ9zakK/AAADAEOj4gBB+adJeblyUaWKbu/pmgblupQBxWkdyMwi9ufk\n",
              "WIgkYtI/Mtj8thmLG6hKY/xQq396Sql37wfupMZPhMSyKBc6EMPdpL/LNw6F6mvzKRetAaV0g9GL\n",
              "SHkBmac8rUFnUa/d1ztA9qKWqQSuQ9b+JCtfO9kwRGaeWMGqpdTj5PpJ4WcC+AJ1r53Xwm0F64Ln\n",
              "L8sDOF8JgVvHwfyJpChLSYDHKQhqGyikJwP7w4jUcLuLgB0OAADFgAAAAZRBm3hJqEFsmUwId//+\n",
              "qZYAAAMAK4xQy2gBKfbmOMUJui02CipUIAl4fOdTI7cLU+5uoORzDsHp7/6FCipYb3QLxuz3bhW1\n",
              "og+RCQN8rRQV42+yfIO/hdng5D8KMOjXl/IM1h6jzkOjsy6i6MYsuL/LGxYzqmJ8jHUAa9rly33+\n",
              "brJeNRqpwEIB6bYSwfNri86qE8WUYrLh8NVCe1MMB6NmxGCRlLzf20IIjPy/RZoVT558odm38Ld/\n",
              "/CUCzPeMqRo2o3sIXOHgO5n7dys7j+aFIBTTJ5op20wNds6KajT205wc7cZj4qL0NPD+O4jyOwm1\n",
              "viIQP1yswle3gqy4Q0zyOhiZGSBt5V3EPy+by+MD0RSiH8DRxtdWaYLczrMLR9gDenvi2VFZI02k\n",
              "NWutdHFNyrwvB9de7LLFt7ZTValTkCNXxDk2AHf0r6uXLRETnlHtiG0u+90bP3edUQDzji5TTeU4\n",
              "amyq5EEV/ecNmkDKtWsOE9Qqj20LOe8MyQUThUXdjgP1NYJqACT/55rEgbVKIAAGVQAAARRBn5ZF\n",
              "FSwv/wAAAwAy7ODiAA+oo/ojQ3rEHAiAXsSsvZTdmrsvWtTc22ikEdl3hSEp3sEMhTMl0JTusneI\n",
              "jD36D8+0aga3znDpXN+t4GzR8RV7Xz4zO5zUYVMCaOd1DZY1y+4cfJ0//Gb043wBGUAHpeUI941M\n",
              "q3n+qmu3lxHuGHV9T3wTuOYst+uOIuoX0EPMqLbtSVSwC2yLjkve2FWOV+QlZUl8ZUVXZ01Z2IFU\n",
              "6bYKhI9J6BmvhxEm0aq42rncjbNzxEox30wfvYxGpr/A9E5e+2OS4lqW0aosqbZeHQzd0QVtYuZ3\n",
              "dmxfoZHUANpwr1GnRXx72LZICSZmQLfUtVhHds5XHR+LFGB0+kBhbgAAccAAAACaAZ+1dEK/AAAD\n",
              "AEVcb+64AJwl+gJ8GQ8FABFfcKCGLD1+ej/PgGhB9bYsYzgdr18t3XxRrvM5L7mn2XHcGoJygkj/\n",
              "b7hb+RayKl/2PQh7GSBWerGFqo1sTosiMmj/p2VGJidKc8GCN05Tm94tXzS7j0Num5uEca+c4wwd\n",
              "y7dMqQs8SiOnsirPw4QWj2cGLiGlRPFj2GRwAAANuQAAAJMBn7dqQr8AAAMARWQIwV0+vwASx6w6\n",
              "gZuKiHmb/BkPxUjkFfamyOm4a3tlm2mPyzZG/eiDnLxr0tKOcbi6U3SA7AZ30xRFuGH81vR8ChPu\n",
              "52ZTyB/4DDFKAB1fCs648OTH83GNv8BYKes2AVjNp81+uQ3CyfokImM/0FlD7fNp2dCJqQCovq44\n",
              "muzcX3KnTAAAJGEAAAKHQZu8SahBbJlMCHf//qmWAAADACt0W/6DoAJ1rjA9hPM/OHFV7IL5ENxk\n",
              "x+pBrinzMmZhR6dXSA+bs3w55S6eeQT3fVGlqLfbBf+93MueMmdrQ/ZM6udSc8Bk//J63ppQCDY4\n",
              "ANo5QT2EdZZUF9YAeIfq90ARq4J15WfOtlIMAPOjiZRb11IbMpdpc2vqvOV4H5fMWAxzO5IzrjoB\n",
              "EmZeP/qBbjBuNAChSCqWG73BF2yjUuFhMX85wdMcKwbxhIeVZJjByU2Y/9XWZrKotoBtwnQyQXpi\n",
              "1ToZ8/+Xi6hfcpTlgH5no7pWRjztstl9jOOMEXXi99mwkFmmhTfHI0oZ8U3ufhnlK1UkW0Lpj6uY\n",
              "epjH7Jrdz5oivcTJtbizBYQMig149yI49aAJSbwZTM+RNxTWQcDGhqBU0ByZebx79/fEXNfs/Rme\n",
              "UN3jDpakGrxYDQ3YGgwnYGbQa9dataerAzO/3djr3EZjbxYc0qVBNdpM9RAEDM8Pt/x5qQ4IsPWU\n",
              "ikrtWMS980VywdiFXebiLgBRYLGmr5sKAkrFjPlNiob1qJlbT7PA4dC4XocJ1oBk1iXeXuAAG51U\n",
              "rFBfkdiK8daUuCg1wHGmGXSof91hy8gmwUxA2ReEK+CTtlah/8FZd8dMFU01OzQFUxPS36ipYrxc\n",
              "a9k62s3OVFih/PiVt04O45ZqQlIDoCWzuunVthfL1eY3/8sOFH+kJm0IEsPjIT7KnmHx8oK4d7j7\n",
              "Wi/agK0bS3wrxgyDkLZ7qn19P/CaLppigJslOfGGhDSJ0FFa8EpYRJvM9ArOS0g4CbJkw3m73umZ\n",
              "zdOKQHlC9J6WL4sXIzWdmJrw1FvQoQX121ZB+KPoBGzTIogAAAEEQZ/aRRUsL/8AAAMAM5E6nACW\n",
              "5ODyNy/ftnW1viJqCJyrqRd7Xl0sG9905dvL1JuSe+9/2F6cQ62upnF9EBCdyh83xEG2YXTLD6Dg\n",
              "HOKg40uO3slGMtD3+jSo5gvDmBMl0OjHNtNsrQ0VDF74u2PYmYYqh3hgGrjEKmlH7ZrbUoh56D5d\n",
              "gzm/ZzQb/HK3n5yETAHzfvckn+ErESAy4W7UjlsQ51QyJu9Tr0wKcbNYCT0O2GbQbvw/dyzexHAR\n",
              "FS8jIDwk1RnX7TYxP+WvvvhUyrl4qih3ItVLjQ2AiKwqzGfxyctvD5QWO7NlZ+RtiRM2yWTCWXog\n",
              "PBaB9cojTK3vYAAAwIEAAADQAZ/5dEK/AAADAEV73xxRcQAICtRs+d3yPlzM8JsrQZaypZM/deN2\n",
              "SUKFFNAV9cfELrSAK5dWvc1f5CAh10npEfTC2Csh28VQ00xOJ4oKBYG0SAKdX/Da3BiD9cqv4KG1\n",
              "hxXbAoFe93G3o2CB3jEKj//4MXXO2WdOq2qhwDxziZnvjrfNQf8MRFX8A964f7VriTmR3AjnQWy7\n",
              "Sxcx9eY8U8zd+UjB7Yr9w6GuJmDZkQcEPvDO6VZZfiFggQw3dj1OvDM25fSLlrKl6wAAAwCbgAAA\n",
              "ALABn/tqQr8AAAMARXVqDqa8AEI0GQXd/4jrZDcy5pt9hoK3PJ9+PfxaV9wu+pQ+5HLaksinuxin\n",
              "FqcYlY8qznPAlFpiuqossIhID37ieTgjSumyTSCOJeilOZKAZ80ajytl8SOXaakj6HkwSGpqFDLr\n",
              "xMkKGO/ONkWRX0JuBGN5c98tVu1hx3rXLbN0bQWuOLqMj9778c1EspiGhPv8h7G96HQ3/aqTyPMi\n",
              "ropIAABKwQAAAWRBm+BJqEFsmUwId//+qZYAAAMAK4yJTqABeyX2/+jhwmneSRsQxqr6WMr8Eqf0\n",
              "XFDgJCrg5gKyHL8MB6GuQHarUgEMb3Aoz1fMjflDAuTLR4siXIiuiXLpGDg2/3+qhmQ1IdVWadjy\n",
              "i0/LyKBkTp+YsiPTSQCP6Omo8RvICVwynC1ruQwVoE0e5waDwdvyrPtZ/4kmBsm4BPZ0Vq5d3VKx\n",
              "PUP84njoO/AwGbf+NX/3GzunC3QSmzs1jgVewtj6+oxz87/fYe1bmW80ocXLSu1sHodl/tS6msNv\n",
              "mmVH29U0ohIpJcewgNWRKmrjlbhc9imyR5tNg1aUyXvfLCKkuJ23wiN3F63xW6Gst8/e8CTx+JjG\n",
              "FYJeAAtPKpDCxgLCEcsT/DVtdpU66ed++O+7no9xW7Ycv9x/zSiCupy4cvX6IhPBuaeNw6RSAo/s\n",
              "ZKBjmKcw9HTNrFDi6yo41roT3WouAAAUkQAAAM5Bnh5FFSwv/wAAAwAzimSVEADahuTJX4CgpEfe\n",
              "f2WIZccx4wyrxShiKrT940OOENCImzrKnVzNpFZsGY6XsJFtj7ojeXJ6p80335RGQsxZ/I3r5a9V\n",
              "rIQXT2s1tTA+NPKeNzWr+jEVaL+aV3gTeRT/2aBhKqFNt8GvGuuBFmv6X8h1NOOPMJML1cYaLadk\n",
              "zn6mLmMUP+W7kD07wmcum+lEo2Qp+UEdIyWWmVhAkzYrn/VyAPCGoLpGw6LrCfUnop9PvgqFadDL\n",
              "1gzbgAABJwAAAKUBnj10Qr8AAAMAQm0F31fOjFiAEKc3qq3kzmoh3SwUWpBHvQIYolvYjldtTl38\n",
              "WRba16wxjuHMy9CM5U64QHRdKslgI/PpGmuOBd0L5aQvtxcMdxst1XjUF9hn+46iXFNBMQ9v3KPP\n",
              "zFOgNIGeTpbFGGkjMtab40TUDZOSSqE+Ge0Y0wn/sSkm6j84NCPTxRZ8l3N9g1FahblVJGrfOsK/\n",
              "cAAAYsAAAADAAZ4/akK/AAADAEVjuFGKFaTeAEH5pzeN9qDSYq1NlPbQ+TC77kqSxytUPnaTR7BZ\n",
              "8+Zz9DjThCK6rrjw6Ldhmk1LkB/SQBWXEPf9sL76CFSBADsST4nbS8aq78w1paUDL8zA+QgGB9y+\n",
              "1PMY8QW64BkPvxMikPA3mPmzcHU6hb/vP565tCVnpI9aESaVmkhVe++Hcr/K93Xc9NgeV+93fLVF\n",
              "3Q5rnykx2h5RJ141ZgJZDkCfiUrDqq0Y9xAAAC2hAAACe0GaJEmoQWyZTAh3//6plgAAAwArvC3+\n",
              "AENsNAB8VeqXVRLogOUNsSxogV9kzbUmjtglE20P86QsOBq7DeFeDMH+TiSR2WYg2B9zz9gz9GNJ\n",
              "/7hwkPOnlaGGhTHtYMf8WuX37aKurRk5pm1GwsKnfMlbUtLg6nuwFEcngGAgdJNjgpRbfibhZQbD\n",
              "UKQL4Zje1/4I5X64ph20SrR97LP4HSYtmQMGABy49RZ0X7zpCCeNXvNS3E16K/U12T8TDSfyZBwT\n",
              "G05b0scPRssFe4GJ0rz2eaNMKRuKLDh3Ux+xvr/j9SI6e8fJlQQsdOHZIP+QmWeaNKLsaiujg52J\n",
              "8sM6iDpjWj9P6gxbdXtzPq8rGw67fA4Me8iDFz2xQA5VUomClevQwiQw6yqCbG86NI4By9cq86Mf\n",
              "ZOC1Y/hglMLcc93dC3E2O4C7/4w1KYAYjYWaE9tJrs+bWQxV8IM/u5B9GUZm2G1MLV25hKPI+dEn\n",
              "UjVNTwcLErb/p8wTfpzxPg0aZmNv88z8FLfimOoJnBCVu1DyAD+6bTy2sj9NloaxJlj3U68jvLR/\n",
              "sU/+yFOybzhcFPwJWMsWNf1n0QmIkP3lDHHn4mub8xb2wLGZFVRC+RViMwWWxXIN9pAF+0Eqsfzh\n",
              "hjMdiunHi88HgIze60HAN0zoT9DqO4mWltiW8XNX+oG3IPRD7Ny/fzK7mOqR9C8jNh+nQ0iFz/kF\n",
              "ZIjETRuHc7ykIz0pnMzTSF1/8xF9JTqx23aDUphDOK7wekS75KViNVmmXPK/6moVY8Qt6nOgYYcD\n",
              "PrLgMaD2JhuMzzuKf31aIWulwwJh1yfoCwYvHTJr9WKkqmHYAAADAFJAAAABGUGeQkUVLC//AAAD\n",
              "ADLhpDYASx9zW7Q0MRKEqA5R6DpiIrP6l0t6Csuyxyo2W5R2Vpdo5+iyLOUium/OI19MR/giSWif\n",
              "dOyaPlItEBKlwLXJYuoefRMkRRJBy/kxq3nPklVOkFDCq8c6ZEpLQKUsNYR+sOJz9h1qoCvSKKRf\n",
              "C6u4yVPv9AbGxwGsZoEIFallFaH0Diw0Z2NNvH6Bj03e4N9IvRb21iXe/OA4IWWM6omkURr2q4ol\n",
              "WUE3lYtAFASuNxIWKyYb2Rn90WQVDesoBeUvv+J8LvRUMwUsZjxF1/MT/Thdl6IYGROZ7U8v1naa\n",
              "kI/mZGzaY4DE8K4/hu2haB7Ot/mG8f9WOGGvVCCB58iIRjUvlgQAAAcdAAAAgwGeYXRCvwAAAwBF\n",
              "XMUHVRAAh8FcLYyzEJoaFuUmKg7mqPSXfj+487/L1kMz5vY5FMvTCzBO+J7P2htY6SgcCeX83qfv\n",
              "G1zOyC8tYL+ZpAQkiZncQzBGcIcBAsPY+yYXPS/Rkjai23e+S67xLNOd3Zbmj9/0RHCKjLPR3XY5\n",
              "Vd0AABLwAAAAkwGeY2pCvwAAAwBFdbtXV2IANi3xQg1V0dX7eaugxk95p28mvz5kzueJSlaTykek\n",
              "NQkXmoflyL3zkhTCg0xFWwYCdjP9wPXdCWlsPS5WPs5JHEiszCg8H6P41fqQPv1Lvehns1B0bwDV\n",
              "E3czXLrm+Nckz8/Yd6bCc+grsnXy/pKc1wimWHFfulYUhe6J/AAAAwABswAAAjFBmmhJqEFsmUwI\n",
              "d//+qZYAAAMAK3Sav20AI++bYVAvQl01qbfEMQtgYTUEWtvx0lCzTFF/3qpusw3DHe7xLyZa5R+O\n",
              "ICSEuqvc26ILuUL8MmKcrFueo5sNQdpVg6dUOAGZHRBxZ3iPWNUknj2Xwz5E63DGgWtIKi3foI/Z\n",
              "JLoSJ/2ebGHNOGH1EQma0vWaEXbW9/yj7AtrbzW3HqAipfu8EbjO+m5o9LutGr6xy+QXHjxuvAZS\n",
              "KtPnIuNuO2lDARuGsLw7w/qVNPvLH1FcDqXZMizm0fg1TofeDn2Ix4IDwN8nMz34dYJiWv4D0P6m\n",
              "njlklxqrQf+0yee4QMAXKV52YOG9Yzr4Qx6oqbQ/HjQifvaZ/mzAKEis9HTesD85+3VLH2ob0pnB\n",
              "A2ob6Za+nhr9Ql1Jtvy218JvjsmrZHgBkQWyvsmyuUls70HbpbJUHSbbpSQRIStMXp/W6PPbarTN\n",
              "/vcfPFiyM3oa7R+fScYa0S8t0mcn5wlJhR2GupQVXKcUyiXHMJ8PnUNlvWnq0A4wTaHyxxRORtyy\n",
              "KPAGNcn1lx7LtJPH1115dtl9Xiuf3HXyHU5HT02FZB2nntpYy9qVQMnZzqF6DjBl6U5HMLCmhoVe\n",
              "IyoVBozuk5JVz5UOFlq2ttsb1DquDfPKxZeFE9Gnw54YKzeWSHFNp3/egG7x4SllFscn2aGWj5xz\n",
              "kki5KAycryIWZuX4beezBbTIC9eiqpNVsALIWwuCm/rgQAAAHHEAAADyQZ6GRRUsL/8AAAMAM4pj\n",
              "ZlkAD9t0+Y2pWykf1bKL/t43wZzWsQB61dOtatZv/+swXyZFB5xQCG86yVk6aUYPYDniKGVXoSVf\n",
              "quPuTbWj51DSFDOZY331lmcuDH5jBqFJ4wsrqK+kFlcOF8V835JgJH1LdkmK704oSF9GpVVi7zSc\n",
              "rkdgmCTcbveybID+acuYwM4ODQcpFJdq2peB91prkfJwhiwpEts4icLBtFnLbBuPdZv6Ue6/fZkz\n",
              "AOCPYJE1zsp03ihm3k4c+kN9O07wAHBvlCMzknk5Y7Pr0e2nRKnVPhkdvLcg0qzuI2syogAADgkA\n",
              "AACTAZ6ldEK/AAADAEJzlYANAAftsWEmx+1SCu8k1cYdPJFcl+O5t0xvQGKC4H7chbiJbpAfRE1j\n",
              "ThjzPAPAGgBGc78VdGMSHrM+y5LsIEP9lnuhx9xAb5OJmOnXIAuz9b/j1kDXSuaMyPBzTL6shpPh\n",
              "aYsROCJtJTCP4wnAAwIrrp9wtdrWxLJ4BzfFLQHbAAADACihAAAAmAGep2pCvwAAAwBFY1td2IAE\n",
              "O5lO4EjedgIQUULW9DmoPmYdBh9h+qjK7fz1RKNyoGHJl8/AhEhahk6wJF8DnE+9rznVdmKVJTv7\n",
              "iB6eg9ZD/zwukPWf/sAeSLbhrAeMYkRgmnNdObHbC6DUfL+wB/FtL248SbD66vOBL0JwJTlYXrxu\n",
              "VUaTpwH8sf5RxrTMZO3AKULAAAQ8AAABmUGarEmoQWyZTAh3//6plgAAAwArgUyoALjfRm77+YJE\n",
              "l+DhLk1+yBgoSxYXbZG2YTQtmKXXjusC1sEEFKAjS3As5jbqaB6CewwyjUn625ApjO10vRcvNa8t\n",
              "qcgiQ+g+F0vzdiP+rq+a8Am2ZIT+Ui0zVn6q5iQ8XjkqreeFWS0UmCA5kq31xBKuRW9OZrYy8nm7\n",
              "+Wy1fSnvSa7KnbLMKZv+qzt0ESzDxYtpvhyb87bybS9p/Qv9MMzzvV/3ydDd6YdzA+vbb6+XQwrF\n",
              "F2hVJJrUXY/+G/GG9DstFrqHfh7FPfgiQzmvhmaW8VarBwOQnrq2hKpB39GhqSZiR7xJj4NhORyT\n",
              "/N6PSt/wgPQV8H6JQJkOQimYbYVLN7uNhLHoSmJIStgQXB1jcEEai68AqUOPTHOykZPYJdVomdSB\n",
              "xT4HD589sIii/1dbIpQZdkBHgM/ldV9YM13WFYD18vf30hQAaSCsnbP+FA09GeRN4geetwd8BOZ0\n",
              "JNWRlm9n0KKZEHx0ul7rm7WtnEfN8tjjJyzSjkQAAAMAR8AAAAFFQZ7KRRUsL/8AAAMAM4rmQAJZ\n",
              "Ir4FSA03AkD+UB8YGKiRouBXMh2G/XjEmD0OpiNA3Avon9XpKUTenm1aPgohbQAwNdtWUFgD9EH3\n",
              "E80ewCiiJ73w5aYKLc73UjCQGcAOUk1aOyEdseskgnTt8pvwQOi7LSy/qTweZn7rKN5WFFep2Ogu\n",
              "/3vSDPN63UrIL1/H7qfOrwi2xstKuXzxWmGL6J+37G3/CpTfOF9I8rvN3O2TCDZNqbCqVh5X+rwQ\n",
              "k4Z9t+SBPS8hUDGRJdJnEtNXEOE6DhlJHfZnUSE51kriv3Y4nLfQe/ELqN/T8wfUHy6+S1DIwPpz\n",
              "Lj9Hu9gyuyL9+++fgsDtSut5tWJFtXgx+EV0OnqdGcuNZ95C1CyC9mpQ7uCk8nzal4vUnZ776gIr\n",
              "302E564HdmmdB70fbbXEdK4qAAA9oQAAAN0Bnul0Qr8AAAMARVylP9sxRvACEe0uDabm3DFoeXOQ\n",
              "/GXMW9c1kLt0ZnYNVAq2ZwpHDQLFXaztPNVvc7G8QwlkD1QrcbEUIuarLJ0DSmVCBuB6TEuxI/8H\n",
              "3WnaDMjvnlAooGh29R7sCNfziVYX6teW8FrO1KNWTTk5FQ+bhqT0Kd3Ne0DL4TRhKlEYQywQ/Kgt\n",
              "qGlEpyoiFwsjbDmWsa2CCsTsbqJTihJ3hf4WHtRQA1MLhODA+O1oPOPYl/vd5Z04zkHKQIBJ9Cql\n",
              "oTXN3RFuL3A/MoQ53M/wAAALuAAAALkBnutqQr8AAAMARXW5sbuACG9CpxNHRl+kw2N1nUqBcrfv\n",
              "9LJXIVKBeDd4NuFxY6cfqkNCH9NT8V7L4P7rBuS1270xxGlvIgxCr9vYU07JKgvh/fBSIkwYoAC6\n",
              "1hCxj9S9FrDEA3LBOkYHvkW7biLQZdF/CTCj/firtU0PVio8RovCEJs41TxWbDouFWEwR8SE1K1h\n",
              "NsZL5UuyxEhFfQnziPews4myW2QZ2x8YLK3nAOhaQAAAAwBSQAAAAixBmvBJqEFsmUwId//+qZYA\n",
              "AAMAK5BWGoAH3BFf4H3tP9gzD6+f04Fg0GPxY36kQyBBO5A1LvfCsCragB9TuwxgJPOIyhTKlUDE\n",
              "B8ITlO9/pWPkIu8hdJgzRjHobnGGG99HSAg5sZt4dyHeI6f+4ia6SJArrdptkdLgsxslTyzBtYBR\n",
              "/qDTJQqKSLwIRz513B+3frwKYgkgm1ZlKZVvB5vwoXrIeLPn0NEhVgLR2I2hYqSjX7b2gjlypnyg\n",
              "/seja+Ri207ua9PFnMxisayCCQkAHbdj8dvG0RrqT9xe5GOtv2Ip1ovAHeEzDC0jLG5mEGJZiRHP\n",
              "74axHgKcpCoJEnktxZG/mSG7b5RbTE7DyUsmLQeZmvZ29c3fbO34fmjJN3kkPWkGdfpEp4TANVPX\n",
              "QZ4Dki5yv7goGSZFNZftCz0BzK8aM65tgkLltNab+UMnzVA1ZjCxxf6bdmmBewlXfuQJLyDXMPAe\n",
              "tzHRpzulkUAV6zLJ12UU37MPK8o3ab+bX2Ce5qigj4gsj/Q7tA1wQgsoLBSSyJpLlzH/mW0/96aK\n",
              "aH46/pXm2SLI7hECzkvK2hCekvBGGAShz8mVs7WEq87YInCK7PewvU9QvgJyvFmvmqhoncAVTZlW\n",
              "H5HuuHsiPT/oCWIcZ981dWX5qm4Ln/Rk0gudamQC7kOj25ru7XdHeJx21Fxm+SN0lDtWoMCPYFAj\n",
              "MP9mB78etRXSekr97fJefTtid/zkMgYGcN2RAAABB0GfDkUVLC//AAADADOBH9MMteABD75lsejf\n",
              "JYVA1VGjzahUoh4LB+0aH2ut2HLgXpiOpR4l0VALz4H2ItoDYmgvDeM4MNG7HNCmRYWwI8R0pIQc\n",
              "f6kDVMFZIRLJWi7T0GWpoDd8B3/nauSxkDrjKmR7+1sJZYEje4Y+SoaICfwNVsCLn8nl61FIryFE\n",
              "1Ec6TKEcWVN61mlAuKTnsYBXANpAS/hNKyVQd02OicssasaYup/YEKyelCLAjSG6w96l2CRHds6c\n",
              "HE4/YF0Q6nPOB+RsDcF2D8zqMhfLahnF5Fw43IJiEv9ioa1t7r7BGQVIf/o+Gps6+DSDZXdQi887\n",
              "IvBe34qAAAJXAAAAnwGfLXRCvwAAAwBFe8i0E9K8ADUY//mN3esYMMOLl5B9k1km9JNjDeDUrPjV\n",
              "f6Z3drRo7vZOrnR7ZlpEWYVnHOnguCU3Jx9Urdmzw6bnZbx1AXsDvXsEYGPqzzYc13JI9V9srwL+\n",
              "TM8q/HVcKOYhjamrx28XtakkjvD9Z2v6x8s+yJSWsBto2hq0xLyNsox1jgyhFz0zDUuSkQ9+wAAD\n",
              "VwAAAJABny9qQr8AAAMAQvutFzmACG80TREhOUChExvYFP6bKZZpeYsF/L/ozfH2nb2B9OLoEzP0\n",
              "bJmKhVuXOgcLhq0dpzGOlRzP8xQ6PkCzis/UZUvhliYv31rCordPP/fq0a5ve3GZ8KYng7eI7Hed\n",
              "K+9Z1uR1L1AMtMJ/O/3CaIn0druDK2E3Rcpy84qVWAAAm4AAAAJRQZs0SahBbJlMCHf//qmWAAAD\n",
              "ACt8haADcWJW3mX1JjxSkuwV69BX2HPNv4lvg7fnE5p0PXAvfzmtE2NryqSAiZx57AJldQbgT7GS\n",
              "FAX3bzYcl50x23Bqm45wvSmcIQ6i2wDQzSKYv8Iyc8b/DDIQFeCYj/h/Nq1WPJKqqRaXdgySR/oR\n",
              "ji3/UyEeLcw2z0WTzdB6PRJ/B7yZxkr8fEHJXA5uhGLmQp1Yo1GtMZTXUDbqKjehEd5+r66D7Vfh\n",
              "10tDQWgyUePfXebX6Z6u6QThikEK65SLMdgeAMyina7q90po5TuNaI2QfhxLCQysosRX+fd9MN7V\n",
              "XEwNgV6+58lRgQJ4lU4qZz6psCE+vLSaubGmd2ftwiQHR7IBMmou09n8T2NOTILDZ1OhILKdxw7x\n",
              "qZqIxD/8QGdwNqwmJ9xHE75MUxJsa3T4J7SWEzaZvr1a2noXdj8eWM+pfwu8oRKs78ZuespY0iY3\n",
              "wVk9g4fbpFVLeatZczBqz+1VHJiKtJgNPxh5x1+Glw2LZTnBbkuLjRWYtUDFBieBEKO+HJbQbzWK\n",
              "Qilpu0ZeSxi9Af/QULfxTQ3bTkNdKk3/D/hj3L3lZWXzpTTvH5UlhQlyJdfTFxYmXB6n/p43QrL0\n",
              "++r9YeeXSYylD5SIGK2muc8zyOCxSPlMdlQIdniKCbGJ4RuQVKAuzxfxpRsLD9JyVSLThvK+qJe0\n",
              "cJoLSOmWAaPiMa7B1MuryZUudgct1PaIZ9g16NOp3cptf2BY4Cz1aYqYQWDKcx38v9uLCI90TVAx\n",
              "SzqqmmYAAAEYQZ9SRRUsL/8AAAMAMumX7MAE26WESCod7v9Sa8HG52ZF5IH9YtoHYEnqCWEuceGv\n",
              "do0676QXR43hvip35QsJB7UdRiZX61/lT9z+SSyhfZPqusXkVTlvN9A9GvVtplpCVFSFy/a3TF/P\n",
              "2kWCd0GqNIWM7ZO31GUPSN8jJ4oz8wIH26DjoMe+L7+vQPnn2nPVUSid5OweFLrAyCmxLlgl34ic\n",
              "fzdsgEgQWzuc7SVNO1EaY2SSEFl6+hP838xwigaFXn3JBvEhoaxYbogbzriFUR0wsP33fDT+lr2W\n",
              "ODfD+t/qLdlG0jeXoikJZ7iAzQ8jgJT3ZnV29//L6jvfU5kWnMEsdhYkygywrO1ZGnzJpSSUh7Z2\n",
              "gAAR8QAAALgBn3F0Qr8AAAMARVxrM1HAA/FQ1EssCy161s9C3aD3ivIutlO1lbUcqUye/sjaGMg6\n",
              "1m8GohxB/BcwvWRcjmbr0ozP/gCvdiJBZcyUpe0vvCN1IjglDVekeSaYQRErvjW+mqCQlORr+TX0\n",
              "C8v7FbboGjKBRF1Va/uXu1oc7FB3FIX0SdSpful+UYkwXNN7tJnLIIP5MZB6m3zr9nMUgw5k8S3x\n",
              "UI8nTouVVgwrJKYSNtBHacAAAA4IAAAAogGfc2pCvwAAAwBFY1yaV4AQpzfsIvvWsQ1ndWvHejGf\n",
              "vXz9b4YPXOLIttblPpQkczeXy8fpateOmkvJSqXXInfse7FOKUc9961CyVT58oxK2o9rw7397fMC\n",
              "vCNJ0a4HsZFNynQ9QTugi6NWvyGwcOP78SWjTJMYNlAYkvDaSt5pUp354kt7La7TPHn1/svSyj2H\n",
              "Qfjm0I/LC6H0oHHYAABFwAAAAkRBm3hJqEFsmUwId//+qZYAAAMAK5AhyEAEqi7flCtO2DFlxYUq\n",
              "OC/ImweMBwTgE8MsJxiisuRE+2yLc+sUsZMTDyGE0SaWvT8RTj3hvGDv+dxnUi9UeC2Zo5ghGASP\n",
              "FhthmTXW9sk6FLJazuVEp17l3AXJIvtb/dwazk5UzLdor4+kMLDVIAYnHQo2uvkkleDdqpA28iuQ\n",
              "fSCxbKbAsA1LeGtFREQqQDhBpjQuxwETiINbtwoYJgfJbQ7H73E8c/KxbF/3zZHkBeFW8fTdFNpE\n",
              "NFJ2WrL17WnG8uJJDIujWkPljnAk1v79+xkY/W2TmQQ4gNLG90PX8SOzk20M4JabVN+ozU23EbGF\n",
              "1bLvcPzlpy5ypV6mTJDjzmYDRdGJXoO37ou6TkoKcWVKr5oKxUA/tV8LVxVhnU512eV2em+M0hWh\n",
              "6OQl10C365mgbSA3nzwHWCYGRVAZO+fnlXshbD6dWsqKFhGA1KCOzmFotrt65o0inq5S9HJa2pd5\n",
              "0xqkBcWVrjw2fby8CJCg6KbDDj3AGttcsvvi7+vOeTicw8wpaDn2l2+bre4AvR+ZVpTks9etxAMg\n",
              "uH6+tRSTeHNBx5GP5G2HkNaxdnreg2ORZAAACEaDrCafUP5yt5eUTWrGasDIYlOfCno+C9S9yRhz\n",
              "tuHF939iU9r8NvAEg+nA65Zsb/Osptq8YVl9/pp9OH51vfe3hqA/G9EhcQ3C54dtM30Nh9Pv8eLm\n",
              "HHlDYiV2/0WJSuD2tE4OewO60GAf35bobJsDyhmBAAABMEGflkUVLC//AAADADNGzpFgAJ1o0pxQ\n",
              "iORH3RlDryk82abkYOm8H6KoVwCKyhCK2toegIad5Uns+GyD4WMMKPHhZI7Q+TMQI3eCpQqJNaiV\n",
              "U/TayjkFpwYKBpLUsiDEaWAhIDO4Nwsz0caMp9eKHDO+NAuDBRkjuLA8oHjaDg8enA+h2id7AAVW\n",
              "DNcm7d+eJtXtnB4VeZN0z+xak7kPCmI+iJE4P9kI7vJDrAVvvK7nAvXrknjeVUe7vurfLF3HODaV\n",
              "rO1ssvG6ltbkEci3UvoRTpmzWS1oDhF6UnJ6Hlq7J9xxFqVrmv2oDLHb2+o9c/mE1IELhAum/WEb\n",
              "6e6IswoAAAMAAAMAAAMAAAMD8Hb7dfnyXbVMzrxHismzt653eLGhi8Rlp67a+vxtIAAADugAAACi\n",
              "AZ+1dEK/AAADAEV7jeeUu4AIOSWzq1EDJw9JY50phMiTaK5fiGPuIBWJ9I08JThGSHKpsHTeKhEh\n",
              "z3AOQMjoKrJ8W6HkuvoneCQtwKeSS9rhYVXID5IlJh/YIGZNdCEW3JpPK5wC5sa6avyjb2XQrOrk\n",
              "dVuzgTpWirsLK8glP8cXTmh/6P462PtE7ZrvfSPjkMC5uJz7CoNEq3bpK7AAAArZAAAAiAGft2pC\n",
              "vwAAAwBFdWCaORAAh3stpKUknUphwwopPmzLzR9H1iG8kXCel/kOVuR1D2R/1Db4b/tp0rtdraX4\n",
              "zpIc4qgyeHbsJLBRhoFPEQJe9y1/jhsrgRh5zh7whwjxH2z0smcMzes7V9SG1ORjXwewmq7zM+JA\n",
              "oKbCGFMz3uG8tTzvIAAAKCEAAAJSQZu8SahBbJlMCHf//qmWAAADACt5CzABJQaqnAaDXFp8ZAm1\n",
              "Gbm/iqG64bLMSCmqwKGOfIYD4LmhXuGpttpIBb94siq7ZMoRT8REQxlir/yIy84SgBnydd6uJLOP\n",
              "oQHBmRMwSW9Y5eh4JTPfPCyfDaftQ/LBrtD7XxuT1cXQzvbqbfIJlHKsJPRnNAFJIu3vOzES+Pt/\n",
              "f7zdctO9Qbbb4joQHsgCIF4AaB7xtITGwMSPsKN519Ux8Ir+NDRdQCqoTZeBZDRX9ug8cEX+DbVS\n",
              "wp7GDeBgXdcohRrc6ixPu5LOofrUPRUkywZAabXAkpqKFnMip5+8kmlcB/53KRvwWE5LKO/S8UTw\n",
              "OXpmWpRRb+JMjsuONNoFTW5qk2elkDK0PhNa+R5LYWyGKCv2EkU7/OppsSITLrNKIt0vJPUaz5d6\n",
              "h01EaKW9QLGio5wRMyQS3fO+OnieFfP5wyvL0weK4klxtTIiip6aFU5EdCgifRMwqUMWC55oN1/I\n",
              "lTv85xKwd4tzxNXmfTwMHFFFCKQaQRbzSiuZNAoNFQ5e0F416PBVaCbPgMZxsx83ndX7rUPXO+53\n",
              "ihnYDeplMnSFj3LjhtmXzaeKdauR21C8Cz3l0pj0ylA/1U1vyFmHQrQAx5FDZimdgAAAAwAFJBPm\n",
              "m14fM5ZKaXjlcaAzX0GuDxBbGVPCBxHe20UgaOWxJf+NDAut/8GGYQFZ5sw+alfLtLmyRc+DZSxu\n",
              "EilJ3AsTJOmu1Lpv2g1ePPplCo52tdICFmOnLwGH19dAsSHNB6dpt8kAAAakAAAA0kGf2kUVLC//\n",
              "AAADADOKaleAA6uLra5oS/ox3XdLkgd0EoR1vSHlMTGOkzWHr75QFP9VMYz1H1E95LY01ried0mC\n",
              "GIM/Bw00oX3cp+CBmaPdKdSfSRCOGfmSpukd2uOWv0C7gbeubRJu7U+mXNt9E8jz59loAgmjYSzK\n",
              "sP7cPGwoYLT72EKA07qA0obdkqWNB9FUvbnLIjhtG553U/Brbf1uJqoWcPkP6CEtr5TPdZDyaikL\n",
              "VqMAAAMAAMqP1CAHjf96hv3vRhlbG9X8Q2OWAAAG1QAAAM4Bn/l0Qr8AAAMAQzRQoKgANqKQLRI+\n",
              "C/R2gI0s470zfAQJdLJsAlcCoPM0uWYXdT54VCcS9Pjzk5gJCA+2AhdjAUXdfTjTo5FKVGaYXw1e\n",
              "AGauiDHRoeLIKfu8dtzhbW4JXfnPwGDsv5Thwg/LOrCTZY2ZzdrPKXSl+ikoV81RXz/A2VmwzNVr\n",
              "LBF97LkWLrCyijZ0Je0ynlJCfpX+olqJWRjbPLDq/9PloCJ0fC/f+Cx4k2Kc2cxBDkq7BnD9/ga4\n",
              "qEQj7U/sqQAAAwAy4AAAAJUBn/tqQr8AAAMARWNCZU3hvACFPMVMoog7la6TxhK5l/su9UbKhkF9\n",
              "QNnWSU3EK6L0AtAGq9YwoEuXM+QyTy8zUo/EfQK8rFQx17H6EoEuW4iW4ZIF/SbG26xyf8DFJ4o9\n",
              "WuhqQ4WcpSkGyFA4bNMh0usr8AIXlD+IsaughbDNXfEmdm62BVZu70FNGSGupgAAAwCygQAAAbJB\n",
              "m+BJqEFsmUwId//+qZYAAAMAK4xendACncgvBLYN1LnH36AHYfkbfc1Y7H4XbO6CD2cwDSLIiUWO\n",
              "BSkaMPAR7KCUbsI2BhYiCXoBd9BNXvFViPyy/DrIQTmCxDIfClgGsWjWlNhmbZrLZAWNIkEyN5n+\n",
              "EPtsx5sxze4NsKYZ68K7gZ3yYikwHVdVrEzYhQhAI0IfCJrsz9H1NDYl/qWQyl32mjGyWr4sO0vc\n",
              "91CirmYLcOr4SP0br8slyb6Gv0oEeHfagS1xcYWAsvwB9cqg78I8j1MoNxHGokUvNDLPx9YgBXnl\n",
              "QCiUcRlT6TPfxyNW9lMgT3W/bQadQjG3Vm4ipMxSUaKleceQymOZWG2VyWRuyNdT5lLGqyPx1x8I\n",
              "hbUnfsJkteVrEOpKRglzmCGbXrFMo7hRqeSOSJDUtA34Vv3ZE8Ja7ydF/9Z9GABPMwQ3HAE8A/Cu\n",
              "J1uvYc5Q7Zt8YT/TECQsOYSvwAjnjLsMr2K5Uq2bl2SHwCeQPbhrsCazZvr0Lk0DfjvrHzMhjdJU\n",
              "w3jtzwvcgF+YOC3gMDmARhsJXeIllUqWhEDdcAAAAwBLwQAAAPlBnh5FFSwv/wAAAwAzbfyiAA/d\n",
              "DS1F+UOYc758ofmfDc/Wkv22v9Jf3w54rAQtOoLigwF1ZICYx2FmeFm2Et7i2+kNgkUlWcs0pnKK\n",
              "PgyEZMrXQP+ilVNr3C6fszFymsSsofn8xDiEqM7YfuzN+6qVW4BLDoqwM7HlEn7RZl6U7EVJCHjp\n",
              "jUhhOZfKYWHamreG4BWSXgsFeTXScH6ff5a17L/AUt82NMxa2P0zv6hKf+8Xw+gxPKr/Kpd1e/Ah\n",
              "iW57bn/iZF+40oGgLljNNfikAkUq8TS1jyYlzs5RWnb8XQQpUzPqsnVWLdib8UV1+YSlPfeAAAAD\n",
              "AakAAACsAZ49dEK/AAADAEV71Vn7gAbF+qgIiDlNw/PHYrVqKFk9Wjd8gz5okOPFkW2tyt7yRQc8\n",
              "EV+IeKRFLE8uThLjDd1Sdr3b4XVNgPMp+DhB603JAzBZ1STIOfkQO8tgqju3vaSG+HEaUH1hfu12\n",
              "NmBaGMf0zS40UMkMc+I9YXY43Qw/z7eWw3LlI+/UGaLkz8S8h9V8irFBou93CdLsypWBQx/TY4vJ\n",
              "q4QAAAMC7gAAALYBnj9qQr8AAAMARXWwyrlir8AE2J/Dx0xiHikPjwHcDTQ7aCKj5SEu3id49mIv\n",
              "BjZuOk2tmmT/XXfoEvosy2vVVp5HV7oZmn12OnShzO8KfDHFYQ+QInt7hRxI12rr89OarWuUyiye\n",
              "Ng1SKykyc540N8+8NzVrDuCyWs7pYy8F2d9yt1UJP0lndVqxfCZMOo5iRwMvd9jHiO89nSx2jWWi\n",
              "eDK1xlo0VXCoXviX0dXC67u1AAALaQAAAlJBmiRJqEFsmUwId//+qZYAAAMAK3yNwADS2TW/hHoe\n",
              "89F/HHQ+zrmxOwQ7zLmKVrQuxkNKh3D0Mi7JqEuMcf86fYHfMobEUqvH1ofg7fPuO8iEm+Lzs/hT\n",
              "H5ORVXiNKFsBrL1LnnmE1kvJD04OH/kyMeSE3LdolzF8Av1xDEkH1lJM9sCoibi0ywQeBVSHtpTT\n",
              "0IhriwoNpYNjFAUOMGySLxQybuijdcW7RxzXLFgMKFtnkpCiSlQRPzM08F3sHoUzliJCXB6to8lr\n",
              "yh9Uw4hke6styv33jR+itB7UxdTfO5Plv8ubiKhh5RrSgUD1L5+N4TrSDa5+B+F94P8mpFTD3b0C\n",
              "xV57q4BOY1sovJART9PMsQaF4c7P4d3MOSKYeCXSelnlp/iresuX8Q0X2jw89k/FXiQ1MKTginZ4\n",
              "+TbEPVxZn81aK/i4ts0ownxjuNiWMfl9Ubflt1I09O3EqbcyyOZ0JtnYZ4jsa+hKqO6XsjM/Q/ml\n",
              "/eztatlBJBO2kRsmXfs1vpX2affvl4QPdnHFw2+sg/fzJBw/l9LHbTAiDgIDbv+nXVKlCP/2g66P\n",
              "1/eSGWtj6gCvnJ+6gh5HgZmQGbkokKKMzcQ8qw9hZPC/BL3H2MFNwHWgUpAAZbUaT/kJFKgr4/A3\n",
              "JZS8lxpwD6VwxbkSvCqEUWo9XDt0QAAAAwAAAwNHUIl9jA2t9Dy8H7+HQO8KPMDCzPSz/+stnr1N\n",
              "7RPcfeCUEhBi4p7+U/QLgPiFRrEaxgqf/HKTM5zuey2Yq04fqiz0+hfT/TIAAAMARMAAAADMQZ5C\n",
              "RRUsL/8AAAMAM4pZf5LIAG1HrgcbTED/HDH9KnA1mnkUSW4Sw4rbEpwu1/t893ATYeIcXGRTSVB2\n",
              "aEaQbsrSeRFMcuClHFhJDJQPNoHmHez++wQ2Dk0wEgUwCe+ykX1S55CoCoEIfisYKF3N/Oi9Jgd4\n",
              "PnzeSXXt+0glOY/SvOAhjrHaEVIygiSbHOX0ZotTulfGRZ09/0Ox9zgGVgLP6UzKhzUwm4rkZ5tC\n",
              "l5bZYLzd3mO8wyRa9fSDQNDNJ/f/cF6WpNRAAAE7AAAAhAGeYXRCvwAAAwBDQA8SCAA2LzukShrC\n",
              "jc1zwkJROyIt3pMSUAIHVMOqxDKfxjyHhPHpN4PliLRtNrzP8+a73EjzoLfgjXBv0iiSnOpqWWdp\n",
              "LyBa69robIIg87QMDQxhRvol9pKaVZEz8Ec637+NwUXRjWIcbEFyQSE89BTc2AAgAABNwAAAAJAB\n",
              "nmNqQr8AAAMARWNLjX8AEO5rf/oKISuZEOeYL7h9nyXuLM56D+3na3BNIt/MIWGQBMrBeKAw9Mkc\n",
              "jUe9M4uNsyE3QZEcbPrE6mA934CYChxJcZcG9c81HgluzudxnQ0HtqEpdtZ2X4Dzjiy2D4iv2wkK\n",
              "KogiCGE3NyrGzulrB8s9q/JQexyzRVNcHQAABn0AAAGeQZpoSahBbJlMCHf//qmWAAADACuNNCUA\n",
              "FyQ939MA+ww0ay80r1zhMENygEBO8QSt1QQUfPBsl6V0ZppTpTWEFBVr12hLPFx/J4vyppz3F5N0\n",
              "8ZV0BOhZ6ZZnljvbccWNUkQf+UBKc/2/UQc62fKWqgHTbaZ7D3BcQ2OjDOw+8vzIbO4Wnzs/2yCw\n",
              "mPi0V0dqm788AJHZozWVn+Fu/D7nw5f++Y/ytcwZ7tR+NVLCFZThMIPSczAnWpld1qsBlBjve1d1\n",
              "2mrjtdqL/9pj2mEH3Qeq9Hi1cIMpkDJqHWt90F/F1Nm3F4pkUAzy1blHjkcLKKrEjc2aIYJ6NX1g\n",
              "tWiVx/HbI/rU45NWxjeZD4/CIfNGMgjf5Lac5UCx666ITMBGiSeahk+u49jB7mXHvUsJCTDOdl8K\n",
              "PlPoA1w6LrgYaEL+5ua4c9gOn5cFZViTA9lK6q6osNsPU+Ds+iUrAndZmzftp3850gKD+BbdAwZI\n",
              "zkI+rPRzykNfwOym8jDZ33Nq8E0psuw8daEptnbCA/uN2V8ghyVLrNtIjHAAAAeNAAABPkGehkUV\n",
              "LC//AAADADOK5kACz7C6JpdHo6UeqoKUVNwFNHugaCEQPlQDFDAPzAVVu+jxqmHEFicOHYa5Nyl5\n",
              "ADXcNBu3xu0AZVR4YN3zcC8tOSIYcRK3bxTWpmrcRqKbcm+yZeTXKm6vBSRIXUBxckZy2n1/k5m+\n",
              "6159MW3EyVunFgYt0ykXfACM7s/iqdTVN4bn2jVsh5x94LdsjTAHZonQwvTYZNASdCcUaNIlMA2r\n",
              "A4+jkkjdaEPkW5SNaMQ9dmWgOLeoEvw6r5mdRGkL1lWteMOLkLmJuW1jNGjBxAPz7nAq5TX9YZdX\n",
              "ywR+a+prb9GN+vQUvcVibbu0vgv8wE2oWdjh9WpN84+gbIXd0S6XQQ8hIAQhPRMhiq+8AUEGH9Sg\n",
              "mScEmHpm26EekE8UvVWwuDhXjAKzIh03gAAUkQAAAI4BnqV0Qr8AAAMARVxqAAsYRK8AEHHVlkMB\n",
              "h05v20/4tBVc+btBlfjgpCvQQ1W0WJAL0VD67YQ16O7QXhTsr4Xs3+GznemprgI8GR/qlG9xI8BE\n",
              "F2kgVLxvGmb/Hc2kZR4xkH0gJq/TIcgXCEDYhcd6zdPJL6o5B+h/i+Uwn4Z4ewa1AIKPw7QvNHAA\n",
              "AAQdAAAAogGep2pCvwAAAwBFdbmxu4AIYOqna0c9lBEW+Q4C8jq1skKRhh/EgDft+6qcKbtrdnAE\n",
              "N+puhK6BqipbN0BPt/Z8lP/BxrrnnRvWZClD2RCcL918jUFIn3BRZ4VdSOIjYicuSm6t4IlLIMxO\n",
              "yZ1RSpJ4SPhrGQwJqzXEN/kcpB6gI2d5Es3StHRPF11SSH4vL5cfjbgVxzrAgoDIAgpcAAAnYAAA\n",
              "AhVBmqxJqEFsmUwId//+qZYAAAMAK4109aAEoOmKuZdavaDL6iXXbTliCKxygmmPheZJuV/PIjQj\n",
              "tVmAYaI6xSnC4bN64Fn6t3Zq7CANHXxqBfjjK7jJLQjrDvReYX3NSPBO8ogaZQu3UJuVjUaOPUsh\n",
              "4VUL1i+1/k8+/khLhGev6CBzesddUbj+Qf6Ybo55PkjCx8HnxcdIB3mYMHo/prN2uv/aGtQIiNQz\n",
              "1tEtvf9DEKsQ3N45NdE6hf59X+5R17EqB6v+wPa3PyfbdWVlrLBX4kqFaiBmX5IlOxJnzYSmVvpz\n",
              "G3NdEIxG4hwL9LdcpMf36tw/OEWhDGL91fVR9Zm3+p+Q7kf/6A58hRNb+Bz87cn3ZtxhQtrdZdvN\n",
              "a/Gsdexze86DHw71UYfVRTwRMavdNUpxQXhlnbRtuWpVrOb2DqgHe64ZWRt5j4RFwo/gEmDYAMHf\n",
              "CKR9FR0295fgRcPoPN6QHQ2JDeJnAeckzbBuqVvVa1MaM6Ra0zzXU/NmYWJ81sA2hUsTq5oGwqed\n",
              "iBzR5V4a27p0LXG/tP4rrPQQb2OCQPKZQB24y/cooKDCea31PhThLT/7MjDoL2mbj5xmv7WdxfRS\n",
              "ONNBAX7D08sTCADcN3V4wZssCx83OkbxtodHIdShBKAfEP/zSCa6O257wfKZ26RGgCZyP7GzP+Ib\n",
              "kudHeBGBKRY4nPx5iIxPNG8YAAAFFAAAAOhBnspFFSwv/wAAAwAzgSGdZAA2oeGXR+2F2YegRvSS\n",
              "8qpkazfJ+DpvzFk96Y7JBmcO+HzND8Sx7jUk9KPcPqEHox7p3ntjRR8hQcQdyilGk/DmH5PeG9y0\n",
              "YG2jPg1jJo3iZgDHNk1ttnwvcfR3WtzJ9IaI241WlyFUv52yvWKV8ZheiwIN51/Aordc/QVNl5S7\n",
              "MZwbSrYrhdEp/yRBXeZ9NMvC7M+ZE7PGrsqQumfpF3NGa0NqwTFQ4C/kkXt966yK4nAs9LXrTkRt\n",
              "bhbn1D8NzotQSYIeK9HrYhbV4vXvwiiQAAADAImBAAAAzQGe6XRCvwAAAwBFe7D8209wANU4md0P\n",
              "LrVCoWyaZ7K6T7EgdUWGmcuo+oos5IQRfXQ7//ldAYONjLwyT1SKhN+20Mqg/HQAU75LB7EFbYpl\n",
              "UoXg0j85alNxCcZWScVXXpRGS0t7422KEvinvAQTciV6uqQIW6A59iK3lPQFYfUyTn6BbHPOaMSg\n",
              "U+Z6A8zPqU5ks6iL2ChLxXxJWT+i/w99aR8biuiJsEHMZyr05lEUBD9vARv3uPi4pIyR12rWOBhS\n",
              "7LDtXmEyAAADAlYAAACzAZ7rakK/AAADAEOj4gBMtISQEE/9xpnj6R64DDCf3ki+ikPHoS4EJFxO\n",
              "eFI/arerY4lYw3XYlfqbXCMTtpt8yMnJ2yzTe5wtona0ARoIdcufL0mfE1K7V7u70iCDdCbJ+GMY\n",
              "qzny8ANNAfUBlb6yI9/Q/a921WlGRnAlOzz02QtRQIEhGgLs9ZC/h3hpxaya75H2vBjoP1SRarhn\n",
              "98yjIl0nhhA1cqMnndTMU0Qy4AAAFbAAAAFmQZrwSahBbJlMCHf//qmWAAADACuNNCUAE3egi9ed\n",
              "1qfR6XiPt05cXtCV0UZfsoHCM/vbX4PzSffOIxepPLxxCrI3MWpzoLis9xCHfPacW4DPP9WKZuef\n",
              "OMDW9xJsVUSkpPje3lz98HZunmE04IkwcLS8bh7IEnNRL6MRlLs1L//vrZAZEYFY9R3+bGVgvJfY\n",
              "8WMPh+0UZTjCYSOEDQGCfbozUVdtGeWH9Z3EsZyXz+jvnjFoPyDU4/d9fZhePSeTAZy7Atd3gLbo\n",
              "ySPgb6tKg8JKujT0Fw9u2QfigFFbKMWGJNb42EHCjlt2wRpfJH60qAbpMo4VdYeaxN6OeXWCSTHp\n",
              "rk6v4fq+78sV6CbmOmkWfZRU7jGOFCeWr32288Oq0voKJqCL5jXVWgw2VftlZjowIeAfuApWOxS0\n",
              "sowVnjV1GguPOp967Nnowv0RHf8YeHSI6QFdU0vzKmJqsHWPTMwIt7sMPwAAARdBnw5FFSwv/wAA\n",
              "AwAzjlCsAHvfAh9EAAlieFoL2qxDBVehnpE8RAJE2/vFSFnNnKQBdz5HV7zWGXWestnLzdT9SvBY\n",
              "NX7Byesi3nqvOChBFRl8ARAaWThFwatfV6QApd9MyeHggRpl/W048xG5KMQ1fmWzKibN/QUrqOXN\n",
              "9mQaOpw39yUu3aCBNpQxDxnJboZq15he7XpFYt/yIhtLe8J9KALozwjiDjytPZCBbJVuiUeUlV01\n",
              "8zb1YbCff/mRumNOYHbY+4Ng4Prqy73pP9ggivmpLddbulZZn3uV4w/dG1j6D7AYhp7ZiNbaiX6Z\n",
              "QEC/3ZrG2/EJ7r58kDzr+FVnTqgMzy27OX5gzqXfMXpGBTwYAAADAxcAAACiAZ8tdEK/AAADAEVc\n",
              "4dGIAEG98yg9SsAcwHCE8K78jA5bBTnDZFXEPfY6q3BaaeKjthjRsc5cP0/o4tUDBbdydz4S1Lq8\n",
              "lKX33tsFuhauQYDg3fWX+6oDnuBzop5QH26JqM0ELEo6V+3itZ5OE7ueMUy9AzGZeUHR5k7/abfN\n",
              "7RSh3K+2BlBPBqVF6cUwpaeTOYB6jtVBBV4L/j3sAAADAMWBAAAAsQGfL2pCvwAAAwBFZCrTwAg/\n",
              "NNsX/4qtYI8w0Gdpjeny7GTZ9Rn9yk0GkSfPlgPVwP6r6aIKoUxEXhLN4VHmUp+icaJ581eNXNMO\n",
              "4eK862are1j49wPXNJNGFNJYubroa5LRJfus/ZXMFKnofD9GqOAZ2aKOB4ngQcwbpy9QE+Cg80EV\n",
              "ltHVdmaXHf3Io3jYaBYvyojDeKoeT392Ba+kc9G9y9ZxK5j6oPo71AAAAwACXgAAAYpBmzRJqEFs\n",
              "mUwId//+qZYAAAMAK3yFoAHZmhAfNnZtB0OGeAJlzswSvMIpsdyxAnAhfxnl6S4MMN4JNsXnRmj/\n",
              "wRDZlW2lxKB4qB40f+3qsjid2tAgYn1dUf5FuwKfRP7eP9arqf+BpKqcPPWmugk60RfK7vA9ysOc\n",
              "/4gAgrMRY8+B/AP723fT3srKCVW3tNDMfBliBZwInyAG8LY0DKjV0VP+M3inglUBvm5PUfzqaGbh\n",
              "f8Z6JeSSXyHEMb+hoxF6tchBS+02pJWfDcWmPeqLBPc5uO/HCW/GW7jxwD8jnjD8YolIQlrQKzGG\n",
              "0y8Y91bfjNDV934YTQ1OpGkbwLbggscLYPjOHgeUW860D/SdB6EJSSGRP/f3QvdaMArTxLBWpK/X\n",
              "8WAh9+jsM69TArMaaoJOIwyfqCC/L41B6VeNbtDbgpKM3t3csSJqPQR1Wf0h+c4/YkpO25ojs0vh\n",
              "Jkjm5VrvY4P7o9fnGJZKSSCQxwYALLzQ280lXarEZaxEG3MqYGSe1AAAAwEPAAAA0EGfUkUVLC//\n",
              "AAADADOBc3yxWcACHUsvKzEGWhnCuTsB8dyyFARQlI/XGn3OQQ4SvDtHJvYwyEz6E4udltY9jSRy\n",
              "seqFaPQ2GDKNcZS6LE/y8J+9dxQCHZNLr39FONckfMEJQnxoTIIFav3dNVEgjgP/wjUqiLYsJSKv\n",
              "MIKU7S2TmzTlcCpmfHwc8im534P8KkPFGEMD8bMrDh7h5C2uurOPt0kZGF6cD5yAklP9iFkEjZZu\n",
              "XXoF1lZwjywx3RjyW9WSgpxZKlD+O2cBAAADAd0AAACsAZ9xdEK/AAADAEV7x6O3g7gAhvRZydIh\n",
              "YpVV0/PHt01iFopvz/vYNUPKczogNCNQ/LbeTPHUbe+4tAO7RLY+OtKY86yJed9KOcRx6px0IBSC\n",
              "2UOW5pB//CX2lEx7tXRd/BFeKHFT3re7CqXYypENdwmg6wSQ0+slHjYekt5QoDfLC9FoOX6WDhWR\n",
              "7d1C2FNOh7Uk859g6c9gT401+zbY1TgiCihMFQAAAwCbgAAAAN8Bn3NqQr8AAAMAQqVfrMBARsag\n",
              "A1cJpXTcwB7Tmw4N8Lf7gsAuIKHly+Hdsh/dCg+NQXZj1I7oVgn3cCMT91xNvW2tU65TPeWW+iH0\n",
              "7nM4+Cv70gQ9bj9JHvgb8HstO/rdEmqieuE14MAvlgAJcOus3lkErdz8Gg42SRe9qO9P8aPO/9G+\n",
              "JI8Tgf+/tVK77LWM0z5gldFiQkv7+tuiv1A/m+/HAEtp0sK3r5O8u9nHzfkl1+x8q3qKqXgTCqzK\n",
              "U2sQXnpbwrXS5mD32KmxxbAEmoNmsE1Tcaz3GwAAAwHHAAACREGbeEmoQWyZTAh3//6plgAAAwAr\n",
              "vC3+VlbslYACaLErkEQBLNmCfbCdRx1BWiywon0xtMgiyZ1W1SQuJRHtZ4hQO7ISSU1yjGymeFbF\n",
              "S5AfQR+JgOP5PWCAs3q1UK2VZNvTPJkyAvxpi1JV8fgdM2O2M02MB8i1vEA/lojXHDLlyxeLJ+40\n",
              "dOB9hXue2J+gaW4ZpCfpaMYv+Xobv7YSkPZW4Vq1qYGsBWJc8HpU/mQurU0KkPa410ru4rVgoZUy\n",
              "WAw3YF9yjmyT779cdyCedKwnzqbGzqj2NP7CowhPRGi0PDMiZ7rw539Mc0UdHTbRwRUY8/680fbM\n",
              "7ChBiwyVbmbgIJE1lpRKzD5cuTqZP2pg3USdWwwKDhJI2cQSqu784WZZcA3zIlHBKSprTYaaNqyE\n",
              "DIZeEOXMgop4Xg5h1uiIzUJ1HYZbxquhy5+bsr9IdT4AkcXlRfq0+WgyJymqq7a6ybCDfWVWkP82\n",
              "uhzI7FQfSF2OgQN/wLLmmm4XAMgvnssRXwYAMbd9uLeHaXJVA5rE4xfJwa104i410NHuq40xvnjt\n",
              "B93OqUDhynfHR0r9I46Ep2oq91jNn3f4HdeLOr6rMCh48wtCJgKv6X4TrQBBfdfsohN/42Bu7vCM\n",
              "YFV37KIb6IZ/rbZ3DCOU48+BAVFDaTF72+sm3yAcKE3xtIROW3q6Yin8tztywgKLM04QNRxPxdTV\n",
              "2Dz6XOT+RxRHRavfRIluPnrDAcI1eCTzDq4jae+PQkBEfEtw0rTpVkP1+AAAKmEAAAEgQZ+WRRUs\n",
              "L/8AAAMAMuR7DYAPjschD8M04eeVgKwPifMBoSR9wX4/R+rwF9B6VsA5f+9hui0TxTwm6r+DGtTY\n",
              "EPsPV8821TG5WxHdr+Tk9PCiNXdXhOAjR3qsay1ntyak+F3GsgKKzx4TNffqB31W/y32XwTTswLC\n",
              "oWrBdWQwr9dk3iD7B1S67eDBVJBT0l8ivwE6lhrA+tS7VDNznMSQ5sEwRgbIIlLP4vVluG5FLO7s\n",
              "jsS5+rnyq06/4X4kKbo2IEkUDpFvmB6RHvdsfpVHd1ubdxhUfVcc7Xr/Sc4f2y6hv1cqeyTnWbhy\n",
              "+VU9Bjlsi8cYUj9sz8GvYfudBxtOhATlXLQD9QaD3Gj0FJtvWesviMKP3Br39bFtSUAAACvgAAAA\n",
              "nwGftXRCvwAAAwBFXG8Ov4AIdsn4Q9A9Yf9jZXUEa2zVd7vE/aVX+gzSWLVHZyZyP6gKpDptjXbC\n",
              "JHEud8RyJDxGCwqIcMDth06D73h+5bgw73jAn9lKFCfrdLGcLtIL7iUbu93urnaE2aDrLtSJEpZr\n",
              "PvHFp3YV+0leIQXuDqq/lyPflvYaaloiUZMV4HsbmqkQ1rjTo8NVyxFMQAABGwAAAKgBn7dqQr8A\n",
              "AAMARWOv79orfqcAD9b0h1CIEH21rWn3vabLTu31Vwa9n2N8JFV78/sBkXaoN08XGP2McIy1b0O6\n",
              "K15p161iCgEj/wknUdzbndNqlcvfAOWtgxY1/h1NTPxvaC4OcZaKQVHt4/aRRg0urHsNq/VxvmXq\n",
              "1XAiV2lKDdeqqUhWAifSRjUQSvPaV7G/HhMwo7WuI+BbgeKZtxkqTJXTYYAABL0AAAGVQZu8SahB\n",
              "bJlMCHf//qmWAAADACt8yKAC6Qh8PJtMG1AuC0Xj6CBhn6qOo3MOrRnFWNuTdWecmZCZ2tu8B55A\n",
              "pJTEM0wuuFQJew5UtrIyY99KAxoZ0A+49lTOiYmOUk8vUiszIxePImvQmNTqgWSE8QwHW2UsyiRu\n",
              "jhF4jBvW7eH9+gIQx4z3XTdkzbLMybPS6OqVlGtCL5KjERaX7R59MG1S74D1o39V2lNcQaKca44i\n",
              "ystu1qFUnpactzbYGIrbQEZBFNOVqr2GMA8lINDFvb19NVEewQrY68oOqF5ouM5RaHJEos8rKpB/\n",
              "Mz2FpjPuK/gmKAgoUuQKVLhz4wAhPmdmUj3DVbcMfS5lOs/XvXKe6s0Cp8z8M8c4ZUVJ4AAAI8YP\n",
              "qI9l7y5IsSGtTFMi7mbLQ5oXT6GZhtT7PChkxz4y9FGVqp4IIpHDV/F8wr7DDM4uQE651m1VDZPz\n",
              "Ox0U/eVexPtUDuHjLiF55YzW6d+WA6H7EPP/MszfpIkjAttTAHKfAArRlAgI/RjUhbrb0gAAAwGV\n",
              "AAAA2EGf2kUVLC//AAADADOCjIAD90KJMwzsAgGlNpgOkYFnN4/H/5Mvk4D8kLVCiUPUdHDB0FAZ\n",
              "gPj7KWm5v1y5pxN71C24QlnNNg13X1T69T2dXf32CvncK45smNWicsk9yi3w9A8KrXJdpiCNB9q/\n",
              "L5FAEd4eJFNJchySfJjUE96zwmqPMLaE9SlCzIU6REUhN7E5G6JKCLeJulHPzcw7i9GJNrJqCZkY\n",
              "KBRSwEcH81CRKJmuTTaBIJA89jhOBdulV+uTMQglM+0pA9aYWodP5e/NvAAAAwBiwQAAALsBn/l0\n",
              "Qr8AAAMARHhwCJ5WhoLUoANkqa3++ugSeO7P3YW+IKYgIOrLJafUPITAXcWP5K81IBexJ1WWa9/v\n",
              "Jger0a2k2kvy7dQxME7sglM1zaEWlQOvYtUeHfJOeq5XW46VBsypGfivej9eHp5gaA+bkX/4LxVA\n",
              "nt61Sg71cuWsWakTP8DouGqBbVJlMX491oT6XTelOPpq+xbhOJH5KyXOMwLS+cKEILRyO99+LGEM\n",
              "3Ie4SmGuAAADAMCAAAAAigGf+2pCvwAAAwBFdWoYEm8AIFj5O7WgwaEu3huKGbJffxiWggZ28bKa\n",
              "bfazD2uvAOCsBI8QdMCXC9804UXOZbLGak+ZiM9YBjwNpen8DvtE4tT83KPGN94Hhs4AyVNpGC/s\n",
              "sd4ItaklOsTql49qX0cqJAIkAJvLdlMs4kAQwkgTPt2qhnAAAAMBQQAAAitBm+BJqEFsmUwId//+\n",
              "qZYAAAMAK3yFoALEzoWTuNGQCsE9ra9qAQ0865BK1e9a+pSoQXUf+9+q0IipMmFGGn6Jbn2FyS6G\n",
              "eRD9/wyrwRkXxGnXNJ2H5LlgJG2Mi6io1mRVg4Y5crTndmhZ57Xcp0eAeQM+dy/x0OLbeGZeBU0N\n",
              "c6RWkuf/fQJHXhcidSC1T+ldbdOekNjwLxE+Svrzn5gr2ffIZFkz39yRFVI4Av5LBFPpjJjVp3d0\n",
              "Tf8NSn4ESBQHYgjNqv76eVXI+H7Jh7ej6/rfgu0WrWYR0GtqcZbLSZZ3rR1S34WYQ7WVEjSJt3Q7\n",
              "F0Eu5Sw7AYlNPvLM9kK4aUmsdoyPMLinpwI29dNWXR8W22PUwTOw3WqW2Lx703JuvIMTi2d9R64z\n",
              "mv82QqHqrvfQeDBu+m20IOGU3QSN4VrREAUDdhLVy2/12uEV1bHZ64s6pwKTKWc8OXU59uKLDVF4\n",
              "TWissXuPGcoTHrNQqXU15oaTjo2N4mkksZFstU/TAHNfiJF7Ioeu8ONsBkyPvorVOQ/FDnfc6AvG\n",
              "Uwz2MBbqgMO5szSP0uQu/GCBV3NL9jQzT1EL+21/dCtAZd3geUtcg7FfkAW/yQ1XbbTsUZ2fDPEt\n",
              "X0hm7S76vM6Dvs/f9nT8fGK4IwC3d+/soI6CgXve9jRiXZvdGaANep1R6NNJ7r/n7B8P1dFZeP35\n",
              "Nc50Pfutiqz5bbb1tlUBEfGteE7v28vdkAAAQMEAAADfQZ4eRRUsL/8AAAMAM4pklRAA2oPfDPI1\n",
              "SjSMkxbMivGGS+s5gZUW+npFSaf3LFzku1Vo3Z98DaF4WKtEH14Z/y6nAMH3Jx/vj9mooJdc6pnR\n",
              "ip7nU0nj+E8ZnUnDf63S4U4LPUhYq6ujOZYEfR4jeAbB5cgrV5+emHULESmpu6yXzzNKTNjkFynF\n",
              "z+QHuSe9aDVkU0Qt6XuxR1T/xHxmdtQzYLPppYKFB79Y6cov80w1r/tJIFoboOsD94kAy2gtOTnO\n",
              "3RTgL+tCZX0YVB7VNjHEjCLqn8h7InAAAAMD7gAAAJ8Bnj10Qr8AAAMAQ6PiAEKcwfEd9kRvZ5rS\n",
              "nEdbsnldRre0/CQbEzdB9JUnQZCyLxZFtrTfGVHgAw99joyuVDJqIyj2XwIbAyEDRX4eA6YhUSt5\n",
              "sDLbgigqpLLIrwSTjFR22xf2y8a+n3DessdArCqiVf8MqL0n96mzPCw9hnmTryt25KnCzyIcJ0JU\n",
              "O2jti3VzK+NFvz/0Sh/U8QAAJuAAAAC2AZ4/akK/AAADAEVjuFAF3eSbwAfIQBmvGmLTFmj/TN9e\n",
              "uxC3X/bdi+xvHC7O+A1VkPrBs5gtd9fIwTsWZJ0gFhL4J/Odkw7onqAs/Z1MWbZi3b4a9bifcr/n\n",
              "513bnVkmdPFBGgWwWzte2RCAh/311tGo+BxnsYUHZo/pigoyWcALHS3Kmd6Bx7iFg+ZUE7zTCdBR\n",
              "PNSotvlyjns8agrX/KL54O8krJ33ncr/DMuEt+iRSgAADFkAAAJnQZokSahBbJlMCHf//qmWAAAD\n",
              "ACuMUM3qADuiVJ29Sj3aPV1S47OajVa+lcV/Wm5qTyqcb2m3i7hrKG0j3E1O7wnqTRGSzWAYHVIN\n",
              "WoRkEuQDep7rPcbM8edt64o/H2hYYVM1Xxe/JyKrnL2CloA08VvLMfu7TQsFMfOXxbe1DKm2GLzS\n",
              "oBfqMWRokRIenD5OHzbuPOCfmPA9Y0uiwa34tHm/bwLIqxD4Y4bYF7Yk0yhIaLjc6jegJYoeRz88\n",
              "3uDuRsegO2Gyi0Ck51pdgEbHuPY5bn3tSSTBxX1HHYPpyEtvGkKWlapxgJQhGm3lQjUtZnqEtgxt\n",
              "oJfj6eLpeXf2P/y4SxwviMFWSu/yI2tzfP1cR4FsawCzsh5Emw8cPEXSGns0wkRYS9a4cej+DDiV\n",
              "GOQInJZgyB2S3gVeIHYCRcRPH/5xJYoJAKNzYoa1R2xNjVIE7cxGnUc6IZ9svvbAPALXIpffkYRH\n",
              "dDQf9dicB6nehhzejrD8UanB5lk0VGWtytMFBBF998m1X/dzU/lDyQYTBXsDMkrfVUy87Mkdbm2h\n",
              "0yzSD6Hn9X+OTeAQ8fc76ZKW1bNt36mm80QJilpYdo16hNshIRpMYg/G3hS+5pNuBTJt20SOAcxR\n",
              "3NAN6FJp0bqQf7oVoBqzMEgYSRx4aNcZhVp8OX5YOSklEMLKetPbrc568hwjOQAypQWkc0Lfx7hh\n",
              "aFSSnPntjxiKDjseBzrGZ4GXdnvShZ1IQ4C1l/+lpMe97rcASrYbiV+sXPy/mdHxH0QlIrZS1yul\n",
              "gzVz8a10fLjzLbHcnvkQDCSeifGH4EAAAKaAAAABF0GeQkUVLC//AAADADOROpwAtcNPqLN2KyOB\n",
              "N4R96afbDEA1RyAcg8gL8Pv926d7Z6jwnYLpLIPW0s7w+BsaxW49NtJlpPNsvqrUBMWTGomRtrad\n",
              "yr3RruTzyv9eZUzr2kLW0KOHMH5F0YuvmlK75pejQN9BChqFkpD3mRQE5uT4Qmtzav6Z8vGbmS2M\n",
              "gWnqyxGVRhLBeLqruuqdosY7TbZ51XzgPq+Wn7tIdkUEqsKLWmJxrtczsCHOTgR3b4epXrGTxOrI\n",
              "JOYlepWs2GV4rQKoiWHpC1KfKaSz9ijhm9IYcWTLK5OyV8UjOxCCWgYM+f+1K2NFfAy9uxnlR+tC\n",
              "4oC7RaTM+nEetv91qmBK4rT1iQAAAwADxwAAAIoBnmF0Qr8AAAMARVxqPtbCABD7t9slPN6IROUl\n",
              "KvYoYbxrB3LqEWEUo7ckM0abfphpSh5VvsMMFLeBc/7CphOp+88Er9XAF24zF9mCBlf1EMK06D4u\n",
              "3mv2APw1vRf9vnuzyQW3vE36aP5DZ9k/2OOYd5srx/QdwhPrj9kYoK/+FA840QhuYAAAHHAAAACQ\n",
              "AZ5jakK/AAADAEV1ubaa4AGxe9OlIW/aRAx94kuFvfMBiMD0Oku7LwqQ0q77FXgy+vVvjAF68hxv\n",
              "kTeh1PNiioi6gime+rPV9wTZ58bNSNBdjvwJo82g7DJrm1hVuHbn5DArFVtmdzIdYCUh6o5jgw0K\n",
              "71IO+N+hO8FPCOkmynYIXnQXlJFxq5VjPIAAAAwJAAABjEGaaEmoQWyZTAh3//6plgAAAwArj9o2\n",
              "gBIyPR1DR9LnvODw0oUQX3Z3l3F/mD4ednvb9uA7VXYCGzqiEPktAJOa7QWRqKzBXTSnEFPd+xnH\n",
              "NQRN3KxsTBpCXGKsXZ2M68VgeKSOwJHOEjwKxygmWjtknB/QsH78tJW/ekGwFn3EbNFM0v0Rhhkw\n",
              "0VaAClhCs/sMpgwul17nAKQlgyLZQd3DkucSnZlvE1ssSXsBm8VymL5Vch/b+/3x39pvW+58iiOJ\n",
              "5bKk4qKQfDx34sg7bA8f65EKsroyxI5O7h4SapQnJ2ZJX5xv6HGUHto7sKIt5/5Rye2LGm9jf4Gm\n",
              "W5z2Dp5lbZ2iWBZ/281ftRX3TvPw6uFb2xg240uYQsMqw+rtZXvHWmwGljA8oHM2Wh1xS+CwTf2Q\n",
              "wVQ/Z+SNMSp791wPhmcgPXwYGuUaPsITyrTwx+pYrDbrL3AtYN4XC7cqBLsdkjrCzmsvN059KWFf\n",
              "COym2XMcbsQtu62IQCH/w3OaT7TBr2nAbrwAAAMBDwAAAOFBnoZFFSwv/wAAAwAzimMw+ABOGWiU\n",
              "98yz0kdzYhquYDRkv2Z76escB2Z/U3kAMPkwT2IPynmxP3H+uZG5ANWk12FwOBHhMP1KbGmsrgkh\n",
              "VGkLb7Eln4EifWLkGoSG/vHPo/7WtR+A25ElMmTLXsOJOmBTW6z1lHrb3+M2FaTm+HT8Zdg0htbC\n",
              "e63OKZxaFsXKwUhGd5tdlmPGSib2fHq0RRbmVvtrEuxtEWMsOgQ/PXz3lYCOamweqkcNlZ8dtcxu\n",
              "W8g8my+s0f0IoASA4on0IjyA8bgH+LviFV8AAAMA+YEAAACLAZ6ldEK/AAADAEJzmOPYgA/FhQU5\n",
              "w4VVnYIKQIk7ZGtuy1mIZWy6bFZWzWmJ5o4ba8Nfv8BMkSIBDMVC0Ey0Y8kIPQ1CZEXpPGcN96Jo\n",
              "1LTeSHqKGh55pb7IJtrVnJuKG5/vgNmYYTCIdsM8uc+AEvzMf347+Qa8Ke5rbSGKidYOFgExdQAA\n",
              "AwDKgQAAAKgBnqdqQr8AAAMARWNb3FwAQ1NgY4hZ35GaDTjYivXc9VxccHtV3+BA+e2Bsr/Ho1ln\n",
              "2OpL+4iSiNuBqaY3BvHJ1g2c/H3x/TBSVtl6wNHcydhnafVX2o3do4K+bdQl7Y/fMRFIYj0+jIhS\n",
              "Cv6q5wOct4ukSmKfUz94thUdhcHlc15g99wn6dHlFPXfPRjt1Nt6z3390tcbjiS9ZrUZUe3s05EA\n",
              "AAMArYAAAAIqQZqsSahBbJlMCHf//qmWAAADACuRTrxoAO92INTgipp08XyIOf1aQHRHanpXEfOv\n",
              "nKLWKjFwx7EEyP8eg4XSODEY0qfu3Eu3K5SyljkDPixx1GGgI5fCBaXYpMq7ShO9q6o+iCwJj8a6\n",
              "dBv0L3ZQNolVxN7PfkbxbL2Hit5Rkw7BbqoQxXeMRSvotulo0KGeRxw8BDkohGwFBGDbWvcewgYL\n",
              "H4Y9bTuDmgnHc66lUOuKQoInOSLO4OLudtYpjUsnMsoC6gR7OT4TqDcSK6nZy8AhYEKloYJ78DXx\n",
              "ViOhVcmojnrB0QKOjvVHN3uxs/OOt8RC4SNAkUF2UEVglX6vJVEsPkWJ2/q8ejTyQDgWB/3nesAW\n",
              "gxv22EZ5n3Je1faiCEwPOdkCIw6rPc7gaxoCGw2z6ZuNG+2yUSppy9FGKPZkkEjAJUB0tFyJOQRZ\n",
              "zeCV3htU5R0EldCRE9I8g5Gvqhw/CptkvyhdHYi9hh86XarWn7VIJTuwNTR1oRRwu8LUhWf1xQAs\n",
              "7YPtHIz/KRyTkcPY694F0opkiJoHeiZbxpn6f5dE7beTVg/sswO9jQXhHQz47BU5vh+ENqVkcSX9\n",
              "XmGeHNgnHCCQecRn3/Vna0KrETxs37+gLqxuFtrQv4r/0L6pH/CrLfdEuVyZSRqIQ68wQuteLsqE\n",
              "EErgf0xuDkgmzCM1zatLbGxzkGZHkkY/rkEf/2IbgxGMLoMaN5nIOzP+xLRqgAAAOOAAAAEhQZ7K\n",
              "RRUsL/8AAAMAM4KMgASyRRAMHFoGUdhNwYYImkWtLaDsBM5NMcmZjlnP4+qz06P6xbY8ggoHNlWm\n",
              "troTc3Dg6Pz4fjN291RyQpXkhxJY4/tvOw5kgKxz4evK03d6H9prVFqTqlfEYRVvdyQRZaZe0Liw\n",
              "+ET3eSFRpEkFOxtbYzdyIeWVG23+sObRA5bWtbYuEHCe6zhq3zFqNwznd2qou3YTVrpt+2C5KkeS\n",
              "iezGaIPPtWVvBAKtO3Q+OHax+YrF+qI4RZ6XX4OaZoDz/yZDT4YoGGvpcQOtZ7Q9CWHj13ztKgFf\n",
              "ln0bZNTQ/tGoQ3VObt7YSicCrlStmS2ai9jOmt+TIj6wfCp1tR2rpbSWoOwYSYRDbjA1PAAAAwAw\n",
              "oQAAAMUBnul0Qr8AAAMARVylP9sxRvAB+c+u0wY6+vSh97VWnq9rEkKmNORsTygQ2ODyIo3Kqr9E\n",
              "9lsm1fa0j2WjeCqEOmnIGHFP161CQbPJDdmvaPXIP0uQyYR7t3kYno9gZYwAq6LG8tFDhUpHWH2r\n",
              "hDtCVw5zlBR/dbUG2/hUn/FbhPy7NWDcOGHqHm/QgiftNMrIIIz95Ic89Pk5o45xhx76gYIg/nQ/\n",
              "1/9IeYFGddiJSd3iPfvFplHECzD2+gL2vAAAAwBvQAAAAKkBnutqQr8AAAMARXWJ4esakAH0OYLA\n",
              "WbY814BlYcGIh3VQSFbHufJysnT0IceXhAS3CGhM1Oh7WhbiiaD4LFxY9gZgrVwQoIWpqMFm5qJY\n",
              "7onoGsAU6Z8xgP4omn5JgLJ9ZHx0p7v0gS9gQvPwek+HgUaaxfwe3bt80+lwK04y1uXuhIsRW1Hs\n",
              "dmnRjZ2e1sW5r6cPyKrcXF2fpzLz0mtsT5MfNJAAAA3oAAACO0Ga8EmoQWyZTAh3//6plgAAAwAr\n",
              "iuX1lAB7iekct6QYyT5zJvPffAP/TlzTSKKRKEaUivd4myktU13st2hmS2tZOhptvrtCL7tnSdLF\n",
              "LQVgCQvo02PbMNXmbBIIzJbQJfEpetbiav315ekIJwY/7xWJA7drc9Q8mDW9CBPnN6E/2yLfc2ic\n",
              "NmaqqzYN37xAUQqYtZDzlKe38z09AqNeoV8arKWFzOANQquW4+myUnc2n8QAZ3XWlKtW7trJ/HBn\n",
              "RDMbJCmENojE0syKRIXw5VgtmCpoqRfiCJZzPd3HLKpGyi0lee4223pxbhmj8mYHamAqo+4pQqCL\n",
              "OoehiGUUQcLWXpZ5lnqA62mtLSM5MoT1/x3EPT/8PpUvhjmzGq1I07wFGpE1OgYHKmmwF61WBMf7\n",
              "LlK0lQodY6RVa+BMD0YzaN7n1vCbq68OTp4W2p6epswqmWhMvwPBuNk+kVHvSKqeXUt09i7+XJOj\n",
              "9pcMgQF/S5fnc0QY0GSjXCm8/eD0MeCOCK0XzzUkXqPqSvnmoXZTDAg+Ft+YDP+XGTd7SPPBrxpB\n",
              "aWGRxg3R2qcoHaha+cqslPq4ymNh2309anMeAO7MVJ51zHAXkyDtRwEmeN7tCKdGWq+zCYXG95qQ\n",
              "9WbUMnhGL5M9MW2CL23SAm8d9e/eeL8aHqTM03OgRT9Ziu3m0DpT2TH9P9vGQz4vqGqYeS2FDPRb\n",
              "olztibHILuLXLdTWAap3vmY4OXWPyO/E2Nkz9UfdW3wQMAAAScEAAAD0QZ8ORRUsL/8AAAMAM4Fz\n",
              "Hqn2QAL5habwVwSxjhMbnfFKJ/tPOrKpNeub0XyvPsXQMYCQjRUriDIRIcFOP4/UKCzy8lotNMCB\n",
              "KtQq7ooEa9uudsXwmhwq+58iPkXRH/6BL9TAwX76DbEzZ4NOo7L6mHR7y91b0TzQ/07Rr58VwZUE\n",
              "JWHk6D0oU1OysMvvqxPqoTBHcLw+fb7QMSIQiIFElQxIpFFjA1Sd9NjTwLWT54+jbNz1eBYmj+QL\n",
              "pmRGf7kUUJuS5L6/ffzZ+7pnIvC/Iq3xfoJWFNT3a0UlzblyO+9DBH+XBUL6tURdsvRMbI2AAAAV\n",
              "sQAAAJoBny10Qr8AAAMARXvHo7eDuACG9QYdG9LkpA3cRpcK5q3mE3tKdeRWC/OCaiZN6o4YByv9\n",
              "hjIDXWnAVxsNMJvyarKodZQhZXaWV/nRrwKjx/szEBtZsDPTxQotqjOYNC1EEJvKSuluWIPk79rQ\n",
              "QKWle1xMrh2L5LwHaB08nD2n/eSi565QVxcK8ePThHMD4oZfNwQqufgAACkhAAAAjwGfL2pCvwAA\n",
              "AwBDo+IAQfmnSqMK3bo/RczNwRrSdAS8elHOuKqgjLKnDC/rrOKTLETbxiNbrudI53h1HyZkNlcN\n",
              "QMpYJufYewycHwJ01/tOnwtDHn8t3VxpWLJ/2dNfA8fwyv+61e8dIbLosE9Jgp2r9RaYiiWzoSqk\n",
              "XGcXwgpM1ft4SE+ZCIwC3VXAAAqYAAABkkGbNEmoQWyZTAh3//6plgAAAwArjGWDoALZUndE8HVA\n",
              "6XfHiu+IOT+B4NAAHm3Dn+pOjQ2l+yU6Sg30qEcQ1ll/YXQKhqq3ovpx+f7s8BB4SWASnB3nMn0N\n",
              "GqA20xpbui6ZOPfHBR/zveb3BBogbPrpqhHuEjQ1ls75dtas/6RZ3fU51WpaDONVxqvBx70h9jBG\n",
              "SiyXNHJTVfteaeiVDOuCQCeNVumgXjIIOXIElHE0KKweqQ6Q/QIwtc+4SUBeiws1MDVJqSeHxDpn\n",
              "DZ4WTbSUOE6bsocTFQ1V9T7bCmDRcFZlbiz7t1OZcBcn5g/xQCeWu/eNsWXhEQKEwp3GEn71ciZI\n",
              "X+PGXdpPlAT6pTy3fiQ53wtIzyGa5wjcnP3XrjaBsnd9nFhV7ClZN/z8qemn3qPLXrU43aDnfmjj\n",
              "+4DbmNgHW3lxIgTcVQz6ZraZYuXhslsZ6phatVFSwShp/apOMlQ+MRDf3rj09dhGffJ1NVzHxanX\n",
              "8Jccs8C7XUB8Fm9zlGX5FRzBR/7iuAAAAwBswAAAARdBn1JFFSwv/wAAAwAzbfyiAA/dCTbGNmhI\n",
              "z7bgMwsezLplx2SkbxSW6vo1/AFGJpgKe9RVhvLuupiTwcMxObMhsgEBTiqpbzwzaKQXYG3qe31i\n",
              "c3b0HwH+5vYyRa64AIsgzD/0hqN9H1Ai6ymFQN7bRrQuAocdRt56MBH6l7TxYkbiz9Y+1PAPkyU8\n",
              "EUNE+5cyD5yhrr6BEQ4b3ElgzBEniVDfutfofmZv2JIKsw3kzMZOBJGQaWTYxiK0GsbiiB3n7zY0\n",
              "7BG2DlGias54cE0dqAwH2E6AlhmYtbo0P2Aw6GyzJ4YMdmrVnOqLSsvTCMHzLN3EPMK6XwZdUIZT\n",
              "o2oSlyinCnE8mhQpCRtHQuMW3JVUgAAAxYEAAACzAZ9xdEK/AAADAEVcad4H9aI4AHwXkvD+w2oY\n",
              "AxmO+Nt/7k5M9AyBwKKBJqpUIBHZQJuK89Pr3/WJjJZuClkwWoAba5nw68QTTFi85bxn/w8rDLPl\n",
              "fVWzDx1LFDZKtourFCjvUMCcvFkg0vgY8jDDJM9RFaQftPWBRW0/dbkEyCGixfhDQc8ahT8fvzyX\n",
              "KBgWMPYeYp4cfP2ltVVrmdYTuEtbQUgGNUIm48tsa+NjwAAAmYAAAACfAZ9zakK/AAADAEVkRf03\n",
              "gBCOabSHDg1gub1afYAspyabmH5q7YXno+LIttbxF2A2jQhzXQ+0Y4WrOwPeLU94hSCy/A8Y+vsS\n",
              "Npay/Hii/tzeH0pUNkNdyYhsdUvNynUft1DHr4YZUOIDP/Ggf3uJ41Q8cgawt/Q0I8zJd6DohR3Y\n",
              "4/mYiZpbVccKB9uE2shOgTcOkZO5CrrATgAAAwFlAAABZEGbeEmoQWyZTAh3//6plgAAAwArgUyo\n",
              "ALjc/c1zqWe1ICQFwwpwIlbV4nKPuZMJJG2mDByCb1ouozftKaSXqdiU1VjGB/9MxGmx+ZG19Abz\n",
              "2dB7hCE5A29whVcC+JzO3nTEJzzcaYC8JaSeWYGPHyccH9fxWmugdhTIonQgJQHMxjskRqAclgA0\n",
              "yPpJM4TtxfFccEZp15YVu031YP9UJnCcP7n58lUrlnqO1qASDPNBAryMIPgewAGsnqr+oyTGc61z\n",
              "WeO7OBYM+mWxUkM3lRy7y4wKvcUeL55kgaKx0+agpS6zjmF637KqfXrWiaOs1P9OPJOrsbqtyq9i\n",
              "lHU53NUE6S7CPtM3bj+7yYSCMcP56ZKKBQ6C+azc/4mZ8Bw/T+QAAAMAMgps59VJrnK2TIRzOC0s\n",
              "ZdYlTog4Qb55gIEgk3ge9wxWnVf8KwGL36BHgBjb5O+nWcXwgGel1pqgAAADADKhAAABOEGflkUV\n",
              "LC//AAADADOK5kAB+6GjMkTUsmTw0dXC11f7WMedmoejYr/KsDj0k+3fdU5/nKmYyGrydG2z3W54\n",
              "ma0yTeXSSEkEBP28Fkr1aVwd44SZvlyvO9NSqzcPfr2XY3iyQFEkZSa/upU+rAd9kYhPgWnP8GG/\n",
              "1W8lGpaJYBxjt7dOvuBuVPlr0H/57XIxP+vVaaf858tuY74gJV399+uLfgqgn6JsF5YNm+Hh/zCM\n",
              "c4LY+ip7pAFqHk9tV6XJ3PUge13+RlQJ41DVIoSyJ3RWGI815C4sPO8MWYKjCPwmUficEiT5wcJR\n",
              "bmWtMWhNbc7eiWGu37twxET1x6BTMx8mTMh834KrhfbLUvkjHDTbaXBGvh31pH83gAJ8ADMgAPDu\n",
              "UZuxvILJVGrSSMB7IW1algAAAwCDgAAAAJcBn7V0Qr8AAAMARXvVI2XgBCmzgMoNWBSwrlTjB+MT\n",
              "88doPRCP5I9kpVdEYZbtnm5qzlnDwRCac6TkwyhIydQzM9m9wYRFwJTjiQhnlA2m0Zl85jn20wVW\n",
              "CzzelETiUcIVrxDJyIEAWS8YCt9Oe45b627zn7lu4OFIB6xdBM/Alcd6sAYlCgCA6gAYeI4R6wGH\n",
              "AAADALaBAAAAgwGft2pCvwAAAwBFdWCar+4AGfuL71S1K1fXIOZufZOalYZg22B6GLHBP8WpJaZK\n",
              "SBlPdCBi+Me1u+xbXIl04iJ7ltXmS2FDYmSV3Tz+7cqmssduVVB7m6vjNfiLG6RwEQ7rc104jfW+\n",
              "GS4+G0dhmIaNcrdPxiz92zC5i9TzQAAAAwKnAAACE0GbvEmoQWyZTAh3//6plgAAAwArkFYagAfc\n",
              "F1qYrAAOLbXGAjxLkjBAL7GgT9O0nfc4VYO3c3sD8u+10V4jzH42X1AkZDBpXPOsgZI6KOwwfmPX\n",
              "8TyDlaYSDIbucSEZDC3xzJEoHzOjeBuWNRJjHG2XJxyGyQ0gZbNgGJ0Jk+qd5/Gr2fEHloXPOi+j\n",
              "7LTa9aeMgMAhArK/p4u7jJC6VrmZwoMRKehNB6TpJydd3+W1Nub+D/YiEG58Kw5hE0/pxsp09SJM\n",
              "eaT5tuwjZ/QYLBSLPP+QDH2kqWnlgp7RosdaQ+GUjanEUfgKp6LN5XLD3UFdnq2xnWGiDo26N+1e\n",
              "rtL+Wy2hPn18l/MP0Hm7iYzFpF7QhHxBNsTjVOG+IIU9vv5uP2E5D8fAwxmGYvb/3orclZvb23ho\n",
              "xY7UyCbF5etLgia9a+xXiz3lxCu+DiAPsVhoT/YZsz5JitU8/FkdBgIKL/C1oGGCjhUqFCeOnpJW\n",
              "mEj6JadseH+ma52CVRWdZVbJITTx8NwewTOSV88tY4UvCZTHIy8vw6HEim09Eo34IRa1vopJYV99\n",
              "oCvxNu3WKf5OTqEBOtAC5z7q2pJqfg7O906znaHvE/NGkOmCNfWnVv4l3eRlyTphqWYiBhnHsTPu\n",
              "Hro0ZlhvMDpW4yMUI76Px42WA96tdT8R2hDkJsVUxn+Ofus5tCu9eUrdAeHEAAA3oAAAALpBn9pF\n",
              "FSwv/wAAAwAzii0PZHAAdoNyac981bLVG2GDYxf2HMI/TiGzWwJlPBN1RmQuUJMYkloaO9onpEEb\n",
              "KC0qsphE9Rd9f2YQKtRj1w3M0kJCQ/aS/+PpjoIPwrY9w1zZYsn+drOFAoet0jfeGGA7UqWfVTJB\n",
              "bplQAGDxqNo9OUtpuoocqFnqdpF5eaOjo5ADmZXPzLxJpbKI1xRb3nfWtoO/hwkuZMIFW3SxN5DO\n",
              "AAQpA3zbAAADAQsAAADNAZ/5dEK/AAADAEKlX7AVVj51ABoYD5+OONBJpLBgxcUnCkYqrwcIw/cX\n",
              "uugpJWfi/lNi0HYXryqaM30Rvwp/lCvsTw7AZZ8SZvHTWjxRkrxHlBZDAmZ7eD+uBAePhE4x577Y\n",
              "9L4fjatmjNYuGNk7qDYXWA6ZvvPRN7mb6MgRKCNWjHXBn9fq+UXi0GbOeeDkUpAdeOyLyJ8Bu1qm\n",
              "JuOpPy12ZJQ0dMIQFHREjqSWaJUQltEsoy/7g28PupMcnnPjfTVRgv0m8vKOgACLgAAAALMBn/tq\n",
              "Qr8AAAMARWNZ9P8m8AD8VwOwaf6biw3GzQvghnWIZZatSIWvAiFhEGf6wgvf2r4dLSjyAtiBaM5Q\n",
              "KMIuSzm5SaK/ygk2j9BCM7rE5xHth9MMvzSD9Q9s0LWp2wpFY0zqXLXlwPy6kjIrDkmDQPd33YLz\n",
              "cBOy9MKgjKtnEF8opcygjxvFKpePX5QHj+Hxi9wBfdiMCnCKv6SngTo46n7zkTyOOFJ8Y7GocirI\n",
              "AAAFtQAAAjNBm+BJqEFsmUwId//+qZYAAAMAK4uXxABYX1D+DN/Opxxz81baHdJoVECdaVnc+tXx\n",
              "D2rX1vVLRpTugTFcFzYhYULfBp5VhEYwrFxrgMT5hp/Z56PWr6xsPpXqrFR6t+2skYsaet9/fE4i\n",
              "hiw/DDhQZJt2WrnNXkTy56YkMF/WN1EsVq1mY/qN6kcf33insgPEv72uLul/bZvBbv4sHZuF2AAG\n",
              "Y+ueROcB2ttbofOhkq5lblh86h5jWInVBQGi9wZoUNl59mEOE/9mEsc7CMy8QA2qE4JuasrZs4kC\n",
              "1w2qlTyream1/hRPoHI1yaV4s9wf7l7LZvcr9LL5fMT84OA6KU/oODrU0FqU4vixgc62V8KBgerb\n",
              "91fHv10AqwDf+GqqSCA1x1DAQM8ljwSWNMRqWw8Ah+7wYH94PNIaAQfKFYipihFq4hRK2alIOHiI\n",
              "sapYXSWapCCGGd0wx6tgvE89FLScAPL2574aIAdIfWtJGR7OksjbsItUAPARuUVzs3XbaBN9U9RZ\n",
              "+v5k8f70tQxgKdTKK5fz8YQzuGKfazgg3H1CfxXoV9ulJnN0UDQxoigiGT9E1vBFg66nse1rMw9M\n",
              "q0e9poYHrJnMtp6Hj86s944V+goPNI8zKRouSSKG+LNPKjZ1CO9dAdnqIHrFD7SETBe+EEiL21t2\n",
              "Yo4eeImT7jXR3b0yVepof9O1Dh1BbJwO1oUFeh5JWA6ZhMLepDSv//VQLsPWCUL8f84KfSJ4AAA3\n",
              "oQAAAPxBnh5FFSwv/wAAAwAy6ZfswATbpYRIKh3+Y5apxDH1SEMFz7B6hdSCNBdNb6ZvAVaCDKq+\n",
              "xDyFy9TXLhZD6TcIlEaJvnRyINEg5Ukug6D46d0+0oLtCSAjTn68gNXUTJzTnvVVO0h7HgvUiLxd\n",
              "LteEj4+f3y6HybcrwDwGV1Rf/qcMID9mvDWNwPqtoyJ0NUB/HJLa27K2bqBfdfgJ80zUiO+OdbrD\n",
              "xQvxbvNtk50uc1+GH24rsOHiBtoLl9HDUONTtAmFBZijb41359a9v6QcVgnN2zcwKzAQVFWDhzU0\n",
              "QoF+HQv67F03AQ21NiqNDmhxdPRXnUIAAAMAyoAAAACdAZ49dEK/AAADAEV71Vn7gAbGACeUDlLb\n",
              "5BEgCMj2NYtk1rcepNrmQ2gZT4si21uU4T/lW2nEOlGGHeaeakFPyHUxQAI2w3s5YOx4NcrW5SqJ\n",
              "BHvmfHepduaW5vw3lx0xpECSgmK0K00IhGDeBWJnY+rYbaT7dWlcs+Ph8G9YOYL/xRo0KWePpyOT\n",
              "+sP8o97sntifRlK45FHEAAA2oAAAAKIBnj9qQr8AAAMARXWwA6PB3ABDU4AKFS4Lk26i9zZ++6aD\n",
              "dRKSZd77OkfxstHxaVA/U50Hiv/H0MVaUUlLngxeeQ6Rt5+nG3um1CNaEzr1RhWJRqXLNiKH7Put\n",
              "UDE5ndFh2iLzv0DDKecaL9xiFLhfYlGxQ605QXkjklKvMHoQlcfBldWjKU8kHmJat8UBH/Rx8r7S\n",
              "Txk9yrozCwA6AAADA8cAAAJOQZokSahBbJlMCHf//qmWAAADACuBTKgAuUKRxCYmczP4NfB3g/x9\n",
              "2ypwf89G9PLW14sl5v34N8FTPa8kthD/P1Zb6I8KQNBePljFVgRA1SzC597e4GQxU+oIg9oj65Ih\n",
              "9Vvm3f3xe+BUGHIfgNSjetv7GGqU8MV7j8ydkNrTJWf0Hr5qz0ggrUe2fD0OO7a6ylY5KRB3n+ja\n",
              "e1qhPb6Zx6N0gUmZtn1k+TFQTkh+6TtmSuLQOBGpRZ9DbHUX1h0oWGEoeBElPydTEma6bmX4pOdl\n",
              "2biV5Bv+Rbht68gY16/QsMXSCi7q8jlb7IUG8XoolOR4O8NM/Q4xMZ9bpGXU9kop14Z5Jbe/hJNI\n",
              "8NES/LGVsxGQtxmLpTb0Yn/kdEMMPLooQWkBK4qDvF+ZNaKBWhwa7WX8cp4XfC0BnPqYk47acA9Q\n",
              "wQnvOb80oF+A3K0KdIhs5OuXukDTDvijQwPEkbkT4PFyg1o/z7JYIFBfW5NPv/2vczToxERfgSis\n",
              "8pEdky03ySbDLsguq5a3KXQtz3Ujw/vhwX4ixU4sCTJ433HzI4joXy825SostfZzMNJ/FzdC2Hyn\n",
              "sK0BTnrbfUf4/YVGYYoaPMhFCsA0r/QaUitqfrCGrcCeQKa7O1ptDOTCoVoPenkL293W56z09gPZ\n",
              "W3Z5jWV/q28g0130449pvuPQjVFDb7R3I3stOKbiKNPNjG1sxCzKHeiWmno8OMNF2nA1raaKBUW9\n",
              "qmBIWaL9aBn3W3wpGMh6QcAH+r+fRLgQOsBvhJ3m5G9owwAAOmAAAADLQZ5CRRUsL/8AAAMAM4pZ\n",
              "f5LIAGxFHlVHkNT4Y0sfmE2r3z/rBFWT1BK7aqcG6U38qM80ZMCW9VNB4qt77erDsWZLx2y91C2v\n",
              "JBB6AziROyGlN8TMLJmixy0Flhbo3Ej8990c0csSB0l7tcHeTFtP1iqsfFR0vDsWgTydqDx7mv/8\n",
              "rP00jcvVPMOVnxS7QDm25o2zr31id/GJKY7IlbIo8wansmdV4BDRplkpJ0AXKsaZV6QT+4jIjqO6\n",
              "JT5dM4g5aBdswqEQAAADAx8AAAB/AZ5hdEK/AAADAEOj4gBB+aKEVcC4uNONI0u/ofhtanwVz3Yy\n",
              "NU16rFQes+NJE2jaypGrEwjKc5gj9AP0qCII/BII8xs8T00srK09FMj9x3vfk0nq3fIpXTEgZGyq\n",
              "Z0sZVmBf1haPoomxFefYH2PxSEyz+NLj6Is0DjYYAAAG/AAAAIEBnmNqQr8AAAMARWNOK9wANRDo\n",
              "xi6VZwWVT1VJvzgEIfILgSMa8VYhnmfGAGob2NwnE7bjLGFBcxOcD4CHcha3ZU8OWztkgwIwCBjC\n",
              "zskmDvHWLLtRQ5vd5ElwrBJuvwhbmaaktSdMaBqLRo/hJYxbgSZrFfw1Xwm53IIAAAMABn0AAAGs\n",
              "QZpoSahBbJlMCHf//qmWAAADACuILkKgAtblo/FtksxJgsceQuHQeSuHvTT+kNoyS2ru7WIUvP9p\n",
              "Fb8jStQar7BesCycytdmjeTpIBfodWUDmrbBxA804pRP3iNzX1VaHWey/VXmNNOvcm37ZrXgNwdU\n",
              "UUcPWafjq9HBDBgPrO6XD8BpP1bV91CbLdystUcD0Tvi+mB1MlZ/Tb1pUmfjfsF7Dljarl0ZXaK1\n",
              "r2/7c/AYM+3W7V1dtgXbDk5trJznKpvE+1/rIWDWaFSEu480KS8yrvUUeSUHwuV16lZ7U4d3i8ol\n",
              "4nnMoT/Di8P9rTEmGnvPlSI/J/6Rh5fGb1ps491CG+MnozzRvmxiUu4oIkuTbZxM6sitxWfzS/lA\n",
              "zPLJIwMWAHiDmznp099VzJDVY6SZVP4bF5kutR3YOmAlmxXvMKxemyXLjUvvnekIXIc7/JY6h+AE\n",
              "KPv5QwuDoO1dbsArqg2VDB27SK46kg8Vv/sszjp61mX1VvF+1NZVU4ffuv8Q5Pi2Z53TYGG6VLLL\n",
              "e6M06F4Jb8OcUYPft5HHvZbVHbWGRoIAAAMAV8EAAAE0QZ6GRRUsL/8AAAMAM1N4LtgBLCY2TjpW\n",
              "1ff7mj+vYgbpzKKG/HY7Nlw1EfnHdSbdoVdST2x1nlKsHzZKaZNbJyIXrxHRqc9g5bDlMtmD3tkS\n",
              "cyJJbGAdHt7DXrgOfwhRiS5cKlXGDlVUylRmc6DbGUsD4tK6su1C3env9CY6GaZAJxQu5tlqhZ2B\n",
              "QLjttjFRvqHmYP13UMH0upCAiNtYl4e9RNJl9hz8ycpuqc691xlK++CXq3s4Zv4aL3Z/Qe7XGbQI\n",
              "ITy+wk8mCXYwzRfzLKac5aDSS+2J+GYgCXHNUGywsU9dkB01MNhdX7qculvXFM+clEJR+l79zD1+\n",
              "1vGcL2ThV8w1UFohOApMBiNlrRXXWwYtvVzNa5DyHqeq86Nh3jGxChLuFFLvuFzgOGwAAAMAh4EA\n",
              "AACNAZ6ldEK/AAADAEVcsE0oU94AG0C7wRFroIbnDWF9DCHx4rGQbOjQPlysigDVgDYBiF4wt/3d\n",
              "lyfZwCrztr9oH/SP074jD+xJ4O59fyXiYUgT/E0XRG/3jb5Q+EuYZmDPddKPIeJLNs1mVVPsLOKh\n",
              "AeA48S/DOwFuefnnwm5P2W4eGTObo72QAAADAFlBAAAAtAGep2pCvwAAAwBFdV2CKV8ADZqOAdZU\n",
              "dqjo9zqSbPwGJb6pfnPk3b9XKLz7FXihFTs2Obia08vMdQ3amqr6ZsHaIvGgMbYUnAhp8s2FHnIb\n",
              "Zua6bizRYNyhbpJwsfQFP+tqSPalnzO0jZcntAupGvawaGPo1D8Yzr9/B7CMYbMtYBCIIJpbwhVg\n",
              "H3TfbUoqGdYg6P78/e6g7vAfSkDGHxZjKjzO2Knx53mw1uM9WAAAAwCygAAAAYVBmqxJqEFsmUwI\n",
              "d//+qZYAAAMAK3yFoAJyRO+otvS5Gfi7g8A8e4ii6F1QpG7CdsU0Lp71obg9u9NV6f32tEDheqaA\n",
              "iKLiiHg6tWsaohE7LkFAwwoFcYtO2AOrse5Kpi81Gg2+VsdXwSNt+S4EREAdLhOIaZQDtnAiBjhm\n",
              "/NrYwB7PCcsgfBkSilZ7KgV//MCcQyHAZlMhIRoWlW6C/v1XU3YvXHjJ8xQVx1bR03wk8ynMtg0q\n",
              "ZoL9C/QOb4U99Np5jCtaaJkSMahMK0QJw0GSYoyfVJsWX9lXlIzhA70Yle2/lxC4/bRO5MvzGoAQ\n",
              "JhToD4bDaxH3Ss7kXFnBz9TLlZvUcYqsBqMQXsgKwFVVRuhB6JSl8jHm48WdKqfxp80fWzDA4obP\n",
              "GWCHj8g8YhHXJSocQ+kcE1HMxxjM7rQH+lhFHmzd2ELyaAjcBz8kMm1mYKmLgw3l9mvs1X7v9ZOf\n",
              "l82KRrhqnHCZ5sFmbptHk/TTnb6mb5Frxazsbq8q0nAAAAMBFwAAAMtBnspFFSwv/wAAAwAzgSOx\n",
              "m3AAiDiPXLDoPJBSw7g6NjZLgIeUkTFgbxKXVeAcVE5TPohZEukI5m6HgWhQtr7DkMdZP+FVpB3W\n",
              "U1SC0HSyZCnaZn/Gt75iCw8P50ewjJWTQGUZV73E/bHwgY4iVNJg43QyfgkC+XmPACOovilC14BD\n",
              "mjTMPfALHkV1SgU8K53hCGTWK1BCtaPZJIeluoPtDDshOUN8vAniK+NTaqJnAAHc6irgg3zrgtA3\n",
              "QKe0phjN4c6JiYsAAAMDFwAAAMwBnul0Qr8AAAMARXvd/7qCABCMdnLl20AZ41wfll+PcN6MopFZ\n",
              "C/QtOmA2ZuB9evY3ojNYMbZUmqSBmS6eQjet/hLGs55Jb3+B1a+k9ZLgiI1v2XoIr9EIqbNKzvd+\n",
              "pgW83HbZNTT82vn9xnAVjwGH9EyxO/g14x6ZAaLG54Ht7PCQ58F+XM6IzUk6Fo1gdwzkPYfKyRvc\n",
              "i2eut/SmuNgeaR4cu1Fv+ebr0YTKR5A2dpOTV+san56w3rUW+T9uzR5Ipup7FRdCiAAATcAAAACv\n",
              "AZ7rakK/AAADAEKlX59babGoAP22JCFxlZYkHNASBpBvMqwQZh4r1oz9L08wAGaa7pdWVpo4LnFu\n",
              "6ONujtJQbBwdzxJ0H2sjCd8XKXU7seIbhlToHhr++RI0uBIfCI6YrV+b/JweGNobPsBY8ku6RGHp\n",
              "BKKGKZTAMPstTwyH8cupVDwS4JfQKGWT1PgiqtCJVL/CwA2ahb843FAfvba+rB1QcD+TvHSD7cUA\n",
              "AAMBvQAAAUlBmvBJqEFsmUwId//+qZYAAAMAK4u940AJTzfYr2kYGKgPpIzCLN43yxUAhjCbLCWm\n",
              "tsoQIW+7Jdn1T2A6SAIHZCrlgIU+vXdjS3TT8P0mRpGXNOjHVKqEnSDZYnryHPcDYMmrLA8hwP3C\n",
              "taJtY49sQWvVSsZJe03ZCLozp6biAJ5/22JEi1tGMSWLBQYvTgfmjN20fU+zHaHZ1086M282kKd0\n",
              "VXfWkGiO0As+Gf6r4XF2Nnl1nTnGVC2TM/0Kv8IbX9NcuDHSNam4S2DkiNAZELQ81Xai/XAj9EG9\n",
              "iFXCSFOrFqX31oldqPM9UYpZnaADQE5rGOaht3UWorjMlPGKhSbkECZnsNhTmd5RmE5kh9epN2VI\n",
              "OIGmGFEcSEcqkswZMAir/BMmWG6Yudh9zm1o5Irkgb1qkhBrA7mrPMvgF+c/eqqAAAAg4QAAAQNB\n",
              "nw5FFSwv/wAAAwAzgoyAA/dDj+fH14LgLR3Wvm/mpsBu72C8232UE+dkD1eVxTveQBqlks2g7Pxr\n",
              "yOnX6mRHRKkObh1rCGo+9fgDjAdMSCxv6GUVEG7Fli4zx5Y1MKmB+DIcohFsPVVTGcLUENo3YtDE\n",
              "BIy0CwDvhs/4EIvNSrS1t/JGaztXa3HBE16YqONumyVnnVrkY3lGYILaRY8S6K9drzsprJV1BKbg\n",
              "ZesgOqRWfNGSzKrVT2Bns93JIoI2yiUmW4vMWAIrhFP+SlKsi7RpTklIrfDAjiJ/36WqsTX5YC9n\n",
              "ZZLbjPjA3SQ0NtdNg2kKiwK5TjfPeMiF3gAAAwJ3AAAApwGfLXRCvwAAAwBFXOS0nAA2UkJVUOzI\n",
              "GL47SsIOqJjseIF03hpVZicMotNucVDvRIzo6OWbH4ltFwn4wI55MBj0Z1rFKlHKyVqeOu/mNPf4\n",
              "J1ne1a5gF7nTUJYlT98SwFNIDaxaE9BZRPvnZwxEIZ35RHL6EMVIvcXYXqj+TgZnGY4sZ5iI5hey\n",
              "PE1wwLz4VMT3pJAMb89gU7eDZLbIiEG9sAAAAwLvAAAApQGfL2pCvwAAAwBFZApCXXgAbPKqvjff\n",
              "MwDq+tZa0qRMftFubrRbyeHv0phhaKGz/NAb9eLx+UdXapabKjD1PDGVzyACLoBWupNCB5MKr6mt\n",
              "ftUaXQ38wWBOOPSFjRYuZuypMcejlzvI5ctPcDfh0Ba76viLx4+b0Jz2yTkXc7O9WV8SpYKWtP0O\n",
              "zm2ftUeIVH2i5zMN8EJrjWRpacAO/Ry4AAAQcAAAAkxBmzRJqEFsmUwId//+qZYAAAMAK4x5OgVQ\n",
              "AXKF6pOZkD1Jx6vvMBThKU3h7LmIbf7fB52CirwPqAew7E36RD5O2Bar7bSBwoufIBYOcT5djTrR\n",
              "dm46xQhBLVGrTtKqRXue3BHGUQFCVVIv/kRecfog/pBge3XbRZR2tN5/oUau4Ti9yYNQ6KfShF7u\n",
              "R+D1KG3UEpfXsHIcK2205K09f7neQQbWhH+G2g9DFGkiWuDsZUplm4+c5DzGQc/eOvB8DJzxrbvU\n",
              "rvQL7H3E4W6CbNOTsl24O61UquVd1ZYQc5lpak+5BbOH9PkSQCvC1qxDf/dGRtzh0fFTsHFcLuWE\n",
              "XM0N85bWcxsjfXgdwWT2JLz55S0IZOZcXMnu27GdYq1O7GnheHzo5CtMlPH8BJ8SSa1OovJV8G3h\n",
              "9V5FcwfX+SP/fg7DG+7vnuWOK1OPJDuVyS+5mA0+RI+UDwEax1c3CpPSm5WBTx5NHwlzTW/SkDbs\n",
              "RGJ+5/n9pQZq4axSUwD1g4AsYPsMjlxaNQXdNKrR0StO1xVuxl3/M3IJNJhs/A6m5D0PJQcnO8ru\n",
              "lEC72kcYkvWHh/okzeQmB90hTNwZKragIGkacQMyA0xmKdqaVb3UwnWfLH7Iz5+9Tb1qkbJU+pDk\n",
              "0xGWsmifTwS8EWdz4nq0V3sCi7/nnPXMNsa9jXXsyEnDBhZJogEluWYGuN6qo01ftbvzppK9FxPB\n",
              "LBhtkE4BRfwrq/LhvBH04Vmyi5bsXJdA56oKigt/ZvH3K9Ko4eWEYWWBDTEAAAMAMCAAAADbQZ9S\n",
              "RRUsL/8AAAMAM4FIv0xjv/MAB+qeyLrdmcuzrqN67lriArfLx5cZIs6Df3ifkwsyJzd1F6JSbi7h\n",
              "O1xMEisk0FEnn31nJT+4pJy3svC7IyTFmu717Uc3Esv/I9PttkBeVg8QRq4+/yS0zhBAtZVGnC9y\n",
              "pT/Jfz5ErD8AanLp4P7SVnLh5V8irJSxndwCCpM/9do9mjDDPIv3NZ5IuXSoBVBh6s5IgUOL2ihk\n",
              "tisKzKXTWEz1LcDDFJCHF70TnQx5xPmMfqd6SBxWzaNpJVgiprPEb8AAABnxAAAAhwGfcXRCvwAA\n",
              "AwBFe8ejt4O4AIb0KnzOzXnPPzDM5r9Daojv35p25rKnFvSDTambB0yJb1NXKbWRhoZQMN9GO86+\n",
              "cAJMqALd7fqTUUTJwyvOBo/lt3Omj+NPTJhQ74FOy2DTPcvsildrx2CUTG2SBPXSCTwifgco9fXF\n",
              "hKuzdgOWPgAAAwBDwAAAAMYBn3NqQr8AAAMAQqVftUorHwSABAmzwRQ0dzmvxRWp9hrYgNC0k0UL\n",
              "wlW/RsEANVcShV0QWAGD/Sq7T+GRC5vex9lBLcDw8TJuKKG2AhAhVYTFXfSZo36QwhaGm6D/E0f9\n",
              "X7VAPQ1mo9VvKOHswnYzs7TAgqPcvYnF5Fk28Nr2nvFZksEpruWwM4oXWvVb9+VaK6UTJfW5mWBQ\n",
              "Oqg/Q5Iek9RT9UtQhz4CkG59tUa8oLnGY936+1BUvthmGho4O9bq4AAABBwAAAF5QZt4SahBbJlM\n",
              "CHf//qmWAAADACuMUMtoASn2fXceMCL/Lztap5QZxzgyO06U/MAAqVKs9zdQcjmHK+rJkjf2X5of\n",
              "cmrksB6E0vR2JABlnxAZiSa9xfzOaXN4sanogoxHGr39ISIL6dQLQz2cFfEECkQRsGmp/gs16lqo\n",
              "04qUqJT/u7XJIiZTlMBUoKN8OOPBJ9tlfNoDZxGDRtQojc5IihfmKIQQkroKzj331fF8mfY7RcmY\n",
              "J0MAb3QhhnUOU9JkSi8bqBW3VF0cauJEYIFEAp70E8/HW5dLCYQ6loxFt5FIRuDEgk6ksn3R+b30\n",
              "VZYEi5Yhh/KhOYImBYrdy1gTNfd3O0wHu1igzzDXCMJyaZTKpzDQvQy2dwsBS952pIM60A5Xmqvk\n",
              "WH0QAg5F9Jr4GwfWXyl3PcpdCKALHdMkqMKutC+Rkt6FRHtjKSvdCnPGQdn43dV3EY67bTLDuKgb\n",
              "O7XzHhsRe561RgzzW3eiFxQwy3cIIAAAMCEAAAERQZ+WRRUsL/8AAAMAMuzg4gAPwgl9D4Tnaj+H\n",
              "nwCB5tfdjrH/69HHctm55GAfTgyA1gdhZcZ6yuzXqDZLRzq9w47Nuh6vcBRcJD25lN300q+R872s\n",
              "MBs1olgRu7AEP29gvh9SHOVf+9twcqBOofnZPtyarBZCrSrBLFjA1J3/88XseB7WcxXWpGuYqznT\n",
              "rDkfH5dBPFCdIZ+UQDT6KXY2yOYRTsp9dAuLtHlX4laXuGsuZOCUBJtvv0efOnxgFfUpk112BG/X\n",
              "6MRNf/2ZlQ45h5OdgbobPqEgekOPt0JXw9vujoTw+neh5OyMIX9z0e+c5yEDTRMmfDvnCIqAnRaV\n",
              "p6fK5S05j3caNKaCXgAAAwGfAAAAoAGftXRCvwAAAwBFXGqUicAD37Sq+uw404SVKDApdVQodxjv\n",
              "xnKWQ0ylYzl2vNjDSF75DN4rxAEqTl6AT/OkFmrBwjC8A0u7KNMnPRWgwWXTm6msFRP0NM7CNACG\n",
              "T+5lfjp/tX9xVOKiQwO1V+13NpuCuGAbg9V67LTFJGjVEXmSz/9Fu2EVvxo2uVtBKaBrdNDuJpPO\n",
              "H13TxpHQvAAAB00AAACnAZ+3akK/AAADAEVkCNeL+cQAJnDkCs/VtBSiDXu574GSR3EIqfLebGsW\n",
              "Bj4blCF5Lgi5SNAhPorJd+7NwLgYfWd5sitWt9VQeiEOJmiM2+hw0o3tpL6JEsiqxeG9/snc/EJ4\n",
              "l+taFHqRKTsjyuMPR2Zvf8sSSrt2LIAq7AjRFq0S1vZRg2WJ+RKm+MjBF/dH6+FcvKMs8c34UuBy\n",
              "IhsxBVkAAAMAAakAAADTQZu5SahBbJlMCFf//jhAAAAE+BJ2IAPqzGTf2C38siMMGU4q9b46ktLO\n",
              "VW9J19sagTzlScZND0/QBZnvi553Bqe/LA5oMCWNwBTVUQL2SYH5XKX/2IHF2OKCAqyjB4kKz+LV\n",
              "m1ZX90cZOCHCRFH/xLrCih7DIfrLO5TOckxApmS95YXoakv160YqNWUGQYKg4XSs1LoUdEEt3o1d\n",
              "Rt9ZxPBWpBvt5DKO/NVllYW3Xr9IA7cBQHbVunIYGtbymVgvIt6l859Xqk/pYT93zOjCAAANSAAA\n",
              "FTlliIIABH/+94gfMstp+TrXchHnrS6tH1DuRnFepL3+IAAAAwAAAwACHHgr8h1jA36boAAANaAG\n",
              "nDTCcCfi1EfHyOEdA4CJHQj/4eql3EA1BmHLxhO1q5uI1Aw3fYdxB1nt1pfOW3Ov7IfMF6nRvGtp\n",
              "ti5zBwG88QJcF9ziCXcOh3aDQJKLV2rTnBhBxUNwAWQu6/V2yiCVxTLE0ZTJXzSEsPxw9wNmaAE9\n",
              "tuXxZg0wlYaAfxM7xWYLIrulbIJf3UiOmy2HfUPzD8xeo9jhsIHZe1Ksqc1EDmr7MzbQpf3gL3M2\n",
              "Av4BnE48aNlgH+1Ezy8totZogAt+W02yzs52qUApPjq1P90yK73SOjhBpXs1HvGB4GindeDjuSfr\n",
              "AjmwuHg0xnEkinPZQIKcDn7CmS+03DzUorp4kSmqA7eF405JiU3cT9jIMp/cuQiTLTcVptdjIvyg\n",
              "7UtC7J1CaFERT17nmQT91IDh/hbHU++83waXBDjixpTdX/ywYZRTq/naxi/yYa8SZ9kjhaWNOvvw\n",
              "o5/s3QzR8mJSIlikT1nZqtTen6+WZ9yvbwHaDX59bFs2V6kmCVLfkHobEe5aZ3tmi8vkWf4VK+GT\n",
              "BUX4OtpDCi61ruSsUM9ubvWtyCmGkTMbYkMc3t6A0FTDzFphQI+MQWJ7qBejfSKPeibxivlP5r3k\n",
              "SoDK6PsommYKSq2vAyHgDVm4Qq4u+OxfNq00Wp1zvjlJJ9keQfptQ1yQZFCMo4pP7lKB7TkPBhu1\n",
              "YWOdiLghT0DMOBDQJ9rAe2tCmTDwYZSCe5levgdaDyFaM+C8E5Gr0go5+sLKm0BiRQStPMIvsE8Q\n",
              "DqyRHEM90/aHse8ByJy4aDJOKXWCluewxEMpJES1D5b8/bXbulMfew9DhnqWPKq8BOc5EtJBlZ51\n",
              "cdvK//3Mnn13UDv4bVBfSu67FAd/+ouMusxP++uGhkn9j/1imsgWU5CGM2gCHvys2kVAEcFm2nhn\n",
              "0493Q3L8ONoNgkvSIxx1rqW9f/ZnBzCR7KoM4BMLKJhElKuOqtJvm6tdTuLUK9UYykuywaYh0zkr\n",
              "U0WzGpuHZKnh2ANrMxADNbtbQAHKnldBwVUzQ/Emh8nkLPGtpYZ3pUF2iWtTwUAKtNxZaGbxL/Hq\n",
              "OeUUohONMBo1meX7YGialzLUHxRfji0piqcQj+X75TtF03q+Yo7EOSVpnPENLx3VgD5orpqvYjPJ\n",
              "46NX+N5/8RlExP+zRufa90BNvD6YkPq9iCXZi8s53DJ/TA0lV6KpEEZY95NPvXm0E11a3iCjhnxP\n",
              "XOHybdkZUFtv3etjRNuGjYCuij8FMkC6YpVjyALSFpvmxpBBDbGDMWs9RgcfLO6/EcbZSlxHdsIT\n",
              "XJn18yymv7f082tp7cRPOlCy9z4/mFdapkUfOj5epd/C2VkgZwB+LmVSjyXwJFHQVK8dhXasvwx+\n",
              "yPdvrSPUPfde23LccWr5ehsKpoUTDKOfGhlcWbKTO4vzZU6TRbyOLSQBH5vxlDZUkHvPTdJmU527\n",
              "a+yUR8xTRPAiYoAt6/unWUPKJ8ATlewRqMy2/RjwV+CXpo45/7aB4qlmjxRI1MUKeHpod1S/MZep\n",
              "/wYW/bYysuO04c5fL4mj6G/AAUNVeKGQLpqAfu5oMGUWl00D0WH3VrBsUW/C5aOb7AkSLS1rF8hq\n",
              "3nyCWj//mP8ODnmfGe9zsO2RPkWZD1M0b7niFoJE/NP9HwogM9khtL3157ffC4Yio6L/5A9BHuM/\n",
              "r68IfU7VA7kh4Qo9sWLoQ6xqO90wnCRZiY1fmt7UGY6NtdrUh86a3p8du3qzPo9yrvrxKKDufY4e\n",
              "bYkVHSpwt/2jMX+Su9ReJMivUnydPHgxoMVoadWXwQAfGHTqbkHzD7HUm+p9aCRIYNqwKab52lc4\n",
              "fOGhFxxzBISFpO9S516NmWREKbZfkmm1tihRpip3JuYEAAxH3PYmSscS7Ic5zq0fVsaU9X6frNoe\n",
              "y1oop54aRphss5r1M+TtoUZg+pqoJFzd5JO6R7Wwh9vz8Y8C70jOVJF3SemWNL9nAdzdlyjQqMbw\n",
              "/f+5xqgBTJ7f82A5qKFL7O6nft4o/xVjE5H2xg7sFw1vpuIIJTVcquFSs2eXCy64/2HrWb+1UvNq\n",
              "CsaxabgYIxfK60T1rAYRwAnOi3NxDLhdWpf+uiSVGvCTwZA0Ebia4I4Zok/sDKo5iiZlqlLCiUJn\n",
              "Vm1zIT3Kwv+FvPUk2+NVCpyiIkbPcO6ryL8jCK9e4guiKdL0aipmVV5e6PJ+5YL8Kqjg/gDaSUON\n",
              "PjuhP93in3qbm+AlSjpSPn3oEQvZnTBwuBUuZSEyWc0NW+HFMGNvhYD0evOc28sxXIr8TcnJ2YV4\n",
              "/k/WGNQXz7IPuYL//2rIm4+7qLybFeTlFQoCA7t75ZhlELuwgOAjDJhFkOPdH6/w7awepNJTslqZ\n",
              "EinG7g+0WutXSFLVV3rasYIT2TmpDWFM2//9kEmTYaLC1on9c3m1BC7SMZJA+X0IGe0eCjgE7uxt\n",
              "Q9DCeVQnwqj7/m4gy4CycA7xcMCLsk7hjYXBXyGnZ8nPrJH4JU0kw/4qWshLRkqd3CjglYFzSs8h\n",
              "tJnwNu6pa8P9rJuAQWoMVNrZziemn4u4n6/by6qv9Is8qN1sws0ZV75fHgHC1MrwTjX9B7R76aGp\n",
              "2gw/AqQIFuPR4ct7kWvy4+jnEtbf0T8jRQLB/AIKJitJCo4RTsyuF+KGS18pLgxDFRy+d8oNEDPr\n",
              "zzErM5usO05MVA34DlcYov6hF1e1LsRwZH7LfcuCp4otoqFgoUaZdqS8qXZkUEQj/t6L9ZVfOlLt\n",
              "fJUlKR5NU8YpeGj8FEhNTgWjVSwzhaBacqpqQVfl7k2sb1gZV8UR3UoDlkv0OoxYcFqB+R+GmALf\n",
              "927IemZtDbgyDRLipuMwciDhlBkmZ10ufJ6ybfSdjaWlS9y9/+Fv9lizd4vA+rVbHCBktR5qJjUd\n",
              "YxJECNi5lqRko+rxB1sq9tUrucUn1R3KI2hnNiZq0s7adiAvLELW0oAngmIjg8E47ywzSkOsPN7u\n",
              "CXgAM+lBhxAfpyX6YPrgWQoeVLUOUSd4pjB/CJIJBgzIhiWTvgtAVln+bZ7ZP6/FZFgk+CJVpHr2\n",
              "i4Zy7jzJzMMFkxK61J76IcYUEDsx1aWkDq46/TXlc341rtmC9xOXukMsCzF/DDnoJr6muR/FfUvu\n",
              "xhlyzAAMIoGEZiPKbr2/9gtCoiIvPRtVewmJ0s3H+QTG1hpJD4RX/3tP/MelRcQpE673crml2Rkw\n",
              "hJHcafbnzPZ8WhGFiTo26u+YwzQBWeToKgROOP3AD5UXz7Izf3GVtH8aou0xKv/1qxreIBFsnq3X\n",
              "zUm5fPNpJGsFVO6lzPfCMpQfe28XY9NDWxydeTr6WYmVH2PgXgEzgmrzj9EiBEeCBAS+YA4Fo+7W\n",
              "veFL4GqgLBI4bT/QL61E43fuyhAGQ5ix/O2ZCm1eW945s0RHcqiM/fi0v008IHB3DWRBAkkhvGYX\n",
              "IRQ+i40fbhNrUAAAbwERoqTLNBBmcvmcizmUWNeAEmGzmsH5SaN9rfM2JSGk9+M7znCsaX/Rf+gh\n",
              "XR4cYlR1fTbBTFMFfuBUIwo3vhVzW9uE/WMLJmokqSxKDbVN3zFVTnw1yKGNGybJB7dozZEGGUhu\n",
              "pLFzZhoT1xviZnGpr1ztEkaTDs5aMpY+eFhwf3aD5dcsJhK9MlGpTU6eFtLJhw/w72gjwq/mnYQy\n",
              "XoV8QDXIh+yMNYMUD4Zu44K5Hwh0qIjLtlR5sY/1kmLgpQX3zOfYAm7x8bhPBscijTYJ3Re9OLWO\n",
              "UZgq1AnxiL0zevGCThYEK+RHaFWuxQZ1FX+kJ6pTvA/FQebj80aD0JpxASJCrdm0hKPUdsfXrEcW\n",
              "EnVkfao9rafm3c6H9JcxTpySdUothwqHUwndlj9Y7+ridWP3KkRnH/HW7yrELdRrYxY6yWWB7X73\n",
              "r45j21l/UhmwLLHmoFuCMEvQYDPeITMJC0Ct123//FiRr54KUu36IVFImwIMy6F9xHlqtkv+Hd+u\n",
              "WuU1JDMqs7UxIfBPPkUdl6cwG6mGbqLqTXiufQL0C+h63Jc5p1KB1mJfnmTcOtP8gIhKxbEgP83d\n",
              "uessX4Jp3a8DqhfSjAjnC9+1/DI04XIGRNByHCr8b6BVld/27MCGcB8s0mx5rilGIweoXOej5ys/\n",
              "sIydP9wZc3PpH6XBqOcWFULk6htBD1e8RUupHYPrfyVlH6nYJgzgCvTINgS54r7wLZkcrsfKN3gS\n",
              "3gaX7UZ2ar2QylNDlNHHDg9/V9vmk3D8FLn7QBN2ZIhH6pZH7C0IipTeVwwHIcaqUOd3s/6DAP2h\n",
              "GvILS5Shv6I7F7/2T7t1cB+ZSCuCgwewtQyBe+lAgxkXYEFKTtykwldXd/6JpM1Gwcf3+QBQmhxO\n",
              "33851Znjc03f7stlYCKS1owR3lJddIQfFigDGBe0WeHmlkxd7Gel9qlFu/Xf4/f8ZUW3S+MKNG3i\n",
              "+t8SClEuL5oOUxsT5tGUqzZmdpzAdeYZrkqqkGzbpFu8h9QFU4iNiidtEIExuKo1L7EIDl0Jepb/\n",
              "8jriI5N6Lm01I9BJ9As9NnzOFmF8Jw0Quc923R/WR6N2F13AX6z0Q/s+7VPOsWxYmTSFCKwsemJh\n",
              "ssWphJ9j501o//BrUBLjyg00DuimAxEJuRNfSIvFlnGbSmLV+1izgTC8/v+rf00pF1MHF1JOpiQa\n",
              "2tNvTwx+Q7PFPq20pGNnqZP+B2PW9+1kB+SMmhOhfNnpVedXck53mR99eoAM2GW8SXeIwwcBiJF6\n",
              "9dLDc65gjq0kN1A+C8sTN+Jf0ZRKHJii49dNTf9xgk9hSsql9EfkaIoFZ1MJH5IN9wLZ05VJnkG4\n",
              "GYQnQ9gD2iLZASWE3Siqxi9gDzu5/fYuU8NA0+J1qzPCqDCt0dESrIr+wp40Yw2ot9wYlY+uDtLj\n",
              "v017568L/atDFaoZLeeeSXjnXqwTTi0KnEYWtfMgtBnsuVlGMUNL2r5CaTCjPLFHWur5W9tl3drM\n",
              "0yyPn0tT3MKpzfiAUeGsu1cBE+4F20VKDZQKW54h6BpW1k+AK7dY2ng/RYueEKf10hx5yc1RaiAd\n",
              "vvhDllAW49XYGW+rLcgiHlV/v2kkwqeLd8tFa+B/BCf6OVjrpOtDsBTjhVG9UldPKNAeQq4NcqSA\n",
              "fdaeV0Ze3UXxC0V4dqkZ1Wm5k4C1zp+u8w3p0bKxt0BccYBgw2lNEwFEs3zQMVvQtEy0G7CYeJEv\n",
              "DetzNAALBuFvqXGREF3wQkJt3R2qM3oEFoYrwGOnmQ6XgdUJ8D460qM+Jopo4LLoqKWla3FPraLV\n",
              "1wCGjObInO5y52GutWj/EN2SVoaQ4hOOKUNC05jinilZuweOZiLTZo/NOxg+NtiNoTHcsalKHnx+\n",
              "FtFn3BOc2CQN4g5jbLn7SiY586xfR40rx2SNAbzvw7tIw/uZXRb+xzaWU9proLoxSyUepqwnrpPx\n",
              "MqVP7f6m/VRc8cX/costi4NBQDJcJyBz2p49HdoL30VL85OQLyTrSIPpW1i3dSqevuq7w5rF3YmK\n",
              "lSzkVzIFxdelIva59Wj+OBZE3hWTU1xa6Dywzimw+wd7cgCLQiPJg4qcwOApeUb2FTMf5QiPht15\n",
              "Wo0Y7iuWa3priwSZjQ2SMXNMyWAn70RW4XOLl+oUlGPnAonA/xrnUc58PJ39B+t9yPrhE8NTgdp8\n",
              "eNyOGqcwjCMZoap2lbUNQMqn5/Gyz/ofRkLfkL9PX+W5Lq3V7ruDL8zZ6HYSBzIH3GvgzusgwpaK\n",
              "NhCwhAKqpyxqeALz3w9IQ7DSKbpuI9xzZwQuTmxvCZM9aVnbZZBAiTaIqAnVDiE3WFsHEix7lEai\n",
              "cAJHu6eFwZJxbSmx17cl1nuskXpUC2tFlcwNQe5KSVlNpuw7U6kX/gFRCHu/x5sBVwsp8htJU201\n",
              "LVaJRd+z19whZQ6FHwyK1cZ7m5pmcpIBz1lDReIDTk7p4+pBV6vqOjQPzKCrTtxPlhLbD2SyR9Or\n",
              "Id0uBYPJG9bxvGG7sNtZ+gjPwajmI/Mhvq97tYVDLpIgykaWCdIxUOV/0emgenRAESKvvJ1Bugw6\n",
              "wEU4PqwttuH8vYEWAEC/a/ViXJoWLUlA1irYdhis3blPI4RvqfBDCDCNdGkhkRFYXhP9zn/14GeK\n",
              "m8fHe2ChUepEWW0ctA63iYmclFUtd0sd7q3PqrUXQv2ZFUgGKJRc1qylSaM04Rf1on9Me7DaDpmB\n",
              "g4zXz8JNxnbFoQcP71AZLCoq94WZRJuhPT5qvp3Pkbc7yCM8cwI2ooolX00RAZ5lUfP7+uLrnWOS\n",
              "SFGaBmxeV0AmW4JIHTJN4sZYxG4NziWcAIIpjWtUteU6hWFtF6JSejkjfp60QrpgtOFkznM7ENw8\n",
              "CannY60Z5vrzd0T7pnvlp5ht3tdQNdmVTmdu7wYovxJz657OLrTNnJC0UpKy9QGQ3DciRL3Paqmz\n",
              "kqhgVHIq+VhVR3pM5LxK7pD25NONddFNziuIOr+fgH/9AbvmSAJSSCmcq+91kNCO6g9YwBCuPryy\n",
              "h5WaBdlp7dWISbXGdr1b8Yx9KtFRMaHWlGHn13G9XYZWzUg0SaHnPDOP8YBi11rjRzFUe7+pYtwV\n",
              "0STcA/vF3y+ZzROTCehULV/YXlfLXd3MzynYHHiGMydURkcmR9gLPh24HLmanr+QXX/yZuwSuBef\n",
              "vpPgjBBXje3VZH+xXesIYVRqgGaImwiP4S9GYkR7SMCehMnNQ93aYVm2qRgIyMXRYizek481i4FA\n",
              "kso0BXa40nCpECMggQ6ld3TPoEN7DXqSJgVaglOYBlUMIAGzsMOsRKTCddZRgzarxBEDdMKIAul9\n",
              "1clBvHo/Qg9gIfFMprNBjqpF7QvoGvxgnEYXAlm1sYpZ50cZMSg90yrrHYohIAhlsfG8uIcoKODP\n",
              "Zg33N05VFpy+UgiMz0AJMAzoE4f2SxrKI4RykzgSeEWIT451JkTgi9sOH7faSIDJbhoC95wbu4y4\n",
              "/jTUkkGNaspdtHUxAZ64seLD/CxPMk9BVANmrNEQeyE3sSEEEVp/Aid6e4Iobg47mqR/3cG/wspv\n",
              "nklVo9Vt53vfW5IDcwCLHxmFWuxYzsxEt0PUCi2an5SCVchFCftat8tmJrBVym/bOttHc6maq/1x\n",
              "StomrHqqNtNTQD74wkL6IZBRP0FuPBRSTCcb9YbW60BqB/9JWe92SMAAE5AAAAMAAAMAAAMAAAMA\n",
              "AAMAAAMAAAMAAAMAAAMAAAMAAs8AAAIbQZokbEO//qmWAAADADAYgdAC/GhbeU/Imxi+H4CxAGMK\n",
              "JcPYi+Hi95CHhbx/0wopDtKlCjbElB0+xCgxjyhrQ1y+/vevDGZ1+DZH57Ompn9vxStjCE0Uek8B\n",
              "J/sZ55ZVqMjy5m5Wexgm2HRShXcY1DwJlZvntY0+lvwYHXPlRgFSbBSE6mLmsmN90qKmO5bmeBoO\n",
              "DTyp7s6MMIm423bziLSVqsgAzPfU/fjIV+X+Y2ZiaGJzXBYAkVv7vDxuD6KtjuDp2xMSg6eIuS7U\n",
              "0vMeycidU8Oc84ZHImfIRsg0aPsK87kmCFHfzGflLyAlrbwipw1dQwDMgXEvIgOwnKXotQ5RWf0u\n",
              "oK6I01RIzdEnZI+T0clZZEB5Qr1AmORXTaWAfgCl6oNdEMRPGrBMYciwEQwCir0gMZlcOH9w/nN1\n",
              "GpUv5jbom/qFtKbN3foMeqrW3SakGdqfoC3Otw65EghDvWQG5R1Azrkx8CVcVWmT3uM4f1Ekvy2u\n",
              "3KhpT1UUrVFMSCu+QVdHN/MUn3ROy95buJpeBiaqisGCdk8mg5dJFXSBBPuaoxOQqbiiP0XbcOGA\n",
              "LC8TCe+PW7ROqWaODpgD8Gg1IWqFK13w88bxaDdEboxkQkHjtW3CkXUKAYuKUEoGq2nqfp2Xh8JQ\n",
              "kc6H7RkimarlknANkDuVSJfqGXHPnsk+REbNy90EhA01VHTcrN6hM4M06yKoo0AAArYAAADKQZ5C\n",
              "eIX/AAADADifOxa2kUoAQpwrOJRbErD5Lib8oXvrU4vYlS5govtLxwWeMGccihfbqQ72QBF4v46L\n",
              "UczZEaS9lN0ACsenNtSTDL4ucMZi+osIw42UB7qhzwqdcHEKfwEWWLICXj3+FDIKgI0Avu0AaZaf\n",
              "7VWz7ZpyY66wcHzqK2cLXOmG75WIEC/WQe/dDQAHHnNYjVPKCchJmiuJldq5ymU4PmgJFNpzDv6U\n",
              "cHqUYAcLkfB1V9MZ9vMb0l8QXwFPyQAAAwA8IQAAAJoBnmF0Qr8AAAMATV0ytNNNRJ1AA2L00MXx\n",
              "G0L5vweIWrPrMbyn9lrln9BTaSxOaomnzSR7TGeONpb1flp8ZtcUe6+Js/nPyHsp0SuPPGDQgE21\n",
              "I+JLYvIL1xhulKr35rQPWwTf+TF2bGiEgSCwcW/EKdjpnMU83PyPPc/+9NALUw7YJ6GNHiSvb12h\n",
              "JUDDl8/XBJv/uBgAAAr5AAAAnwGeY2pCvwAAAwBCpV+opTWQoAQLEy6BqzxbP/I6qkuV0fcUJwDw\n",
              "D3EW9QgED6UCMCgokUsm89lnhMzRwopyO17DWfLg5/oV1uY6f0y0RPsZPn0FYLCMeQ+Ec5y9w+t1\n",
              "pwY2MM+cZS5cHofW8W8BnDdstQrgmsYMaKM/qVGbpucCc+zhRPR97M8T0C66xu8B59jWCQ7pA13r\n",
              "UoytoAAbMAAAAq1BmmhJqEFomUwId//+qZYAAAMAOkN84Ay26h8O8ASa1WwYBbhL3JZc6OOqrVoA\n",
              "NjMSs09HvDHJtm36hm7TW2Irjmjxe/kQydSZg5TmiAFOdfEBF0juQzwU6gr8+L1+C34Vt8TTDvB2\n",
              "L+/gsEAsGdKy+dDZDxTKOk10o1T+QQd46ziAqBuJIFzQ5f0kx2ZeiauKjE+iokKt4m9hw00tobcy\n",
              "yOQcNia+G1IELe73BQtfSji4b0kAs33ysN1MoCaK4TdX7LXPk08CI9QsoTPhY4aYdgxKRrEg0SoB\n",
              "R0qAOfS1Ub0+VvNJSEVoHcI+lFGpde8vZ2rQmbqQ1zW4nwR++41xO4IEgrkzelM4v5O5rEssos5I\n",
              "+7alPHaqzavA/fRoIXXBimpuTN6YTrUYWA7UQ9LC/+GQXqiJRisj9tqkMKEahaH1iI+lUkAtLP+7\n",
              "tTQaKfIuC44ifJ9vZCtjP4bjh/MUsmhJJxH2ja4zMyeetiJSXqTosSLVQy1wbqJQqXKiGEv9bWUQ\n",
              "mVOJ5VnJX38SgAeQ6YIIhQgUUvnl6t5EvEqMNBAtNOZj3s199M/gGD3xNl4OphdIj3bAvcyBAmCB\n",
              "ATQOJ1tAMihxC19ZGqxZuvuA564v7qPPpCR1S1IpV5CA6uo/evfc6g6NCtHlQQ5G+Mdkqo6Eu/mP\n",
              "+19ZGQZvK7UA7m4m5A5vUMPwYLFg39fM8t125yY0GzvxJ8PJWpKefrVQVeZAd2d6BUvF+XV2SXrH\n",
              "rB6dD71zvwlYKu2av2sGCf4r7XLOc+RXSCyxbv8krWhM1QigYIU6+WiMgq2NLyLy2aprF9PRJsOf\n",
              "lwSGSH7yPZhvU5s69AU0qBDOOMfRgezDFaKaMm4cPwyerSgNjxc6Lclo/BMqlfsJWEv3vAnA0HG9\n",
              "vbfczP8r076ULRD4AAABDkGehkURLC//AAADAEVzjp7vazLPcSZ1bRGBLAA/cdp/7AFDUsbvk3Pn\n",
              "Wu/clDbdxWz/q3Tqz9a9sAPV5U+1rW5iyIS07Hw151rD8UHXHtzhBcWyWj/QexhUFM6aMnFpgXXV\n",
              "TDNNK3T7DW8Z205vOjPFiOwnhy+fkqUGmd21OulH0NESTwa0z9Y3RY8fFRVs6Q9DLclw+DAv7E4U\n",
              "fq8rVKim0IKewKCFz61OvpasgLrz7pDFCAPrbysWFDOttSW++XOVbYPfZKt8IiItL6MSUw6GPKs1\n",
              "p6bjMha+kSdp8YUwmRfpUIUd81YJeDbIZQRCJwpnuUuf2zajqDVKPyrPzj73P6tros7HTgAAAwAh\n",
              "4QAAALABnqV0Qr8AAAMARVzJ4dIGr8AEPoABkhw6NkdmmtwlH3h/2qPnIht6QbwLmXepEyo4xjNw\n",
              "O5di0aO6eoc4qTTd8FI1BpKhlIv+EZKaVe4MlHY0Pk3cfoDYDpzXA0fI6zZZy7c7vbqxZ5Ygwfvf\n",
              "55cGzUZ6xFCKRu+K0W2BmApXT7ozljF6KbPV6aviZiaEVSLNO/oPu7q0dajxdKPm32ogZIrO1CoL\n",
              "g91wE09hAAALuAAAAI4BnqdqQr8AAAMAX4f7rYnRXrjxN8UYvQAbCqOe7Gv/BjaZrzy2W8qirdQs\n",
              "3TRl2flZw0PzlPImQpS63TaAID0ptqcFQtfN99F4qe/CMfOj3d3zPo1066q+RHrmbdG+V3d9q63u\n",
              "eSoC3vqutFDITgkBYddYm4TQb7kZNoTIEx5nmE5sbgJhAGwWbOQAAAYtAAACDkGarEmoQWyZTAh3\n",
              "//6plgAAAwAqWk1h2gAdQ/HgFUgEndT4hqK5SHE1SrtvTvphbTREPw4xB5t0ox7Oy6Zdnv84LdJf\n",
              "f6cXk9GeKJcmb0NnVdGzlYnZwb5f1oa/P+wMr8KcClmFotxCWOIHkso2WMqWOHBXudw6eei1FEap\n",
              "KgeiiHgL2CfxkTOX5SzOr19GxR2j984trn7Z/liH3e8KlnNbwSmN+9FP+9HyYiCvq41qTQLabuYI\n",
              "KjqAlywmf9TpVZ6+zjF0zJGAihMZiKx9H5Lb/6iRPM5ZpDb9TV1dviJ7hsAIgO1n92BVlrSXgm+i\n",
              "p14bseDsesKscVSOdocZXrziZ30E4+U9tSOCv8a4/4c8e5ud61K+ykMRGJXl+jlcSxckRc3Xf44l\n",
              "Bt5/TZj0Ohnz3U2+Hn3BcqBubjXBVeb+3aoaC9qTXwGYF4+hwZRojXe3fVc9W6b0yC/Nl+RQ5WmJ\n",
              "4oPOtaeJg6McDop0Pk68yVHWnIS6jccWRXLTei3cQydlhRIX3YSfouzZgrbCmLYqADIm0nPJwM8i\n",
              "xNKhGOLn0ZcPmwNHGV/9qm2wG4eUsVlVogVExHvXBQ/IrEYZUZ9VvLrY322FH2RiUxSuaygVgiaL\n",
              "GrKDlrVVWnhave01AWnxjkkLYpOnNd027LCRersKAqRCS4eyMKtubVpglwfvCLeDBDJcbOgAAAMA\n",
              "DKgAAADqQZ7KRRUsL/8AAAMAMZ79YnlGhAAbQaUj4bz+DBjpElY2QRJTTFKE6fJQCIG0+v5re+70\n",
              "IY1R+rvLzDNVOoKMjuAt12i+hxoHTU1l1WgQyuz6wH69AY7etalZ5fo1j4y21/oqWpu5cRQPqLy6\n",
              "VPAfo8df61nDoBm3T3/zlu86HlBnjYm9p6M97ldMbp0ZSlOyR8ElzdHDaMumTYyP0A/EN/YwLW4y\n",
              "1WjyQ4bfS21iwkYnTbwyrzxbnbcaq/tBbOjcLPE12KzJ3tsdh8rF8a7Ju4B973cfj//3mqhJagJ5\n",
              "SeX4UUlhVAAAAwK3AAAAlwGe6XRCvwAAAwBDNz6EQAhOfFgmoRM1RpCjYajHKf+HU+YT33VSPhKl\n",
              "gU50zptAB+VJbY61q8eGmIdqXu/YOc6VD6WJtgMTMeMUdvalIDddOpQgH8ki8j70QULCcMz2ep4d\n",
              "u5Q886RPSnVIF82GR6qZV/A53weP+DbQnNbaG7yHqPhdrpFmqp2pDbLLoW066baKgAAAJuEAAACO\n",
              "AZ7rakK/AAADAENA35mwARB5lkqa0ZaF24a9lKSz1LILLX9vlG0rhUbGkX5Ju3r2kIetHMF7gCvP\n",
              "0ElBPJpk8NC/QZBJOdaBCni9knLSo0QwUyqTP/lwaPm9DakzUN43yEGWzu3jSIxhLqdKdzYyLgrY\n",
              "g1fMStuMWAMI6ANNllEFuwGDh8UQeXmgAABFwQAAAV1BmvBJqEFsmUwId//+qZYAAAMAKlpOdeDA\n",
              "Bh6RpK6mlUGg3D08KpFqhVk6JE7ZWYQAhxd50UaFmEAqg2tlvmQ8Rxx/tb+j45RgHLwLzZS4A/st\n",
              "MEs9qMsXcTx4jNfYDKmdd91B7nCrB0NHft0y6sdIe9jhAptCaNA3IhKd9m9krC8ZG33ejiC+XBzk\n",
              "pBR73fam/YDqjoxamPTCh/wEDC+bGRMhNISJla53UalISQ94XiMgHijtXKnh9738Mc7xUBIjT46z\n",
              "ErQHMUAP4QowXmEAoqet43CpxyPFjf1klJyWDoW4ez8tiuiZKiSlXMkHfeOSq9ga7CoZbjOzYP9O\n",
              "oV4VYI9funvvbXFuxrtPrc50IA+mK49rySfLbaw+U1lw7rggiRzAZe48ZstEZW5bdkPlVD1YAPsK\n",
              "hx1Gsg5NyVUywxJswg67CaRUZrnAJUyS1GFij8wuwc2ouNgAAA/xAAAA6UGfDkUVLC//AAADADH1\n",
              "zkEKIAJYqoAnInedwky2EPNUePf4ahmHTXqoSG8xZhas71JmcCkeYg/rkwlOU77L87ABkaZ/wE3X\n",
              "TJef3BXyR/zTrsSXgVzOHTd4ibFEOnuSSlcwpmc5Ej6wwzytZf/i5g370y7LpKV80L6YG/j9Fk0c\n",
              "P5l0fWeyx7fUuI5aEWngF1fNSPbcxem/E8HWJ8Y3upwMiXC6p8BcygEYGDipSDMvdVtboWoLkKTz\n",
              "OFLPikibUeky/P8o/soa/Y6+UoucK6u5hMzgvE6l45XVF/RRjM+Nth0aAAADAMCAAAAAqgGfLXRC\n",
              "vwAAAwBDPrXsQAmjPG8XPuPlb3C4lNtVDzuqygtRd6pXbjjLysLatZzWjaqh2JGZSWkiZ2PgN9LL\n",
              "JwqFt3uvlK4KN5a45sD8lBNye6KIHDpLwvdU6wYtoGHl4cmJ7JEWbZoTOrOFKiNOGxFKsLFhd+l9\n",
              "mEWwqHRepRejMFv+roM0B1yjRnHULnUvyVaKTy7BrVSiJTQ+CjJQlzEt9RCbHLAAABBwAAAAywGf\n",
              "L2pCvwAAAwBDZkxACD80+ZXswGDe+5gawlsmVemfFa1P3RWYnuSLd3rrXqQlJRJ+Z3DVayyPiS4Q\n",
              "E86fnuly56OyoM58bN8MT3HCTzULfGjnDUkbDQyXNT8+H8kv1z5vDu1d6XjIq74Zp7TIb7ysGMeP\n",
              "+ZnbHNHG5H8VDGHsEPBkABRfmivrLF0+pyH2J3xhJhO51mGWRiBO7WTwLc5IickecfR3TNFxs5dX\n",
              "5Qtk4R7HbGZANz2WffNNU7fE0N0HlYvvCBAAABWxAAABTUGbNEmoQWyZTAh3//6plgAAAwAqnC3+\n",
              "AENsNABS1pHTXzuAAU7Pyt4d4A5DR0ub+ZCTl9CCXlYNcJy7r3IF4NR9Y3t2iQKXhIRiDsg9JBJd\n",
              "yXbWaukrwqXwSft43nXMKxJH+pHthbtvCdaznA4fl6SPrUqCXImrYvmsokBj9ZO3AtZeMKdqG7ox\n",
              "+CSLEbvcXkPaYQ03zsV59+KOUKtPCJrx+RVtBnB31XfPE2xmhPM+rHrIMTwOHkgypwcDZYvTy0zy\n",
              "Pd041DX70VdRPCvTsBnsGyQIvDP/gsaIG01RGisa8Q6flBoG7ELWWaGCbl8/4KxZnwKGIOQAAAMA\n",
              "AAMAAAMAAAMClWLeG08Danh0GCgrDsHoyIj5hGu1nB28euvrK//WcO3KHfftF3tLMYhBne+4BWcy\n",
              "dIIUzV0c/56rwyYRPZCvXF3M9NOAAAA9IAAAAOFBn1JFFSwv/wAAAwAxneglDqoVVQwATjh0bKCh\n",
              "0CmmeSawjwO93/0+YoQosKjirp8nDWZiHnT5Kvl2rIXxJzXZK6UlrdXKPzGkxEelcl1kvtHUYyOK\n",
              "9fYyUSKPbeXO3kTcsa8C0bhjJAUnVzvEis/zbdwZ/1YCJwa66wZanxIIUCJJgDsGCKQomBKSdaXL\n",
              "0DSVi/Sr0JvyCfJYGW7PxvSAuk3t1jjE9FD5UPD/t0sMKK3Fkj9i/T7QQ8exgDUrup44DYv9s6oi\n",
              "N0tDEUfmXqXzGM7uITHdlCDV4j47HAAABGwAAACaAZ9xdEK/AAADAEMZTap44QAfFDEJzgjBgQ3u\n",
              "lC9/RUPCvyb8BkVaZSGZaNXkaRYNTgtYYMkS2gaQIKLH8n+MN1qD0eb0PXgfuNwh3FA9SHgkP/BG\n",
              "Ca3fMC2gAgtimNc53cX5gAv8IWEIxqJ+vlxUbjFH6+waXrWS7zbi5ClP6XgtIGoY4VnfM1NPUM3X\n",
              "cnei3Jp68AAAAwAdUQAAAJcBn3NqQr8AAAMAQ0kebgANhVLQxAht0+AZBMQOPl9luvAjM6dwtduh\n",
              "uRlhtzIe+2WWczVVM8OjnZ8F+9AqpHh3cRGNk4FfkK4Dmbo4tSNpsz+SuVwM3aPnjSO2tnNIiAam\n",
              "/kylGlH28V2KFjmaNx+UEHQsvmeG4SPARMrdEwv2xgXOrXgDkqKxGQT0ajyPZrn7XGAAAFFBAAAC\n",
              "A0GbeEmoQWyZTAh3//6plgAAAwAqjWJFKAClrSVtzCPPhyxom3zAHXpFIycIGWVGOR72rpktwceH\n",
              "95dnSlHBMcd4PCLdcMomriLZJ0SBdYnR2nZoQgGjESQKqviw+lJD010GmGbU49WvMVz2LoYpO0k3\n",
              "IGhwYb/gcbinHQP0mP7s14Rie3D2NJ1n2ca2H03NQwHiRrIYFYUIryl7LDQ84X3u75R6CgrEgFr8\n",
              "ie4y4KRn6ZyOW1Yc2NV24ECslF/hw0MZvYHVol1A4WKe5BWTDvbBNz0lFq7lhZP5UkFGHc5nQ1Bt\n",
              "DVyDHWxXPL1z400esT6ySHGWAW9PuLSEwQ8D6aBc8xC9wiq6AkZ3hb66ZDOc+3gF7HmiW9lsobwk\n",
              "9lBZKIioabdvGnPQVjvrVCqsz5rRZv5/6NGJRDU81etE+J2j61rIb8joYOpomZhaLkYtUis78XqM\n",
              "v3Pyl0+cSK57FFwARklvCaqUsvrgdmHyQOqSFgny+qeD+0WKuKI+I0IIugliOy/8xv13HGdHskHH\n",
              "+QvbwJnsB8PjLfSLiwLa4Z5My3b/FDlphjHtvCzS3/awdeAFLtmTk6zIplBiNjW5laaqt9RqHmEP\n",
              "aVzkXJWGuYUBwIvhCc9LRsQ9tyuhAodWQPq1ddJXR0jH2QuvfzaIsLwjZ0u6PTQU651eS55AIAAA\n",
              "AwKDAAAA1UGflkUVLC//AAADADITXbcMYAJq8TYiJi1/Za5FXQsiKT5m7p7yftgM+KB+wNzTi727\n",
              "rym/+sxSa+Qi49aeuZPPa8TEVj4yYazZkDQUSnuZm64F9MhZjpvSWf7roDBTIqjfzHbs+W6XrzEo\n",
              "akyDS/yYrzKF5u4xVU1eCB49l9vJIt17qv4R1Pd1u9Id2kXZL/EDkPL2/f+lmhM19RefRxERdEvU\n",
              "UqSl+4ytjOtByzfHQZUUrJSctbLDfNK+/YegL8lj9JdFCq6tn8GkEBJHDb+gAAAGpAAAAIEBn7V0\n",
              "Qr8AAAMAQ54iAEH5pmvx8+mD/5mbw+v6t0y1uPBkydFEZ5HEupbifF9CX3P0phWKrm8s9HRT1O4P\n",
              "kiqlvqDTb3yIuKEZk1BJ0g8IgD/sHxTURSYgfqTJO1bhAwVyVxYekTgNrgS4y5MFvIkRB/gfG/t8\n",
              "kxZlFYJ0oAAAB/gAAACTAZ+3akK/AAADAEJz6h7ABD8+Uob0713EPa63CnYgpHy56Nj7ifA6RP4M\n",
              "Ht3uDaLokXax7toh4TUNIq202P1D3xcSMZBu4TUwd9Cd3QdUdk4QyfZyK4Xn93KpMuqSNF2SVBZD\n",
              "JZdqZGxklanwm+LqKvlOevlBt/rgFRgkmA9+KDx6Gpk3byzmYeKvr3NxUbQQAAFJAAAB/0Gbu0mo\n",
              "QWyZTAh3//6plgAAAwAqYWEwAKGdq6Cl6ppGXOgaJu2s6lG9ly25T/pzhqR3pbSPmVPq6iLYp8Ps\n",
              "6cGOA58BA/RBgGW+dmtngWJ8n6Yl4Nv5IBegHZtGkHYBmeWzyocn2YuyJWHUcE3TFtotAz2gbwaG\n",
              "BWYgoicfVz4nHtEuz7BWcdSbJPRB3VZz9vQeodtVkFyT8pU8sH0Jz+ZO4SipONMoUaLahetbq/6A\n",
              "3IEdCRre9xBMnpjQf2bQuBridQetTfEqgFqOHUzpdwn/gFa7IwS+j12bRc+uyZbehMcvKHsBJ7+n\n",
              "189aOt4nA9lFbcFLjtv3/8mTGRdAVrz+pClbnamXn4gke6gh6XXUzPGT0odidtNcANg0mCnTZ4a5\n",
              "yCEOwcEJZm4a18wPl3G715Pag8iwjbDLH5BgRrQdNXfXqMv+By03wi/DOXy85pfEuJBAX/Of/uBl\n",
              "9kex8ISfVIQm+EFtnrer9lfmiVxf+eaQLB2N6eCkLvZtiztMDvi/De4gdBQkz/e3QYfzCKglwIy7\n",
              "O1vaSsfGoL7RQs1ZAJNZdvsQjj+vn8LVe6VXn5XzYU8E1edXOhV7uBPA6LzFCjaUfLA9QLntTfug\n",
              "D5VIrLU14GDvo3Y7SiyGOFz12ji+1bbP5lBxRraN7sS9Sjrad2H4zy841hKwAAADAW0AAAC5QZ/Z\n",
              "RRUsK/8AAAMAQ2ZMQAmeAw7yiNlzsnL/f2YcvrMIe1QY+WhhR1hiqYdcGLFIfwSF0oLZ1GSQDLFy\n",
              "5olrMWn8VMA8itJItfxWHKqxL/SwX4hxXOnnJ3vkA/eqt46iF6D1FKuXQRTGhlnglK/d9PiXo/oa\n",
              "ZWxsJg8uVq7rBlUiIxWK51vOub0ZOBH7Im7bn9iLnUrjJSdsYVbFmegAABXb4HdX7vkET+ypCNiD\n",
              "HBdlZ+JafAAAB8wAAACzAZ/6akK/AAADAENmTEAIP1Asj3BT0pfoTNz6pCInJJwJcCEpy1TnIamt\n",
              "M/88xPoyc82nokuVp1hKZJbPBIHgFubMXoovnGKkETnyeGggQCPLXfZeF/tMOXGG+W1cExAecxdJ\n",
              "yKWcYvrRwsdme1xeR4inkh38i8khTN6BxVhB8NOEBQjbU0lEMYEqVq3OeEIR/6XeXvOuEpCzbuCG\n",
              "nXueYPGE1Yp7Lgn1NqeY5XGBgAAA2YEAAAGVQZv9SahBbJlMFEw7//6plgAAAwAqcTcL8oALpOzL\n",
              "S8YWtrAnff8QWTHHjKkbjnWtgpJKBPqQ02zmZR9J4+p+uZyWrJhosy/CeQDzE7ze5q+7Wv8OYEGD\n",
              "b4IvXGcxkIeT8taSfwEa7FoMwbzIhB3OdUK2hP7OgsVmG0JJBrp+dWUpoSDko1LBpZVsuX1kcPOs\n",
              "KYco9CCfSZo9fINTgr75n0UhDIl/OUqII/9e4xPHwL4dtHKl1CjbEnl5lecpmYuvZ44wqw2lfC9Q\n",
              "fPoBrozbTfSeWMnobONjK35HI3Te+D261fkKvo7/OeC6zJk+apgFgDRbhaSqZju8nKn5Kh5PBmhS\n",
              "gEa3TuysBAGW21UTexbgDTGaYKbKohRVYrQkAucpzRarO6TsvJp0I2p+9vjZGkquxg/slMmkYCUD\n",
              "mTeHRmjFiP0+sG9jCgYLbYxysSGtWywxXqNWClv8isrmJhm1Ry4VKkMqrwb+OWogQqDyQpyMR+sa\n",
              "UJ/5WcIhSU+8/LNepM24huaiNJBWj0uRRUvVYwAAAwGVAAAApQGeHGpCvwAAAwBCc+oewAQ/HcDb\n",
              "s9rObecCS6UamxT9/kHu3oTKvhe+c/U664sQPEV2l2epUNs2eQNldg7hdJQwyQG/nPlyaDW18sup\n",
              "gkgbZzYueGeKt1vJKh42A3sLoOxvj6GvA4oCK8RdIzqIy+inDf4agTUOT6t2mZDw1ATtWb/Tm/VF\n",
              "gpAUZ5iMP6DgTuGxb3eVpjh+JYkB5ST64xpEAAATMQAAAaVBmgFJ4QpSZTAh3/6plgAAAwArvC3v\n",
              "QXMjhCALd2eUybn1jTMpZ5eFoBoy+w2Kl4Gjd2RfRWMv78TsqqNpalNfWvOa57dKqNz+TcavDCaH\n",
              "hcIDXGj03x3KFlNdYhS3qjkZu4o/vS0oxssw6TqAWHC2RcWRvo6G1fRo5aEJ+/sEvLjLKl/68IrK\n",
              "iCS+Hz/DbvinutHvmR/yXjNJ0tORJ7+H1W9dPxbxgl1n4vXAFCg9YLs1aYvEV6F/AnynwoTysmEA\n",
              "NtqN5LRm8aq5uYCLpCwLe/LXwc3BDuQMwbZWFSfkPp/Mhskvxahg4XUoEI24FO7qvymMGzb+2V9V\n",
              "Ah9MQBmgb3yAg3LqAWb8EnREjFyuEF/fhcMWrLfdrKlBIfN3hJZ+wi/arDqzXB/iRA79Wx1twNc1\n",
              "7Xt0cjgT2guOb/C3lwCZUsFFLv4DNyXg/zyYq+01utYSMwdtaSHd2ff+zPHIke2iR8to7TeZnPZp\n",
              "24MKvETSO1Y7YyZ9C6UVC/zJBXmQ3vWv+538iqw2lFZe5GwY7JMYTnmmwqpTKw9pU+X5AAADACih\n",
              "AAAA8kGeP0U0TC//AAADADOKLvqfxDQAmgYEcX8DoPaFf/ecI2vgZNxAYKQqfioXBIQoqp5z9wRW\n",
              "i9/IZu0X0uHtA+NvzTEzcKljZ+BmfyvKGnQig5gJPWcO1FcA1AebEx10zQCSd/XDXw6Qkb5DXJ+i\n",
              "Vj7ZolPqfM25A7CTaFrmvDSqq1o2adRoebRReihg6bU7YPdoKcVwVe3c1h+VLsA9Of/xxOyNcyjP\n",
              "RDmZ8/Ox+1psgEr+f/Q3zMl7ck9jLQgkL5YBwZAQKO5/3FbekXNOrrmcWkIIjkCaVyxPrvoVozQB\n",
              "wrgP+8OXIWZSPBuTROQAAAVMAAAAlwGeXnRCvwAAAwBDAW5pIgBB+safgRH/dCTxYfPo/jNKvn+T\n",
              "aV00UGEmAks6K+1pjeq5a6zUgjr95t7qatKv5TLNljHbNvnytkE+ura72RZY86n0eRrCQ7Nc5rdh\n",
              "woLdecpy440UacpCl2H+oec1BrTEeb3A9IdflJOXdGloXugF9tfCqhHo07+PalMgAv0skeYAAAMA\n",
              "KSEAAACVAZ5AakK/AAADAEV1sfrzsgAQ+sY1Un0cMczZOhRghNFaK8SmU6ZlUdlH3I2Idsa8Iz7q\n",
              "j3+Ma2sdlIXxkLsswLwalsFJ6x5xfYI0X+4m35Ut2ldgfCMubfPwyq3O9yj/qhWSyRQROPdSMTvA\n",
              "hUgHtQyIRlybn7FF/ZrjjwQsWAgZgR3lRM42S5/Mlj4qFB6b4AAAf4AAAAFyQZpFSahBaJlMCHf/\n",
              "/qmWAAADACt8haAHQytCJQy8qe/zhuSMciISXBihVQWlOLovHNYftsoo2StGkc6eth8SvOuYX0pm\n",
              "+a6T/aoWqu57/7AvgLtazx2w/MkLz6XKZnV01gGxi6gysakIIHhjGZNYLSHOHWXcgPHo1Vx5XPTz\n",
              "AtyHWWa/2Be+WGgrJljL8xdtjwGAPbN3VPtEellnXJoZ3Ym2P8Eivpe3FoLSUY+KspXy8C11uIbd\n",
              "aDZEUUfEZmeonAULdWwhmP0aH+LwXS8DvQvFgqrtTOZfSbjCCOK9OUFu6N4g3xGsKWfj1pIOfWsu\n",
              "NXyLUY6TMDh+RNcSeFpu2fOF8W3ApcK7+BsGNc8YU59RwAAAAwAT4owGa1KoM8l9mNKfJN9MjMJj\n",
              "/esxchD8j0dvgzfRYhq1ddI2zbckUr3t2FbaWCJsKsNxIqAzXYPftwZ+tsCLgM5K05gZ1wsyMmon\n",
              "Y5dg7d7U4FSFogAAAwAFbQAAANNBnmNFESwv/wAAAwAySuZAAffWB04dEtj8IDU+wxjHpUaQ5gJT\n",
              "0Pa+H6roe9b2dX/GKwY4vdDjPQwfH+zfruscKb3MdDGaWjGcTHYBIo1uiIUH0DOoApYbciU0JAL2\n",
              "6KL4T739/p1XcCO2QKpFLESgducp9SnhtSkqLRAi5NjUf+9v2ASimNM6JA+k/UaL9KiZhbinlFgj\n",
              "LvuQJzbHrgS+rWhRp+pGIRHhzCscNU44QYteSOL6vD7dFoAhulQRhWIZGzW/oILVuAYlGE8dLgAA\n",
              "AwEHAAAAswGegnRCvwAAAwBDfe8ABsXpmr9RfatkpGvx38I5KjpfGe29+vPxb0KFT3BETPbPNQ6R\n",
              "4m8FrmkdKAkuKosdymORy59zJoHOrDCaDVC714QBBKfadB0RgwjmaNJLIlmGxYOjudemhOkjvEJ7\n",
              "CaTVVeaicc1/8iFzgfkR2xCtfyJtYdiDWWQ/8OiOd8r8E7yZGlk9CXx4LawUrJSEZ3Y9r++YcB0x\n",
              "1lLuZNDf8j+D6SAAAIOAAAAAuQGehGpCvwAAAwBDQJFmwATcD/Eajpgu8NBZ6D60LtI6btspPP8o\n",
              "yvHgihlY351pABW3jw9ONmjjt+u0zmV0+nAy6BBj+QBk8dPTsIM+xO7GWZwsT74aN5nGwCnGN/Z4\n",
              "8k4sPFfUNoYD/8BzNi5vg4r+qdSR79hbngtOEHHfJjt2pSmhwVHvY1nh5lxSC3VD7PVZaqnpZN/f\n",
              "VvjgzR0SJmfYXmqbYbWm7IjmRIJT65Q7pHpiMmMgAAN6AAACA0GaiUmoQWyZTAh3//6plgAAAwAq\n",
              "YkSlABq5ztg/G0NXMT5YkL3f3d6IOeGDPeuMGlxNIH7uCAfLTzLZYCVrYjR8SQ/KlKXsZzm2I6uM\n",
              "K0rKOHXTNxZWYTR8WYoB0Gj655Ii96X18mzGm+Kk49Dma07StmpJvNWBrJBYWwWzVM5gejKJRp5y\n",
              "dNJGiffaN1V9BljHEnOt1IK8EFUAk7OOIp1OeyNDirHjz82S7lnd3wBJEFSyleToWcidsh/CrAOd\n",
              "SodZy22qE+CZxSGvZTcMXluFnQMlbMm2VlDFAz6LlJwZ22aTboP5hz9gS5RmhCk2d3/b79O6yYFM\n",
              "3ZDIvTtoXDnEqaibOhKU1ZUPtn/zwWOqH7QkXXLFpvKECcodPWsrr0SkKiwjpTg+SCTvzZOd4l7j\n",
              "+u5c6NBFSiPHwZ49iwcyDs8lvYyRZO4STRZIR4eOgCbzeyKNWYrkPlwsFzSQrPmssRkpiZuD0BYz\n",
              "6U6wbtH0ebZ83dqWZPDzm4QLqplUTWKWU8R5k79HEG00GiNP+Gz/S4b6/9MH1mkC58EJOtWgMKSy\n",
              "nM84yV2fh3pNZZhRu9+SfO/0YGe5554MbiHVqeqNPIvOZ8hTOhK6XelLbJa5lYOpyAuIqlBoEP5z\n",
              "9ALeit5OogffnKQteON+KAgdDdtH2Q+2w7b1TBL2H+0GyAAAAwO7AAAA4UGep0UVLC//AAADADJC\n",
              "52AEJlaC+p0e3M+3+adIE+JdIwg0YnGLqlKcy7fIr1xWmdX/EccysDX7+XR37UJ+QMSTFnYpCwhJ\n",
              "a8iRCZdLpLSL/RG0cf//r2qUi+8GiVMu4oxHeCHhppIv5rX1seRN7VCQkIs2owX0GZ4c/3RfWDbu\n",
              "sCwU/U8Aq/zKsm24bdRmp5YFPBTIq4bJyc6pUmMkopXorgaz672hhHuBRAHOeKIAdJsnrqNkVtzR\n",
              "LZDXZwhH1lDXFdctbJ9VLe+jbgcoG5wHIT+rbfa8Ra5uaIOAAAAUEAAAAJkBnsZ0Qr8AAAMAQ0AY\n",
              "XYAIfswGDCqjbbOSD9ejC+gxsDMzAYia94qtgxXycnDsSF/MvXMO4dy3xQCwL48irMbsfZS+YslX\n",
              "9WdGzr5PeH7UbNNzipjzi6Qmo9I2LZIKjRaDG86NllU7QzVc3hK6iu1aa2bqrVZNx3ffGSvhUCDb\n",
              "LkEbdRa93GpKFFgB5skPzCKEq45c4AAAKCEAAAB8AZ7IakK/AAADAEJsyqIDRDABC4yO4rO6xSp7\n",
              "6SF6N7yIGMCiQaHtdHfD+2aighgjxp2bCH+sFAFDZiXYj1CMFWA4qNSEQ03k05T8WkSsRuWg2I2I\n",
              "ENLNdOEKoOzSRlE4tR2lXQLSpuSg872IeJvk3j6gQ9CfagKIAAAJWAAAAWxBms1JqEFsmUwId//+\n",
              "qZYAAAMAKlTGye30BUAC6csrT3SDIbam2tjKqVXnQy3sashK5SWDCXC2hgLa3Uq/0FrFC24BlqZo\n",
              "VPphsP0tlhs5hQ79TFMmy51chimag1pZ6eGIZSk8Dzz33OmU5OuxnTIvYjtEHV/9ECfmL7YMHF+i\n",
              "vkL3oWktGfZ1zsDsHsDQzoTYACPL5TilBRgAKtLPKr5qyni4KxPDCQxtHdjIIHPWq4ofdgqgW3HR\n",
              "LB/nXQ5BLolWN1MApChF/Qn0zDX6THeB66isARFb4XcQfXbj9XpXOIzs/P+TXyFqa3lUxpH3zdmM\n",
              "4QjrrpdRF9rUUK8y0Y0KdDJvRfzQqBCI2Oa5JFEfFi9fPotdWhXz9sttz/yYdbrbVG84H9KRgCmN\n",
              "hGLdVP4o8Hxw6ppjF1dXzp/q6UAK53NGQB1ijxQB1bQd9AH+tddJm2IWE4Ywx8in3krprdRQVm/h\n",
              "1PqHYQAAAwJfAAAAw0Ge60UVLC//AAADADGrrci4ATEXqaYezsh5CTMyLTPCi4Jpjn49Pa0JlhBR\n",
              "5GcUUtT0qEBD/lccRVConr/xHNE55rVgZxN/aSKUzqKh8dUWM+YW5wkmy+kk9fQYyXumfnP0Q9/5\n",
              "odmauPv6OCGBOel41MfefacsJIEldPflgZZDG6nX3+iqqKavOascX/qEAcHJ/dvzEKWqV5uiCux/\n",
              "s9O0izwYLtr5arbGZjZseQsTbs1Uo5mldCoE2JkoMOQAAAMDjwAAALgBnwp0Qr8AAAMAQ33vAAbF\n",
              "6kyQuZRERg+vk0GPOzgSdDlsMMzCFIV4PCu5lv68KepG9qXmXLSRN7FN6pM+q4dCq1UFJCavDqqK\n",
              "QL3tiy5K6/U/wz3Bi0J2nr7JA7z9DXuiVrv3w86mFWRuIjqgqFwtat/5px9SZF9KEAzEiy0bskyA\n",
              "o2bDp18KoZ7iyOI+mMMjUhuqmeCZ/nXw1+29cun88VWhj9HL2s2n4LMGuAG+PECPsPQAAAi5AAAA\n",
              "mAGfDGpCvwAAAwBDQU+vtgAnbzKMWE26QI+OGrg1ooG1TdvEmHv7cSqUwJDRKbVqS4AiFuLS6KBF\n",
              "2zz7U0JuhmlfD7MIblBRAkF9P+Xa/+IMeAU0fO9P7/KCYNiFMBpeytMHgQe4RryDnpLLjUL4OhqU\n",
              "zlOSlfoXYMzRFcqZ3rhNnPDXY5yAh4i5tDwAu7laB7fyKe5AAAGfAAACE0GbEUmoQWyZTAh3//6p\n",
              "lgAAAwAqnC3+JxrRQaAC7Kylz2hCozLbP5SyTOXL+XjPMizyVydg77qKfbWdNl0gAuSZvgD4GeUJ\n",
              "ZxgyrACVvw7wuJ5Fx4uiWwNUsPN9X6Dr5IMsXIDHWmg0Ahi8FaRMfJ/47sOBp+l6l+SVSFQO7Mdq\n",
              "/5A9DhjnLY6LGOHtVuarEph0earZjGuVlU22EgH0zSPsnM4AK6r5qdffibxVvcQ4pWjbXQnW1wAn\n",
              "kc9xCrQejsh8FiSdD44O/URDzFWaXvIreuK5dbp4oEXFUX9Glq0x6d2jJ2m1qZJwdSCsE7sf6mEi\n",
              "SYnk6HMwJBNZhhcclbY2+3AMxT1MgKH2DuEisfwHV6BadlpktSwQGrqvJCYZLSVRCNTtMlv+xIGX\n",
              "QfoqOpmjpBS4in4HVImXaLMD4oxQKfq1wl+urF2erGjKAyj8LzM+1y1iQ5+sZS34Lfsl7A0Zk40g\n",
              "QrFM+G/7cg8QLYXP48Zzq+uVOzGkNPS9RsjkCBMWzy8bcD/IriRm9f1Ed2l80SEahi+JRsTxtkJb\n",
              "mVTItQwOgzP0ZCZTK7vlCTKaWtRPqwL5ERJ9YEQq6C7qxYagFEaWZOR3dopUNJUo14OSQcvnerbw\n",
              "FpxMDpeWXZDq8lafK5wtH2eOqYW3OqdvVC37FaVwy2LZZyWaBweajKTo4GjUM5Uxb5WWvGIewzYA\n",
              "AAMBFwAAARBBny9FFSwv/wAAAwAyAvTIt3YAS3JxwyvRrDyM3me6N8vbHOL8xx/KMZN2DX7+lY7i\n",
              "pd3YxHGUbqZc5luNbLej6qK/ET1+OzJ4em8/65pl+lVtqUPoHyYnFHe5WetBRwgk7v8lCNqzTKON\n",
              "83reT/2m2UXGBsoDYQ/Ph8D1Ql+YpC4TITXPcqG2TcgHAexvvv+1b104GrLzBqdVOCD7QNh7SfJi\n",
              "xgopwDTU/vZt1IQZZ6RbHTyvCQi4l2N+c9+e+8vV0yHaMHaRZY1kNUv3sdGHfwy4epLRdbYp2JBZ\n",
              "OuOHU8IRKA3A9X+AFiaeEn/nGjG07F1tjFqypFuieYltB5JZrYJszrI5WwvDhbQAAAMDugAAAMAB\n",
              "n050Qr8AAAMAQnOyfsAEK6BO+XVxWiwj6nmxg5RH0HrNrCNd3xmCUgDOspv/iV8YECGxz71hBybl\n",
              "0rEso88oFKv9IHh6ipawyj72Lf7UXW/Y2U0/Y6o8ulBSQlzNG2jdYbW0yrF9wEvIDwPgprQQeme+\n",
              "Ou730JKYDWqVTTpmWpXeu5s+FzO3OvZwKHlL4NsjIZtMA5/TUtxurJqsfcDUvZ5J5ACC6aaXFdcY\n",
              "w/7OZ/oT6kPUzZJL6FoNEAAARMEAAACJAZ9QakK/AAADAEJxgisAEKK0+YZn8XCaZcLfwT6MZ/iE\n",
              "HZqobpsd2iPMxRrGVo/ff4jT/6f7ym8XU/W6YfIEAUmYX5EPfH1+31uev0ccLyc9IovegMaFS2lq\n",
              "XzdnYdM+c3BRwD626NZpp31wCbh3PZVqq5aDBSa9+nYQLRikcHbpasjewAAApIAAAAEpQZtVSahB\n",
              "bJlMCHf//qmWAAADACp2NdhhgA4Ox48kdYKnBNWTxPgkabg7jGmc2ZZuY141B4C6eZMwBpHzgoVX\n",
              "4oj+yrMDeXGadgzUFNJESIPL9oeELMkIGnGD+mmSgQ/mEj7INFnvWFhNUZRWN10dfRAQ7LNmhIcf\n",
              "ENNQ1kXd+2daJ/qtibcBQOARoiNXxPW3ZeqYbCBvs9hyWqnE5sLRzG/fYOSY6AuI3n9Bpp5l33Jt\n",
              "ZghNnl91ubqZxqo+V8sPvRN6gDjPS6mHMXXKF7fdJ4QsxSZ8CnL7qvI27rsNX27+xv8xZ+bGQrOJ\n",
              "MgTiymFo+Y6LWWphEzUyTF6rxWKqq25t2vsD45rEzu/PLzorpuhlKsvLRLlURqByL/f/baV6p82g\n",
              "AAADAHTAAAABKkGfc0UVLC//AAADADI5tMSe1AB4FNUvlBcwhBC0gqSFwmwSx4V9xSSGIFNShqAQ\n",
              "yIXv2dSFefNZ1SQ6weQw8Fla9vEUSdQno4B7hWyvsRBcMxSophlXRAN6k9WX0meLnPypsk10oeYm\n",
              "dh61+h+OGhRxvGT8608m7oKgXsUm7K8g0Jdy391hGEIx8z/Qi7Zf7NBVILSV+RMP8JgZnKPgF/cG\n",
              "KoqE+Vc8N5hQR9tHMeqEy5D5Oev8dcyU9Rla2Nd+xTWFSdESBzTDScAdoMsuO6zCnzarzaWadBf6\n",
              "SRa7WxO1V2ebbsoOz0t2KPxQS1CymBQsqxDW7i2oHS+6slg6Qy2r4y9e9QrMIeVBP0jjebt3jjKU\n",
              "D7XxACpuvZH5ki5nw7EpHjTqMAAAEPEAAACmAZ+SdEK/AAADAEM3M0QAAhpFHLDEaMxBsjXQWtI+\n",
              "NpvU28exoophmT16ol6IT3ao7rpsZfgDbtke8sXuoOtGmbj7SwFQNgROAmnDgx2f84F0RDTay1Ba\n",
              "O6W0T5ZuA6ZfDO2OLTHE2MiwzI2/0w9TYFfDaJBoXAAS5+vpCWDO2WXbGK4pUbAehQvIB4foBR8P\n",
              "pAYw5QL5stlnkQHPuf8kCd0dgAAH+QAAAJwBn5RqQr8AAAMAQ3bmIAQfnmNtM9Q7oG5eqHatr5hP\n",
              "iJ0UJSm0FQ2NlJSKpYp7tYEzqbwmwrn/jbDCKSBTf7ImvyrKl6Z5KhyoogXVj+Ym3ClsBwX3/ZQE\n",
              "v7DzetBXCjwvPNmy279WnGONHhBTj+6a4aM+Po0PrC8zF3GnTvM4jlsbmhZ1E3+1i3kYgfHzfjxq\n",
              "b+tcDjjswIAAGrEAAAFIQZuZSahBbJlMCHf//qmWAAADACpny18ACWS2BWEs4yBaebkzz9JD/uaV\n",
              "hKdOI14COrtheb22NdUS1ZVq8VZ73+fmOnGBQeM+bqvRssnzzFe+b6md7c0YCQmfK6GpNgA1NY4b\n",
              "klj5/1RgY1kqWZ9+jI77ENiy9uhCHtHRw5xdV8qIHEZPHlHJCHCFrTBV6Yks6722Zw8K8WA+5Gg2\n",
              "r+AXuNYe6fxr17krpc1N76sb279yhPzfuIm6xoE5IOHGkDyZMIse29lagJWldGyvtGaJ08dV+eNV\n",
              "Sj1pbBMl1wszapAzhV0e3MqEJf3m2hpLyvOVj6oeA1H7f/+ANvQ9OTQHs5N0ZcGz52VCQpI4C77D\n",
              "W2HJuR/9C73uWB9AdwV9znJOLS6q3cTSRddFy65bBHZ9RzcRLG/MuhTSQEbo83Kr1FV0rXKAAAAH\n",
              "TAAAAM1Bn7dFFSwv/wAAAwAyE1isJRgAnHbK3wXgejyZdZUYBD6CAVrCoFeeIyBZvqqg08rtVf4+\n",
              "NVJ/JK1dswkIVxhAC6mb8t89LT6K12Gctq5ux8Tn8m7eC7ywc6+mqVF+mrhAk07Q4ncoxFwpeE/S\n",
              "v8/rGmWDywZkP8kIapZGunXq3pSSL3x/UfZN/npfH50MLBWbMyv/QqUDU/9TjPC67atUDcEdN7xg\n",
              "cPmR475r9g6DR4lYi9F7ABgWfOytsaLEpRXqcLLekczE5XkAABvQAAAAigGf1nRCvwAAAwBDniIA\n",
              "Qp5wNsC1biuETSVjKsNDbsU3AuDQttTxIOBwm4rRnLr0Fv5hGEQ/Fw2DR1urn/xkTaIUL2th7s4H\n",
              "Tz97K/bx9zQgObNPjJ52slzDaEe5KCmUmmf9Rx19ycdpMO0of4K8e9GURupfsq7XP492r3AoKOPJ\n",
              "9KXoemIAAAMBBwAAAI0Bn9hqQr8AAAMAQwKml0QAgsdwRq/TC9uHuwm3NhHJVLPFRuTuxjMJVP0i\n",
              "45oAhT0GRJsHSC3cKzFDnSP6y5bPJ4/cs+ehi9PXMxVWKzSe57LmvFDS2tYeZ2vRXSKN3EygWhj3\n",
              "ReY27GyYhCUDrdb0l9SkaK3YcrNDA77JEpoDaopaxKWTBbI2AAADAVUAAAKBQZvdSahBbJlMCHf/\n",
              "/qmWAAADACuMMqtlAIIlbfXm3rV+4aE6ZZPtEJ/bT+176FyntE3B7fRu/QyTT3F4tCnMpfE8gX1A\n",
              "5Fo4gUwR7OmuDcxlMvm7/hDLok3U6Lb+u/QBXlsq8ZDL+u9MNTQ3cUZOxvnflGYcH/I/HA4wBnbl\n",
              "1Y3sbnEdzq7ogDTCw9o9n3kYXQTrM967cDcGPffaER3YiBW2gUJcZ6tCpfAOZPNrJ35iaSHsYRLn\n",
              "IoUhrdQddUc4bgi8YcdGKSnVh1pYeEPQ24bcmYx0BfUQ6svrLvlS6GqeOBmTPGi8UXLXmsLCMf9J\n",
              "tFrh2aAwdcOilFgvXDB40QB1sUX3w/qMXH9E6ltEE+vk1nSO5XNZakcIk+mDnM1QHVHCYGY9j9ZS\n",
              "Hq9wDXYyY2ARQP7WZ+nKNWjU3oUd77tcziqqpUxsLyrCg40rCEBv/TXo9EPBG+2Zd0pbixFjJIrv\n",
              "olCEnQefo9dJGWMjDBMsYVar0adJsSTvUkH3qFXt1vSEpBjSYUqqHtJVoX7GuvwxCDE8skt/2T+C\n",
              "vhNJ7HiX5G2Rz8e1YIqvG2nmBXAaJNI5qEUdPhdmvljme/YSTpgB0ntxuLbCGiyxxFuWZ6Nmnaqa\n",
              "VO7FAI3ShXBAYaxCAnNRI3U5ptCE0dr8nirOBARyLPkq4+D4EEx9eOzCpCxsWoC1pw0p4/8Momhr\n",
              "YmlTEH2Z73Yg7ruDmG8pr+zzWIf62X9toX62Eu02EV8qTNkE7YPMxTklvqfNrWtRpV89ziOnaSui\n",
              "7fnGEcNVSxENaCKbR2OG/oHM09BnWRi+nuxri5MT0QY+V73Y/e77wafK+nhTPXjjaxEKOXM9XCEO\n",
              "LeAAAADUQZ/7RRUsL/8AAAMAM4EfgsGYALhvk6v/tEfZrq+QJOIVtdz1/oIUXDjPyhreXcESGhzE\n",
              "xRh8ct8fIWv8Qqdxpo8Zyexd2lALYrLbRcUjbcfiRANQQ0IZtP8TfliyeQWrEFtGswbk+bmCKUls\n",
              "cIh7ehsxI9asEPrLwc4xCcMHGauI+2XeLn+fef+nvIvYoCxcScmguhQAWcYXMy0RZJw4z6A8Wxo9\n",
              "HQNG7xjTtSso6KUV7Bs/1LXoVkswFu0ml/CZJ0TMkJqPTckH03eU0yAeAAADA1MAAACrAZ4adEK/\n",
              "AAADAEV7yCGc/6gAhvO6cDlOzcCpvli1NmZk198V4BMwRGQ9go4ugg4sB9ne8TzUPcfFvjiOBPZJ\n",
              "SLPhlInm29YKE/GpUrfS2oSBPlo7ZdVvtJxg77fWl7Jf7IR8ynWc0WHXBeysJBTe717qtFsJYU8i\n",
              "IScVumgP13XPUQ3lwzlQsusn/S2UEMWbyOumjfned12I2M6Kr0RmP7zEusJjSLggADpgAAAAsgGe\n",
              "HGpCvwAAAwBDduYgBApcnSG7Sl2SDWRJalJOkBxfpo5SUmPtwDhgDK2OPEfHNT4yAuikxEXFqV4M\n",
              "+Fg/Ycpfp1Ko/IsHl4wP7Cl5JMJ/5Wsl1XlOkvkymgtnubEI3XmTf4ECb0azKIEJJt/AXQ9rCeRV\n",
              "Yuiv4dxPomMq44wRiKP+tvRO2CVhZ1B3L1R1xXCJIzOxkgH32I/SYtl3SgNerhiwlsLxGQGdf5/I\n",
              "SAAACPkAAAH9QZoBSahBbJlMCHf//qmWAAADACp62itdUADM8xcvg+Q65oR/ZWDtFvz746eJewoS\n",
              "+k8DYridcqjjPsyrAjIFwrPhNDjxTOmjo28VoheTK0dtkVviNG1ZfeLItlr8uFsnGOEZqfvQTLGP\n",
              "DHRLjxKsCUQReOt/VY28wUNAVFTVZF7aJ0xIQ4YfNTPKEa8Dl6hiOhjUZCB4kflqoAzxLWrZbS7m\n",
              "fZa4lEaq/79WL4XzQSMGBGiW3kL5nPTgErxGlIT+BhsSr6yACi4VLPH+qemfR6adggwxwt59fdCU\n",
              "SnyfwrBtzoqTCP3ZXeIXbJHgNh67OhYqPSAZbuZ4eTGjCwVVl0bVFSDsqJ4TJ03ycw8fIyJgum3T\n",
              "VMSXcVuTEfkhMp0uL7A9h825GJ/xtcg+krZWW8Yoa33CTHj0e/BQzePtr/UAhGX7ajAqbxvo3LGZ\n",
              "qnCUrdSKRfa9WPL/n4Ox24GuBA4JROMy5NcbqBQR3KAL68sZzztK65kRrsFs+O6plIsAj2PmQRKY\n",
              "khFJgazSAIjSADHjPX82fkH7EayPijFQCZPCQbWmqy2U1n1y7lMy/+6isdQv83lmAkzbjnS1pGmO\n",
              "x+d8fnxFBaPRSUSzJV7XhxK4T+5391Q/QHkgV712swSWct6R4W0q8KG8L2bad2LAIH2Fzr51hGQA\n",
              "AAMAB+UAAAC2QZ4/RRUsL/8AAAMAMhNgvK7gBM9uHc5njw6yUEQLP7qjAl9iNlDR/SOPwT6XxJY6\n",
              "5x8remlmel/3PLe4npWj2h5kgO+4p5DHYfldasPN4iuQEFc3E+nbpP+fLn9EPBBTYtcqNH0s9kPC\n",
              "Md7auWSlxBJYbfC8C6dZouZNMpPEFsDxYAkqy/AvNOBpp0cogfKow7kfRewODfQci76EDvYI2xfi\n",
              "5MCQuTJFky65CzpaqLRxiVgAAUEAAAB+AZ5edEK/AAADAEN97wAGxepNg4bmU0OJcLdzx1DWijl6\n",
              "PpV0K0JCSK4RylEsfEDweUnroGPZazdETgN2K6K/PAyjC+FDvCm9cxNutBz0Y8eZVcgnqdnmwXic\n",
              "i+usS3mdhAdGCtQkDkZmT2mntCE7+UqXASoORIYa6sAAAEXBAAAAmQGeQGpCvwAAAwBCh3LGSAE0\n",
              "srYhz6ttZs6hG9qd1nB1NxgRgZb56YmpI2qfov42Wo9V440X0GTHJPWEfaXQku9Wbt36kdveyhb5\n",
              "XBgXH4EIE1HtEA3JxCk9/HgjTMa57FKPKdyakSwCy+EjnP6rhKkozPX0ltX6V2xxKzIcnhIfxYvQ\n",
              "rQYyoshC6UT4+9bcgGR6VkpegAABgwAAAVhBmkVJqEFsmUwId//+qZYAAAMAKnViyF0ikYAOXCke\n",
              "+B+mdxA+7vWV2QFxihzWjfc03YUmyOPvnKuq+ADvVRPF2bP5I2Owsrl5OJ919tvGzxjs288eKbzb\n",
              "wNUvUPOZ6DzMnvSrzvXDxapNnHBEHawxYBSvL2QOWUXKrsVQ4WMrDF/lp3v9PZpa2o9En7yqxpVY\n",
              "VaM6SVVeoyoKStt2ZJeTl0/j3rbKecuKd98pfyDQAnjymjr0DsXbSFZjKJZ97yI/aWV7KyXTnWtd\n",
              "LHLxY0Gi0yVc28/1sEL/E8IPOFK/0kJwjJI1uY9/+wFkQuWC8nDBiTu18K1zjn+EMqn/L/bGH09N\n",
              "zUGk8ePgh55MPyyj1FxcXKKJe0oyjslNMKdNYXJlf+tbu+OYr5QSaX75UGkNFAzdbz/7/uJVNxEg\n",
              "LOymoOAqzGu5fcm+tp/7xUJaaUlrugAAAwCTgQAAANNBnmNFFSwv/wAAAwAyLXGq5YmLABOoJrv/\n",
              "P09WSC6LKgPkJgB4XJQTMW5vvgOWWLJouicEyu/kxTzx/BpDB9Sh8QC9wrdFbyNWPpt0F7+KQ+1G\n",
              "NaHN6BYzPzHyRd0Img8wzq02QED7XROB6ejAjiRvoMen8g7ukNGlpStP6IxiVY/4pZ88AX4bfVkZ\n",
              "mAtZrjlJV/rpPFJ6ivRBPHKMXWIGNQnf01UQ+R+UAQzCe5GcRzqDn4Hhy8GbW0f2NsO36vfMNBoi\n",
              "IU9Cz7/NgD9PQLaAAAspAAAAqAGegnRCvwAAAwBCexEsAEKK1D+/WF4Wub/1T1d0pkwpb7SXTJzJ\n",
              "E6nhZ3lDV8FD2IvMcaZN5q2Hk8aQFh7TwDNZbHXr4U5kxtQWPngbONDCAB7nTg6/Qf2r+23bBkCP\n",
              "C5Yq3CkpKMqICi9RFyqKlQ94GKS6hKJsFmtOUPBDM00rH6AKi6/J4o8Y9ZSGKiJVgQWJjcutUI3j\n",
              "tCgHwN4NtDDLX+MO2AADUgAAAJkBnoRqQr8AAAMAQ0rehRACCguFgplcgbpdaA+qIap7b/pZNQfK\n",
              "e9G6+/tbrUESUhfyksgFfNHKAur+yrKJtkbDg2InegcaMgUbWp3e+rEakIsH3026/G4fKIgIs2pK\n",
              "BzHpk1ymj+SSwQrZk87XTCOamZK1K7Ex2khdFsChtx+N/VwpWTPVEhEoIcRrf2sMgNoJ5OFlv4AA\n",
              "AsoAAAGDQZqJSahBbJlMCHf//qmWAAADACqcLf4ARgQ0AF2VqR/HL+uxOk55bOf/m8c2L83BywJJ\n",
              "1Dil9p/pNd59D7/1DpJ0G6QkJEEvY6K6Xi2FloniTGDars6kqgE0nQHN+n7/zrm3zR2ahcGl6/rn\n",
              "6aJe3e326jY3uwFvP8ZGQhk3+KJOh324iqVMXPnyV5aUd/KiCnHfQ69m4F4vC/y78UP7gNEnzKxH\n",
              "MMjajmGyhukjmAcFzFF3yJxT5bhIoZ4olqg/7b9WK52mGtDxnatFki+m3F/xUH3XURenueOoCrdN\n",
              "s3dk0bKryq7K1Mjnnn7P5aKeLH2YqFfdljy0vw2webFEBlZEmlEENDRCgqhUdb9mEIXfTiduhuBs\n",
              "sBWvUsy2CKZi8z2NOtXqFuyakt7u0fRLj8oZCzgCfFRFaw75/tjkTZ2THSpYxnhQq+ehh1siIX5o\n",
              "HunUkn7nY+q4d2J2vTkDJnUokdp9D3KYd+0XdGkJEWyAZIheVXdRFaCoggvqAAADAB4xAAAAn0Ge\n",
              "p0UVLC//AAADADIGkH/7ABsXRVR4SWnZtJ+hwsOf0FlQsCKpM+MreTIupIpPoSk59L6ufeqJiKR8\n",
              "g8tQlVg0hJSSRB5KlDVFPYTcZPT8+uWrYev7/roui/wluHKcbh6OZ3w6e3KOCIV2luNJpVHnjTxs\n",
              "v+E6mGkUbeBonZMEXZ0DbshdvhxUiBYE60gmcW1CYMm0TbxXRwAAAwD5gAAAAKUBnsZ0Qr8AAAMA\n",
              "QzS0CYAIg8ubaW21wKdzJ2BQ1URS6brR1R8QT+A5FJohaSWx+T9aHiTnujMoK5LIL7tUdbjAxXCd\n",
              "Wqf8iCDHjcmbMAeOS1PmQDgBWmqnlDiJCJDAMdBSFnp1TyPjQhMhZCuzKOJCNuxAw0opMLVU4G2o\n",
              "dyMv/40KfkKlnXCrVEPU+V8WcUbhFyEIgfrIdDxk6IcEFVTj+AAADpkAAAB+AZ7IakK/AAADAENB\n",
              "T2Q2ACIPMj+nN6BNf9Wb9HvSKr5YQxXJZP/WPP0xmbnwVoV1bUYjqtD6x1AlytDYT8pTVR+7G/5Y\n",
              "nqBK491+oHzFAumKWrXQdTTxXq1Wk0QWj8tbdeJs0LRppUfF5RD0fHCgzkOPPgK+tUBcBjCIAAMG\n",
              "AAACG0GazUmoQWyZTAh3//6plgAAAwAqcTcEN6gAg+aNFdXbMuJkiKm2NawBVl7kXmEAwcIeHYu0\n",
              "EcJ5CHTRaveor7RIR3eZ/M/VRJGll0BeSaR3Z90hSq23aROpRC6ekRS8GWynx2g89Izi3h+idB6L\n",
              "ew1+3NNCi+oIbzTs+RXKNj/mLrHGqZ9YKJKs9LD2+hrH/2hZyCC+DPA+OgjqESIXa1JxBBgnNxAW\n",
              "tGg3cFbF1zdzTpmKzUzDOMHsb9GXDZT6xxBVs3ZBhGSCOFQ/t9fJG/9a2Dd4ZsUj+GHPvtp5k5Hg\n",
              "Es1jR/MMmdnNYRedWvoZy6YpGmyjEaN4XGNJDfaUtxQh+1mvOganA34b8tr/13+4KPxOvIkIIH9q\n",
              "IXXAZsMNbUINQ8DUQz5EIfy9GY/Ko3r12EIhnKjtjOjg7iTWyhMbyB68toxonAY40fvkfb7Tud2t\n",
              "cJrzKOE/Kt51+Cq4Dgq6sQwTLPeoLv83Y3zL3MKT4daW59a7QaJzVlgVBF4rGXtbqsiS1W3PZaFB\n",
              "8wIEUIHLCHDt5obNjNCCvB/liOOqYMX06r6ApUKYESCq91PiBc0O0d8aZsuyNJvFafB5x/Ipycd/\n",
              "1LWooJot8QbKXfQ1jmZkShbpqytS12Hh4Lx9VceEy2OBEglfKrBlhryksWEZ4GjQ45uE2NeWBbtd\n",
              "0f+gf/NtH5HCNkhPIhWXzPHL5d+sPa8SAwkwAAW1AAABFkGe60UVLC//AAADADIznsfyACZ5ODvd\n",
              "2TfwKTPH3Lw9m816xf8V9J8X4U4DsTNHaKVGbdmdRGr7aIvTVW6di3qn7ESHMZT8f/bIhJ0LOY9G\n",
              "+GZJkkCVXxrau2WchM7CvEVfKkoVc0RYMO3wHJRT/f4706nH8Iql9TTIgT02rfm0i4fGP30iZdBU\n",
              "taBJdeOFj34AjpaUlM4toaKF9wjlWPRUnJwTcHmiXgGuu5M/AQoKIls8OI8XDfssipK4Nh2OGWnL\n",
              "/88RvJ530ulzvBZBUI2wlvbY2/UhBP8EP2a8qHiPp8lPSj0hq9MYqpxlqGZhQ4KYtTFC53FwAAAE\n",
              "IAgmv38AA9V50D/TnpxApnT47BSW/1YAAAl5AAAAzgGfCnRCvwAAAwBCbQXSvjCsAEPymDURP7Dy\n",
              "dWrV+nndx/v/is7X8t4ITPjAkvn+ABOgm7vHi37oFZrF5uSTTQqHRgTPShMywGSGuspb55lCdo83\n",
              "KVGdX1DVX0ivs1Jw9RQJ4qHczRFzebKZdV46Z5RcZm//bN/8YfK8T4FnftFjwNNbZOM0vIw8KthA\n",
              "rqKRLfe7oHmgH0baM7O01w3+I8iIRSckBVXm6HJFeGwWjloLyxhsRFmRONLdfqpkfHOBc1aMzsX+\n",
              "LnfFJTQAAATtAAAAmAGfDGpCvwAAAwBDF3vZ5oADYTOnkWBz9kf/eYIZLB5KUNLPWe1OvSPJg6vh\n",
              "ll5H1304TkKtHRwW8dJ9/C3f+lVRSDCHEiViUJ8Ftoe9+lD/P9ranyMjp8Njdem/4smb6L5F5vEk\n",
              "B+hUiUrWFaLWRM547z64WkEcmx+dJK4MYHT6M7EKZGh1nCSQAqzmiTHi/gzRRLiAAAFJAAAB0kGb\n",
              "EUmoQWyZTAh3//6plgAAAwAqiwgRtABB8PaDUSY+QZ/fRxm1HHxxR9nDFN46KooPFshyDHi432Fm\n",
              "bcXAainMFFIeeBzF7xyYqdv9IZmsjACQgUOBHsoV8CjUCE5LZyEQ4LlqbJfVh0jz0a6aIvB4z+4F\n",
              "OAYngxuFkNSULdMS5+Y9bCJNacjQG/8GcNhtbCvSJUsF06iCznlzaMC4GPb8QOngEIJ6PLR6XrFz\n",
              "Jkf+4NhZkmIBmcRoPaIbSI06jtAWeftxF02sNta4dqGSH6Bu43cbrQmqHnT11bPTQkWQKAkgoGHj\n",
              "+VzUdvh17ua1wOKZOaR/mQcWZFr3gmRMxuzg14x0W4ExahjLJmFlb9p929VblFmsAOJK2vhg95/g\n",
              "RUtHSDcupkJetZzl+lsYqQsH6tJzYq8+L4fGzFz7JlxhZ54FpxlZ19u5lNarh+C8e8R3DpfmcAoX\n",
              "i7UNwX7JlQaeKn/7xvk4/FnE0AIDZKTS/ku7Z1ZRJO/ZUW/09fzZ+QaZBR25SfQXbU8JBtaarBPT\n",
              "GXgguC3G6FR/6eRi1KidT/toI6C9Ds0Ue6o86A1v0mqasIj7eOYi8kiSt1i/h5J2uEDnV1cDxLbJ\n",
              "Gn0ZQAAAfMAAAADxQZ8vRRUsL/8AAAMAMZ8JdTgA4fSxsByMdZzN0r62kmh+47wuhzGxAgzRR7qH\n",
              "7Pi+03sL0wcDQdZxyRD5gZoKO+ABUNGjW+y1gNMKr/2m+zpS5PqnqUtdDF54PydsZQ4ztH86wYon\n",
              "yp7yIv+zq0Y29+00gRD0IKTYxkZXWWDL/0TChcPyqIOl3iRGe+iiCam3JEtRGkJzagKFPTlKLWjf\n",
              "FgtxjzV1uqnVgFAsXOQmtyX9jaUhtEsUNHmYhgg9AaVZBA6zg0UvOkex6TGsm7GezL3CJLeeIUC4\n",
              "REIi72sAAJRmQSguUL6+VQaK3clQAABcQAAAAJsBn050Qr8AAAMAQ0sMkQAgHPgeqRgN4A1GQfsF\n",
              "HUiWN30+8yEcrf5q0RMzrP46vp4uFZScaYofT7BDSf7Qn03VF62QOGry2kd9DhUU4Nx+U4RICAbi\n",
              "xsoL+ex6atcPgRMNnSicpdw33nevFHm+YtmjBw74/366lP9Yp+iZln/T8MduQQlTXoSH/kAv1d4h\n",
              "+uHXHldPp/MoAAAJuQAAAJsBn1BqQr8AAAMAQ3bmIAQfmliPjG3MhQEgxNEpSdKJwVnKAbOVEv2M\n",
              "XFQzTMvTkAOQXcI1g3uCwbBcKAYN4FvFf4lph17W/hq7jseCgal7p6I9WKtRy5MMduAStjgzjrVs\n",
              "Tbn+O13Dup/QfkjH5HFZ18lRPj8jPHqduA3R9QleAYd6TV2W7q2n3rWWElxNMsvcYUow2PrKwAAC\n",
              "tgAAAZdBm1VJqEFsmUwId//+qZYAAAMAK403JQBdOv6VWWuAqxZxUQXWKDynPxrlqUMxuDsp5RD0\n",
              "2nhVoquMaqdQtKzYADV6SP2zn8MZ+KqEqOUdWp5l/RMmQ8VL5/FBk7q8M8in9pXk80g9CnpzEXSR\n",
              "ISDT2WetqBQom0gDdCNAxNr1hPmPO5MTHN0H6IRb+b0mCNKeODCNgsm93VRbBmRM4q6x13HD3AEA\n",
              "DdThIE4uVTO1TQ8DdHrFNUFltiv1pPimfm/U0GAFqTbcz+qoNAbvDDNNx3p6Skif9i0ufKC5lM1x\n",
              "ve4fZr2DLYsu/hjEQbGDepQRGY3pwx59zI7JD9QIkAN+ODLcm1uRys8fbzcIZa0X9xQ2P/ivht+I\n",
              "5slg6xqXXKIPG8tr5NVkdpxCiUvcLTQ7cJpsit8LuLCvbh8mneNN4rlS2K92jVClbAVpWF6OnFaT\n",
              "C/AglzPe5rQ9EUoFlCSXzsM5/+7+ptGytd5KAyXqeOMqWpXKhTcL6M2Jk+sFsILVsm/ow8WcPoMO\n",
              "U4f5BxknUHGgAAAtoAAAARNBn3NFFSwv/wAAAwAzilvKVTQAmgZTedOqvq+ezsrIZsjDXFCTcYEU\n",
              "1dQ0/9V/UpzDR+dUNwIO+vVOobTnUIZp6pdbnXLMHDry3ZNed3000vvpVIMoh9fPmFKfb5GSdWWL\n",
              "VvsYiBvk+C+cjSPd8K7gyxyMVfrzd0RdW/noF938tFU9zrZqTGIDB12dY9PBHFtIwCsAv+JStKcf\n",
              "ZWYILrtdrZdk0YA6lqDxIEzc3VLiKpPLrAGsF2j/+L3lgoL7Oqzrt3KY03SKi5RBw78l7eGGEWqR\n",
              "+S4b5mHMbz/wRQxN11ue1uIGtNh7FDjae1ha/LhZSOVKe6i06qb09Pwj+Cgvts32bB3q+E64EViG\n",
              "gy4YAAAI+QAAAKcBn5J0Qr8AAAMAQ14QIAQp5WB+b7P6mNAYcWevkFcfZGG/qP3SVKgElG3nD26i\n",
              "ko+rg1GSZInppReEuoZEmeV4Ssuem7N7s4SlIqdkVeo8PGPKJtT4GFnOma9XHUHtHljGGcBi0RcO\n",
              "ixxCb5nY6IUUbmz1gL5TU3iQTzwyCdLapS8B2KMOcYgfalLAv4vVOb/mYjPnFgnW2cY/Kdy79llJ\n",
              "VI2QAAAQ8QAAAJUBn5RqQr8AAAMARWPJQZQQAIXGQCbFxG6EdEqmRaGQg9G7z0h8/gPBSXKUE72s\n",
              "J5Kme2/x9ozz60ZdkPcvdg26l6qiUqdT+5xmbJzb63Oo1lZquCo2df84WnS5YTOFGWXF3O4YvqDH\n",
              "R1WDOl/cCR7TFJbYX+kGVNJDkUA9/vm4cDgICTLX9RK3QHGh6j4y5/jcAAAETQAAAXpBm5lJqEFs\n",
              "mUwId//+qZYAAAMAKnYo4vgAaukFMWkZLxMT8RdnpRiDRZVHWfiiaHQZEOurURjNcafPiRF444YI\n",
              "gBv5hokg9ZLekipug9ARuyJ/JhTc1uJx9nLiCZdtQZQdJ8avxSwcdLkK+qY78xmYcMZNYRPugX26\n",
              "bSJ/J54/BmOQ6P8XPf/TlHOmpOsfUR5Xjkwol/erbNPKVyit+BgYfs9TUBx+msWGBSYUexowPc3Y\n",
              "Fd1j/syhg5WgUAUnIgIrvaz1qKJRg99/rPYOJvDk8EkBXGwKd+66kyELJX/rN5UT2A4XLyJcwodm\n",
              "xl8XZWAPsgvcM/4BxIHqEZFy1DBGPYcw6zKReEADW4Mc4r8Nw4LtkAICEA64u+ID5IELPwajBNGw\n",
              "E4w/ZeWFGE6HUGR1TyvR/tqXP7xaKJPLIDl9m/GhLHI9iis9ihYJGmhVPFwxhRbfjGYabgDPF3Ze\n",
              "DeAvhKKfkZGeTPxW0amRnI7aUiZjj/YAAAMAAW0AAAD7QZ+3RRUsL/8AAAMAMZ8dv+QasAJl3hzD\n",
              "qwU/Mb5D2DJ+cvLB8Ax5PWLS7i7GfDslcy3dVkM5EDXrRS6fvDqJmnW0H7pPG6Aj3/lWHyO2UG7a\n",
              "+Tyzp1lwRgqPMSsVW/TNzR81m0Bl8BlvqL/0bRdHTQxVon4SvhYSXv+ftsBUXeMipEW2ggiqqhHY\n",
              "PBfotk6MWdPD9Vnby0augB7WRP6iWf25FAyx2NMOMDsNZzSGzUBF/T5s6HdGhhbc5CTob4SJDKJP\n",
              "xDuYkfcbhCqzp6uyjBaToHCEyh8dnEuRevXaS993GP0fJjz0338BI3HmzvU6YEoF5flLgAAABSQA\n",
              "AACMAZ/WdEK/AAADAEMekPNsQAgsZHcdohm+/J4oZs2dsZfwIN4/oD2vWyX+qyoQQ2WB1fv2BN0r\n",
              "tjHpcmith956iM76cziO6UZ45RvNYYCTUGilYFbbfHM7OYglH/qNEszQs/vbsQc89egtGkZPYsvW\n",
              "Ck4BifD0uLHWeNRah5Es6hyBk3aC/3gAAAMAdMEAAABqAZ/YakK/AAADAEMXbNr2IAQmvehNPlY/\n",
              "j1KgEvtQLy7uJPtflcptoiPEevsTH7lAUPhg8M3dJW6KVsihcxxlY4tE2k9/7Z4BqRHTXGV65uTp\n",
              "r1UT9sLtjrU4UQWlRjApXqcyI3YHgAAIuAAAAaxBm9tJqEFsmUwUTDv//qmWAAADACpcyKABoib5\n",
              "7Qi+RbIkvyhRl8pJz94e8ffX+E1c5CW0NVdoFfxOB+0wD9qQ/IvIUgFoC8cM7ymtobeuvw0ZiBlQ\n",
              "6ESkhRxC/8Az1EhsCiQhw44d3p5HXKKaxc5uczgU6stg6xrjs1HY4OASqbY4tP1Q5ZWMZyIwwh2Y\n",
              "If+LO6ILAE4HE6VbjIVhifZHxJ1Gr9D3coBO9OkFSE3TZhEwxdeS/DfVlFQCEFsn6SbBuUbd0s4+\n",
              "+2vcf82r8gbl4MjNN188xgA81gPbUwEHH0e21KKXsEfJASXks9yDODK+oWEscbkg3QULZhjJg8Bq\n",
              "2JqOvUh+tPPFT2/cWFjcZsuFfDKkzCQGwIFmHo0S/yJwGEEQZGDBLnJo2xkIsIQDZo9oeIxih+wf\n",
              "Cn/kaCppGunz7MR+SQUPgWitMpVtgQtL/Nl+4aksyzdA5xoaWX6b+8GH1z2WV1cYY5I6i2u6yKx9\n",
              "HrIn0Vb5qodJG/DX5msHSlMjK8/9Lfg7T3fxWDhYZiuv554IaULz5CLC1eQ1gR3YNPUmXQAAAwBh\n",
              "QAAAAMwBn/pqQr8AAAMAQ54iAEy5pwwPuS8A9Wjct6nikXMSBGK29FjfBgn6iC4XIUnvSVx5Qgrr\n",
              "1DPpAbJmm6YTB8gbB+MpTT8sG5nF4u8ncOKQPtWw/v8yGteHPkUiOWq/RbtmIAhTqaQWN6zdJGxz\n",
              "jom2bEw1x4O/GXk5V68cSVaqlPnuQBQlNxq9QOc4izaqS4akNaUdstvwO1N6V8hE14Rn24N2fSDT\n",
              "/dgeOLnK6sgIwTLcMnuL6tAIDyEcH47iIqw+Y7y6i1d6NAAAB00AAAE7QZv/SeEKUmUwId/+qZYA\n",
              "AAMAKpwt9fN1sGgA2UKR+6TrYOMgwohNcSIE2Wy5ZWbbj7jkmLhQ/tqFDhD4Uu8eP56rnhmUgCR0\n",
              "bkgJZESLti5PSFC82yEQA5/9Un+Cbhqb8KKmKYpyXMheVXIL7jqb26d15Kaoe91+xYIEjAbfbCo0\n",
              "iJpzpl3NTFmfsTPAjivczNU3/oz/Owqo5KBCSsseF3WlVxtBx8vLlA3jIhvnUeBmjf7XAnv5h/YA\n",
              "oWwhqdXfZuoFDgYfii9fpuIJNaKltYH1iSXgevcKqLuxkQVJBCthEL/feudQwTLmp9v/4rVmCVaD\n",
              "86txPcAKcD2rg0H/m2btW9/t/evzapCaHH2BgiUrDjfz0VNe4GcuvWiAoVSTU4JFRcSZWOA6WHSi\n",
              "ulMuxI9yZSRyDsgAAAi4AAABCkGeHUU0TC//AAADADJQWvIAIflMWV8HqpthF8VIZNHVC4F55b1n\n",
              "GLL1+e7kroQ9uiPfG4sKviQbAlqQsFsrYhYM+B9S7TWEHTnxVhZYkahoXDn17b4QZwwDD29znOVn\n",
              "9cA3WgZgn0hwr5IUNFKDUjA/nuJiTh1PLdKk/64/DhaaijvzNJqTIdf1wJhYIler2qOeApdhw0+e\n",
              "wj+MZmzSXLvnXLeG3zs8ZiSzYNIJnN41ORfRD4xlDnNbHVr/4zhPRe8KvWq13WpG7ex2ojtjw9Qe\n",
              "MJ3OntsgHzOZwx0wkR/7kSxohF/4ZwnBkZWIhXELrK9iwLZpltDD3riRMSdLVwdpHcxgAAADAD0h\n",
              "AAAAqwGePHRCvwAAAwBCexEsAE3F2gCChPVI0M3sWW8cuF3zAxVU8l/3sdabQhFPODSUPwzXkpSl\n",
              "Ui7DooLiYEuxHmZ8x9S4BanUGarndTeIL5umUBIfQLpImUeOxcupMC5IOVOWN2W4YJaxiHxGTCcl\n",
              "iJYvyABe5+NKe5ctCtxrcJb4AZZsw7DUrcCJnLc7wnnBUNvI8gpLXFUldxMhoBDWTLQKBHL/I5/w\n",
              "AAAJ2QAAAJMBnj5qQr8AAAMAQoTxdgAh93qvjbHuZ/mLhV/ugPlgqdo56C0uiEaoiGFqtJPtQ+fb\n",
              "+yG9XrVIv2LjGXAw1owerXnJ0ml16hGrNk8CobyhNRpvtyDxMO2Pf+iy0diOuUfuhljNmK//tE74\n",
              "eG9kz3ITs+9BUe2CxRqcoHKYFGCgFIMW72SwT5ykCVLOJq4QAAADAl4AAAIfQZojSahBaJlMCHf/\n",
              "/qmWAAADACpfzsGADCK7cwcCX0DaGkLK4979Vvu4E9vFmihb1qUZOjgFxoqhlVJfyXZOiAF41Q0+\n",
              "kLljkm1FO+8+owdSmW1jxmewH0lmSjcqAErgrkOMK9vMIIbe++JoL7fQtHA7zycHfSFBCnODs9L4\n",
              "uW/USiWqIgdIuYh9lPFNdpfyhMv/V2a4DjJhDZk/1PriuRWuneaQRgD2OZNnwEec/QjyWXj5Hy4G\n",
              "ph4zbhhl6iY6kW5o7QWT97OmzmHQjnv2TVOjhF9WwIIeR8ARQEBhUHs6tbh0CJiBCSk5IC/7zOz7\n",
              "CaAbZFv0iZHI/i9nfjt05FcNS8FXUrgp+GIEQXD07iaPgdTzqDKnncI2eotrjxH6oG7vwHANk9uK\n",
              "+kas5zHdFmvV2GZw/UsF+1XTSBshBmZLAufURRwwiVoPaC2vgBoI4BTFknU6btssF5Gx15s4CXDp\n",
              "sO0XoFLyCFkh1gbwXO5z2antfB3L5JDzN0zmVe/qBH1czJb09PmB6xh1K1NgazhGqdLzpJ3wlqcJ\n",
              "DTh63Qk/NFSgRWJx9+wtDiiDPlWswPDtxR7acy0geI8hSjplbjeyxWBbaW4hBhqPX1ht9Li16GX4\n",
              "xnD+Y5WyaBMzg6bDGWjBpxKR4ezi8t0K1n3/8tBN/7rSpSuz4rQ0I2LmOxr55dScUyKtwzGH7iej\n",
              "5myA979ARRReg8WtQGAAAA+ZAAAA5EGeQUURLC//AAADADIDZDj2uADmhTxQ5nkK2Giv4r8u7GkT\n",
              "qqQ9WYYayNQLCdEHfxG3e1HQ9RMOSLZE47jI3iBslIdaGnOWRI6q/7gvpoUbiQfafRG326OQwQc/\n",
              "fzEA+fiKTXe+wPNHhI14eKDSIdQUpa25eRba/0kTTt5umZV3VeDEGll91G/sfGC8Op4fMHHfuTle\n",
              "jmo541/LOYN4aY0EGyS6ZvetmP82mtXws4PvNFPey2HmMXLYoTAAKLHA8sXscYfGG6zGwAT9YGrX\n",
              "gnQDAhkjeSkR19XHeBqr0F44AAALuAAAAI0BnmB0Qr8AAAMAQzc+hEAITkUwY91+qYXNV+rszmj1\n",
              "4HyY8gCxUKVdnnNmvz9VzAd19aCfqlRWAZrErRSySnPwV7bIX5NbTCZQ6zJ+u/EOGHF1ntzC3DbY\n",
              "h1i37hU8RASJeS1H0/pN1V/EYtGjRC/eOCTgQorlWwZ+mjKKh+Mf+ZGiE6QyOO/XBAAADukAAADU\n",
              "AZ5iakK/AAADAEN25iAEH5plhjTatkpI7vgAHhMQbifZknDu3ivs5a492D7WlxN6mlC5m/UpBjF4\n",
              "2NZoccN+ntD8+ZsQ320pHGfmMvvO5AfVstt4FSSaYoCRcSBBB3OmeGqJyssVxqCoaubimfapYhnF\n",
              "UTJpdpX+9JazmFjcShmkbxnigNY5IOwtBC+u1ICpif5Lcf0r1KHD128ejKzvn7kG9ORv8kwtEDvM\n",
              "F82kDMOgV5LopgG6IauzZMHmOmpHP2VcWOqMUOhb2KxThMBaAAADAbMAAAFjQZpnSahBbJlMCHf/\n",
              "/qmWAAADACpa/JGADHPoz10yMLYGXODG57hGODcCCJMcP7sR24VIXp1VsMKZtXacBOKVHxdzhhSf\n",
              "a+nCpW5oUKfSHbZbG7vkivw3rIOrEqxRfoe6mIQodKZeMI3nGktwT/xLBnPiVAzSP3phYzykpnJ8\n",
              "aRPl34DhPrJvQ1d/b1ZjcPd6IZqpWe/uDFnfSzEalUSPGkr7m34jTQn/BT4Ybbcc9f3cAKKGoIht\n",
              "mml4XCFKUExa5jPBq8bl+uFTBBrYY5VdnrCvgrsz3fermATXlo6LV2EWhwj/aKqxeAsUdbGjYQg5\n",
              "aNPpIErw0Rv+Lls4b4Ug/K1zuKjgSB4VihwJscvM6ubJR4d3LN7ZzhvOlPj4c0duQ7+2CKSYluch\n",
              "z9jxcsq7mZGtxG9y4JSuomFhIs7bmjS/PhtIO6b1XGSztjgIXoMyZoJMKKlGab2tG3oZE2gAAAMC\n",
              "FgAAAPdBnoVFFSwv/wAAAwAyUNcI2AEtwgP9HWTev9tyNRIf1Qq4cH++0Jg7PCV8899Bo+4LXmSk\n",
              "hCHtQ5ucW9mxsmMay57qhwpXu+MZ8p6Sqhpd7Ku8jXoFLtrffCk4tc+V+8e8b6RrHHvxNhNDn+4F\n",
              "Ldd9nr/iLJMsHrPMeWEFlIPr97C/xHtv/p8wjCSrcksv+hwnADwcqY2bqJXLMgNyrHfw/boc0fGq\n",
              "eF3gBH+OJRtGTnChFmYhSGqqAkeqk7ozGuuVQWtfxfw4M0A452vG6GiPi2MkrReaWUJYXq8qNrwe\n",
              "kZB5bcy82CSiLwWYencghzF9YAAAAwNWAAAAoQGepHRCvwAAAwBDPmIzYAIb2tjPSNO0NW1k6atx\n",
              "YYYhysOGMdDC65gmJUqEyhplZQV+D2wOJd8bZagAierkFkhdvLNXMTDzA8A4OmQ/57oYUnxEwy8L\n",
              "/1ynd1OLpFc9Rf1Z9HusptBp4EJg9CwZeVGFmsG3Kki1APLLBXiWY/C9ofvrhsaRJzTNyEDLJFqY\n",
              "LjrFpOaGEiR3QYjxAAADAEXBAAAAoQGepmpCvwAAAwBC/UqkiAEGGJf8VRsPjI1VpLhjh69Fl88G\n",
              "AAZ6GuTW6fHo9WsUvPVYARIQ5v7K1A542+anVe0S1tyo6OZBkoDPmKaKrpi/cd8jnxJvqkFPpNAU\n",
              "LLPw/m76fIBKwKQ8tYHpi3f+9ddDITurbNh7F8hdGJHm2FEqQrnZtjySp3T7y/eWMPDNN2rLTjUv\n",
              "5rFZioCdR0PAABMwAAACAUGaq0moQWyZTAh3//6plgAAAwAqiwh44wALfye2a2tCjqYksePrCPx2\n",
              "vRCZc0pMI2OOoWq+P2LtcgD0xBo4MfIQhOh04ExlpdgTM2HkAaiU1NS7M/AX84R4Xedmi/sXk1X2\n",
              "XHRNwzeAtpG3cm7ws5VqE1zZ0wxDOcWghjvyAlDVwCVPbnCiIokJR029PiG3AZFuK+NQlE/SwaEM\n",
              "0fJGvaj3wwuTTpZUMEO+mQbuYtDw0oydG1fiEys3i46YRL+F/9RHEKlbd4KyIa13hR7a4IAIJOh1\n",
              "Gt07qlCH7XqE8datQzvgbdcHI9C1U08erj0F/Yz62A5CcRBOAx9JbUvZmMhmgnkjfdjwxfNQs/C1\n",
              "ELdhZwzIgJozzLoYX4XD34RZBoi8zL8Ml7nxZbIadGZ9D7Dd02wtKLt2OVCJtVsGzwvKMNVNemAA\n",
              "QZ8UO5XL2GkBk0xV+VncxRHJkGEMmaDvfXa8aeB45b/Xy7EAslle1CtciYYGymypV7PFcjZphDXU\n",
              "hVCjpTZL3rB/Caf7XTekJMp9YyAMVhErSN7ve2iHQF8NxnQzE6q/4wJxscsDTVhL3JA+dLSJzNwz\n",
              "gX4CcsldtvOcgqkN4zcs/bxEAbYFhwZzx9ps3R9knFwd5FpNEhI1L0F1r+mS1AHlqtF0Gd0XxSpX\n",
              "v1NqNzsrGZyShZAAAAMCkwAAAOZBnslFFSwv/wAAAwAyOYJ/sAE6v98BTkMymCJSEF1CiI7+FEmk\n",
              "8TkwhjbYX+nkAxpp0tD7SDcCEewCUhwy+ZH+eWfz2B+Oyc/UTVZ2khhVAfi077WA7N9xvaD3Ig5h\n",
              "ZSq2CbzQANd+9kvwREjOM63d2eLTINEFKSlbzRJZtJt99R5Il5dufwCvVj/szq3r2q7xQSjliurf\n",
              "uV3kEpct5a8G3Kf/+ASr/Kd2hLGUeUDVPOkZbx3Xuc97o90PgdN9jJ5vFWubIJhpGX7cFF6DOidu\n",
              "UcTwhuWGeAyey6XUoBEU8JnIAAAKmAAAAIcBnuh0Qr8AAAMAQxn3F1MAEIzyXf8A83+DQkYHo1+i\n",
              "WuautBWkAS1twSAp1XAxUgMt53/xUytLhhLO90bF5B0hJOqketileaUdk+YpgVk1jPLS+ZKgsxpG\n",
              "BTRyh0gKNT7HvKITeX5pjgwZQa8gwjq3WooT8Br1Bf9PJj5904AIZMZVWYAAAdMAAACnAZ7qakK/\n",
              "AAADAEN25iAEH5pjlS2eYA9uUVK/iSjRfAsHErNZjBsBebpXr8+FPKO89K4MkX5AlkrxXBKSkzyT\n",
              "JjvG3yEv6nt2Rn6p/e2C5f702Q5IcPtcUhbtpK5TnqaSfFxVr9Ba1Q15dLdBB7dpJSG0BicayVeP\n",
              "XegVQz2HmVD9ABUN6QSxZdjteFglXVm0L04IgwiuQTs9SxRPZE0XeS9/zAAABhUAAAJkQZrvSahB\n",
              "bJlMCHf//qmWAAADACu8Le9PTDYNAFu7PKZNz6xpmUs/L3IhFdBvy/o6/Y+eILt8aRf1MIYc/1Ps\n",
              "Sgi8Ntk2Uny2ITeo0BPo4iwq5/dUTJC2BOBc1jwZl45n5L8gqZWgDH6jazR8317JxHoO9Qk/EsvQ\n",
              "dl9q1xz8kasTRtuL9wADUUdoRs/GRfjjhOeqbCTyau2o4NFnemna++J6zrKL1WPokTx2bxn5EF5D\n",
              "Eaaw61k8a9wQnKXdGpf2PFDF8lqxlouPAYE5A3k5TcPC0neWK6UzR0nrf0wdWtSOm2v2CrSJKuh7\n",
              "iu69PL1ZIXV0bxPiGWhByDU4LWf4ikzR67fzr5RbLWXr6oFm15BBzeCIumaUIdYK2tS9ZI9W8JL1\n",
              "Rhg5Wqq3aJuluUnyZGiAzFNaLlzobsJbLOAXdDcookTPyoSwoYsJd+O0NZaNEjVQDLgQxN2XOxJX\n",
              "H5XTwXxSkzBFKz32+NVwmicrJ9JCjVXh0WxDuXBi/8sWvQwffnITwvMSzYrYaA9NKObbtDnhnQWE\n",
              "IAjChehDr51LBPywLWWixfg+SQoAmnTs55lUyqJzDyC60lAh6Sgz2dl5vw403XnNKlX4J9/vgOm9\n",
              "5vMKmIMoODndtyCJcKmuE9jrO9oQ8dmfmKdJ48ygsrJCD5oWPnqoSAKxSzzTS7swVEVPLzJvrtaC\n",
              "Ahf2ev1ifWgezTfGQk0ofJ+A4UotFtHS6j4Ub3r/73mXa+UwneuZHxNew5R68Tl+Sisf9cnhhFff\n",
              "4eCX6YwC0wXPEeu5O94i/zJltMjkZp32yu9nn6scAAADAEfBAAAAwkGfDUUVLC//AAADADOKUk/3\n",
              "dABe34ieLoMBM22EHTpkoK3/01CzUYGrQFhRHy4VIJs7fW/CbDncqcQJzhqSKQ0F7kdoU+PV1gM3\n",
              "VshKRlEq6bfUyBJmeosoTeTnK+UbQ/ObnHfwdP4A3ixm+SiwFFOLzGwyBHa/oz1qfJNx+6eWQzOV\n",
              "//Cj8LztGgMzQnYpJZhjOz4EBEatLV65pLc8VnAMYjDe3+UK5B1nuJcPahOdyeyAQCJSo7rLPZ5g\n",
              "UAAAAwG9AAAAnAGfLHRCvwAAAwBDfe8ABsX+OMprLw+6Vd7ECbQpWVp4IEoYxV4McakF1YqONcXw\n",
              "IVh7lkJxRYI/IX2WmKGarzmjzJfpSUiLJzxeEiT+x4BTR9jnJ7ywn3WgNIGADcbgzEcwfOkagkrq\n",
              "HcbYPBZH4jauJLvBv0u2XNiOVw1yyU68jOhyh75I66j23MMSm811buNpNgBdUhWgAABQwAAAAKkB\n",
              "ny5qQr8AAAMARWNYdiQAIeh7iYexqxGkPqpB6zawggoQ9hqWaUs+GGujpKVd7xSJmheNbE1MBOvE\n",
              "INsydnLLza5ruz/OSJjwjoc9vr7sQYJzxVsInTH45DXdu3Ssiy7J3T8a12hLg6smt8I9X6n/oO3/\n",
              "XzYbFo9lI0HXmVVpoZI6/0NKDuQzq/b116zHcHb5/0TleHatQhtejaM7zHzN18EuAAADAAXsAAAB\n",
              "d0GbM0moQWyZTAh3//6plgAAAwArfIWgBXEgo5cipTxVOM95Lvwik2EkYaGqjQXOEq5nMBY6rERG\n",
              "/PYMSMnZ9UJtKT6cVwnE4rqnbku/IgqczdgdNFAlBZaKN0RLbukMOjLdfOKUxBJZ2zA7yajStE28\n",
              "+BjvlAXvBsz6+Ei2P97D0uIn5CRs8uhXdhJfIper1g5zIJbsmS/vBZj5DeOJqxwpwNGDNS0IwGP8\n",
              "jldWbWqTSxXnwOWG6NVhNhz6/3/d9G2GX9gt1Ftje5GZXR2xWsaXY+RmJRUskO6HXJdU7wyF9jcd\n",
              "4/jV/8Rvg5FqIqKxzmYM//0SGX8l++Rkng//JOwCKeY6+CaIs3y9GcG/vQ6pYIYVKDgV1h5rH6BQ\n",
              "jmXOJLWiw92UBJrP2hN5JzQTJX/RPRzl+CHubsG+TM9xuBwaE9dlT+IPf9E/IrDWvlC7+8qkE6qs\n",
              "Nn/b3yBs19E/6X/RNTHkcVlSoOASNdrYt1yNcoFEAAAHHQAAARtBn1FFFSwv/wAAAwAzgToL9qgg\n",
              "l4AALVzMIGu8UJc6PKU3nSSdGNNTsn1LbG9wViHCdFvymmBLUUY4rbW6FLHt18kJJiETFSx/f38O\n",
              "SZoiYIDgWGKQ7E0JXEYDryEmMy/czKrMvVmfIDWDi3AMKyDOJ0c/NmUKm8e+WTYMf76QRt3GQqqu\n",
              "g6mWgCu7FnkN9HPNrIo/385UAv8gnecgft5W2nEKPjCyThJ7ejSul1axWKlyysCb64uvyjP+jQIj\n",
              "0JtswgrGNfn2wIoB8Ic+GWeDfDaLW+RBMV4BGe+k1jaZ9quIdZqJzCtHFIa0dmDmWrIh55FWJfmS\n",
              "Qs8NlasXl+5MW4tjlyBEQ17sozN1pTYjko4B+u7O1pAAAK2AAAAAnQGfcHRCvwAAAwBC/VQpglNg\n",
              "Ahg5R8kP0u3/Ney1x6seVjCLEB6IFst2Xn/Uzdf1aBTxr8kj1DTiN165TQ/S8X4RMzK4lgnrnI2F\n",
              "Ci75XuxUtjTuSci3FvRJYmiFQkzEaHXhJ6GaMYqFCd9IBv+7+atgxAGuBnUnJq8ljmCrOPUzVdTU\n",
              "T9Srcd4TmdhunLyKo2yHg26vC5QAAAMAz4AAAAC+AZ9yakK/AAADAEJsymwBVKYAIbzycMBP9LLU\n",
              "FclPRjrdDPYLm8dOyJAbyMy/cmVNSaLijjcX42dErBEFbuKVlo/kq6jaleUL9FsFmhSEISNB3NSz\n",
              "HsNcOgHPuBma1h2HbDhcsLZU2FbLU0xVjtjHaDeeGxKpsMqvTKDdhxEe4g65JlFEVee1y3louS7y\n",
              "zBYIAFDwFr0GU2HFdd4xB/+7zEuyPh2ZhSBDYeMA7UUT4fNZ+I99XHq5oHrjQAAHrQAAAaVBm3dJ\n",
              "qEFsmUwId//+qZYAAAMAKmiqT4AF0p8iCqkc8FBODAgcox+MieTZ5RgTFjr61jyv7gsmorGns0++\n",
              "knEVDGaNP5+QDYzeOAJG/1YI+TXdqtuX6nbp+OUynMhsifF8o8LUSsqNgUYYx8mjH5LuS/xhjCEx\n",
              "b5Z8ofvzwh2sc8r5dbN2tlXhboGJIdUAoGa7mJtWhFRcDL0JX4/7xb39gfihie7ay3FPP1ZdPI5k\n",
              "b7W4n7TFlpXdUMbfLluG9Mj2mpEOAaKgG0IRqFJvYozmCqw96xyzPjxLvUk73ylQqenoIJUWoD3L\n",
              "jq8SDPb/h8fuT2jtZfP4D/shQx5xiHvCf8ZtB/iVM0CSSE/UEgEjo95gFsB2516EwX3dKooWbG1g\n",
              "1r3hk2QXx1O1msWqaY4qntgVaHlCElD2jOBDk9INj+gCaDs0hqASKOT+xNe5x3FyAbwUOKPEz+AX\n",
              "4YZ3VzU7lm1qRy8ooVgtRl02vVSsJ74B8v9dmsML+KWniupfDH/JBW1zFppAsf3HMR5ixKQrWr4t\n",
              "VLQ1iYIvo88zJH3lNyTAAAGVAAAA0EGflUUVLC//AAADADGkn1xgAhdQmVWO4a25o3yr1Gwn+++K\n",
              "r/4tRK41LgWwFgabO5ARx/s5yVuPwnX+jEa+LOrvbmlBUUdEJ6qjLSk8H4kA9vR9e2dGtGFUD5U/\n",
              "fvgIbOlFC8Xw44xSjrmEX0FVa7H5Nb57jkiwegh714g8q7iG8Hh5PjMdheCtb6lzoi0q07NStzsw\n",
              "5na98TVHiRh5j+Lk4EjipAd00JtXbpBMh5OET6PoEf0dI3Z87hXAKt9NsC+J3E2Ai/8JVsqN8IAA\n",
              "BTUAAACKAZ+0dEK/AAADAEM0tAmACIPOCFHY0DN0XuqnzEiRlVmNDTaPNP4oHWUBiTG1riI904aF\n",
              "VK7lC7pYUu7sFwkFwmWw259SzZGaYvSYUTKRjrzzfcbMGJKC3Lz9GYbuoFkYgHU9s+16ai/M0zEC\n",
              "IgfxDYZt0ZNh882u9POayQJNWHWXfRENvVAAAMqAAAAAlwGftmpCvwAAAwBChdt2ACdIdbuUl9jM\n",
              "sCYGxP+S6E+baBrqRkiEwaa5iX1w2BjZStqneqP7uDqhHqrw0ffgFaR7kahIhCVdyiTyq156h4NR\n",
              "oveuzvtQkVPUxKeYUnYOEnyzigeW/0kKXhis/BNG0l9WIm7aGEWVwHrb/SCypJ0JW12JpLALOWyV\n",
              "0Fd2ZxZ+4TrDaAAAB3QAAAHNQZu7SahBbJlMCHf//qmWAAADACpYWCoAH/0xUVjC9tn4AZTNbh0m\n",
              "IkeZXbjtPugOfezxCz77Z5r9lDO9RMq//CQMvu2CXMGLEIfWJDWgTMuhfny1KUzo7NRUKfDzXNmT\n",
              "huHy6Hivhs8aOCElvv/Zx1Pe0d2uOdO0DNqRK0/nTi0AiIE/8EM7ALkVyBzVynkKADT1VOzw1fd3\n",
              "5/lwoTeQK4rl5BUDJoEyd6vrfapF5YuwAs/TmkH9PG0jHWpvYYQTX/aALAQ9/ozqHDsYryveOp3x\n",
              "+xiV4fO3Qm9TzeOKbm2f4EM2haULNvWFWgO+7lYv80bggwOV7KfrPgbCt2cFLHX5v/7Row++jf9z\n",
              "6RQi/qj1DbPrBL+iQJAMdpC0MDF5EeOe18hIJMQul5ARKMN9zQxCSFWGRtIXBa307/jlMXm8ZE6C\n",
              "zANZ0ryY+y94pCisRobI6hbRiuiu0GserC+VuMZDYvao8GTkr+AF2K17BVAt//SG/GvLK1eqGtEo\n",
              "4ICRdc6W7mwxD3VejHaEncl+D6y7P7VKjr/+tnKmrEGgpcpTwkG3NiyJCA7URJvhoHaxbCg6Exwz\n",
              "vJJ3JaFREEFVxTcg/0ahGuxOYAAAB/kAAAERQZ/ZRRUsL/8AAAMAMcUv3anm3aAD8WnDZRVtoN/6\n",
              "sWZk3mkRUBVJlyz4j6lwf3k0BuJjEc1ZVdy4wu6Il6GVmSWKTmg9piVxyidDHpU59MVV3akXKdRz\n",
              "kMlfFNVIbAaDMtn985opGocVSGeaJ3voPLW4jLpI+/qXl2WLldzQaxWtaPcLNQmRPRHKQuSJVvl8\n",
              "tnE/Z0EB9flMuTr4jbgX4WXRTF6CMjhGX7JAjcfv0cGD4YvS7BtPy/3TZUs44APuBWwAXujvgCvc\n",
              "/+br/pWw585zEUHsxfZLFqD+laA3ms82m+yLIAZRisBqRHnNKNmsJJmU2tSbzyRdC+xmRHF2LHW1\n",
              "PrKaoowKNWiSAAADAAMqAAAAggGf+HRCvwAAAwBC/ODYkqAA1WU1fzRhXKbqQIRy9PDNHO2PeHtX\n",
              "mAxLpz/1+huHcZmMvR/JEYoY+gWSHetz5Jg5by4/USCr3uHwCyJM+1a0fWcygZn6352A+mfmuN71\n",
              "ZPdXynrBZdTmxB95KmeaF35VV7RvPtOjW4ZqJ9IAAAMARcAAAAC4AZ/6akK/AAADAENJUzb8IAQY\n",
              "5USuETVpsbZCQ72pYmBA0BDDpyba8c0qsY5c7oFGaAwmBfTnc1Euh2IF+aowbWm/oYwqBcvPximT\n",
              "rMHFZMKYxI83eZktjbXcTPT71KfcaqXXhfKbDYukvr0NOv7+th5sQz8V7Z58qT9ri4a5k0foGVer\n",
              "6+eXuhcp4Pqpv+/QyH0cF8tGjG0eoOm4Ubp/YLUf7ME3oUHHIfwVouHRXIv0rAgAAAMBnwAAASBB\n",
              "m/9JqEFsmUwIb//+p4QAAAMAU+FzgkMFAAOg5d3DXE39wf+v5wZXd8uohLj8mBWAEA+3wL8GVGFp\n",
              "6Fl1Xj42namxs5dUCefqyj0gImljSKNKpVfSnqs2h2mJ60+MMQjVig7vGPRvpEIvuAPzCF4mh/vE\n",
              "mC1xNYzSlIU5Th/Y5urYOhQa/DjICw1KSmPK7wBXXFasnfcoJByY6IBRoXBOmOoCDB99DG8D2GA0\n",
              "3e13kUP1jLUQrt8oVOe9hS/NwrLL8C9UH4zOVpTpBO0ivyYnd+rLN59LQSiiZl/k67Kg2fiyp9vS\n",
              "WD8Zm3SOL00itXkArGonL1ezuuImrP/XS/8W1fXsmMpmBVhTI78+nti7c9TV0R3KvMmlAWaZ4gAA\n",
              "IuAAAADJQZ4dRRUsL/8AAAMAMaGkNgAvrxrHe/P7Z02qD3jjLXkV90KtQfam+8kOF/4d9nQkY+IV\n",
              "ULOil/W4g7j95Dp0mLgJuMqvT2g1F9rH4eXJr3rkr+XqMZ7PoEhiqKwXeowjgpcTiH4pHi3xFWQG\n",
              "8VTnr3hl95BC+Bwr2COAg/0q41S8E6PQis5c2kJ0CBquExeE7La+lZY2kogZj4Ns6QBqsEkJOIhS\n",
              "WKFp+Czv3Z78kezXXhwlNfKf9DqEL3DFWJjtJICsAAADAHdBAAAAjgGePHRCvwAAAwBDSwyRACDr\n",
              "EOYO0Vj8Kmw+Hdl8SXZHN9kT2pF19rAu7eKKLcvlpQlqoqxWFU4GVhEB3uVsGE4rKOWlxZUjZegk\n",
              "QnaD4BEw9Yk3+EaXLHWoVk5k0c4Qz4GNOTWoHn2lFo87sUuCAorEbfWmDbg7GbyVrPXPb4qmIx3j\n",
              "EQnJNnsyAAADAoMAAACQAZ4+akK/AAADAEN25iAEH5pjOn+KAC84B8VLEzBWc/GdxgANf65kZfbP\n",
              "Rnrmznko3K23hS4lMYSHqbx8Y25jaNV0fAyAjIzi6nc8jV+auNkaeJb4/q7q0EPIfB9YG1lvncGE\n",
              "NqFxoSaDwECejrR6Vhf/tg9XfinBQFOIHRb7HIS/9lRvnxDzECYuF+AAAAZUAAABWkGaI0moQWyZ\n",
              "TAhn//6eEAAAAwFHV0LEQwgAJnsNkYrT0J+rZCYB+OSZKK8k9bo14vcjQgrBJ5NlfQkUpOCqGq9p\n",
              "wrEYklQJDXPY1HsD5sQlUzg/tJ1rWJvOZSN5aPCIs6eph4vVdfQCX/FsK8tvAzch17jHyoYOrM21\n",
              "khH9032JDl6r4VtZZNknNu7Zl5qw/ZKQA2fKml6TwauciQxFrgmVG3kHMOWsM/olSm8ADzJ2Vd3X\n",
              "jvXutn+2lDwiqyTHT+L00RLU8PnEyz483uqAOWjO2Gigtx+6K/bXS2iEM3+sonhYpe8PdD4mDPz8\n",
              "zkRNkv6vHK3Hk4MSbclyGo1Rzxf8gUAeM6aFhNEhXz+1Vj4IzUnVG0M1ZmBsHs+kN+ZwwuYUU24r\n",
              "9Od+24XFO3baVv561nAmF4XAnGZP+Lq8jJNZH9da+x09lY4aabiU1n8idHqIfGM/60AACmkAAAEO\n",
              "QZ5BRRUsL/8AAAMAMjh4lY5ABCOUgpMpSDFANMZ+kp7R2puQXZc6BZFSue4eGw3e3nXBb5prtxUR\n",
              "x5/TUiohB8hXlUlFCFFVERE0J8tFt79JTjMZrc/Qgnk+bhjwhe8JI65KBctxasN7veozKCBwqDOK\n",
              "TPcXC+GybKK/O2YU67ToL5X/jIEcs3N7t5GraNvqiSKeqPV4WSh97CsUGE24MtFxZ/DhWJRTSDqJ\n",
              "qmFIVPAW61LKnHFMS6cTvLxRZJQM09l4cbX5KrqIW1IcJk6KHhmI3dh72/tvvwcfU3N2A9OylqUH\n",
              "2UFIDgDpfubzrpeO3czwcv9MYRfhB3ZeQx6FUj3IKa63DcYHJcAAAFbAAAAAkgGeYHRCvwAAAwBD\n",
              "XhAgBB+aZYZcXFwpKzlLxo7YvIeIEu22KYM505VAdOu2h9SVMosQYFGwfu3MUfRQdVeTmEwkrcMi\n",
              "tXxr/Ay271VWwxrgkX+7+kP9iCJKjPyT1R32rXkOk2FxWeexdhUekenlTcFYKl37H+EC85pgBtDB\n",
              "8qChGX9pU+EgXX6rVr7wksAAAHzBAAAAvgGeYmpCvwAAAwBChdt2ACEHHANO0dIBJsb3AXsunxXd\n",
              "QRWH5YUU4MseYzYAmnMfZn2GuybMMdp0weFeXOXqtAFjQEU2Hc2EBlfdyt1l0FZ5DaZ7HZBGGV//\n",
              "fNY937HMyNaXiUGAl3MS5BPiQRFTjsukyEoPJpCRN5azpTAVVAQIMXCD39x5DysgUs9T7/Tfqfg9\n",
              "EI4f10xjiQ3B61lmUORj4uLu4VoxsBJB6l3RD3SshebHxzY3M1xE4AAAETEAAADSQZpmSahBbJlM\n",
              "CFf//jhAAAAE+OuiswAQ/Pj8CdxAMc++Udfn/xNn0yYR4aYMKdMfHjZ+I1tXaW6U86NN43mm9hHW\n",
              "fCZf6OXzORl1JY6VxXdytMCAFvpex8LnMUhR3Cufil75AgtRa9+YuhkXgxFGLNt1JlHrj3+j3V7W\n",
              "0r95S+Ix3bUgZIeaxBQOZRSJLfAvIwhFVaSrcWoDXgnt8km119CrTdmZOOe9rye4c+JoUiXzo2bU\n",
              "ndpvpW8ptliq/DhNPEJmzjA//j+xvIB0fOAAAJGAAAAApkGehEUVLCv/AAADAEM0p/mACF4yLqzc\n",
              "7CWsda+SBgspmK16yQgLtyAGhLz+G4s+1bdEgRY3Ds8jkiuyo3BTa9+Thadw/4cwrE8iDqwKXjUb\n",
              "eY2FVACyVvL/Prs2c7yL2qW6qXo7HgG+EMC7oJLCzBTQgGiQExXk22crGXe6fqj99/W6m/gSYIts\n",
              "+KrTKayqpUkxY80Nycb/4RreiOSxfMCjT8AABNwAAAC1AZ6lakK/AAADAEJz6h7ABD7t3AXYsxz/\n",
              "MBTyeaF0y/e0O4wrT3kdeNal+MCTahq/6Jo943FoCYFLnJbnFvWv7tQnUpRqkVQnSqg2eXYk3Gx9\n",
              "zPKqmUc5x6ECHnfsBGXN1/2aXaLP/eBdy017N6rl56c4Z8KQFCBupCPbGttZ7Fy9kh+nJrCE1luH\n",
              "D15Zchv/t8fD8E61gpFjyn3p8ZHblh1x5Dz2INxke7oq7qdPaBOAAADpgQAAFSxtb292AAAAbG12\n",
              "aGQAAAAAAAAAAAAAAAAAAAPoAAA8KAABAAABAAAAAAAAAAAAAAAAAQAAAAAAAAAAAAAAAAAAAAEA\n",
              "AAAAAAAAAAAAAAAAAEAAAAAAAAAAAAAAAAAAAAAAAAAAAAAAAAAAAAAAAAACAAAUVnRyYWsAAABc\n",
              "dGtoZAAAAAMAAAAAAAAAAAAAAAEAAAAAAAA8KAAAAAAAAAAAAAAAAAAAAAAAAQAAAAAAAAAAAAAA\n",
              "AAAAAAEAAAAAAAAAAAAAAAAAAEAAAAACWAAAAlgAAAAAACRlZHRzAAAAHGVsc3QAAAAAAAAAAQAA\n",
              "PCgAAAQAAAEAAAAAE85tZGlhAAAAIG1kaGQAAAAAAAAAAAAAAAAAADIAAAMCAFXEAAAAAAAtaGRs\n",
              "cgAAAAAAAAAAdmlkZQAAAAAAAAAAAAAAAFZpZGVvSGFuZGxlcgAAABN5bWluZgAAABR2bWhkAAAA\n",
              "AQAAAAAAAAAAAAAAJGRpbmYAAAAcZHJlZgAAAAAAAAABAAAADHVybCAAAAABAAATOXN0YmwAAAC5\n",
              "c3RzZAAAAAAAAAABAAAAqWF2YzEAAAAAAAAAAQAAAAAAAAAAAAAAAAAAAAACWAJYAEgAAABIAAAA\n",
              "AAAAAAEAAAAAAAAAAAAAAAAAAAAAAAAAAAAAAAAAAAAAAAAAAAAY//8AAAA3YXZjQwFkAB7/4QAa\n",
              "Z2QAHqzZQJgTeWWEAAADAAQAAAMAyDxYtlgBAAZo6+PLIsD9+PgAAAAAHHV1aWRraEDyXyRPxbo5\n",
              "pRvPAyPzAAAAAAAAABhzdHRzAAAAAAAAAAEAAAGBAAACAAAAABhzdHNzAAAAAAAAAAIAAAABAAAA\n",
              "+wAADABjdHRzAAAAAAAAAX4AAAABAAAEAAAAAAEAAAoAAAAAAQAABAAAAAABAAAAAAAAAAEAAAIA\n",
              "AAAAAQAACgAAAAABAAAEAAAAAAEAAAAAAAAAAQAAAgAAAAABAAAKAAAAAAEAAAQAAAAAAQAAAAAA\n",
              "AAABAAACAAAAAAEAAAoAAAAAAQAABAAAAAABAAAAAAAAAAEAAAIAAAAAAQAACgAAAAABAAAEAAAA\n",
              "AAEAAAAAAAAAAQAAAgAAAAABAAAKAAAAAAEAAAQAAAAAAQAAAAAAAAABAAACAAAAAAEAAAoAAAAA\n",
              "AQAABAAAAAABAAAAAAAAAAEAAAIAAAAAAQAACgAAAAABAAAEAAAAAAEAAAAAAAAAAQAAAgAAAAAB\n",
              "AAAKAAAAAAEAAAQAAAAAAQAAAAAAAAABAAACAAAAAAEAAAoAAAAAAQAABAAAAAABAAAAAAAAAAEA\n",
              "AAIAAAAAAQAACgAAAAABAAAEAAAAAAEAAAAAAAAAAQAAAgAAAAABAAAKAAAAAAEAAAQAAAAAAQAA\n",
              "AAAAAAABAAACAAAAAAEAAAoAAAAAAQAABAAAAAABAAAAAAAAAAEAAAIAAAAAAQAACgAAAAABAAAE\n",
              "AAAAAAEAAAAAAAAAAQAAAgAAAAABAAAKAAAAAAEAAAQAAAAAAQAAAAAAAAABAAACAAAAAAEAAAoA\n",
              "AAAAAQAABAAAAAABAAAAAAAAAAEAAAIAAAAAAQAACgAAAAABAAAEAAAAAAEAAAAAAAAAAQAAAgAA\n",
              "AAABAAAKAAAAAAEAAAQAAAAAAQAAAAAAAAABAAACAAAAAAEAAAoAAAAAAQAABAAAAAABAAAAAAAA\n",
              "AAEAAAIAAAAAAQAACgAAAAABAAAEAAAAAAEAAAAAAAAAAQAAAgAAAAABAAAKAAAAAAEAAAQAAAAA\n",
              "AQAAAAAAAAABAAACAAAAAAEAAAoAAAAAAQAABAAAAAABAAAAAAAAAAEAAAIAAAAAAQAACgAAAAAB\n",
              "AAAEAAAAAAEAAAAAAAAAAQAAAgAAAAABAAAKAAAAAAEAAAQAAAAAAQAAAAAAAAABAAACAAAAAAEA\n",
              "AAoAAAAAAQAABAAAAAABAAAAAAAAAAEAAAIAAAAAAQAACgAAAAABAAAEAAAAAAEAAAAAAAAAAQAA\n",
              "AgAAAAABAAAKAAAAAAEAAAQAAAAAAQAAAAAAAAABAAACAAAAAAEAAAoAAAAAAQAABAAAAAABAAAA\n",
              "AAAAAAEAAAIAAAAAAQAACgAAAAABAAAEAAAAAAEAAAAAAAAAAQAAAgAAAAABAAAKAAAAAAEAAAQA\n",
              "AAAAAQAAAAAAAAABAAACAAAAAAEAAAoAAAAAAQAABAAAAAABAAAAAAAAAAEAAAIAAAAAAQAACgAA\n",
              "AAABAAAEAAAAAAEAAAAAAAAAAQAAAgAAAAABAAAKAAAAAAEAAAQAAAAAAQAAAAAAAAABAAACAAAA\n",
              "AAEAAAoAAAAAAQAABAAAAAABAAAAAAAAAAEAAAIAAAAAAQAACgAAAAABAAAEAAAAAAEAAAAAAAAA\n",
              "AQAAAgAAAAABAAAKAAAAAAEAAAQAAAAAAQAAAAAAAAABAAACAAAAAAEAAAoAAAAAAQAABAAAAAAB\n",
              "AAAAAAAAAAEAAAIAAAAAAQAACgAAAAABAAAEAAAAAAEAAAAAAAAAAQAAAgAAAAABAAAKAAAAAAEA\n",
              "AAQAAAAAAQAAAAAAAAABAAACAAAAAAEAAAoAAAAAAQAABAAAAAABAAAAAAAAAAEAAAIAAAAAAQAA\n",
              "CgAAAAABAAAEAAAAAAEAAAAAAAAAAQAAAgAAAAABAAAKAAAAAAEAAAQAAAAAAQAAAAAAAAABAAAC\n",
              "AAAAAAEAAAoAAAAAAQAABAAAAAABAAAAAAAAAAEAAAIAAAAAAQAACgAAAAABAAAEAAAAAAEAAAAA\n",
              "AAAAAQAAAgAAAAABAAAKAAAAAAEAAAQAAAAAAQAAAAAAAAABAAACAAAAAAEAAAoAAAAAAQAABAAA\n",
              "AAABAAAAAAAAAAEAAAIAAAAAAQAACgAAAAABAAAEAAAAAAEAAAAAAAAAAQAAAgAAAAABAAAKAAAA\n",
              "AAEAAAQAAAAAAQAAAAAAAAABAAACAAAAAAEAAAoAAAAAAQAABAAAAAABAAAAAAAAAAEAAAIAAAAA\n",
              "AQAACgAAAAABAAAEAAAAAAEAAAAAAAAAAQAAAgAAAAABAAAKAAAAAAEAAAQAAAAAAQAAAAAAAAAB\n",
              "AAACAAAAAAEAAAoAAAAAAQAABAAAAAABAAAAAAAAAAEAAAIAAAAAAQAACgAAAAABAAAEAAAAAAEA\n",
              "AAAAAAAAAQAAAgAAAAABAAAKAAAAAAEAAAQAAAAAAQAAAAAAAAABAAACAAAAAAEAAAoAAAAAAQAA\n",
              "BAAAAAABAAAAAAAAAAEAAAIAAAAAAQAACgAAAAABAAAEAAAAAAEAAAAAAAAAAQAAAgAAAAABAAAK\n",
              "AAAAAAEAAAQAAAAAAQAAAAAAAAABAAACAAAAAAEAAAoAAAAAAQAABAAAAAABAAAAAAAAAAEAAAIA\n",
              "AAAAAQAACgAAAAABAAAEAAAAAAEAAAAAAAAAAQAAAgAAAAABAAAKAAAAAAEAAAQAAAAAAQAAAAAA\n",
              "AAABAAACAAAAAAEAAAoAAAAAAQAABAAAAAABAAAAAAAAAAEAAAIAAAAAAQAACgAAAAABAAAEAAAA\n",
              "AAEAAAAAAAAAAQAAAgAAAAACAAAEAAAAAAEAAAoAAAAAAQAABAAAAAABAAAAAAAAAAEAAAIAAAAA\n",
              "AQAACgAAAAABAAAEAAAAAAEAAAAAAAAAAQAAAgAAAAABAAAKAAAAAAEAAAQAAAAAAQAAAAAAAAAB\n",
              "AAACAAAAAAEAAAoAAAAAAQAABAAAAAABAAAAAAAAAAEAAAIAAAAAAQAACgAAAAABAAAEAAAAAAEA\n",
              "AAAAAAAAAQAAAgAAAAABAAAKAAAAAAEAAAQAAAAAAQAAAAAAAAABAAACAAAAAAEAAAgAAAAAAgAA\n",
              "AgAAAAABAAAGAAAAAAEAAAIAAAAAAQAACgAAAAABAAAEAAAAAAEAAAAAAAAAAQAAAgAAAAABAAAK\n",
              "AAAAAAEAAAQAAAAAAQAAAAAAAAABAAACAAAAAAEAAAoAAAAAAQAABAAAAAABAAAAAAAAAAEAAAIA\n",
              "AAAAAQAACgAAAAABAAAEAAAAAAEAAAAAAAAAAQAAAgAAAAABAAAKAAAAAAEAAAQAAAAAAQAAAAAA\n",
              "AAABAAACAAAAAAEAAAoAAAAAAQAABAAAAAABAAAAAAAAAAEAAAIAAAAAAQAACgAAAAABAAAEAAAA\n",
              "AAEAAAAAAAAAAQAAAgAAAAABAAAKAAAAAAEAAAQAAAAAAQAAAAAAAAABAAACAAAAAAEAAAoAAAAA\n",
              "AQAABAAAAAABAAAAAAAAAAEAAAIAAAAAAQAACgAAAAABAAAEAAAAAAEAAAAAAAAAAQAAAgAAAAAB\n",
              "AAAKAAAAAAEAAAQAAAAAAQAAAAAAAAABAAACAAAAAAEAAAoAAAAAAQAABAAAAAABAAAAAAAAAAEA\n",
              "AAIAAAAAAQAACgAAAAABAAAEAAAAAAEAAAAAAAAAAQAAAgAAAAABAAAKAAAAAAEAAAQAAAAAAQAA\n",
              "AAAAAAABAAACAAAAAAEAAAoAAAAAAQAABAAAAAABAAAAAAAAAAEAAAIAAAAAAQAABgAAAAABAAAC\n",
              "AAAAAAEAAAoAAAAAAQAABAAAAAABAAAAAAAAAAEAAAIAAAAAAQAACgAAAAABAAAEAAAAAAEAAAAA\n",
              "AAAAAQAAAgAAAAABAAAKAAAAAAEAAAQAAAAAAQAAAAAAAAABAAACAAAAAAEAAAoAAAAAAQAABAAA\n",
              "AAABAAAAAAAAAAEAAAIAAAAAAQAACgAAAAABAAAEAAAAAAEAAAAAAAAAAQAAAgAAAAABAAAKAAAA\n",
              "AAEAAAQAAAAAAQAAAAAAAAABAAACAAAAAAEAAAoAAAAAAQAABAAAAAABAAAAAAAAAAEAAAIAAAAA\n",
              "AQAACgAAAAABAAAEAAAAAAEAAAAAAAAAAQAAAgAAAAABAAAKAAAAAAEAAAQAAAAAAQAAAAAAAAAB\n",
              "AAACAAAAAAEAAAoAAAAAAQAABAAAAAABAAAAAAAAAAEAAAIAAAAAAQAACAAAAAACAAACAAAAABxz\n",
              "dHNjAAAAAAAAAAEAAAABAAABgQAAAAEAAAYYc3RzegAAAAAAAAAAAAABgQAAEogAAAK0AAABOgAA\n",
              "AJYAAACkAAACpAAAAOYAAACTAAAApgAAAcEAAAEtAAAAzAAAAK8AAAJgAAAA7QAAALUAAACRAAAC\n",
              "agAAAR4AAACuAAAAtgAAAkEAAAD9AAAAlgAAAHcAAALdAAAA3AAAAO4AAAC2AAACTgAAAQIAAACv\n",
              "AAAA0QAAAlUAAADQAAAAjwAAAJoAAAHIAAABPwAAAKsAAACzAAACYAAAAPEAAADaAAAAzAAAAa4A\n",
              "AAEzAAAAtQAAAMIAAAGxAAAA7AAAALgAAADgAAACoAAAAR4AAAChAAAAugAAAcQAAADwAAAAzgAA\n",
              "AJwAAAJlAAAA1AAAAK0AAACzAAACogAAAQoAAACPAAAAmgAAAa8AAAD6AAAAqAAAALwAAAJgAAAB\n",
              "IQAAAN8AAACuAAACUAAAAPgAAACxAAAAlgAAAcgAAAEZAAAAtQAAAKEAAAHWAAABTgAAAJ4AAACz\n",
              "AAACXAAAANAAAADGAAAAswAAAlkAAAEIAAAAqwAAALYAAAJvAAAA4AAAAJwAAAChAAAB8QAAAUUA\n",
              "AACeAAAApAAAAbcAAAEjAAAA7wAAAMIAAAFnAAABIQAAAK8AAACwAAACPQAAAOYAAACTAAAAyAAA\n",
              "AZgAAAEYAAAAngAAAJcAAAKLAAABCAAAANQAAAC0AAABaAAAANIAAACpAAAAxAAAAn8AAAEdAAAA\n",
              "hwAAAJcAAAI1AAAA9gAAAJcAAACcAAABnQAAAUkAAADhAAAAvQAAAjAAAAELAAAAowAAAJQAAAJV\n",
              "AAABHAAAALwAAACmAAACSAAAATQAAACmAAAAjAAAAlYAAADWAAAA0gAAAJkAAAG2AAAA/QAAALAA\n",
              "AAC6AAACVgAAANAAAACIAAAAlAAAAaIAAAFCAAAAkgAAAKYAAAIZAAAA7AAAANEAAAC3AAABagAA\n",
              "ARsAAACmAAAAtQAAAY4AAADUAAAAsAAAAOMAAAJIAAABJAAAAKMAAACsAAABmQAAANwAAAC/AAAA\n",
              "jgAAAi8AAADjAAAAowAAALoAAAJrAAABGwAAAI4AAACUAAABkAAAAOUAAACPAAAArAAAAi4AAAEl\n",
              "AAAAyQAAAK0AAAI/AAAA+AAAAJ4AAACTAAABlgAAARsAAAC3AAAAowAAAWgAAAE8AAAAmwAAAIcA\n",
              "AAIXAAAAvgAAANEAAAC3AAACNwAAAQAAAAChAAAApgAAAlIAAADPAAAAgwAAAIUAAAGwAAABOAAA\n",
              "AJEAAAC4AAABiQAAAM8AAADQAAAAswAAAU0AAAEHAAAAqwAAAKkAAAJQAAAA3wAAAIsAAADKAAAB\n",
              "fQAAARUAAACkAAAAqwAAANcAABU9AAACHwAAAM4AAACeAAAAowAAArEAAAESAAAAtAAAAJIAAAIS\n",
              "AAAA7gAAAJsAAACSAAABYQAAAO0AAACuAAAAzwAAAVEAAADlAAAAngAAAJsAAAIHAAAA2QAAAIUA\n",
              "AACXAAACAwAAAL0AAAC3AAABmQAAAKkAAAGpAAAA9gAAAJsAAACZAAABdgAAANcAAAC3AAAAvQAA\n",
              "AgcAAADlAAAAnQAAAIAAAAFwAAAAxwAAALwAAACcAAACFwAAARQAAADEAAAAjQAAAS0AAAEuAAAA\n",
              "qgAAAKAAAAFMAAAA0QAAAI4AAACRAAAChQAAANgAAACvAAAAtgAAAgEAAAC6AAAAggAAAJ0AAAFc\n",
              "AAAA1wAAAKwAAACdAAABhwAAAKMAAACpAAAAggAAAh8AAAEaAAAA0gAAAJwAAAHWAAAA9QAAAJ8A\n",
              "AACfAAABmwAAARcAAACrAAAAmQAAAX4AAAD/AAAAkAAAAG4AAAGwAAAA0AAAAT8AAAEOAAAArwAA\n",
              "AJcAAAIjAAAA6AAAAJEAAADYAAABZwAAAPsAAAClAAAApQAAAgUAAADqAAAAiwAAAKsAAAJoAAAA\n",
              "xgAAAKAAAACtAAABewAAAR8AAAChAAAAwgAAAakAAADUAAAAjgAAAJsAAAHRAAABFQAAAIYAAAC8\n",
              "AAABJAAAAM0AAACSAAAAlAAAAV4AAAESAAAAlgAAAMIAAADWAAAAqgAAALkAAAAUc3RjbwAAAAAA\n",
              "AAABAAAAMAAAAGJ1ZHRhAAAAWm1ldGEAAAAAAAAAIWhkbHIAAAAAAAAAAG1kaXJhcHBsAAAAAAAA\n",
              "AAAAAAAALWlsc3QAAAAlqXRvbwAAAB1kYXRhAAAAAQAAAABMYXZmNTguNzYuMTAw\n",
              "\">\n",
              "  Your browser does not support the video tag.\n",
              "</video>"
            ]
          },
          "metadata": {},
          "execution_count": 109
        },
        {
          "output_type": "display_data",
          "data": {
            "text/plain": [
              "<Figure size 600x600 with 1 Axes>"
            ],
            "image/png": "[encoded data removed]"
          },
          "metadata": {}
        }
      ],
      "source": [
        "# create a figure and axes\n",
        "fig = plt.figure(figsize=(6,6))\n",
        "\n",
        "# Create arrays with the latitude and longitude coordinates for plotting using pcolor\n",
        "from dedalus.extras import plot_tools\n",
        "(X, Y) = plot_tools.quad_mesh(np.squeeze(x), np.squeeze(y))\n",
        "\n",
        "# Define an animation function\n",
        "def drawframe(n):\n",
        "    plt.clf()\n",
        "    concentration = plt.pcolor(X, Y, c_save[n,:,:].T)\n",
        "    # Specify the axis limits and labels\n",
        "    plt.axis('square')\n",
        "    plt.xlim(0, L)\n",
        "    plt.ylim(0, w)\n",
        "    plt.xlabel('x (m)')\n",
        "    plt.ylabel('y (m)')\n",
        "    plt.title('concentration, time = {0:.2f} seconds'.format(t_save[n]))\n",
        "    return (concentration,)\n",
        "\n",
        "from matplotlib import animation\n",
        "# blit=True re-draws only the parts that have changed.\n",
        "anim = animation.FuncAnimation(fig, drawframe, frames=len(t_save), interval=40, blit=True)\n",
        "\n",
        "from IPython.display import HTML\n",
        "HTML(anim.to_html5_video())"
      ]
    },
    {
      "cell_type": "markdown",
      "metadata": {
        "id": "7js3SSeM_ZF5"
      },
      "source": [
        "## 2.3 Student investigation\n",
        "<a id='section2pt3'></a>\n",
        "a) In the boxes below, plot the pollution concentration at a few points as a function of time.\n",
        "\n",
        "b) Then vary the maximum flow speed and the diffusivity and explore how the pollution levels depend on these parameters.\n",
        "\n",
        "c) Using dimensional analysis, estimate the time needed for the pollution to reach the opposite side of the river. How far downstream of the source do you expect this to happen (assuming that the domain in the x-direction is infinite)."
      ]
    },
    {
      "cell_type": "markdown",
      "metadata": {
        "id": "TStsspTo_ZF5"
      },
      "source": [
        "a) Initially I tried plotting concentration for the middle of the river, but there was no major difference in concentration along the length, which is also visible in the colour plots above. So instead I considered a distance 0.6 m across the river, starting from the bank on which the pollutant is being released."
      ]
    },
    {
      "cell_type": "code",
      "source": [
        "c_save[:, 20, 20]\n",
        "print(X[5,200])\n",
        "print(Y[5,200])\n"
      ],
      "metadata": {
        "id": "tQOWIRUZY5Ba",
        "outputId": "7b7a76e4-9497-4529-a865-c9acd87151c4",
        "colab": {
          "base_uri": "https://localhost:8080/"
        }
      },
      "execution_count": 103,
      "outputs": [
        {
          "output_type": "stream",
          "name": "stdout",
          "text": [
            "38.96484375\n",
            "0.5957052421907116\n"
          ]
        }
      ]
    },
    {
      "cell_type": "code",
      "source": [
        "c_save.shape\n",
        "# 256 x points\n",
        "# 32 y points\n",
        "# so 78 timesteps\n",
        "\n",
        "fig, ax = plt.subplots(ncols=3, figsize=(15, 5), sharey=True)\n",
        "\n",
        "for i in range(0,3):\n",
        "  ax[i].set_xlabel('time (s)')\n",
        "  ax[i].set_ylabel('concentration (arbitrary units)')\n",
        "\n",
        "ax[0].plot(c_save[:, 20, 5].T)\n",
        "ax[0].set_title('x = 3.8 m, y = 0.6 m (upstream)')\n",
        "\n",
        "ax[1].plot(c_save[:, 100, 5].T)\n",
        "ax[1].set_title('x = 19.4 m, y = 0.6 m (downstream)')\n",
        "\n",
        "ax[2].plot(c_save[:, 200, 5].T)\n",
        "ax[2].set_title('x = 39.0 m, y = 0.6 m (further downstream)')"
      ],
      "metadata": {
        "id": "nO_qStAnWrrC",
        "outputId": "12b65e89-34ea-4ceb-bbfa-0bcd92e1d934",
        "colab": {
          "base_uri": "https://localhost:8080/",
          "height": 524
        }
      },
      "execution_count": 107,
      "outputs": [
        {
          "output_type": "execute_result",
          "data": {
            "text/plain": [
              "Text(0.5, 1.0, 'x = 39.0 m, y = 0.6 m (further downstream)')"
            ]
          },
          "metadata": {},
          "execution_count": 107
        },
        {
          "output_type": "display_data",
          "data": {
            "text/plain": [
              "<Figure size 1500x500 with 3 Axes>"
            ],
            "image/png": "[encoded data removed]"
          },
          "metadata": {}
        }
      ]
    },
    {
      "cell_type": "markdown",
      "metadata": {
        "id": "bjX0a5JM_ZF6"
      },
      "source": [
        "## 3. Optional further investigations\n",
        "\n",
        "* In the river pollution example, you might notice that the concentration field is mixed more effectively in the x-direction than in the y-direction. The combination of differential advection by the currents and cross-stream diffusion is very effective at mixing the plume in the x-direction. This is an example of Taylor dispersion (Taylor, 1953). Construct numerical experiments to quantify Taylor dispersion and its dependence on the current shear and the diffusivity. You could also separate the diffusivity into parts in the x and y directions with different coefficients.  If you set the x-component of the diffusivity to zero, then any spreading of the concentration in the x-direction should be due to Taylor dispersion.\n",
        "\n",
        "* Try making the river speed a function of time. The easiest way to do this is to add a new equation so that Dedalus solves for the velocity in addition to the concentration field. For example, you could make the river speed decrease exponentially in time, or it could be sinusoidal in time.\n",
        "\n",
        "* In the ocean mixing example, if $\\kappa$ is a function of $x$ and $z$, what would this imply about the velocity field? You could even try writing a Dedalus script to solve the 2D advection/diffusion equation with a prescribed spatially-dependent $\\kappa(x,z)$.\n"
      ]
    },
    {
      "cell_type": "markdown",
      "metadata": {
        "id": "SG31h6xi_ZF7"
      },
      "source": [
        "### References\n",
        "\n",
        "Munk, W.H., 1966. Abyssal recipes. In Deep sea research and oceanographic abstracts (Vol. 13, No. 4, pp. 707-730). Elsevier.\n",
        "\n",
        "Ferrari, R., Mashayek, A., McDougall, T.J., Nikurashin, M. and Campin, J.M., 2016. Turning ocean mixing upside down. Journal of Physical Oceanography, 46(7), pp.2239-2261.\n",
        "\n",
        "Taylor, G.I., 1953. Dispersion of soluble matter in solvent flowing slowly through a tube. Proceedings of the Royal Society of London. Series A. Mathematical and Physical Sciences, 219(1137), pp.186-203."
      ]
    }
  ],
  "metadata": {
    "kernelspec": {
      "display_name": "dedalus3",
      "language": "python",
      "name": "python3"
    },
    "language_info": {
      "codemirror_mode": {
        "name": "ipython",
        "version": 3
      },
      "file_extension": ".py",
      "mimetype": "text/x-python",
      "name": "python",
      "nbconvert_exporter": "python",
      "pygments_lexer": "ipython3",
      "version": "3.12.2"
    },
    "colab": {
      "provenance": []
    }
  },
  "nbformat": 4,
  "nbformat_minor": 0
}